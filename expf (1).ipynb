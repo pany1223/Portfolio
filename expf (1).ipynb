{
 "cells": [
  {
   "cell_type": "markdown",
   "id": "547953a3",
   "metadata": {},
   "source": [
    "### Описание эксперимента\n",
    "\n",
    "- **Продукт:** SaaS, подписка, аналитика в соц. сетях. Пользователь может отслеживать свою активность и своих друзей, подписавшись в сервисе\n",
    "- **Тестируемое изменение:** изменение заголовка и подписи в кнопке на первом экране главной страницы. Цель – зацепить пользователя и не дать ему уйти с сайта"
   ]
  },
  {
   "cell_type": "code",
   "execution_count": 1,
   "id": "2ab150e2",
   "metadata": {},
   "outputs": [],
   "source": [
    "import pandas as pd\n",
    "import numpy as np\n",
    "import matplotlib.pyplot as plt\n",
    "import seaborn as sns\n",
    "from statsmodels.stats.power import tt_ind_solve_power\n",
    "from scipy.stats import shapiro, bartlett"
   ]
  },
  {
   "cell_type": "markdown",
   "id": "8260f6ce",
   "metadata": {},
   "source": [
    "# 1. Загрузка и предобработка данных"
   ]
  },
  {
   "cell_type": "code",
   "execution_count": 2,
   "id": "8aa6d743",
   "metadata": {},
   "outputs": [],
   "source": [
    "#Загрузка данных\n",
    "data = pd.read_csv(\"test_analyst_ab.csv\", sep = \";\", index_col= 0)"
   ]
  },
  {
   "cell_type": "code",
   "execution_count": 3,
   "id": "adba7dd0",
   "metadata": {},
   "outputs": [
    {
     "data": {
      "text/html": [
       "<div>\n",
       "<style scoped>\n",
       "    .dataframe tbody tr th:only-of-type {\n",
       "        vertical-align: middle;\n",
       "    }\n",
       "\n",
       "    .dataframe tbody tr th {\n",
       "        vertical-align: top;\n",
       "    }\n",
       "\n",
       "    .dataframe thead th {\n",
       "        text-align: right;\n",
       "    }\n",
       "</style>\n",
       "<table border=\"1\" class=\"dataframe\">\n",
       "  <thead>\n",
       "    <tr style=\"text-align: right;\">\n",
       "      <th></th>\n",
       "      <th>date</th>\n",
       "      <th>deviceCategory</th>\n",
       "      <th>sourceMedium</th>\n",
       "      <th>experimentVariant</th>\n",
       "      <th>clickButtonOnMain</th>\n",
       "      <th>sessionDuration</th>\n",
       "    </tr>\n",
       "  </thead>\n",
       "  <tbody>\n",
       "    <tr>\n",
       "      <th>1</th>\n",
       "      <td>2019-11-27</td>\n",
       "      <td>desktop</td>\n",
       "      <td>(direct) / (none)</td>\n",
       "      <td>control</td>\n",
       "      <td>1</td>\n",
       "      <td>123,109764978127</td>\n",
       "    </tr>\n",
       "    <tr>\n",
       "      <th>2</th>\n",
       "      <td>2019-11-27</td>\n",
       "      <td>mobile</td>\n",
       "      <td>maz.com / referral</td>\n",
       "      <td>test</td>\n",
       "      <td>1</td>\n",
       "      <td>135,604000573899</td>\n",
       "    </tr>\n",
       "    <tr>\n",
       "      <th>3</th>\n",
       "      <td>2019-11-27</td>\n",
       "      <td>mobile</td>\n",
       "      <td>(direct) / (none)</td>\n",
       "      <td>test</td>\n",
       "      <td>1</td>\n",
       "      <td>134,451016589043</td>\n",
       "    </tr>\n",
       "    <tr>\n",
       "      <th>4</th>\n",
       "      <td>2019-11-27</td>\n",
       "      <td>desktop</td>\n",
       "      <td>google / organic</td>\n",
       "      <td>test</td>\n",
       "      <td>1</td>\n",
       "      <td>130,691086592426</td>\n",
       "    </tr>\n",
       "    <tr>\n",
       "      <th>5</th>\n",
       "      <td>2019-11-27</td>\n",
       "      <td>mobile</td>\n",
       "      <td>google / organic</td>\n",
       "      <td>control</td>\n",
       "      <td>1</td>\n",
       "      <td>117,617311178722</td>\n",
       "    </tr>\n",
       "  </tbody>\n",
       "</table>\n",
       "</div>"
      ],
      "text/plain": [
       "         date deviceCategory        sourceMedium experimentVariant  \\\n",
       "1  2019-11-27        desktop   (direct) / (none)           control   \n",
       "2  2019-11-27         mobile  maz.com / referral              test   \n",
       "3  2019-11-27         mobile   (direct) / (none)              test   \n",
       "4  2019-11-27        desktop    google / organic              test   \n",
       "5  2019-11-27         mobile    google / organic           control   \n",
       "\n",
       "   clickButtonOnMain   sessionDuration  \n",
       "1                  1  123,109764978127  \n",
       "2                  1  135,604000573899  \n",
       "3                  1  134,451016589043  \n",
       "4                  1  130,691086592426  \n",
       "5                  1  117,617311178722  "
      ]
     },
     "execution_count": 3,
     "metadata": {},
     "output_type": "execute_result"
    }
   ],
   "source": [
    "data.head()"
   ]
  },
  {
   "cell_type": "code",
   "execution_count": 4,
   "id": "a2d7f45c",
   "metadata": {},
   "outputs": [
    {
     "data": {
      "text/plain": [
       "date                 object\n",
       "deviceCategory       object\n",
       "sourceMedium         object\n",
       "experimentVariant    object\n",
       "clickButtonOnMain     int64\n",
       "sessionDuration      object\n",
       "dtype: object"
      ]
     },
     "execution_count": 4,
     "metadata": {},
     "output_type": "execute_result"
    }
   ],
   "source": [
    "#Проверка типов фичей. Видно, что колонка \"date\" имеет тип не дата, а объект. \n",
    "#Также переменная \"sessionDuration\" должна быть типом float.\n",
    "data.dtypes"
   ]
  },
  {
   "cell_type": "code",
   "execution_count": 5,
   "id": "6b1b63e4",
   "metadata": {},
   "outputs": [
    {
     "data": {
      "text/plain": [
       "date                 0\n",
       "deviceCategory       0\n",
       "sourceMedium         0\n",
       "experimentVariant    0\n",
       "clickButtonOnMain    0\n",
       "sessionDuration      0\n",
       "dtype: int64"
      ]
     },
     "execution_count": 5,
     "metadata": {},
     "output_type": "execute_result"
    }
   ],
   "source": [
    "#Проверка пропущенных значений\n",
    "data.isna().sum()"
   ]
  },
  {
   "cell_type": "code",
   "execution_count": 6,
   "id": "617be540",
   "metadata": {},
   "outputs": [],
   "source": [
    "#Меняем тип переменных 'sessionDuration' и \"date\" на нужные.\n",
    "data['sessionDuration'] = data['sessionDuration'].str.replace(',', '.').astype('float')\n",
    "data[\"date\"] = pd.to_datetime(data['date'],format='%Y-%m-%d')"
   ]
  },
  {
   "cell_type": "code",
   "execution_count": 7,
   "id": "caa9eeb8",
   "metadata": {},
   "outputs": [
    {
     "data": {
      "text/html": [
       "<div>\n",
       "<style scoped>\n",
       "    .dataframe tbody tr th:only-of-type {\n",
       "        vertical-align: middle;\n",
       "    }\n",
       "\n",
       "    .dataframe tbody tr th {\n",
       "        vertical-align: top;\n",
       "    }\n",
       "\n",
       "    .dataframe thead th {\n",
       "        text-align: right;\n",
       "    }\n",
       "</style>\n",
       "<table border=\"1\" class=\"dataframe\">\n",
       "  <thead>\n",
       "    <tr style=\"text-align: right;\">\n",
       "      <th></th>\n",
       "      <th>date</th>\n",
       "      <th>deviceCategory</th>\n",
       "      <th>sourceMedium</th>\n",
       "      <th>experimentVariant</th>\n",
       "      <th>clickButtonOnMain</th>\n",
       "      <th>sessionDuration</th>\n",
       "    </tr>\n",
       "  </thead>\n",
       "  <tbody>\n",
       "    <tr>\n",
       "      <th>1</th>\n",
       "      <td>2019-11-27</td>\n",
       "      <td>desktop</td>\n",
       "      <td>(direct) / (none)</td>\n",
       "      <td>control</td>\n",
       "      <td>1</td>\n",
       "      <td>123.109765</td>\n",
       "    </tr>\n",
       "    <tr>\n",
       "      <th>2</th>\n",
       "      <td>2019-11-27</td>\n",
       "      <td>mobile</td>\n",
       "      <td>maz.com / referral</td>\n",
       "      <td>test</td>\n",
       "      <td>1</td>\n",
       "      <td>135.604001</td>\n",
       "    </tr>\n",
       "    <tr>\n",
       "      <th>3</th>\n",
       "      <td>2019-11-27</td>\n",
       "      <td>mobile</td>\n",
       "      <td>(direct) / (none)</td>\n",
       "      <td>test</td>\n",
       "      <td>1</td>\n",
       "      <td>134.451017</td>\n",
       "    </tr>\n",
       "    <tr>\n",
       "      <th>4</th>\n",
       "      <td>2019-11-27</td>\n",
       "      <td>desktop</td>\n",
       "      <td>google / organic</td>\n",
       "      <td>test</td>\n",
       "      <td>1</td>\n",
       "      <td>130.691087</td>\n",
       "    </tr>\n",
       "    <tr>\n",
       "      <th>5</th>\n",
       "      <td>2019-11-27</td>\n",
       "      <td>mobile</td>\n",
       "      <td>google / organic</td>\n",
       "      <td>control</td>\n",
       "      <td>1</td>\n",
       "      <td>117.617311</td>\n",
       "    </tr>\n",
       "  </tbody>\n",
       "</table>\n",
       "</div>"
      ],
      "text/plain": [
       "        date deviceCategory        sourceMedium experimentVariant  \\\n",
       "1 2019-11-27        desktop   (direct) / (none)           control   \n",
       "2 2019-11-27         mobile  maz.com / referral              test   \n",
       "3 2019-11-27         mobile   (direct) / (none)              test   \n",
       "4 2019-11-27        desktop    google / organic              test   \n",
       "5 2019-11-27         mobile    google / organic           control   \n",
       "\n",
       "   clickButtonOnMain  sessionDuration  \n",
       "1                  1       123.109765  \n",
       "2                  1       135.604001  \n",
       "3                  1       134.451017  \n",
       "4                  1       130.691087  \n",
       "5                  1       117.617311  "
      ]
     },
     "execution_count": 7,
     "metadata": {},
     "output_type": "execute_result"
    }
   ],
   "source": [
    "#Смотрим изменения\n",
    "data.head()"
   ]
  },
  {
   "cell_type": "markdown",
   "id": "39be9862",
   "metadata": {},
   "source": [
    "# 2. Дизайн эксперимента"
   ]
  },
  {
   "cell_type": "markdown",
   "id": "315a4edd",
   "metadata": {},
   "source": [
    "В данном экперименте тестируются сразу два изменения: изменение заголовка и подписи в кнопке на первом экране главной страницы. \n",
    "Основная гипотеза заключается в том, что данное изменение зацепит пользователя. \n",
    " \n",
    "Так как цель изменений - зацепить пользователя и не дать ему уйти с сайта, то целевой метрикой будет время проведенное на сайте в рамках сеанса. Данные уже собраны, так что продумывать систему сплитования или длительность эксперимента не нужно. "
   ]
  },
  {
   "cell_type": "markdown",
   "id": "be8b5085",
   "metadata": {},
   "source": [
    "Нулевая гипотеза заключается в том, что изменения интерфейса увеличит среднее время пользователя на сайте на 10%. Альтерантивная гипотеза заключается в том, что данное изменение увеличило среднее время пользователя меньше чем на 10%. \n",
    " \n",
    "Уровень значимости, при котором будет отвергаться нулевая гипотеза - 5%. Если в 95% интервал распределения средних значений \n",
    "разниц средних не будет попадать 0.1, значит эффект от изменений меньше 10% и такое изменение не сильно увеличит нашу прибыль. "
   ]
  },
  {
   "cell_type": "markdown",
   "id": "bbef2b07",
   "metadata": {},
   "source": [
    "## 2.1. Опеределние объёма выборки "
   ]
  },
  {
   "cell_type": "markdown",
   "id": "86f76738",
   "metadata": {},
   "source": [
    "Необходимо провести расчёт минимального размера выборки. Посчитаем среднее в нашей контрольной группе и стандартное отклонение. Хотим, чтобы среднее увеличилось в 10%, с таким же стандартным отклонением"
   ]
  },
  {
   "cell_type": "code",
   "execution_count": 8,
   "id": "84c1054e",
   "metadata": {},
   "outputs": [],
   "source": [
    "mean_control = data[data[\"experimentVariant\"]==\"control\"][\"sessionDuration\"].mean()\n",
    "std_control = data[data[\"experimentVariant\"]==\"control\"][\"sessionDuration\"].std()"
   ]
  },
  {
   "cell_type": "code",
   "execution_count": 9,
   "id": "877c209c",
   "metadata": {},
   "outputs": [
    {
     "data": {
      "text/plain": [
       "5.18345178179293"
      ]
     },
     "execution_count": 9,
     "metadata": {},
     "output_type": "execute_result"
    }
   ],
   "source": [
    "std_control"
   ]
  },
  {
   "cell_type": "code",
   "execution_count": 10,
   "id": "0c08e5c6",
   "metadata": {},
   "outputs": [
    {
     "data": {
      "text/plain": [
       "2.315793503031794"
      ]
     },
     "execution_count": 10,
     "metadata": {},
     "output_type": "execute_result"
    }
   ],
   "source": [
    "cohens_d = (mean_control*1.1 - mean_control) / (np.sqrt((std_control ** 2 + std_control ** 2) / 2))\n",
    "cohens_d"
   ]
  },
  {
   "cell_type": "code",
   "execution_count": 11,
   "id": "5a8a5021",
   "metadata": {},
   "outputs": [
    {
     "data": {
      "text/plain": [
       "4.146636699653668"
      ]
     },
     "execution_count": 11,
     "metadata": {},
     "output_type": "execute_result"
    }
   ],
   "source": [
    "tt_ind_solve_power(effect_size = cohens_d ,alpha = 0.05, power = 0.8)"
   ]
  },
  {
   "cell_type": "markdown",
   "id": "0536af37",
   "metadata": {},
   "source": [
    "Чтобы с 80% точностью заметить изменение в 10% нам необходимо всего лишь 4 наблюдения в обоих группах, значит нашего объёма выборки достаточно.\n"
   ]
  },
  {
   "cell_type": "markdown",
   "id": "9ecc76bb",
   "metadata": {},
   "source": [
    "## 2.2. Исследование целевой переменной"
   ]
  },
  {
   "cell_type": "code",
   "execution_count": 12,
   "id": "7f37c3cb",
   "metadata": {},
   "outputs": [
    {
     "data": {
      "text/plain": [
       "Text(0.5, 1.0, 'Распределение длительности сессии в контрольной и тестовой группе')"
      ]
     },
     "execution_count": 12,
     "metadata": {},
     "output_type": "execute_result"
    },
    {
     "data": {
      "image/png": "[encoded data removed]",
      "text/plain": [
       "<Figure size 1400x700 with 1 Axes>"
      ]
     },
     "metadata": {},
     "output_type": "display_data"
    }
   ],
   "source": [
    "#Глядя на распределение целевой переменной в разрезе тестовой и контрольной группы уже можно заметить отличающееся распределение\n",
    "plt.figure(figsize = (14,7))\n",
    "sns.kdeplot(x = 'sessionDuration', data = data[data['experimentVariant'] == \"control\"])\n",
    "sns.kdeplot(x = 'sessionDuration', data = data[data['experimentVariant'] == \"test\"])\n",
    "plt.legend([\"Контрольная группа\",\"Тестовая группа\"])\n",
    "plt.xlabel(\"Время проведенное на сайте в рамках сеанса\")\n",
    "plt.ylabel(\"Плотность\")\n",
    "plt.title(\"Распределение длительности сессии в контрольной и тестовой группе\")"
   ]
  },
  {
   "cell_type": "markdown",
   "id": "d382ff1a",
   "metadata": {},
   "source": [
    "Проверим распределение целевой переменной в тестовой и контрольной группах на нормалдьность с помощью теста Шапиро - Вилка"
   ]
  },
  {
   "cell_type": "code",
   "execution_count": 13,
   "id": "b375e45f",
   "metadata": {},
   "outputs": [
    {
     "data": {
      "text/plain": [
       "ShapiroResult(statistic=0.9982960820198059, pvalue=0.13837692141532898)"
      ]
     },
     "execution_count": 13,
     "metadata": {},
     "output_type": "execute_result"
    }
   ],
   "source": [
    "shapiro(data[data['experimentVariant'] == \"control\"][\"sessionDuration\"])"
   ]
  },
  {
   "cell_type": "code",
   "execution_count": 14,
   "id": "4c9ce310",
   "metadata": {},
   "outputs": [
    {
     "data": {
      "text/plain": [
       "ShapiroResult(statistic=0.9987943768501282, pvalue=0.4304580092430115)"
      ]
     },
     "execution_count": 14,
     "metadata": {},
     "output_type": "execute_result"
    }
   ],
   "source": [
    "shapiro(data[data['experimentVariant'] == \"test\"][\"sessionDuration\"])"
   ]
  },
  {
   "cell_type": "markdown",
   "id": "48a143c0",
   "metadata": {},
   "source": [
    "В обеих группах нулевая гипотеза о нормальности распределения не отвергается на уровне в 10%, поэтому можно использовать T-test для тестирования гипотезы.\n",
    " \n"
   ]
  },
  {
   "cell_type": "markdown",
   "id": "ebc13c18",
   "metadata": {},
   "source": [
    "## 2.2. Анализ сегментов "
   ]
  },
  {
   "cell_type": "code",
   "execution_count": 15,
   "id": "733efa64",
   "metadata": {},
   "outputs": [
    {
     "data": {
      "text/plain": [
       "experimentVariant\n",
       "control    1485\n",
       "test       1458\n",
       "dtype: int64"
      ]
     },
     "execution_count": 15,
     "metadata": {},
     "output_type": "execute_result"
    }
   ],
   "source": [
    "#В эксперименте почти одинаковое количество пользователей из тестовой и контрольной группы\n",
    "data.value_counts(\"experimentVariant\")"
   ]
  },
  {
   "cell_type": "code",
   "execution_count": 16,
   "id": "4bccb7d8",
   "metadata": {},
   "outputs": [
    {
     "data": {
      "text/plain": [
       "Text(0.5, 1.0, 'Распределение количества пользователей от типа устройства')"
      ]
     },
     "execution_count": 16,
     "metadata": {},
     "output_type": "execute_result"
    },
    {
     "data": {
      "image/png": "[encoded data removed]",
      "text/plain": [
       "<Figure size 1400x700 with 1 Axes>"
      ]
     },
     "metadata": {},
     "output_type": "display_data"
    }
   ],
   "source": [
    "#Дисбаланс пользователей из тестовой и контрольной группы также видно и в группах пользователей с компьютера и с мобильного телефона\n",
    "plt.figure(figsize = (14,7))\n",
    "ax = sns.countplot(x = \"deviceCategory\", hue = \"experimentVariant\", data  = data)\n",
    "ax.legend(title='Группа')\n",
    "ax.set_xlabel(\"Тип устройства\")\n",
    "ax.set_xticklabels([\"ПК\", \"Мобильный телефон\", \"Ноутбук\"])\n",
    "ax.set_ylabel(\"Количество пользователей\")\n",
    "ax.set_title(\"Распределение количества пользователей от типа устройства\")"
   ]
  },
  {
   "cell_type": "markdown",
   "id": "a9647b35",
   "metadata": {},
   "source": [
    "# 3. Тестирование"
   ]
  },
  {
   "cell_type": "markdown",
   "id": "f8f5c390",
   "metadata": {},
   "source": [
    "Перед проведением A/B тестирования проведём A/A тест. Это необходимо, чтобы убедиться , что пользователи из контрольной группы не отличаются друг от друга"
   ]
  },
  {
   "cell_type": "markdown",
   "id": "c1f8421c",
   "metadata": {},
   "source": [
    "## 3.1. A/A тестирование"
   ]
  },
  {
   "cell_type": "code",
   "execution_count": 17,
   "id": "24081f9f",
   "metadata": {},
   "outputs": [],
   "source": [
    "import bootstrapped.bootstrap as bs\n",
    "import bootstrapped.stats_functions as bs_stats\n",
    "import bootstrapped.compare_functions as bs_compare"
   ]
  },
  {
   "cell_type": "code",
   "execution_count": 18,
   "id": "eeae7d60",
   "metadata": {},
   "outputs": [],
   "source": [
    "#Отберём значения целевой переменной пользователей из контрольной группы\n",
    "aa_data = data[data[\"experimentVariant\"] == \"control\"][\"sessionDuration\"].values"
   ]
  },
  {
   "cell_type": "code",
   "execution_count": 19,
   "id": "4809bed9",
   "metadata": {},
   "outputs": [],
   "source": [
    "#Воспользуемся бутстрепом, будем отбирать 25% всех значений\n",
    "boot_results = bs.bootstrap_ab(test = aa_data, ctrl = aa_data, stat_func = bs_stats.mean, compare_func = bs_compare.difference, return_distribution = True, num_iterations=10000, iteration_batch_size = len(aa_data)/4)"
   ]
  },
  {
   "cell_type": "code",
   "execution_count": 20,
   "id": "9f88f187",
   "metadata": {},
   "outputs": [],
   "source": [
    "#Зададим границы 95% интервала\n",
    "borders = np.percentile(boot_results, [2.5, 97.5])"
   ]
  },
  {
   "cell_type": "code",
   "execution_count": 21,
   "id": "06f5a8f3",
   "metadata": {},
   "outputs": [
    {
     "data": {
      "image/png": "[encoded data removed]",
      "text/plain": [
       "<Figure size 1200x700 with 1 Axes>"
      ]
     },
     "metadata": {},
     "output_type": "display_data"
    }
   ],
   "source": [
    "#Отметим наши границы доверительного интервала и нулевое значение\n",
    "#По результатам A/A теста можно заметить, что  0 входит в распределение разности средних значений\n",
    "#Значит группа контрольных пользователей однородна\n",
    "plt.figure(figsize = (12,7))\n",
    "plt.hist(boot_results, bins = 500)\n",
    "plt.vlines(borders, ymin = 90, ymax =1, linestyle = '--', colors = \"grey\", label = \"95% - интервал\")\n",
    "plt.vlines(0, ymin = 90, ymax =0.03, linestyle = '--', colors = \"red\")\n",
    "plt.legend()\n",
    "plt.show()"
   ]
  },
  {
   "cell_type": "markdown",
   "id": "6ffbfcdb",
   "metadata": {},
   "source": [
    "Теперь можно запустить и A/B эксперимент"
   ]
  },
  {
   "cell_type": "markdown",
   "id": "28a981e2",
   "metadata": {},
   "source": [
    "## 3.2. A/B тестирование"
   ]
  },
  {
   "cell_type": "code",
   "execution_count": 22,
   "id": "9b045228",
   "metadata": {},
   "outputs": [],
   "source": [
    "from pingouin import ttest"
   ]
  },
  {
   "cell_type": "code",
   "execution_count": 29,
   "id": "9d0f84fa",
   "metadata": {},
   "outputs": [
    {
     "name": "stderr",
     "output_type": "stream",
     "text": [
      "C:\\Users\\paul\\anaconda3\\lib\\site-packages\\pingouin\\bayesian.py:152: RuntimeWarning: divide by zero encountered in double_scalars\n",
      "  bf10 = 1 / ((1 + t**2 / df) ** (-(df + 1) / 2) / integr)\n"
     ]
    },
    {
     "data": {
      "text/html": [
       "<div>\n",
       "<style scoped>\n",
       "    .dataframe tbody tr th:only-of-type {\n",
       "        vertical-align: middle;\n",
       "    }\n",
       "\n",
       "    .dataframe tbody tr th {\n",
       "        vertical-align: top;\n",
       "    }\n",
       "\n",
       "    .dataframe thead th {\n",
       "        text-align: right;\n",
       "    }\n",
       "</style>\n",
       "<table border=\"1\" class=\"dataframe\">\n",
       "  <thead>\n",
       "    <tr style=\"text-align: right;\">\n",
       "      <th></th>\n",
       "      <th>T</th>\n",
       "      <th>dof</th>\n",
       "      <th>alternative</th>\n",
       "      <th>p-val</th>\n",
       "      <th>CI95%</th>\n",
       "      <th>cohen-d</th>\n",
       "      <th>BF10</th>\n",
       "      <th>power</th>\n",
       "    </tr>\n",
       "  </thead>\n",
       "  <tbody>\n",
       "    <tr>\n",
       "      <th>T-test</th>\n",
       "      <td>45.299429</td>\n",
       "      <td>2217.397058</td>\n",
       "      <td>two-sided</td>\n",
       "      <td>8.574658e-318</td>\n",
       "      <td>[12.46, 13.58]</td>\n",
       "      <td>1.678653</td>\n",
       "      <td>inf</td>\n",
       "      <td>1.0</td>\n",
       "    </tr>\n",
       "  </tbody>\n",
       "</table>\n",
       "</div>"
      ],
      "text/plain": [
       "                T          dof alternative          p-val           CI95%  \\\n",
       "T-test  45.299429  2217.397058   two-sided  8.574658e-318  [12.46, 13.58]   \n",
       "\n",
       "         cohen-d BF10  power  \n",
       "T-test  1.678653  inf    1.0  "
      ]
     },
     "execution_count": 29,
     "metadata": {},
     "output_type": "execute_result"
    }
   ],
   "source": [
    "ttest(data[data[\"experimentVariant\"] == \"test\"][\"sessionDuration\"], data[data[\"experimentVariant\"] == \"control\"][\"sessionDuration\"], paired=False)\n"
   ]
  },
  {
   "cell_type": "markdown",
   "id": "bba69636",
   "metadata": {},
   "source": [
    "Мы обнаружили значимое отличие на уровне <<1% для тестовой и контрольной группы. В дополнение обнаружили, что данное изменение привело к увеличению времени нахождения на сайте пользоватлея от 12.46 до 13.58 временных единиц, что является улучшением в 10% от среднего значения времени пользователей из контрольной группы.Другой вопрос в том, насколько мы можем доверять полученным результатам. Уже в разделе анализа сегментов мы увидели, что присутствует дисбаланс пользователей, а значит необходимо починить систему сплитования. Из-за такой системы и могло возникнуть наблюдаемое различие. \n",
    "\n",
    "Посчитаем среднее значение времени на сайте для каждой группы категоральной переменной."
   ]
  },
  {
   "cell_type": "markdown",
   "id": "2eb5b9c0",
   "metadata": {},
   "source": [
    "# 4. Выводы"
   ]
  },
  {
   "cell_type": "markdown",
   "id": "a7562052",
   "metadata": {},
   "source": [
    "В данном исследовании удалось обнаружить значимое различие среднего значения нахождения пользователя на сайте в тестовой и контрольной группе. Была принята альтернативная гипотеза о том, что изменение на сайте привело к 10% улучшению метрики. Но не стоит радоваться данному резлуьтату, потому что был выявлен брак в системе сплитования и группы пользователей по устройствам в тестовой и контрольной получились неравномерными."
   ]
  }
 ],
 "metadata": {
  "kernelspec": {
   "display_name": "Python 3 (ipykernel)",
   "language": "python",
   "name": "python3"
  },
  "language_info": {
   "codemirror_mode": {
    "name": "ipython",
    "version": 3
   },
   "file_extension": ".py",
   "mimetype": "text/x-python",
   "name": "python",
   "nbconvert_exporter": "python",
   "pygments_lexer": "ipython3",
   "version": "3.9.12"
  }
 },
 "nbformat": 4,
 "nbformat_minor": 5
}
