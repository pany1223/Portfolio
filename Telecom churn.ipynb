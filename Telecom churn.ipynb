{
 "cells": [
  {
   "cell_type": "markdown",
   "id": "6f20b7f0",
   "metadata": {},
   "source": [
    "# В данном проекте анализирауется предсказаение оттока пользователей"
   ]
  },
  {
   "cell_type": "code",
   "execution_count": 38,
   "id": "5f0fbeb3",
   "metadata": {},
   "outputs": [],
   "source": [
    "import numpy as np\n",
    "import pandas as pd\n",
    "import seaborn as sns\n",
    "import matplotlib.pyplot as plt"
   ]
  },
  {
   "cell_type": "markdown",
   "id": "031a3d3f",
   "metadata": {},
   "source": [
    "# Первая часть. Исследование"
   ]
  },
  {
   "cell_type": "markdown",
   "id": "fe7ee314",
   "metadata": {},
   "source": [
    "## Загрузка данных"
   ]
  },
  {
   "cell_type": "code",
   "execution_count": 39,
   "id": "b2c93b8c",
   "metadata": {},
   "outputs": [],
   "source": [
    "#Загружаем тренировочный датасет\n",
    "train = pd.read_csv(\"train_dl.csv\")"
   ]
  },
  {
   "cell_type": "code",
   "execution_count": 40,
   "id": "bdcb7cb2",
   "metadata": {},
   "outputs": [],
   "source": [
    "#Загружаем тестовый датасет\n",
    "test = pd.read_csv(\"test_dl.csv\")"
   ]
  },
  {
   "cell_type": "code",
   "execution_count": 41,
   "id": "0e513cb7",
   "metadata": {},
   "outputs": [
    {
     "data": {
      "text/html": [
       "<div>\n",
       "<style scoped>\n",
       "    .dataframe tbody tr th:only-of-type {\n",
       "        vertical-align: middle;\n",
       "    }\n",
       "\n",
       "    .dataframe tbody tr th {\n",
       "        vertical-align: top;\n",
       "    }\n",
       "\n",
       "    .dataframe thead th {\n",
       "        text-align: right;\n",
       "    }\n",
       "</style>\n",
       "<table border=\"1\" class=\"dataframe\">\n",
       "  <thead>\n",
       "    <tr style=\"text-align: right;\">\n",
       "      <th></th>\n",
       "      <th>ClientPeriod</th>\n",
       "      <th>MonthlySpending</th>\n",
       "      <th>TotalSpent</th>\n",
       "      <th>Sex</th>\n",
       "      <th>IsSeniorCitizen</th>\n",
       "      <th>HasPartner</th>\n",
       "      <th>HasChild</th>\n",
       "      <th>HasPhoneService</th>\n",
       "      <th>HasMultiplePhoneNumbers</th>\n",
       "      <th>HasInternetService</th>\n",
       "      <th>HasOnlineSecurityService</th>\n",
       "      <th>HasOnlineBackup</th>\n",
       "      <th>HasDeviceProtection</th>\n",
       "      <th>HasTechSupportAccess</th>\n",
       "      <th>HasOnlineTV</th>\n",
       "      <th>HasMovieSubscription</th>\n",
       "      <th>HasContractPhone</th>\n",
       "      <th>IsBillingPaperless</th>\n",
       "      <th>PaymentMethod</th>\n",
       "      <th>Churn</th>\n",
       "    </tr>\n",
       "  </thead>\n",
       "  <tbody>\n",
       "    <tr>\n",
       "      <th>0</th>\n",
       "      <td>55</td>\n",
       "      <td>19.50</td>\n",
       "      <td>1026.35</td>\n",
       "      <td>Male</td>\n",
       "      <td>0</td>\n",
       "      <td>Yes</td>\n",
       "      <td>Yes</td>\n",
       "      <td>Yes</td>\n",
       "      <td>No</td>\n",
       "      <td>No</td>\n",
       "      <td>No internet service</td>\n",
       "      <td>No internet service</td>\n",
       "      <td>No internet service</td>\n",
       "      <td>No internet service</td>\n",
       "      <td>No internet service</td>\n",
       "      <td>No internet service</td>\n",
       "      <td>One year</td>\n",
       "      <td>No</td>\n",
       "      <td>Mailed check</td>\n",
       "      <td>0</td>\n",
       "    </tr>\n",
       "    <tr>\n",
       "      <th>1</th>\n",
       "      <td>72</td>\n",
       "      <td>25.85</td>\n",
       "      <td>1872.2</td>\n",
       "      <td>Male</td>\n",
       "      <td>0</td>\n",
       "      <td>Yes</td>\n",
       "      <td>No</td>\n",
       "      <td>Yes</td>\n",
       "      <td>Yes</td>\n",
       "      <td>No</td>\n",
       "      <td>No internet service</td>\n",
       "      <td>No internet service</td>\n",
       "      <td>No internet service</td>\n",
       "      <td>No internet service</td>\n",
       "      <td>No internet service</td>\n",
       "      <td>No internet service</td>\n",
       "      <td>Two year</td>\n",
       "      <td>No</td>\n",
       "      <td>Credit card (automatic)</td>\n",
       "      <td>0</td>\n",
       "    </tr>\n",
       "    <tr>\n",
       "      <th>2</th>\n",
       "      <td>1</td>\n",
       "      <td>75.90</td>\n",
       "      <td>75.9</td>\n",
       "      <td>Male</td>\n",
       "      <td>0</td>\n",
       "      <td>No</td>\n",
       "      <td>No</td>\n",
       "      <td>Yes</td>\n",
       "      <td>No</td>\n",
       "      <td>Fiber optic</td>\n",
       "      <td>No</td>\n",
       "      <td>No</td>\n",
       "      <td>No</td>\n",
       "      <td>Yes</td>\n",
       "      <td>No</td>\n",
       "      <td>No</td>\n",
       "      <td>Month-to-month</td>\n",
       "      <td>Yes</td>\n",
       "      <td>Electronic check</td>\n",
       "      <td>1</td>\n",
       "    </tr>\n",
       "    <tr>\n",
       "      <th>3</th>\n",
       "      <td>32</td>\n",
       "      <td>79.30</td>\n",
       "      <td>2570</td>\n",
       "      <td>Female</td>\n",
       "      <td>1</td>\n",
       "      <td>Yes</td>\n",
       "      <td>No</td>\n",
       "      <td>Yes</td>\n",
       "      <td>Yes</td>\n",
       "      <td>Fiber optic</td>\n",
       "      <td>No</td>\n",
       "      <td>No</td>\n",
       "      <td>Yes</td>\n",
       "      <td>No</td>\n",
       "      <td>No</td>\n",
       "      <td>No</td>\n",
       "      <td>Month-to-month</td>\n",
       "      <td>No</td>\n",
       "      <td>Mailed check</td>\n",
       "      <td>0</td>\n",
       "    </tr>\n",
       "    <tr>\n",
       "      <th>4</th>\n",
       "      <td>60</td>\n",
       "      <td>115.25</td>\n",
       "      <td>6758.45</td>\n",
       "      <td>Female</td>\n",
       "      <td>0</td>\n",
       "      <td>Yes</td>\n",
       "      <td>Yes</td>\n",
       "      <td>Yes</td>\n",
       "      <td>Yes</td>\n",
       "      <td>Fiber optic</td>\n",
       "      <td>Yes</td>\n",
       "      <td>Yes</td>\n",
       "      <td>Yes</td>\n",
       "      <td>Yes</td>\n",
       "      <td>Yes</td>\n",
       "      <td>Yes</td>\n",
       "      <td>Two year</td>\n",
       "      <td>No</td>\n",
       "      <td>Credit card (automatic)</td>\n",
       "      <td>0</td>\n",
       "    </tr>\n",
       "  </tbody>\n",
       "</table>\n",
       "</div>"
      ],
      "text/plain": [
       "   ClientPeriod  MonthlySpending TotalSpent     Sex  IsSeniorCitizen  \\\n",
       "0            55            19.50    1026.35    Male                0   \n",
       "1            72            25.85     1872.2    Male                0   \n",
       "2             1            75.90       75.9    Male                0   \n",
       "3            32            79.30       2570  Female                1   \n",
       "4            60           115.25    6758.45  Female                0   \n",
       "\n",
       "  HasPartner HasChild HasPhoneService HasMultiplePhoneNumbers  \\\n",
       "0        Yes      Yes             Yes                      No   \n",
       "1        Yes       No             Yes                     Yes   \n",
       "2         No       No             Yes                      No   \n",
       "3        Yes       No             Yes                     Yes   \n",
       "4        Yes      Yes             Yes                     Yes   \n",
       "\n",
       "  HasInternetService HasOnlineSecurityService      HasOnlineBackup  \\\n",
       "0                 No      No internet service  No internet service   \n",
       "1                 No      No internet service  No internet service   \n",
       "2        Fiber optic                       No                   No   \n",
       "3        Fiber optic                       No                   No   \n",
       "4        Fiber optic                      Yes                  Yes   \n",
       "\n",
       "   HasDeviceProtection HasTechSupportAccess          HasOnlineTV  \\\n",
       "0  No internet service  No internet service  No internet service   \n",
       "1  No internet service  No internet service  No internet service   \n",
       "2                   No                  Yes                   No   \n",
       "3                  Yes                   No                   No   \n",
       "4                  Yes                  Yes                  Yes   \n",
       "\n",
       "  HasMovieSubscription HasContractPhone IsBillingPaperless  \\\n",
       "0  No internet service         One year                 No   \n",
       "1  No internet service         Two year                 No   \n",
       "2                   No   Month-to-month                Yes   \n",
       "3                   No   Month-to-month                 No   \n",
       "4                  Yes         Two year                 No   \n",
       "\n",
       "             PaymentMethod  Churn  \n",
       "0             Mailed check      0  \n",
       "1  Credit card (automatic)      0  \n",
       "2         Electronic check      1  \n",
       "3             Mailed check      0  \n",
       "4  Credit card (automatic)      0  "
      ]
     },
     "execution_count": 41,
     "metadata": {},
     "output_type": "execute_result"
    }
   ],
   "source": [
    "#Взглянем на данные\n",
    "train.head()"
   ]
  },
  {
   "cell_type": "code",
   "execution_count": 42,
   "id": "3b08bf2a",
   "metadata": {},
   "outputs": [
    {
     "data": {
      "text/plain": [
       "ClientPeriod                  int64\n",
       "MonthlySpending             float64\n",
       "TotalSpent                   object\n",
       "Sex                          object\n",
       "IsSeniorCitizen               int64\n",
       "HasPartner                   object\n",
       "HasChild                     object\n",
       "HasPhoneService              object\n",
       "HasMultiplePhoneNumbers      object\n",
       "HasInternetService           object\n",
       "HasOnlineSecurityService     object\n",
       "HasOnlineBackup              object\n",
       "HasDeviceProtection          object\n",
       "HasTechSupportAccess         object\n",
       "HasOnlineTV                  object\n",
       "HasMovieSubscription         object\n",
       "HasContractPhone             object\n",
       "IsBillingPaperless           object\n",
       "PaymentMethod                object\n",
       "Churn                         int64\n",
       "dtype: object"
      ]
     },
     "execution_count": 42,
     "metadata": {},
     "output_type": "execute_result"
    }
   ],
   "source": [
    "#Проверка типов данных. TotalSpent - object, зотя должен быть float64, необходимо изменить\n",
    "train.dtypes"
   ]
  },
  {
   "cell_type": "code",
   "execution_count": 43,
   "id": "9cef520b",
   "metadata": {},
   "outputs": [],
   "source": [
    "num_cols = [\n",
    "    \"ClientPeriod\",\n",
    "    \"MonthlySpending\",\n",
    "    \"TotalSpent\",\n",
    "]\n",
    "\n",
    "cat_cols = [\n",
    "    \"Sex\",\n",
    "    \"IsSeniorCitizen\",\n",
    "    \"HasPartner\",\n",
    "    \"HasChild\",\n",
    "    \"HasPhoneService\",\n",
    "    \"HasMultiplePhoneNumbers\",\n",
    "    \"HasInternetService\",\n",
    "    \"HasOnlineSecurityService\",\n",
    "    \"HasOnlineBackup\",\n",
    "    \"HasDeviceProtection\",\n",
    "    \"HasTechSupportAccess\",\n",
    "    \"HasOnlineTV\",\n",
    "    \"HasMovieSubscription\",\n",
    "    \"HasContractPhone\",\n",
    "    \"IsBillingPaperless\",\n",
    "    \"PaymentMethod\",\n",
    "]\n",
    "\n",
    "target = 'Churn'"
   ]
  },
  {
   "cell_type": "code",
   "execution_count": 44,
   "id": "970fdebe",
   "metadata": {},
   "outputs": [
    {
     "data": {
      "text/plain": [
       "ClientPeriod                0\n",
       "MonthlySpending             0\n",
       "TotalSpent                  0\n",
       "Sex                         0\n",
       "IsSeniorCitizen             0\n",
       "HasPartner                  0\n",
       "HasChild                    0\n",
       "HasPhoneService             0\n",
       "HasMultiplePhoneNumbers     0\n",
       "HasInternetService          0\n",
       "HasOnlineSecurityService    0\n",
       "HasOnlineBackup             0\n",
       "HasDeviceProtection         0\n",
       "HasTechSupportAccess        0\n",
       "HasOnlineTV                 0\n",
       "HasMovieSubscription        0\n",
       "HasContractPhone            0\n",
       "IsBillingPaperless          0\n",
       "PaymentMethod               0\n",
       "Churn                       0\n",
       "dtype: int64"
      ]
     },
     "execution_count": 44,
     "metadata": {},
     "output_type": "execute_result"
    }
   ],
   "source": [
    "#Проверяем количество пропущенных значений по каждой колонке в тренировочном датасете, везде показывает 0\n",
    "train.isna().sum()"
   ]
  },
  {
   "cell_type": "code",
   "execution_count": 45,
   "id": "bc0a9bd9",
   "metadata": {},
   "outputs": [
    {
     "data": {
      "text/plain": [
       "ClientPeriod                0\n",
       "MonthlySpending             0\n",
       "TotalSpent                  0\n",
       "Sex                         0\n",
       "IsSeniorCitizen             0\n",
       "HasPartner                  0\n",
       "HasChild                    0\n",
       "HasPhoneService             0\n",
       "HasMultiplePhoneNumbers     0\n",
       "HasInternetService          0\n",
       "HasOnlineSecurityService    0\n",
       "HasOnlineBackup             0\n",
       "HasDeviceProtection         0\n",
       "HasTechSupportAccess        0\n",
       "HasOnlineTV                 0\n",
       "HasMovieSubscription        0\n",
       "HasContractPhone            0\n",
       "IsBillingPaperless          0\n",
       "PaymentMethod               0\n",
       "dtype: int64"
      ]
     },
     "execution_count": 45,
     "metadata": {},
     "output_type": "execute_result"
    }
   ],
   "source": [
    "#Проверяем количество пропущенных значений по каждой колонке в тестовом датасете, везде показывает 0\n",
    "test.isna().sum()"
   ]
  },
  {
   "cell_type": "code",
   "execution_count": 46,
   "id": "629b47b3",
   "metadata": {},
   "outputs": [
    {
     "data": {
      "text/plain": [
       "28"
      ]
     },
     "execution_count": 46,
     "metadata": {},
     "output_type": "execute_result"
    }
   ],
   "source": [
    "#Смотрим на количество дубликатов, всего выходит 28\n",
    "train.duplicated(keep=False).sum()"
   ]
  },
  {
   "cell_type": "code",
   "execution_count": 47,
   "id": "36297104",
   "metadata": {},
   "outputs": [
    {
     "data": {
      "text/plain": [
       "41"
      ]
     },
     "execution_count": 47,
     "metadata": {},
     "output_type": "execute_result"
    }
   ],
   "source": [
    "#Посмотрим на количество дубликатов при удалении зависимой переменной\n",
    "train.drop(\"Churn\", axis = 1).duplicated(keep=False).sum()"
   ]
  },
  {
   "cell_type": "code",
   "execution_count": 48,
   "id": "63e62ef1",
   "metadata": {},
   "outputs": [],
   "source": [
    "#Уберём наблюдения дубликаты, чтобы убрать лишний шум\n",
    "train = train[train.drop(\"Churn\", axis = 1).duplicated(keep=False).replace({False : True, True:False})]"
   ]
  },
  {
   "cell_type": "code",
   "execution_count": 49,
   "id": "24a3a86b",
   "metadata": {},
   "outputs": [],
   "source": [
    "#Чисто выраженных пропущенных значений у нас нет, но может быть есть пустые ячейки, заменим их на NaN\n",
    "train.replace(\" \", np.nan, inplace=True)"
   ]
  },
  {
   "cell_type": "code",
   "execution_count": 50,
   "id": "da53ff63",
   "metadata": {},
   "outputs": [
    {
     "data": {
      "text/plain": [
       "TotalSpent    9\n",
       "dtype: int64"
      ]
     },
     "execution_count": 50,
     "metadata": {},
     "output_type": "execute_result"
    }
   ],
   "source": [
    "#После замены в тренировочном датасете появилось 9 пропущенных значений в колонке TotalSpent\n",
    "train.isna().sum()[train.isna().sum() > 0]"
   ]
  },
  {
   "cell_type": "code",
   "execution_count": 51,
   "id": "09e06430",
   "metadata": {
    "scrolled": true
   },
   "outputs": [
    {
     "data": {
      "text/html": [
       "<div>\n",
       "<style scoped>\n",
       "    .dataframe tbody tr th:only-of-type {\n",
       "        vertical-align: middle;\n",
       "    }\n",
       "\n",
       "    .dataframe tbody tr th {\n",
       "        vertical-align: top;\n",
       "    }\n",
       "\n",
       "    .dataframe thead th {\n",
       "        text-align: right;\n",
       "    }\n",
       "</style>\n",
       "<table border=\"1\" class=\"dataframe\">\n",
       "  <thead>\n",
       "    <tr style=\"text-align: right;\">\n",
       "      <th></th>\n",
       "      <th>ClientPeriod</th>\n",
       "      <th>MonthlySpending</th>\n",
       "      <th>TotalSpent</th>\n",
       "      <th>Sex</th>\n",
       "      <th>IsSeniorCitizen</th>\n",
       "      <th>HasPartner</th>\n",
       "      <th>HasChild</th>\n",
       "      <th>HasPhoneService</th>\n",
       "      <th>HasMultiplePhoneNumbers</th>\n",
       "      <th>HasInternetService</th>\n",
       "      <th>HasOnlineSecurityService</th>\n",
       "      <th>HasOnlineBackup</th>\n",
       "      <th>HasDeviceProtection</th>\n",
       "      <th>HasTechSupportAccess</th>\n",
       "      <th>HasOnlineTV</th>\n",
       "      <th>HasMovieSubscription</th>\n",
       "      <th>HasContractPhone</th>\n",
       "      <th>IsBillingPaperless</th>\n",
       "      <th>PaymentMethod</th>\n",
       "      <th>Churn</th>\n",
       "    </tr>\n",
       "  </thead>\n",
       "  <tbody>\n",
       "    <tr>\n",
       "      <th>3376</th>\n",
       "      <td>55</td>\n",
       "      <td>19.15</td>\n",
       "      <td>998.1</td>\n",
       "      <td>Female</td>\n",
       "      <td>0</td>\n",
       "      <td>Yes</td>\n",
       "      <td>Yes</td>\n",
       "      <td>Yes</td>\n",
       "      <td>No</td>\n",
       "      <td>No</td>\n",
       "      <td>No internet service</td>\n",
       "      <td>No internet service</td>\n",
       "      <td>No internet service</td>\n",
       "      <td>No internet service</td>\n",
       "      <td>No internet service</td>\n",
       "      <td>No internet service</td>\n",
       "      <td>One year</td>\n",
       "      <td>No</td>\n",
       "      <td>Credit card (automatic)</td>\n",
       "      <td>0</td>\n",
       "    </tr>\n",
       "    <tr>\n",
       "      <th>1157</th>\n",
       "      <td>11</td>\n",
       "      <td>94.20</td>\n",
       "      <td>999.9</td>\n",
       "      <td>Female</td>\n",
       "      <td>0</td>\n",
       "      <td>No</td>\n",
       "      <td>No</td>\n",
       "      <td>Yes</td>\n",
       "      <td>No</td>\n",
       "      <td>Fiber optic</td>\n",
       "      <td>No</td>\n",
       "      <td>Yes</td>\n",
       "      <td>Yes</td>\n",
       "      <td>Yes</td>\n",
       "      <td>No</td>\n",
       "      <td>Yes</td>\n",
       "      <td>Month-to-month</td>\n",
       "      <td>Yes</td>\n",
       "      <td>Electronic check</td>\n",
       "      <td>0</td>\n",
       "    </tr>\n",
       "    <tr>\n",
       "      <th>1048</th>\n",
       "      <td>0</td>\n",
       "      <td>25.75</td>\n",
       "      <td>NaN</td>\n",
       "      <td>Male</td>\n",
       "      <td>0</td>\n",
       "      <td>Yes</td>\n",
       "      <td>Yes</td>\n",
       "      <td>Yes</td>\n",
       "      <td>Yes</td>\n",
       "      <td>No</td>\n",
       "      <td>No internet service</td>\n",
       "      <td>No internet service</td>\n",
       "      <td>No internet service</td>\n",
       "      <td>No internet service</td>\n",
       "      <td>No internet service</td>\n",
       "      <td>No internet service</td>\n",
       "      <td>Two year</td>\n",
       "      <td>No</td>\n",
       "      <td>Mailed check</td>\n",
       "      <td>0</td>\n",
       "    </tr>\n",
       "    <tr>\n",
       "      <th>1707</th>\n",
       "      <td>0</td>\n",
       "      <td>73.35</td>\n",
       "      <td>NaN</td>\n",
       "      <td>Female</td>\n",
       "      <td>0</td>\n",
       "      <td>Yes</td>\n",
       "      <td>Yes</td>\n",
       "      <td>Yes</td>\n",
       "      <td>Yes</td>\n",
       "      <td>DSL</td>\n",
       "      <td>No</td>\n",
       "      <td>Yes</td>\n",
       "      <td>Yes</td>\n",
       "      <td>Yes</td>\n",
       "      <td>Yes</td>\n",
       "      <td>No</td>\n",
       "      <td>Two year</td>\n",
       "      <td>No</td>\n",
       "      <td>Mailed check</td>\n",
       "      <td>0</td>\n",
       "    </tr>\n",
       "    <tr>\n",
       "      <th>2543</th>\n",
       "      <td>0</td>\n",
       "      <td>19.70</td>\n",
       "      <td>NaN</td>\n",
       "      <td>Male</td>\n",
       "      <td>0</td>\n",
       "      <td>Yes</td>\n",
       "      <td>Yes</td>\n",
       "      <td>Yes</td>\n",
       "      <td>No</td>\n",
       "      <td>No</td>\n",
       "      <td>No internet service</td>\n",
       "      <td>No internet service</td>\n",
       "      <td>No internet service</td>\n",
       "      <td>No internet service</td>\n",
       "      <td>No internet service</td>\n",
       "      <td>No internet service</td>\n",
       "      <td>One year</td>\n",
       "      <td>Yes</td>\n",
       "      <td>Mailed check</td>\n",
       "      <td>0</td>\n",
       "    </tr>\n",
       "    <tr>\n",
       "      <th>3078</th>\n",
       "      <td>0</td>\n",
       "      <td>80.85</td>\n",
       "      <td>NaN</td>\n",
       "      <td>Female</td>\n",
       "      <td>0</td>\n",
       "      <td>Yes</td>\n",
       "      <td>Yes</td>\n",
       "      <td>Yes</td>\n",
       "      <td>No</td>\n",
       "      <td>DSL</td>\n",
       "      <td>Yes</td>\n",
       "      <td>Yes</td>\n",
       "      <td>Yes</td>\n",
       "      <td>No</td>\n",
       "      <td>Yes</td>\n",
       "      <td>Yes</td>\n",
       "      <td>Two year</td>\n",
       "      <td>No</td>\n",
       "      <td>Mailed check</td>\n",
       "      <td>0</td>\n",
       "    </tr>\n",
       "    <tr>\n",
       "      <th>3697</th>\n",
       "      <td>0</td>\n",
       "      <td>20.00</td>\n",
       "      <td>NaN</td>\n",
       "      <td>Female</td>\n",
       "      <td>0</td>\n",
       "      <td>Yes</td>\n",
       "      <td>Yes</td>\n",
       "      <td>Yes</td>\n",
       "      <td>No</td>\n",
       "      <td>No</td>\n",
       "      <td>No internet service</td>\n",
       "      <td>No internet service</td>\n",
       "      <td>No internet service</td>\n",
       "      <td>No internet service</td>\n",
       "      <td>No internet service</td>\n",
       "      <td>No internet service</td>\n",
       "      <td>Two year</td>\n",
       "      <td>No</td>\n",
       "      <td>Mailed check</td>\n",
       "      <td>0</td>\n",
       "    </tr>\n",
       "    <tr>\n",
       "      <th>4002</th>\n",
       "      <td>0</td>\n",
       "      <td>61.90</td>\n",
       "      <td>NaN</td>\n",
       "      <td>Male</td>\n",
       "      <td>0</td>\n",
       "      <td>No</td>\n",
       "      <td>Yes</td>\n",
       "      <td>Yes</td>\n",
       "      <td>Yes</td>\n",
       "      <td>DSL</td>\n",
       "      <td>Yes</td>\n",
       "      <td>Yes</td>\n",
       "      <td>No</td>\n",
       "      <td>Yes</td>\n",
       "      <td>No</td>\n",
       "      <td>No</td>\n",
       "      <td>Two year</td>\n",
       "      <td>Yes</td>\n",
       "      <td>Bank transfer (automatic)</td>\n",
       "      <td>0</td>\n",
       "    </tr>\n",
       "    <tr>\n",
       "      <th>4326</th>\n",
       "      <td>0</td>\n",
       "      <td>25.35</td>\n",
       "      <td>NaN</td>\n",
       "      <td>Male</td>\n",
       "      <td>0</td>\n",
       "      <td>Yes</td>\n",
       "      <td>Yes</td>\n",
       "      <td>Yes</td>\n",
       "      <td>Yes</td>\n",
       "      <td>No</td>\n",
       "      <td>No internet service</td>\n",
       "      <td>No internet service</td>\n",
       "      <td>No internet service</td>\n",
       "      <td>No internet service</td>\n",
       "      <td>No internet service</td>\n",
       "      <td>No internet service</td>\n",
       "      <td>Two year</td>\n",
       "      <td>No</td>\n",
       "      <td>Mailed check</td>\n",
       "      <td>0</td>\n",
       "    </tr>\n",
       "    <tr>\n",
       "      <th>4551</th>\n",
       "      <td>0</td>\n",
       "      <td>52.55</td>\n",
       "      <td>NaN</td>\n",
       "      <td>Female</td>\n",
       "      <td>0</td>\n",
       "      <td>Yes</td>\n",
       "      <td>Yes</td>\n",
       "      <td>No</td>\n",
       "      <td>No phone service</td>\n",
       "      <td>DSL</td>\n",
       "      <td>Yes</td>\n",
       "      <td>No</td>\n",
       "      <td>Yes</td>\n",
       "      <td>Yes</td>\n",
       "      <td>Yes</td>\n",
       "      <td>No</td>\n",
       "      <td>Two year</td>\n",
       "      <td>Yes</td>\n",
       "      <td>Bank transfer (automatic)</td>\n",
       "      <td>0</td>\n",
       "    </tr>\n",
       "    <tr>\n",
       "      <th>4598</th>\n",
       "      <td>0</td>\n",
       "      <td>56.05</td>\n",
       "      <td>NaN</td>\n",
       "      <td>Female</td>\n",
       "      <td>0</td>\n",
       "      <td>Yes</td>\n",
       "      <td>Yes</td>\n",
       "      <td>No</td>\n",
       "      <td>No phone service</td>\n",
       "      <td>DSL</td>\n",
       "      <td>Yes</td>\n",
       "      <td>Yes</td>\n",
       "      <td>Yes</td>\n",
       "      <td>Yes</td>\n",
       "      <td>Yes</td>\n",
       "      <td>No</td>\n",
       "      <td>Two year</td>\n",
       "      <td>No</td>\n",
       "      <td>Credit card (automatic)</td>\n",
       "      <td>0</td>\n",
       "    </tr>\n",
       "  </tbody>\n",
       "</table>\n",
       "</div>"
      ],
      "text/plain": [
       "      ClientPeriod  MonthlySpending TotalSpent     Sex  IsSeniorCitizen  \\\n",
       "3376            55            19.15      998.1  Female                0   \n",
       "1157            11            94.20      999.9  Female                0   \n",
       "1048             0            25.75        NaN    Male                0   \n",
       "1707             0            73.35        NaN  Female                0   \n",
       "2543             0            19.70        NaN    Male                0   \n",
       "3078             0            80.85        NaN  Female                0   \n",
       "3697             0            20.00        NaN  Female                0   \n",
       "4002             0            61.90        NaN    Male                0   \n",
       "4326             0            25.35        NaN    Male                0   \n",
       "4551             0            52.55        NaN  Female                0   \n",
       "4598             0            56.05        NaN  Female                0   \n",
       "\n",
       "     HasPartner HasChild HasPhoneService HasMultiplePhoneNumbers  \\\n",
       "3376        Yes      Yes             Yes                      No   \n",
       "1157         No       No             Yes                      No   \n",
       "1048        Yes      Yes             Yes                     Yes   \n",
       "1707        Yes      Yes             Yes                     Yes   \n",
       "2543        Yes      Yes             Yes                      No   \n",
       "3078        Yes      Yes             Yes                      No   \n",
       "3697        Yes      Yes             Yes                      No   \n",
       "4002         No      Yes             Yes                     Yes   \n",
       "4326        Yes      Yes             Yes                     Yes   \n",
       "4551        Yes      Yes              No        No phone service   \n",
       "4598        Yes      Yes              No        No phone service   \n",
       "\n",
       "     HasInternetService HasOnlineSecurityService      HasOnlineBackup  \\\n",
       "3376                 No      No internet service  No internet service   \n",
       "1157        Fiber optic                       No                  Yes   \n",
       "1048                 No      No internet service  No internet service   \n",
       "1707                DSL                       No                  Yes   \n",
       "2543                 No      No internet service  No internet service   \n",
       "3078                DSL                      Yes                  Yes   \n",
       "3697                 No      No internet service  No internet service   \n",
       "4002                DSL                      Yes                  Yes   \n",
       "4326                 No      No internet service  No internet service   \n",
       "4551                DSL                      Yes                   No   \n",
       "4598                DSL                      Yes                  Yes   \n",
       "\n",
       "      HasDeviceProtection HasTechSupportAccess          HasOnlineTV  \\\n",
       "3376  No internet service  No internet service  No internet service   \n",
       "1157                  Yes                  Yes                   No   \n",
       "1048  No internet service  No internet service  No internet service   \n",
       "1707                  Yes                  Yes                  Yes   \n",
       "2543  No internet service  No internet service  No internet service   \n",
       "3078                  Yes                   No                  Yes   \n",
       "3697  No internet service  No internet service  No internet service   \n",
       "4002                   No                  Yes                   No   \n",
       "4326  No internet service  No internet service  No internet service   \n",
       "4551                  Yes                  Yes                  Yes   \n",
       "4598                  Yes                  Yes                  Yes   \n",
       "\n",
       "     HasMovieSubscription HasContractPhone IsBillingPaperless  \\\n",
       "3376  No internet service         One year                 No   \n",
       "1157                  Yes   Month-to-month                Yes   \n",
       "1048  No internet service         Two year                 No   \n",
       "1707                   No         Two year                 No   \n",
       "2543  No internet service         One year                Yes   \n",
       "3078                  Yes         Two year                 No   \n",
       "3697  No internet service         Two year                 No   \n",
       "4002                   No         Two year                Yes   \n",
       "4326  No internet service         Two year                 No   \n",
       "4551                   No         Two year                Yes   \n",
       "4598                   No         Two year                 No   \n",
       "\n",
       "                  PaymentMethod  Churn  \n",
       "3376    Credit card (automatic)      0  \n",
       "1157           Electronic check      0  \n",
       "1048               Mailed check      0  \n",
       "1707               Mailed check      0  \n",
       "2543               Mailed check      0  \n",
       "3078               Mailed check      0  \n",
       "3697               Mailed check      0  \n",
       "4002  Bank transfer (automatic)      0  \n",
       "4326               Mailed check      0  \n",
       "4551  Bank transfer (automatic)      0  \n",
       "4598    Credit card (automatic)      0  "
      ]
     },
     "execution_count": 51,
     "metadata": {},
     "output_type": "execute_result"
    }
   ],
   "source": [
    "#Похоже, что пропущенные значения лишь у тех клиентов, кто не пользовался сервсимо,поэтому их затраты можно заменить на 0\n",
    "train.sort_values(\"TotalSpent\").tail(11)"
   ]
  },
  {
   "cell_type": "code",
   "execution_count": 52,
   "id": "1eb14c3a",
   "metadata": {},
   "outputs": [],
   "source": [
    "train = train.fillna(0)"
   ]
  },
  {
   "cell_type": "code",
   "execution_count": 53,
   "id": "2c66ba42",
   "metadata": {},
   "outputs": [
    {
     "data": {
      "text/plain": [
       "Series([], dtype: int64)"
      ]
     },
     "execution_count": 53,
     "metadata": {},
     "output_type": "execute_result"
    }
   ],
   "source": [
    "#Проверим всё ли заменилось\n",
    "train.isna().sum()[train.isna().sum() > 0]"
   ]
  },
  {
   "cell_type": "code",
   "execution_count": 54,
   "id": "f9f9410e",
   "metadata": {},
   "outputs": [
    {
     "data": {
      "text/plain": [
       "Series([], dtype: int64)"
      ]
     },
     "execution_count": 54,
     "metadata": {},
     "output_type": "execute_result"
    }
   ],
   "source": [
    "#Теперь проверим пропущенные значения в тестовом датасете, опять ни одного\n",
    "test.isna().sum()[test.isna().sum() > 0]"
   ]
  },
  {
   "cell_type": "code",
   "execution_count": 55,
   "id": "a2f8992f",
   "metadata": {},
   "outputs": [
    {
     "data": {
      "text/plain": [
       "TotalSpent    2\n",
       "dtype: int64"
      ]
     },
     "execution_count": 55,
     "metadata": {},
     "output_type": "execute_result"
    }
   ],
   "source": [
    "#Проделаем аналогичную операцию с заменой и посмотрим. Появилось 2 пропущенные значения в той же самой колонке\n",
    "test.replace(\" \", np.nan, inplace=True)\n",
    "test.isna().sum()[test.isna().sum() > 0]"
   ]
  },
  {
   "cell_type": "code",
   "execution_count": 56,
   "id": "fd634846",
   "metadata": {
    "scrolled": false
   },
   "outputs": [
    {
     "data": {
      "text/html": [
       "<div>\n",
       "<style scoped>\n",
       "    .dataframe tbody tr th:only-of-type {\n",
       "        vertical-align: middle;\n",
       "    }\n",
       "\n",
       "    .dataframe tbody tr th {\n",
       "        vertical-align: top;\n",
       "    }\n",
       "\n",
       "    .dataframe thead th {\n",
       "        text-align: right;\n",
       "    }\n",
       "</style>\n",
       "<table border=\"1\" class=\"dataframe\">\n",
       "  <thead>\n",
       "    <tr style=\"text-align: right;\">\n",
       "      <th></th>\n",
       "      <th>ClientPeriod</th>\n",
       "      <th>MonthlySpending</th>\n",
       "      <th>TotalSpent</th>\n",
       "      <th>Sex</th>\n",
       "      <th>IsSeniorCitizen</th>\n",
       "      <th>HasPartner</th>\n",
       "      <th>HasChild</th>\n",
       "      <th>HasPhoneService</th>\n",
       "      <th>HasMultiplePhoneNumbers</th>\n",
       "      <th>HasInternetService</th>\n",
       "      <th>HasOnlineSecurityService</th>\n",
       "      <th>HasOnlineBackup</th>\n",
       "      <th>HasDeviceProtection</th>\n",
       "      <th>HasTechSupportAccess</th>\n",
       "      <th>HasOnlineTV</th>\n",
       "      <th>HasMovieSubscription</th>\n",
       "      <th>HasContractPhone</th>\n",
       "      <th>IsBillingPaperless</th>\n",
       "      <th>PaymentMethod</th>\n",
       "    </tr>\n",
       "  </thead>\n",
       "  <tbody>\n",
       "    <tr>\n",
       "      <th>1206</th>\n",
       "      <td>12</td>\n",
       "      <td>85.05</td>\n",
       "      <td>999.8</td>\n",
       "      <td>Male</td>\n",
       "      <td>0</td>\n",
       "      <td>Yes</td>\n",
       "      <td>No</td>\n",
       "      <td>Yes</td>\n",
       "      <td>No</td>\n",
       "      <td>Fiber optic</td>\n",
       "      <td>No</td>\n",
       "      <td>Yes</td>\n",
       "      <td>No</td>\n",
       "      <td>No</td>\n",
       "      <td>No</td>\n",
       "      <td>Yes</td>\n",
       "      <td>Month-to-month</td>\n",
       "      <td>Yes</td>\n",
       "      <td>Credit card (automatic)</td>\n",
       "    </tr>\n",
       "    <tr>\n",
       "      <th>177</th>\n",
       "      <td>0</td>\n",
       "      <td>19.85</td>\n",
       "      <td>NaN</td>\n",
       "      <td>Male</td>\n",
       "      <td>0</td>\n",
       "      <td>Yes</td>\n",
       "      <td>Yes</td>\n",
       "      <td>Yes</td>\n",
       "      <td>No</td>\n",
       "      <td>No</td>\n",
       "      <td>No internet service</td>\n",
       "      <td>No internet service</td>\n",
       "      <td>No internet service</td>\n",
       "      <td>No internet service</td>\n",
       "      <td>No internet service</td>\n",
       "      <td>No internet service</td>\n",
       "      <td>Two year</td>\n",
       "      <td>No</td>\n",
       "      <td>Mailed check</td>\n",
       "    </tr>\n",
       "    <tr>\n",
       "      <th>767</th>\n",
       "      <td>0</td>\n",
       "      <td>20.25</td>\n",
       "      <td>NaN</td>\n",
       "      <td>Male</td>\n",
       "      <td>0</td>\n",
       "      <td>No</td>\n",
       "      <td>Yes</td>\n",
       "      <td>Yes</td>\n",
       "      <td>No</td>\n",
       "      <td>No</td>\n",
       "      <td>No internet service</td>\n",
       "      <td>No internet service</td>\n",
       "      <td>No internet service</td>\n",
       "      <td>No internet service</td>\n",
       "      <td>No internet service</td>\n",
       "      <td>No internet service</td>\n",
       "      <td>Two year</td>\n",
       "      <td>No</td>\n",
       "      <td>Mailed check</td>\n",
       "    </tr>\n",
       "  </tbody>\n",
       "</table>\n",
       "</div>"
      ],
      "text/plain": [
       "      ClientPeriod  MonthlySpending TotalSpent   Sex  IsSeniorCitizen  \\\n",
       "1206            12            85.05      999.8  Male                0   \n",
       "177              0            19.85        NaN  Male                0   \n",
       "767              0            20.25        NaN  Male                0   \n",
       "\n",
       "     HasPartner HasChild HasPhoneService HasMultiplePhoneNumbers  \\\n",
       "1206        Yes       No             Yes                      No   \n",
       "177         Yes      Yes             Yes                      No   \n",
       "767          No      Yes             Yes                      No   \n",
       "\n",
       "     HasInternetService HasOnlineSecurityService      HasOnlineBackup  \\\n",
       "1206        Fiber optic                       No                  Yes   \n",
       "177                  No      No internet service  No internet service   \n",
       "767                  No      No internet service  No internet service   \n",
       "\n",
       "      HasDeviceProtection HasTechSupportAccess          HasOnlineTV  \\\n",
       "1206                   No                   No                   No   \n",
       "177   No internet service  No internet service  No internet service   \n",
       "767   No internet service  No internet service  No internet service   \n",
       "\n",
       "     HasMovieSubscription HasContractPhone IsBillingPaperless  \\\n",
       "1206                  Yes   Month-to-month                Yes   \n",
       "177   No internet service         Two year                 No   \n",
       "767   No internet service         Two year                 No   \n",
       "\n",
       "                PaymentMethod  \n",
       "1206  Credit card (automatic)  \n",
       "177              Mailed check  \n",
       "767              Mailed check  "
      ]
     },
     "execution_count": 56,
     "metadata": {},
     "output_type": "execute_result"
    }
   ],
   "source": [
    "#Аналогичная ситуация как и в тренировчном датасете, заменим пропущенные значения нулями\n",
    "test.sort_values(\"TotalSpent\").tail(3)"
   ]
  },
  {
   "cell_type": "code",
   "execution_count": 57,
   "id": "26ea6ae7",
   "metadata": {},
   "outputs": [],
   "source": [
    "test = test.fillna(0)"
   ]
  },
  {
   "cell_type": "code",
   "execution_count": 58,
   "id": "c2c70502",
   "metadata": {},
   "outputs": [],
   "source": [
    "#Теперь можно изменить тип TotalSpent на float64\n",
    "train.TotalSpent = train.TotalSpent.astype('float64')\n",
    "test.TotalSpent = test.TotalSpent.astype('float64')"
   ]
  },
  {
   "cell_type": "markdown",
   "id": "610df88d",
   "metadata": {},
   "source": [
    "## Анализ данных"
   ]
  },
  {
   "cell_type": "code",
   "execution_count": 59,
   "id": "c895c29b",
   "metadata": {},
   "outputs": [
    {
     "data": {
      "text/plain": [
       "<AxesSubplot: xlabel='Churn', ylabel='count'>"
      ]
     },
     "execution_count": 59,
     "metadata": {},
     "output_type": "execute_result"
    },
    {
     "data": {
      "image/png": "[encoded data removed]",
      "text/plain": [
       "<Figure size 640x480 with 1 Axes>"
      ]
     },
     "metadata": {},
     "output_type": "display_data"
    }
   ],
   "source": [
    "#Взглянем на распределение нашей целевой переменной\n",
    "#Видно, что она несбалансированна \n",
    "sns.countplot(x = \"Churn\", data = train)"
   ]
  },
  {
   "cell_type": "code",
   "execution_count": 60,
   "id": "e3a5c738",
   "metadata": {},
   "outputs": [
    {
     "data": {
      "image/png": "[encoded data removed]",
      "text/plain": [
       "<Figure size 2500x2500 with 20 Axes>"
      ]
     },
     "metadata": {},
     "output_type": "display_data"
    }
   ],
   "source": [
    "#Теперь посмтроим распределение каждого признака. Численные признаки не имеют нормального распределения\n",
    "fig, axes = plt.subplots(5, 4, figsize=(25, 25))\n",
    "for ax, col in zip(axes.flatten(), train.columns):\n",
    "    ax.set_title(col)\n",
    "    if col in cat_cols or col == target:\n",
    "        ax.pie(train[col].value_counts(), shadow = True, autopct='%.1f%%', labels = train[col].value_counts().index)\n",
    "    else:\n",
    "        sns.histplot(x = train[col], ax = ax, bins = 30)\n",
    "        "
   ]
  },
  {
   "cell_type": "code",
   "execution_count": 61,
   "id": "a1ce06e7",
   "metadata": {},
   "outputs": [
    {
     "data": {
      "image/png": "[encoded data removed]",
      "text/plain": [
       "<Figure size 1700x100 with 1 Axes>"
      ]
     },
     "metadata": {},
     "output_type": "display_data"
    },
    {
     "data": {
      "image/png": "[encoded data removed]",
      "text/plain": [
       "<Figure size 1700x100 with 1 Axes>"
      ]
     },
     "metadata": {},
     "output_type": "display_data"
    },
    {
     "data": {
      "image/png": "[encoded data removed]",
      "text/plain": [
       "<Figure size 1700x100 with 1 Axes>"
      ]
     },
     "metadata": {},
     "output_type": "display_data"
    }
   ],
   "source": [
    "#посмотрим на выбросы, box-plot ничего не выявляют, хотя не стоит полагаться на них, потому что они примеными для нормального распределения\n",
    "for col in num_cols:\n",
    "    plt.figure(figsize = (17,1))\n",
    "    sns.boxplot(x = col, data = train)\n",
    "    "
   ]
  },
  {
   "cell_type": "code",
   "execution_count": 62,
   "id": "ae5feea7",
   "metadata": {},
   "outputs": [],
   "source": [
    "#Попробуем выявить выбросы с помощью Isolation Forest\n",
    "from sklearn.ensemble import IsolationForest\n",
    "df = train.copy()\n",
    "df.drop(['Churn'], axis=1, inplace = True)"
   ]
  },
  {
   "cell_type": "code",
   "execution_count": 63,
   "id": "dd73047e",
   "metadata": {},
   "outputs": [
    {
     "name": "stderr",
     "output_type": "stream",
     "text": [
      "C:\\Users\\paul\\anaconda3\\lib\\site-packages\\sklearn\\base.py:450: UserWarning: X does not have valid feature names, but IsolationForest was fitted with feature names\n",
      "  warnings.warn(\n"
     ]
    },
    {
     "data": {
      "text/plain": [
       "IsolationForest(contamination=0.1, n_estimators=300)"
      ]
     },
     "execution_count": 63,
     "metadata": {},
     "output_type": "execute_result"
    }
   ],
   "source": [
    "model=IsolationForest(n_estimators=300, max_samples='auto', contamination=float(0.1), max_features=1.0)\n",
    "model.fit(df[num_cols])"
   ]
  },
  {
   "cell_type": "code",
   "execution_count": 64,
   "id": "2a661280",
   "metadata": {},
   "outputs": [
    {
     "data": {
      "text/html": [
       "<div>\n",
       "<style scoped>\n",
       "    .dataframe tbody tr th:only-of-type {\n",
       "        vertical-align: middle;\n",
       "    }\n",
       "\n",
       "    .dataframe tbody tr th {\n",
       "        vertical-align: top;\n",
       "    }\n",
       "\n",
       "    .dataframe thead th {\n",
       "        text-align: right;\n",
       "    }\n",
       "</style>\n",
       "<table border=\"1\" class=\"dataframe\">\n",
       "  <thead>\n",
       "    <tr style=\"text-align: right;\">\n",
       "      <th></th>\n",
       "      <th>ClientPeriod</th>\n",
       "      <th>MonthlySpending</th>\n",
       "      <th>TotalSpent</th>\n",
       "      <th>Sex</th>\n",
       "      <th>IsSeniorCitizen</th>\n",
       "      <th>HasPartner</th>\n",
       "      <th>HasChild</th>\n",
       "      <th>HasPhoneService</th>\n",
       "      <th>HasMultiplePhoneNumbers</th>\n",
       "      <th>HasInternetService</th>\n",
       "      <th>...</th>\n",
       "      <th>HasOnlineBackup</th>\n",
       "      <th>HasDeviceProtection</th>\n",
       "      <th>HasTechSupportAccess</th>\n",
       "      <th>HasOnlineTV</th>\n",
       "      <th>HasMovieSubscription</th>\n",
       "      <th>HasContractPhone</th>\n",
       "      <th>IsBillingPaperless</th>\n",
       "      <th>PaymentMethod</th>\n",
       "      <th>scores</th>\n",
       "      <th>anomaly</th>\n",
       "    </tr>\n",
       "  </thead>\n",
       "  <tbody>\n",
       "    <tr>\n",
       "      <th>0</th>\n",
       "      <td>55</td>\n",
       "      <td>19.50</td>\n",
       "      <td>1026.35</td>\n",
       "      <td>Male</td>\n",
       "      <td>0</td>\n",
       "      <td>Yes</td>\n",
       "      <td>Yes</td>\n",
       "      <td>Yes</td>\n",
       "      <td>No</td>\n",
       "      <td>No</td>\n",
       "      <td>...</td>\n",
       "      <td>No internet service</td>\n",
       "      <td>No internet service</td>\n",
       "      <td>No internet service</td>\n",
       "      <td>No internet service</td>\n",
       "      <td>No internet service</td>\n",
       "      <td>One year</td>\n",
       "      <td>No</td>\n",
       "      <td>Mailed check</td>\n",
       "      <td>0.031153</td>\n",
       "      <td>1</td>\n",
       "    </tr>\n",
       "    <tr>\n",
       "      <th>1</th>\n",
       "      <td>72</td>\n",
       "      <td>25.85</td>\n",
       "      <td>1872.20</td>\n",
       "      <td>Male</td>\n",
       "      <td>0</td>\n",
       "      <td>Yes</td>\n",
       "      <td>No</td>\n",
       "      <td>Yes</td>\n",
       "      <td>Yes</td>\n",
       "      <td>No</td>\n",
       "      <td>...</td>\n",
       "      <td>No internet service</td>\n",
       "      <td>No internet service</td>\n",
       "      <td>No internet service</td>\n",
       "      <td>No internet service</td>\n",
       "      <td>No internet service</td>\n",
       "      <td>Two year</td>\n",
       "      <td>No</td>\n",
       "      <td>Credit card (automatic)</td>\n",
       "      <td>-0.038237</td>\n",
       "      <td>-1</td>\n",
       "    </tr>\n",
       "    <tr>\n",
       "      <th>2</th>\n",
       "      <td>1</td>\n",
       "      <td>75.90</td>\n",
       "      <td>75.90</td>\n",
       "      <td>Male</td>\n",
       "      <td>0</td>\n",
       "      <td>No</td>\n",
       "      <td>No</td>\n",
       "      <td>Yes</td>\n",
       "      <td>No</td>\n",
       "      <td>Fiber optic</td>\n",
       "      <td>...</td>\n",
       "      <td>No</td>\n",
       "      <td>No</td>\n",
       "      <td>Yes</td>\n",
       "      <td>No</td>\n",
       "      <td>No</td>\n",
       "      <td>Month-to-month</td>\n",
       "      <td>Yes</td>\n",
       "      <td>Electronic check</td>\n",
       "      <td>0.071985</td>\n",
       "      <td>1</td>\n",
       "    </tr>\n",
       "    <tr>\n",
       "      <th>3</th>\n",
       "      <td>32</td>\n",
       "      <td>79.30</td>\n",
       "      <td>2570.00</td>\n",
       "      <td>Female</td>\n",
       "      <td>1</td>\n",
       "      <td>Yes</td>\n",
       "      <td>No</td>\n",
       "      <td>Yes</td>\n",
       "      <td>Yes</td>\n",
       "      <td>Fiber optic</td>\n",
       "      <td>...</td>\n",
       "      <td>No</td>\n",
       "      <td>Yes</td>\n",
       "      <td>No</td>\n",
       "      <td>No</td>\n",
       "      <td>No</td>\n",
       "      <td>Month-to-month</td>\n",
       "      <td>No</td>\n",
       "      <td>Mailed check</td>\n",
       "      <td>0.076570</td>\n",
       "      <td>1</td>\n",
       "    </tr>\n",
       "    <tr>\n",
       "      <th>4</th>\n",
       "      <td>60</td>\n",
       "      <td>115.25</td>\n",
       "      <td>6758.45</td>\n",
       "      <td>Female</td>\n",
       "      <td>0</td>\n",
       "      <td>Yes</td>\n",
       "      <td>Yes</td>\n",
       "      <td>Yes</td>\n",
       "      <td>Yes</td>\n",
       "      <td>Fiber optic</td>\n",
       "      <td>...</td>\n",
       "      <td>Yes</td>\n",
       "      <td>Yes</td>\n",
       "      <td>Yes</td>\n",
       "      <td>Yes</td>\n",
       "      <td>Yes</td>\n",
       "      <td>Two year</td>\n",
       "      <td>No</td>\n",
       "      <td>Credit card (automatic)</td>\n",
       "      <td>-0.042123</td>\n",
       "      <td>-1</td>\n",
       "    </tr>\n",
       "    <tr>\n",
       "      <th>5</th>\n",
       "      <td>25</td>\n",
       "      <td>19.80</td>\n",
       "      <td>475.20</td>\n",
       "      <td>Female</td>\n",
       "      <td>0</td>\n",
       "      <td>No</td>\n",
       "      <td>No</td>\n",
       "      <td>Yes</td>\n",
       "      <td>No</td>\n",
       "      <td>No</td>\n",
       "      <td>...</td>\n",
       "      <td>No internet service</td>\n",
       "      <td>No internet service</td>\n",
       "      <td>No internet service</td>\n",
       "      <td>No internet service</td>\n",
       "      <td>No internet service</td>\n",
       "      <td>Two year</td>\n",
       "      <td>No</td>\n",
       "      <td>Credit card (automatic)</td>\n",
       "      <td>0.064367</td>\n",
       "      <td>1</td>\n",
       "    </tr>\n",
       "    <tr>\n",
       "      <th>6</th>\n",
       "      <td>27</td>\n",
       "      <td>90.15</td>\n",
       "      <td>2423.40</td>\n",
       "      <td>Female</td>\n",
       "      <td>0</td>\n",
       "      <td>Yes</td>\n",
       "      <td>No</td>\n",
       "      <td>Yes</td>\n",
       "      <td>Yes</td>\n",
       "      <td>Fiber optic</td>\n",
       "      <td>...</td>\n",
       "      <td>No</td>\n",
       "      <td>Yes</td>\n",
       "      <td>No</td>\n",
       "      <td>No</td>\n",
       "      <td>Yes</td>\n",
       "      <td>Month-to-month</td>\n",
       "      <td>No</td>\n",
       "      <td>Bank transfer (automatic)</td>\n",
       "      <td>0.064618</td>\n",
       "      <td>1</td>\n",
       "    </tr>\n",
       "    <tr>\n",
       "      <th>8</th>\n",
       "      <td>50</td>\n",
       "      <td>105.95</td>\n",
       "      <td>5341.80</td>\n",
       "      <td>Male</td>\n",
       "      <td>0</td>\n",
       "      <td>Yes</td>\n",
       "      <td>Yes</td>\n",
       "      <td>Yes</td>\n",
       "      <td>Yes</td>\n",
       "      <td>Fiber optic</td>\n",
       "      <td>...</td>\n",
       "      <td>No</td>\n",
       "      <td>Yes</td>\n",
       "      <td>No</td>\n",
       "      <td>Yes</td>\n",
       "      <td>Yes</td>\n",
       "      <td>Month-to-month</td>\n",
       "      <td>No</td>\n",
       "      <td>Credit card (automatic)</td>\n",
       "      <td>0.022715</td>\n",
       "      <td>1</td>\n",
       "    </tr>\n",
       "    <tr>\n",
       "      <th>9</th>\n",
       "      <td>72</td>\n",
       "      <td>61.20</td>\n",
       "      <td>4390.25</td>\n",
       "      <td>Male</td>\n",
       "      <td>0</td>\n",
       "      <td>No</td>\n",
       "      <td>No</td>\n",
       "      <td>No</td>\n",
       "      <td>No phone service</td>\n",
       "      <td>DSL</td>\n",
       "      <td>...</td>\n",
       "      <td>No</td>\n",
       "      <td>Yes</td>\n",
       "      <td>Yes</td>\n",
       "      <td>Yes</td>\n",
       "      <td>Yes</td>\n",
       "      <td>Two year</td>\n",
       "      <td>Yes</td>\n",
       "      <td>Credit card (automatic)</td>\n",
       "      <td>-0.022937</td>\n",
       "      <td>-1</td>\n",
       "    </tr>\n",
       "    <tr>\n",
       "      <th>10</th>\n",
       "      <td>16</td>\n",
       "      <td>78.75</td>\n",
       "      <td>1218.25</td>\n",
       "      <td>Male</td>\n",
       "      <td>1</td>\n",
       "      <td>No</td>\n",
       "      <td>No</td>\n",
       "      <td>Yes</td>\n",
       "      <td>No</td>\n",
       "      <td>Fiber optic</td>\n",
       "      <td>...</td>\n",
       "      <td>No</td>\n",
       "      <td>No</td>\n",
       "      <td>No</td>\n",
       "      <td>No</td>\n",
       "      <td>Yes</td>\n",
       "      <td>Month-to-month</td>\n",
       "      <td>Yes</td>\n",
       "      <td>Electronic check</td>\n",
       "      <td>0.074013</td>\n",
       "      <td>1</td>\n",
       "    </tr>\n",
       "  </tbody>\n",
       "</table>\n",
       "<p>10 rows × 21 columns</p>\n",
       "</div>"
      ],
      "text/plain": [
       "    ClientPeriod  MonthlySpending  TotalSpent     Sex  IsSeniorCitizen  \\\n",
       "0             55            19.50     1026.35    Male                0   \n",
       "1             72            25.85     1872.20    Male                0   \n",
       "2              1            75.90       75.90    Male                0   \n",
       "3             32            79.30     2570.00  Female                1   \n",
       "4             60           115.25     6758.45  Female                0   \n",
       "5             25            19.80      475.20  Female                0   \n",
       "6             27            90.15     2423.40  Female                0   \n",
       "8             50           105.95     5341.80    Male                0   \n",
       "9             72            61.20     4390.25    Male                0   \n",
       "10            16            78.75     1218.25    Male                1   \n",
       "\n",
       "   HasPartner HasChild HasPhoneService HasMultiplePhoneNumbers  \\\n",
       "0         Yes      Yes             Yes                      No   \n",
       "1         Yes       No             Yes                     Yes   \n",
       "2          No       No             Yes                      No   \n",
       "3         Yes       No             Yes                     Yes   \n",
       "4         Yes      Yes             Yes                     Yes   \n",
       "5          No       No             Yes                      No   \n",
       "6         Yes       No             Yes                     Yes   \n",
       "8         Yes      Yes             Yes                     Yes   \n",
       "9          No       No              No        No phone service   \n",
       "10         No       No             Yes                      No   \n",
       "\n",
       "   HasInternetService  ...      HasOnlineBackup  HasDeviceProtection  \\\n",
       "0                  No  ...  No internet service  No internet service   \n",
       "1                  No  ...  No internet service  No internet service   \n",
       "2         Fiber optic  ...                   No                   No   \n",
       "3         Fiber optic  ...                   No                  Yes   \n",
       "4         Fiber optic  ...                  Yes                  Yes   \n",
       "5                  No  ...  No internet service  No internet service   \n",
       "6         Fiber optic  ...                   No                  Yes   \n",
       "8         Fiber optic  ...                   No                  Yes   \n",
       "9                 DSL  ...                   No                  Yes   \n",
       "10        Fiber optic  ...                   No                   No   \n",
       "\n",
       "   HasTechSupportAccess          HasOnlineTV HasMovieSubscription  \\\n",
       "0   No internet service  No internet service  No internet service   \n",
       "1   No internet service  No internet service  No internet service   \n",
       "2                   Yes                   No                   No   \n",
       "3                    No                   No                   No   \n",
       "4                   Yes                  Yes                  Yes   \n",
       "5   No internet service  No internet service  No internet service   \n",
       "6                    No                   No                  Yes   \n",
       "8                    No                  Yes                  Yes   \n",
       "9                   Yes                  Yes                  Yes   \n",
       "10                   No                   No                  Yes   \n",
       "\n",
       "   HasContractPhone IsBillingPaperless              PaymentMethod    scores  \\\n",
       "0          One year                 No               Mailed check  0.031153   \n",
       "1          Two year                 No    Credit card (automatic) -0.038237   \n",
       "2    Month-to-month                Yes           Electronic check  0.071985   \n",
       "3    Month-to-month                 No               Mailed check  0.076570   \n",
       "4          Two year                 No    Credit card (automatic) -0.042123   \n",
       "5          Two year                 No    Credit card (automatic)  0.064367   \n",
       "6    Month-to-month                 No  Bank transfer (automatic)  0.064618   \n",
       "8    Month-to-month                 No    Credit card (automatic)  0.022715   \n",
       "9          Two year                Yes    Credit card (automatic) -0.022937   \n",
       "10   Month-to-month                Yes           Electronic check  0.074013   \n",
       "\n",
       "    anomaly  \n",
       "0         1  \n",
       "1        -1  \n",
       "2         1  \n",
       "3         1  \n",
       "4        -1  \n",
       "5         1  \n",
       "6         1  \n",
       "8         1  \n",
       "9        -1  \n",
       "10        1  \n",
       "\n",
       "[10 rows x 21 columns]"
      ]
     },
     "execution_count": 64,
     "metadata": {},
     "output_type": "execute_result"
    }
   ],
   "source": [
    "scores=model.decision_function(df[num_cols])\n",
    "anomaly=model.predict(df[num_cols])\n",
    "\n",
    "df['scores']=scores\n",
    "df['anomaly']=anomaly\n",
    "\n",
    "df.head(10)"
   ]
  },
  {
   "cell_type": "code",
   "execution_count": 65,
   "id": "8ee8c78d",
   "metadata": {},
   "outputs": [
    {
     "data": {
      "text/plain": [
       " 1    4717\n",
       "-1     524\n",
       "Name: anomaly, dtype: int64"
      ]
     },
     "execution_count": 65,
     "metadata": {},
     "output_type": "execute_result"
    }
   ],
   "source": [
    "#Удалось обнаружить 523 выброса\n",
    "df.anomaly.value_counts()"
   ]
  },
  {
   "cell_type": "code",
   "execution_count": 66,
   "id": "0a553232",
   "metadata": {},
   "outputs": [
    {
     "data": {
      "text/plain": [
       "(4717, 20)"
      ]
     },
     "execution_count": 66,
     "metadata": {},
     "output_type": "execute_result"
    }
   ],
   "source": [
    "#Создадим копию тестового датасета без выбросов\n",
    "train_wo_outl = train[df[\"anomaly\"] == 1]\n",
    "train_wo_outl.shape"
   ]
  },
  {
   "cell_type": "code",
   "execution_count": 67,
   "id": "32cb8a55",
   "metadata": {},
   "outputs": [],
   "source": [
    "#Теперь проверим выбрсоы с помощью DBSCAN\n",
    "dfdb = train[num_cols].copy()"
   ]
  },
  {
   "cell_type": "code",
   "execution_count": 68,
   "id": "2e6cd2ac",
   "metadata": {},
   "outputs": [
    {
     "data": {
      "text/plain": [
       "(5241, 3)"
      ]
     },
     "execution_count": 68,
     "metadata": {},
     "output_type": "execute_result"
    }
   ],
   "source": [
    "dfdb.shape"
   ]
  },
  {
   "cell_type": "code",
   "execution_count": 69,
   "id": "f95af9ab",
   "metadata": {},
   "outputs": [],
   "source": [
    "from sklearn.cluster import DBSCAN\n",
    "from sklearn.preprocessing import StandardScaler\n",
    "\n",
    "X = StandardScaler().fit_transform(dfdb.values)\n",
    "\n",
    "db = DBSCAN(eps=10.0, min_samples=500).fit(X)\n",
    "labels = db.labels_"
   ]
  },
  {
   "cell_type": "code",
   "execution_count": 70,
   "id": "4dc604ba",
   "metadata": {},
   "outputs": [
    {
     "name": "stdout",
     "output_type": "stream",
     "text": [
      "The number of clusters in dataset is: 1\n"
     ]
    }
   ],
   "source": [
    "n_clusters_ = len(set(labels)) - (1 if -1 in labels else 0)\n",
    "print('The number of clusters in dataset is:', n_clusters_)"
   ]
  },
  {
   "cell_type": "code",
   "execution_count": 71,
   "id": "6efdcea3",
   "metadata": {},
   "outputs": [
    {
     "data": {
      "text/plain": [
       "0    5241\n",
       "dtype: int64"
      ]
     },
     "execution_count": 71,
     "metadata": {},
     "output_type": "execute_result"
    }
   ],
   "source": [
    "#DBSCAN наоборот утверждает, что выбросов в выборке нет, поэтому протестируем 2 типа данных\n",
    "pd.Series(labels).value_counts()"
   ]
  },
  {
   "cell_type": "code",
   "execution_count": 72,
   "id": "a8618ab0",
   "metadata": {},
   "outputs": [],
   "source": [
    "#Для линейных моделей воспользуемся методом one-hot-encoding\n",
    "train_ou_dum = pd.get_dummies(train)\n",
    "train_wo_dum = pd.get_dummies(train_wo_outl)"
   ]
  },
  {
   "cell_type": "markdown",
   "id": "0e20699d",
   "metadata": {},
   "source": [
    "## Применение линейныйх моделей"
   ]
  },
  {
   "cell_type": "code",
   "execution_count": 73,
   "id": "80a52e57",
   "metadata": {},
   "outputs": [],
   "source": [
    "from sklearn.linear_model import LogisticRegression, LogisticRegressionCV\n",
    "from sklearn.model_selection import train_test_split, GridSearchCV\n",
    "from sklearn.preprocessing import StandardScaler, RobustScaler, LabelEncoder, OneHotEncoder\n",
    "from sklearn.model_selection import train_test_split\n"
   ]
  },
  {
   "cell_type": "code",
   "execution_count": 84,
   "id": "3ca673b6",
   "metadata": {},
   "outputs": [],
   "source": [
    "#Делим наши данные без выбросов на признаки и целевую переменную\n",
    "X = train_wo_dum.drop(\"Churn\", axis = 1)\n",
    "y = train_wo_dum.Churn"
   ]
  },
  {
   "cell_type": "code",
   "execution_count": 85,
   "id": "930e8e0d",
   "metadata": {},
   "outputs": [],
   "source": [
    "#Шкалируем их\n",
    "scaler = StandardScaler()\n",
    "X[num_cols] = scaler.fit_transform(X[num_cols])"
   ]
  },
  {
   "cell_type": "code",
   "execution_count": 86,
   "id": "e0ce7c3a",
   "metadata": {},
   "outputs": [],
   "source": [
    "#Делим наши данные с выбросами на признаки и целевую переменную\n",
    "X_outl = train_ou_dum.drop(\"Churn\", axis = 1)\n",
    "y_outl = train_ou_dum.Churn\n",
    "X_outl[num_cols] = scaler.transform(X_outl[num_cols])"
   ]
  },
  {
   "cell_type": "code",
   "execution_count": 87,
   "id": "b4cd7f60",
   "metadata": {},
   "outputs": [],
   "source": [
    "#Разделение данных с выбросами на тренировочную и тестовую\n",
    "X_train_ou, X_test_ou, y_train_ou, y_test_ou = train_test_split(\n",
    "    X_outl, y_outl, test_size=0.25, random_state=17)"
   ]
  },
  {
   "cell_type": "code",
   "execution_count": 88,
   "id": "59adc9a1",
   "metadata": {},
   "outputs": [],
   "source": [
    "#Разделение данных без выбросов на тренировочную и тестовую\n",
    "X_train, X_test, y_train, y_test = train_test_split(\n",
    "    X, y, test_size=0.25, random_state=17, stratify = y\n",
    ")"
   ]
  },
  {
   "cell_type": "code",
   "execution_count": 89,
   "id": "7ff902d5",
   "metadata": {},
   "outputs": [],
   "source": [
    "from sklearn.metrics import roc_auc_score"
   ]
  },
  {
   "cell_type": "code",
   "execution_count": 90,
   "id": "f055cfcc",
   "metadata": {},
   "outputs": [],
   "source": [
    "#Задаём диапазон значений C\n",
    "Cs = np.logspace(-3, 2, 30)\n",
    "logcv = LogisticRegressionCV(Cs=Cs, scoring='roc_auc', refit = True)"
   ]
  },
  {
   "cell_type": "code",
   "execution_count": 91,
   "id": "5117c7ad",
   "metadata": {},
   "outputs": [
    {
     "data": {
      "text/plain": [
       "LogisticRegressionCV(Cs=array([1.00000000e-03, 1.48735211e-03, 2.21221629e-03, 3.29034456e-03,\n",
       "       4.89390092e-03, 7.27895384e-03, 1.08263673e-02, 1.61026203e-02,\n",
       "       2.39502662e-02, 3.56224789e-02, 5.29831691e-02, 7.88046282e-02,\n",
       "       1.17210230e-01, 1.74332882e-01, 2.59294380e-01, 3.85662042e-01,\n",
       "       5.73615251e-01, 8.53167852e-01, 1.26896100e+00, 1.88739182e+00,\n",
       "       2.80721620e+00, 4.17531894e+00, 6.21016942e+00, 9.23670857e+00,\n",
       "       1.37382380e+01, 2.04335972e+01, 3.03919538e+01, 4.52035366e+01,\n",
       "       6.72335754e+01, 1.00000000e+02]),\n",
       "                     scoring='roc_auc')"
      ]
     },
     "execution_count": 91,
     "metadata": {},
     "output_type": "execute_result"
    }
   ],
   "source": [
    "logcv.fit(X_train_ou, y_train_ou)"
   ]
  },
  {
   "cell_type": "code",
   "execution_count": 92,
   "id": "ec808be9",
   "metadata": {},
   "outputs": [
    {
     "data": {
      "text/plain": [
       "9.236708571873866"
      ]
     },
     "execution_count": 92,
     "metadata": {},
     "output_type": "execute_result"
    }
   ],
   "source": [
    "#Лучшее значение C для выборки с выбросами\n",
    "best_c_out = logcv.C_[0]\n",
    "best_c_out"
   ]
  },
  {
   "cell_type": "code",
   "execution_count": 93,
   "id": "04ce7f9d",
   "metadata": {},
   "outputs": [
    {
     "data": {
      "text/plain": [
       "0.8517225298049673"
      ]
     },
     "execution_count": 93,
     "metadata": {},
     "output_type": "execute_result"
    }
   ],
   "source": [
    "roc_auc_score(y_test_ou, logcv.predict_proba(X_test_ou)[:, 1])"
   ]
  },
  {
   "cell_type": "code",
   "execution_count": 94,
   "id": "ec72c263",
   "metadata": {},
   "outputs": [
    {
     "data": {
      "text/plain": [
       "LogisticRegressionCV(Cs=array([1.00000000e-03, 1.48735211e-03, 2.21221629e-03, 3.29034456e-03,\n",
       "       4.89390092e-03, 7.27895384e-03, 1.08263673e-02, 1.61026203e-02,\n",
       "       2.39502662e-02, 3.56224789e-02, 5.29831691e-02, 7.88046282e-02,\n",
       "       1.17210230e-01, 1.74332882e-01, 2.59294380e-01, 3.85662042e-01,\n",
       "       5.73615251e-01, 8.53167852e-01, 1.26896100e+00, 1.88739182e+00,\n",
       "       2.80721620e+00, 4.17531894e+00, 6.21016942e+00, 9.23670857e+00,\n",
       "       1.37382380e+01, 2.04335972e+01, 3.03919538e+01, 4.52035366e+01,\n",
       "       6.72335754e+01, 1.00000000e+02]),\n",
       "                     scoring='roc_auc')"
      ]
     },
     "execution_count": 94,
     "metadata": {},
     "output_type": "execute_result"
    }
   ],
   "source": [
    "logcv.fit(X_train, y_train)"
   ]
  },
  {
   "cell_type": "code",
   "execution_count": 95,
   "id": "4a75b0f7",
   "metadata": {},
   "outputs": [
    {
     "data": {
      "text/plain": [
       "2.8072162039411785"
      ]
     },
     "execution_count": 95,
     "metadata": {},
     "output_type": "execute_result"
    }
   ],
   "source": [
    "#Лучшее значение C для выборки без выбросов\n",
    "best_c = logcv.C_[0]\n",
    "best_c"
   ]
  },
  {
   "cell_type": "code",
   "execution_count": 96,
   "id": "273c6653",
   "metadata": {},
   "outputs": [
    {
     "data": {
      "text/plain": [
       "0.8571156095366621"
      ]
     },
     "execution_count": 96,
     "metadata": {},
     "output_type": "execute_result"
    }
   ],
   "source": [
    "#Логистическая регрессия показала лучший результат на выборке без выбрсоов\n",
    "roc_auc_score(y_test, logcv.predict_proba(X_test)[:, 1])"
   ]
  },
  {
   "cell_type": "code",
   "execution_count": 149,
   "id": "9d9a75d9",
   "metadata": {},
   "outputs": [],
   "source": [
    "test_log = test.copy()"
   ]
  },
  {
   "cell_type": "code",
   "execution_count": 150,
   "id": "ab1b8130",
   "metadata": {},
   "outputs": [],
   "source": [
    "test_log[num_cols] = scaler.fit_transform(test_log[num_cols])"
   ]
  },
  {
   "cell_type": "code",
   "execution_count": 152,
   "id": "dbdeb325",
   "metadata": {},
   "outputs": [],
   "source": [
    "test_log = pd.get_dummies(test_log)"
   ]
  },
  {
   "cell_type": "code",
   "execution_count": 156,
   "id": "ef34e1f0",
   "metadata": {},
   "outputs": [],
   "source": [
    "my_submission = pd.DataFrame({\"id\": [i for i in range(0, len(test))],'Churn': logcv.predict_proba(pd.get_dummies(test_log))[:,1]})\n",
    "\n",
    "my_submission.to_csv('mfti_cat.csv', index=False)"
   ]
  },
  {
   "cell_type": "markdown",
   "id": "bc7c9858",
   "metadata": {},
   "source": [
    "## Применение градиентного бустинга "
   ]
  },
  {
   "cell_type": "code",
   "execution_count": 103,
   "id": "4c44dbd0",
   "metadata": {},
   "outputs": [],
   "source": [
    "from catboost import CatBoostClassifier, Pool"
   ]
  },
  {
   "cell_type": "code",
   "execution_count": 104,
   "id": "14b9a544",
   "metadata": {},
   "outputs": [],
   "source": [
    "#Делим наши данные с выбросами на признаки и целевую переменную, но уже не кодируя их\n",
    "X_cat_ou = train.drop(\"Churn\", axis = 1)\n",
    "y_cat_ou = train.Churn"
   ]
  },
  {
   "cell_type": "code",
   "execution_count": 105,
   "id": "c8f38430",
   "metadata": {},
   "outputs": [],
   "source": [
    "X_train_ou, X_test_ou, y_train_ou, y_test_ou = train_test_split(\n",
    "   X_cat_ou, y_cat_ou, test_size=0.25, random_state=17)"
   ]
  },
  {
   "cell_type": "code",
   "execution_count": 106,
   "id": "b91650ab",
   "metadata": {},
   "outputs": [],
   "source": [
    "#Делим наши данные без выбросов на признаки и целевую переменную, но уже не кодируя их\n",
    "X_cat = train_wo_outl.drop(\"Churn\", axis = 1)\n",
    "y_cat = train_wo_outl.Churn"
   ]
  },
  {
   "cell_type": "code",
   "execution_count": 107,
   "id": "2a230a35",
   "metadata": {},
   "outputs": [],
   "source": [
    "X_train, X_test, y_train, y_test = train_test_split(\n",
    "    X_cat, y_cat, test_size=0.25, random_state=17)"
   ]
  },
  {
   "cell_type": "code",
   "execution_count": 108,
   "id": "83b7db34",
   "metadata": {},
   "outputs": [],
   "source": [
    "#Т.к. целевая переменная несбалансированна, то стоит расчитать веса для классов\n",
    "from sklearn.utils.class_weight import compute_sample_weight\n",
    "train_weights_ou = compute_sample_weight(class_weight='balanced', y = y_train_ou)\n",
    "train_weights = compute_sample_weight(class_weight='balanced', y = y_train)\n",
    "weigths = compute_sample_weight(class_weight='balanced', y = y)"
   ]
  },
  {
   "cell_type": "code",
   "execution_count": 112,
   "id": "ba0bce95",
   "metadata": {},
   "outputs": [],
   "source": [
    "train_data_ou = Pool(\n",
    "    data= X_train_ou,\n",
    "    label = y_train_ou,\n",
    "    \n",
    "    cat_features = cat_cols\n",
    ")"
   ]
  },
  {
   "cell_type": "code",
   "execution_count": 113,
   "id": "5f5b130e",
   "metadata": {},
   "outputs": [],
   "source": [
    "valid_ou = Pool(\n",
    "    data= X_test_ou,\n",
    "    label = y_test_ou,\n",
    "    cat_features = cat_cols\n",
    ")"
   ]
  },
  {
   "cell_type": "code",
   "execution_count": 114,
   "id": "7990aac9",
   "metadata": {},
   "outputs": [],
   "source": [
    "train_data = Pool(\n",
    "    data= X_train,\n",
    "    label = y_train,\n",
    "    weight= train_weights,\n",
    "    cat_features = cat_cols\n",
    ")"
   ]
  },
  {
   "cell_type": "code",
   "execution_count": 115,
   "id": "3113e388",
   "metadata": {},
   "outputs": [],
   "source": [
    "valid = Pool(\n",
    "    data= X_test,\n",
    "    label = y_test,\n",
    "    cat_features = cat_cols\n",
    ")"
   ]
  },
  {
   "cell_type": "code",
   "execution_count": 142,
   "id": "5c5d0a3d",
   "metadata": {
    "scrolled": true
   },
   "outputs": [
    {
     "name": "stdout",
     "output_type": "stream",
     "text": [
      "0:\ttest: 0.8229594\tbest: 0.8229594 (0)\ttotal: 24.8ms\tremaining: 24.8s\n",
      "1:\ttest: 0.8301655\tbest: 0.8301655 (1)\ttotal: 50.2ms\tremaining: 25.1s\n",
      "2:\ttest: 0.8350802\tbest: 0.8350802 (2)\ttotal: 72ms\tremaining: 23.9s\n",
      "3:\ttest: 0.8384418\tbest: 0.8384418 (3)\ttotal: 93.3ms\tremaining: 23.2s\n",
      "4:\ttest: 0.8395106\tbest: 0.8395106 (4)\ttotal: 115ms\tremaining: 22.8s\n",
      "5:\ttest: 0.8410546\tbest: 0.8410546 (5)\ttotal: 136ms\tremaining: 22.5s\n",
      "6:\ttest: 0.8409859\tbest: 0.8410546 (5)\ttotal: 156ms\tremaining: 22.1s\n",
      "7:\ttest: 0.8424148\tbest: 0.8424148 (7)\ttotal: 178ms\tremaining: 22.1s\n",
      "8:\ttest: 0.8420725\tbest: 0.8424148 (7)\ttotal: 200ms\tremaining: 22s\n",
      "9:\ttest: 0.8416181\tbest: 0.8424148 (7)\ttotal: 218ms\tremaining: 21.6s\n",
      "10:\ttest: 0.8421547\tbest: 0.8424148 (7)\ttotal: 240ms\tremaining: 21.6s\n",
      "11:\ttest: 0.8423491\tbest: 0.8424148 (7)\ttotal: 265ms\tremaining: 21.8s\n",
      "12:\ttest: 0.8417885\tbest: 0.8424148 (7)\ttotal: 288ms\tremaining: 21.9s\n",
      "13:\ttest: 0.8416929\tbest: 0.8424148 (7)\ttotal: 307ms\tremaining: 21.6s\n",
      "14:\ttest: 0.8420725\tbest: 0.8424148 (7)\ttotal: 329ms\tremaining: 21.6s\n",
      "15:\ttest: 0.8439260\tbest: 0.8439260 (15)\ttotal: 350ms\tremaining: 21.5s\n",
      "16:\ttest: 0.8452175\tbest: 0.8452175 (16)\ttotal: 371ms\tremaining: 21.5s\n",
      "17:\ttest: 0.8461786\tbest: 0.8461786 (17)\ttotal: 392ms\tremaining: 21.4s\n",
      "18:\ttest: 0.8466300\tbest: 0.8466300 (18)\ttotal: 415ms\tremaining: 21.4s\n",
      "19:\ttest: 0.8469857\tbest: 0.8469857 (19)\ttotal: 437ms\tremaining: 21.4s\n",
      "20:\ttest: 0.8477122\tbest: 0.8477122 (20)\ttotal: 462ms\tremaining: 21.5s\n",
      "21:\ttest: 0.8478317\tbest: 0.8478317 (21)\ttotal: 486ms\tremaining: 21.6s\n",
      "22:\ttest: 0.8484730\tbest: 0.8484730 (22)\ttotal: 508ms\tremaining: 21.6s\n",
      "23:\ttest: 0.8486733\tbest: 0.8486733 (23)\ttotal: 539ms\tremaining: 21.9s\n",
      "24:\ttest: 0.8486643\tbest: 0.8486733 (23)\ttotal: 561ms\tremaining: 21.9s\n",
      "25:\ttest: 0.8489797\tbest: 0.8489797 (25)\ttotal: 581ms\tremaining: 21.8s\n",
      "26:\ttest: 0.8489229\tbest: 0.8489797 (25)\ttotal: 603ms\tremaining: 21.7s\n",
      "27:\ttest: 0.8488003\tbest: 0.8489797 (25)\ttotal: 625ms\tremaining: 21.7s\n",
      "28:\ttest: 0.8489020\tbest: 0.8489797 (25)\ttotal: 637ms\tremaining: 21.3s\n",
      "29:\ttest: 0.8488183\tbest: 0.8489797 (25)\ttotal: 654ms\tremaining: 21.1s\n",
      "30:\ttest: 0.8486778\tbest: 0.8489797 (25)\ttotal: 668ms\tremaining: 20.9s\n",
      "31:\ttest: 0.8486867\tbest: 0.8489797 (25)\ttotal: 691ms\tremaining: 20.9s\n",
      "32:\ttest: 0.8488332\tbest: 0.8489797 (25)\ttotal: 724ms\tremaining: 21.2s\n",
      "33:\ttest: 0.8485731\tbest: 0.8489797 (25)\ttotal: 746ms\tremaining: 21.2s\n",
      "34:\ttest: 0.8485701\tbest: 0.8489797 (25)\ttotal: 768ms\tremaining: 21.2s\n",
      "35:\ttest: 0.8490918\tbest: 0.8490918 (35)\ttotal: 789ms\tremaining: 21.1s\n",
      "36:\ttest: 0.8489573\tbest: 0.8490918 (35)\ttotal: 806ms\tremaining: 21s\n",
      "37:\ttest: 0.8489483\tbest: 0.8490918 (35)\ttotal: 834ms\tremaining: 21.1s\n",
      "38:\ttest: 0.8494909\tbest: 0.8494909 (38)\ttotal: 856ms\tremaining: 21.1s\n",
      "39:\ttest: 0.8498676\tbest: 0.8498676 (39)\ttotal: 878ms\tremaining: 21.1s\n",
      "40:\ttest: 0.8501007\tbest: 0.8501007 (40)\ttotal: 900ms\tremaining: 21s\n",
      "41:\ttest: 0.8504505\tbest: 0.8504505 (41)\ttotal: 926ms\tremaining: 21.1s\n",
      "42:\ttest: 0.8506837\tbest: 0.8506837 (42)\ttotal: 947ms\tremaining: 21.1s\n",
      "43:\ttest: 0.8508003\tbest: 0.8508003 (43)\ttotal: 969ms\tremaining: 21.1s\n",
      "44:\ttest: 0.8509049\tbest: 0.8509049 (44)\ttotal: 991ms\tremaining: 21s\n",
      "45:\ttest: 0.8506329\tbest: 0.8509049 (44)\ttotal: 1.01s\tremaining: 21s\n",
      "46:\ttest: 0.8506299\tbest: 0.8509049 (44)\ttotal: 1.05s\tremaining: 21.2s\n",
      "47:\ttest: 0.8508840\tbest: 0.8509049 (44)\ttotal: 1.07s\tremaining: 21.2s\n",
      "48:\ttest: 0.8511291\tbest: 0.8511291 (48)\ttotal: 1.09s\tremaining: 21.2s\n",
      "49:\ttest: 0.8510813\tbest: 0.8511291 (48)\ttotal: 1.1s\tremaining: 20.9s\n",
      "50:\ttest: 0.8510544\tbest: 0.8511291 (48)\ttotal: 1.12s\tremaining: 20.9s\n",
      "51:\ttest: 0.8510873\tbest: 0.8511291 (48)\ttotal: 1.15s\tremaining: 21s\n",
      "52:\ttest: 0.8511770\tbest: 0.8511770 (52)\ttotal: 1.17s\tremaining: 21s\n",
      "53:\ttest: 0.8511949\tbest: 0.8511949 (53)\ttotal: 1.19s\tremaining: 20.8s\n",
      "54:\ttest: 0.8511411\tbest: 0.8511949 (53)\ttotal: 1.21s\tremaining: 20.8s\n",
      "55:\ttest: 0.8511919\tbest: 0.8511949 (53)\ttotal: 1.23s\tremaining: 20.7s\n",
      "56:\ttest: 0.8516971\tbest: 0.8516971 (56)\ttotal: 1.25s\tremaining: 20.7s\n",
      "57:\ttest: 0.8518107\tbest: 0.8518107 (57)\ttotal: 1.27s\tremaining: 20.7s\n",
      "58:\ttest: 0.8518675\tbest: 0.8518675 (58)\ttotal: 1.29s\tremaining: 20.6s\n",
      "59:\ttest: 0.8517629\tbest: 0.8518675 (58)\ttotal: 1.31s\tremaining: 20.6s\n",
      "60:\ttest: 0.8519781\tbest: 0.8519781 (60)\ttotal: 1.34s\tremaining: 20.6s\n",
      "61:\ttest: 0.8521306\tbest: 0.8521306 (61)\ttotal: 1.36s\tremaining: 20.6s\n",
      "62:\ttest: 0.8523757\tbest: 0.8523757 (62)\ttotal: 1.38s\tremaining: 20.6s\n",
      "63:\ttest: 0.8524325\tbest: 0.8524325 (63)\ttotal: 1.4s\tremaining: 20.5s\n",
      "64:\ttest: 0.8525820\tbest: 0.8525820 (64)\ttotal: 1.43s\tremaining: 20.5s\n",
      "65:\ttest: 0.8524699\tbest: 0.8525820 (64)\ttotal: 1.45s\tremaining: 20.5s\n",
      "66:\ttest: 0.8528944\tbest: 0.8528944 (66)\ttotal: 1.47s\tremaining: 20.5s\n",
      "67:\ttest: 0.8529691\tbest: 0.8529691 (67)\ttotal: 1.49s\tremaining: 20.5s\n",
      "68:\ttest: 0.8528555\tbest: 0.8529691 (67)\ttotal: 1.52s\tremaining: 20.5s\n",
      "69:\ttest: 0.8532621\tbest: 0.8532621 (69)\ttotal: 1.54s\tremaining: 20.5s\n",
      "70:\ttest: 0.8532860\tbest: 0.8532860 (70)\ttotal: 1.56s\tremaining: 20.5s\n",
      "71:\ttest: 0.8532143\tbest: 0.8532860 (70)\ttotal: 1.59s\tremaining: 20.5s\n",
      "72:\ttest: 0.8531993\tbest: 0.8532860 (70)\ttotal: 1.6s\tremaining: 20.3s\n",
      "73:\ttest: 0.8533458\tbest: 0.8533458 (73)\ttotal: 1.62s\tremaining: 20.3s\n",
      "74:\ttest: 0.8533279\tbest: 0.8533458 (73)\ttotal: 1.64s\tremaining: 20.3s\n",
      "75:\ttest: 0.8532815\tbest: 0.8533458 (73)\ttotal: 1.67s\tremaining: 20.3s\n",
      "76:\ttest: 0.8534669\tbest: 0.8534669 (76)\ttotal: 1.69s\tremaining: 20.2s\n",
      "77:\ttest: 0.8535506\tbest: 0.8535506 (77)\ttotal: 1.71s\tremaining: 20.2s\n",
      "78:\ttest: 0.8534101\tbest: 0.8535506 (77)\ttotal: 1.73s\tremaining: 20.2s\n",
      "79:\ttest: 0.8535087\tbest: 0.8535506 (77)\ttotal: 1.75s\tremaining: 20.2s\n",
      "80:\ttest: 0.8532875\tbest: 0.8535506 (77)\ttotal: 1.78s\tremaining: 20.2s\n",
      "81:\ttest: 0.8533055\tbest: 0.8535506 (77)\ttotal: 1.8s\tremaining: 20.2s\n",
      "82:\ttest: 0.8535207\tbest: 0.8535506 (77)\ttotal: 1.83s\tremaining: 20.2s\n",
      "83:\ttest: 0.8535745\tbest: 0.8535745 (83)\ttotal: 1.85s\tremaining: 20.2s\n",
      "84:\ttest: 0.8536253\tbest: 0.8536253 (84)\ttotal: 1.87s\tremaining: 20.2s\n",
      "85:\ttest: 0.8536642\tbest: 0.8536642 (85)\ttotal: 1.9s\tremaining: 20.2s\n",
      "86:\ttest: 0.8536911\tbest: 0.8536911 (86)\ttotal: 1.92s\tremaining: 20.1s\n",
      "87:\ttest: 0.8535685\tbest: 0.8536911 (86)\ttotal: 1.94s\tremaining: 20.1s\n",
      "88:\ttest: 0.8537240\tbest: 0.8537240 (88)\ttotal: 1.96s\tremaining: 20.1s\n",
      "89:\ttest: 0.8536193\tbest: 0.8537240 (88)\ttotal: 1.98s\tremaining: 20.1s\n",
      "90:\ttest: 0.8535566\tbest: 0.8537240 (88)\ttotal: 2s\tremaining: 20s\n",
      "91:\ttest: 0.8536253\tbest: 0.8537240 (88)\ttotal: 2.03s\tremaining: 20s\n",
      "92:\ttest: 0.8536373\tbest: 0.8537240 (88)\ttotal: 2.04s\tremaining: 19.9s\n",
      "93:\ttest: 0.8536373\tbest: 0.8537240 (88)\ttotal: 2.06s\tremaining: 19.8s\n",
      "94:\ttest: 0.8535895\tbest: 0.8537240 (88)\ttotal: 2.08s\tremaining: 19.8s\n",
      "95:\ttest: 0.8534938\tbest: 0.8537240 (88)\ttotal: 2.1s\tremaining: 19.8s\n",
      "96:\ttest: 0.8535685\tbest: 0.8537240 (88)\ttotal: 2.13s\tremaining: 19.8s\n",
      "97:\ttest: 0.8534938\tbest: 0.8537240 (88)\ttotal: 2.15s\tremaining: 19.8s\n",
      "98:\ttest: 0.8534938\tbest: 0.8537240 (88)\ttotal: 2.16s\tremaining: 19.6s\n",
      "99:\ttest: 0.8535057\tbest: 0.8537240 (88)\ttotal: 2.18s\tremaining: 19.6s\n",
      "100:\ttest: 0.8535057\tbest: 0.8537240 (88)\ttotal: 2.19s\tremaining: 19.5s\n",
      "101:\ttest: 0.8535057\tbest: 0.8537240 (88)\ttotal: 2.2s\tremaining: 19.3s\n",
      "102:\ttest: 0.8535147\tbest: 0.8537240 (88)\ttotal: 2.21s\tremaining: 19.2s\n",
      "103:\ttest: 0.8535087\tbest: 0.8537240 (88)\ttotal: 2.23s\tremaining: 19.2s\n",
      "104:\ttest: 0.8534549\tbest: 0.8537240 (88)\ttotal: 2.25s\tremaining: 19.2s\n",
      "105:\ttest: 0.8534938\tbest: 0.8537240 (88)\ttotal: 2.27s\tremaining: 19.2s\n",
      "106:\ttest: 0.8535566\tbest: 0.8537240 (88)\ttotal: 2.3s\tremaining: 19.2s\n",
      "107:\ttest: 0.8535566\tbest: 0.8537240 (88)\ttotal: 2.31s\tremaining: 19s\n",
      "108:\ttest: 0.8535386\tbest: 0.8537240 (88)\ttotal: 2.31s\tremaining: 18.9s\n",
      "109:\ttest: 0.8535596\tbest: 0.8537240 (88)\ttotal: 2.34s\tremaining: 18.9s\n",
      "110:\ttest: 0.8535625\tbest: 0.8537240 (88)\ttotal: 2.37s\tremaining: 19s\n",
      "111:\ttest: 0.8535476\tbest: 0.8537240 (88)\ttotal: 2.39s\tremaining: 19s\n",
      "112:\ttest: 0.8533144\tbest: 0.8537240 (88)\ttotal: 2.42s\tremaining: 19s\n",
      "113:\ttest: 0.8533294\tbest: 0.8537240 (88)\ttotal: 2.45s\tremaining: 19s\n",
      "114:\ttest: 0.8532277\tbest: 0.8537240 (88)\ttotal: 2.48s\tremaining: 19.1s\n",
      "115:\ttest: 0.8533264\tbest: 0.8537240 (88)\ttotal: 2.5s\tremaining: 19.1s\n",
      "116:\ttest: 0.8533264\tbest: 0.8537240 (88)\ttotal: 2.51s\tremaining: 19s\n",
      "117:\ttest: 0.8531620\tbest: 0.8537240 (88)\ttotal: 2.54s\tremaining: 18.9s\n",
      "118:\ttest: 0.8531380\tbest: 0.8537240 (88)\ttotal: 2.55s\tremaining: 18.9s\n",
      "Stopped by overfitting detector  (30 iterations wait)\n",
      "\n",
      "bestTest = 0.8537239767\n",
      "bestIteration = 88\n",
      "\n",
      "Shrink model to first 89 iterations.\n"
     ]
    },
    {
     "data": {
      "text/plain": [
       "<catboost.core.CatBoostClassifier at 0x1c048f00fa0>"
      ]
     },
     "execution_count": 142,
     "metadata": {},
     "output_type": "execute_result"
    }
   ],
   "source": [
    "#Запустим CatBoost на выборке с выбросами\n",
    "clf = CatBoostClassifier(\n",
    "    iterations=1000, \n",
    "    learning_rate=0.05, \n",
    "    loss_function='Logloss', eval_metric = 'AUC'\n",
    ")\n",
    "\n",
    "\n",
    "clf.fit(X = train_data_ou, \n",
    "        \n",
    "        eval_set= valid_ou, \n",
    "        verbose=True, early_stopping_rounds=30)"
   ]
  },
  {
   "cell_type": "code",
   "execution_count": 320,
   "id": "29d1b0e8",
   "metadata": {},
   "outputs": [],
   "source": [
    "my_submission = pd.DataFrame({\"id\": [i for i in range(0, len(test))],'Churn': clf.predict_proba(test)[:,1]})\n",
    "\n",
    "my_submission.to_csv('mfti_cat.csv', index=False)"
   ]
  },
  {
   "cell_type": "code",
   "execution_count": 143,
   "id": "f639c6be",
   "metadata": {},
   "outputs": [
    {
     "name": "stdout",
     "output_type": "stream",
     "text": [
      "0:\ttest: 0.7629010\tbest: 0.7629010 (0)\ttotal: 26.3ms\tremaining: 26.2s\n",
      "1:\ttest: 0.7882094\tbest: 0.7882094 (1)\ttotal: 39.6ms\tremaining: 19.8s\n",
      "2:\ttest: 0.8209891\tbest: 0.8209891 (2)\ttotal: 61.2ms\tremaining: 20.3s\n",
      "3:\ttest: 0.8251295\tbest: 0.8251295 (3)\ttotal: 82ms\tremaining: 20.4s\n",
      "4:\ttest: 0.8250821\tbest: 0.8251295 (3)\ttotal: 99.5ms\tremaining: 19.8s\n",
      "5:\ttest: 0.8298978\tbest: 0.8298978 (5)\ttotal: 121ms\tremaining: 20s\n",
      "6:\ttest: 0.8282867\tbest: 0.8298978 (5)\ttotal: 134ms\tremaining: 19s\n",
      "7:\ttest: 0.8281346\tbest: 0.8298978 (5)\ttotal: 158ms\tremaining: 19.6s\n",
      "8:\ttest: 0.8274159\tbest: 0.8298978 (5)\ttotal: 169ms\tremaining: 18.7s\n",
      "9:\ttest: 0.8285789\tbest: 0.8298978 (5)\ttotal: 190ms\tremaining: 18.9s\n",
      "10:\ttest: 0.8310213\tbest: 0.8310213 (10)\ttotal: 211ms\tremaining: 18.9s\n",
      "11:\ttest: 0.8311555\tbest: 0.8311555 (11)\ttotal: 233ms\tremaining: 19.2s\n",
      "12:\ttest: 0.8322434\tbest: 0.8322434 (12)\ttotal: 258ms\tremaining: 19.6s\n",
      "13:\ttest: 0.8325080\tbest: 0.8325080 (13)\ttotal: 280ms\tremaining: 19.7s\n",
      "14:\ttest: 0.8325969\tbest: 0.8325969 (14)\ttotal: 301ms\tremaining: 19.8s\n",
      "15:\ttest: 0.8314260\tbest: 0.8325969 (14)\ttotal: 323ms\tremaining: 19.8s\n",
      "16:\ttest: 0.8312997\tbest: 0.8325969 (14)\ttotal: 344ms\tremaining: 19.9s\n",
      "17:\ttest: 0.8309028\tbest: 0.8325969 (14)\ttotal: 365ms\tremaining: 19.9s\n",
      "18:\ttest: 0.8314300\tbest: 0.8325969 (14)\ttotal: 385ms\tremaining: 19.9s\n",
      "19:\ttest: 0.8311220\tbest: 0.8325969 (14)\ttotal: 406ms\tremaining: 19.9s\n",
      "20:\ttest: 0.8308574\tbest: 0.8325969 (14)\ttotal: 427ms\tremaining: 19.9s\n",
      "21:\ttest: 0.8310094\tbest: 0.8325969 (14)\ttotal: 452ms\tremaining: 20.1s\n",
      "22:\ttest: 0.8313431\tbest: 0.8325969 (14)\ttotal: 474ms\tremaining: 20.1s\n",
      "23:\ttest: 0.8318979\tbest: 0.8325969 (14)\ttotal: 495ms\tremaining: 20.1s\n",
      "24:\ttest: 0.8314793\tbest: 0.8325969 (14)\ttotal: 516ms\tremaining: 20.1s\n",
      "25:\ttest: 0.8321783\tbest: 0.8325969 (14)\ttotal: 542ms\tremaining: 20.3s\n",
      "26:\ttest: 0.8324666\tbest: 0.8325969 (14)\ttotal: 564ms\tremaining: 20.3s\n",
      "27:\ttest: 0.8327193\tbest: 0.8327193 (27)\ttotal: 578ms\tremaining: 20.1s\n",
      "28:\ttest: 0.8331221\tbest: 0.8331221 (28)\ttotal: 598ms\tremaining: 20s\n",
      "29:\ttest: 0.8338684\tbest: 0.8338684 (29)\ttotal: 618ms\tremaining: 20s\n",
      "30:\ttest: 0.8338921\tbest: 0.8338921 (30)\ttotal: 627ms\tremaining: 19.6s\n",
      "31:\ttest: 0.8343028\tbest: 0.8343028 (31)\ttotal: 646ms\tremaining: 19.6s\n",
      "32:\ttest: 0.8345792\tbest: 0.8345792 (32)\ttotal: 670ms\tremaining: 19.6s\n",
      "33:\ttest: 0.8347924\tbest: 0.8347924 (33)\ttotal: 693ms\tremaining: 19.7s\n",
      "34:\ttest: 0.8352209\tbest: 0.8352209 (34)\ttotal: 715ms\tremaining: 19.7s\n",
      "35:\ttest: 0.8356474\tbest: 0.8356474 (35)\ttotal: 736ms\tremaining: 19.7s\n",
      "36:\ttest: 0.8358725\tbest: 0.8358725 (36)\ttotal: 757ms\tremaining: 19.7s\n",
      "37:\ttest: 0.8362437\tbest: 0.8362437 (37)\ttotal: 777ms\tremaining: 19.7s\n",
      "38:\ttest: 0.8361568\tbest: 0.8362437 (37)\ttotal: 797ms\tremaining: 19.6s\n",
      "39:\ttest: 0.8362318\tbest: 0.8362437 (37)\ttotal: 811ms\tremaining: 19.5s\n",
      "40:\ttest: 0.8359356\tbest: 0.8362437 (37)\ttotal: 834ms\tremaining: 19.5s\n",
      "41:\ttest: 0.8362535\tbest: 0.8362535 (41)\ttotal: 854ms\tremaining: 19.5s\n",
      "42:\ttest: 0.8363286\tbest: 0.8363286 (42)\ttotal: 863ms\tremaining: 19.2s\n",
      "43:\ttest: 0.8371420\tbest: 0.8371420 (43)\ttotal: 887ms\tremaining: 19.3s\n",
      "44:\ttest: 0.8369979\tbest: 0.8371420 (43)\ttotal: 911ms\tremaining: 19.3s\n",
      "45:\ttest: 0.8373138\tbest: 0.8373138 (45)\ttotal: 932ms\tremaining: 19.3s\n",
      "46:\ttest: 0.8374086\tbest: 0.8374086 (46)\ttotal: 954ms\tremaining: 19.3s\n",
      "47:\ttest: 0.8372052\tbest: 0.8374086 (46)\ttotal: 977ms\tremaining: 19.4s\n",
      "48:\ttest: 0.8377620\tbest: 0.8377620 (48)\ttotal: 1000ms\tremaining: 19.4s\n",
      "49:\ttest: 0.8379831\tbest: 0.8379831 (49)\ttotal: 1.02s\tremaining: 19.5s\n",
      "50:\ttest: 0.8380029\tbest: 0.8380029 (50)\ttotal: 1.05s\tremaining: 19.5s\n",
      "51:\ttest: 0.8380147\tbest: 0.8380147 (51)\ttotal: 1.07s\tremaining: 19.5s\n",
      "52:\ttest: 0.8385518\tbest: 0.8385518 (52)\ttotal: 1.09s\tremaining: 19.5s\n",
      "53:\ttest: 0.8390414\tbest: 0.8390414 (53)\ttotal: 1.11s\tremaining: 19.5s\n",
      "54:\ttest: 0.8392073\tbest: 0.8392073 (54)\ttotal: 1.14s\tremaining: 19.6s\n",
      "55:\ttest: 0.8393455\tbest: 0.8393455 (55)\ttotal: 1.16s\tremaining: 19.5s\n",
      "56:\ttest: 0.8396812\tbest: 0.8396812 (56)\ttotal: 1.19s\tremaining: 19.6s\n",
      "57:\ttest: 0.8396654\tbest: 0.8396812 (56)\ttotal: 1.22s\tremaining: 19.8s\n",
      "58:\ttest: 0.8399378\tbest: 0.8399378 (58)\ttotal: 1.25s\tremaining: 19.9s\n",
      "59:\ttest: 0.8401945\tbest: 0.8401945 (59)\ttotal: 1.27s\tremaining: 19.8s\n",
      "60:\ttest: 0.8402103\tbest: 0.8402103 (60)\ttotal: 1.29s\tremaining: 19.9s\n",
      "61:\ttest: 0.8403367\tbest: 0.8403367 (61)\ttotal: 1.32s\tremaining: 20s\n",
      "62:\ttest: 0.8405934\tbest: 0.8405934 (62)\ttotal: 1.35s\tremaining: 20s\n",
      "63:\ttest: 0.8405934\tbest: 0.8405934 (62)\ttotal: 1.36s\tremaining: 19.8s\n",
      "64:\ttest: 0.8403880\tbest: 0.8405934 (62)\ttotal: 1.38s\tremaining: 19.8s\n",
      "65:\ttest: 0.8402123\tbest: 0.8405934 (62)\ttotal: 1.4s\tremaining: 19.8s\n",
      "66:\ttest: 0.8402123\tbest: 0.8405934 (62)\ttotal: 1.41s\tremaining: 19.6s\n",
      "67:\ttest: 0.8404176\tbest: 0.8405934 (62)\ttotal: 1.43s\tremaining: 19.6s\n",
      "68:\ttest: 0.8405045\tbest: 0.8405934 (62)\ttotal: 1.45s\tremaining: 19.5s\n",
      "69:\ttest: 0.8405361\tbest: 0.8405934 (62)\ttotal: 1.47s\tremaining: 19.5s\n",
      "70:\ttest: 0.8406388\tbest: 0.8406388 (70)\ttotal: 1.49s\tremaining: 19.5s\n",
      "71:\ttest: 0.8408915\tbest: 0.8408915 (71)\ttotal: 1.51s\tremaining: 19.5s\n",
      "72:\ttest: 0.8410889\tbest: 0.8410889 (72)\ttotal: 1.53s\tremaining: 19.5s\n",
      "73:\ttest: 0.8410889\tbest: 0.8410889 (72)\ttotal: 1.54s\tremaining: 19.3s\n",
      "74:\ttest: 0.8410692\tbest: 0.8410889 (72)\ttotal: 1.56s\tremaining: 19.2s\n",
      "75:\ttest: 0.8412548\tbest: 0.8412548 (75)\ttotal: 1.57s\tremaining: 19.1s\n",
      "76:\ttest: 0.8413693\tbest: 0.8413693 (76)\ttotal: 1.58s\tremaining: 19s\n",
      "77:\ttest: 0.8414207\tbest: 0.8414207 (77)\ttotal: 1.6s\tremaining: 18.9s\n",
      "78:\ttest: 0.8414207\tbest: 0.8414207 (77)\ttotal: 1.61s\tremaining: 18.7s\n",
      "79:\ttest: 0.8416576\tbest: 0.8416576 (79)\ttotal: 1.63s\tremaining: 18.7s\n",
      "80:\ttest: 0.8416971\tbest: 0.8416971 (80)\ttotal: 1.64s\tremaining: 18.6s\n",
      "81:\ttest: 0.8417405\tbest: 0.8417405 (81)\ttotal: 1.65s\tremaining: 18.4s\n",
      "82:\ttest: 0.8417050\tbest: 0.8417405 (81)\ttotal: 1.66s\tremaining: 18.3s\n",
      "83:\ttest: 0.8417524\tbest: 0.8417524 (83)\ttotal: 1.68s\tremaining: 18.3s\n",
      "84:\ttest: 0.8417682\tbest: 0.8417682 (84)\ttotal: 1.7s\tremaining: 18.3s\n",
      "85:\ttest: 0.8416220\tbest: 0.8417682 (84)\ttotal: 1.72s\tremaining: 18.3s\n",
      "86:\ttest: 0.8416694\tbest: 0.8417682 (84)\ttotal: 1.75s\tremaining: 18.4s\n",
      "87:\ttest: 0.8418116\tbest: 0.8418116 (87)\ttotal: 1.77s\tremaining: 18.4s\n",
      "88:\ttest: 0.8420485\tbest: 0.8420485 (88)\ttotal: 1.79s\tremaining: 18.4s\n",
      "89:\ttest: 0.8421472\tbest: 0.8421472 (89)\ttotal: 1.82s\tremaining: 18.4s\n",
      "90:\ttest: 0.8422697\tbest: 0.8422697 (90)\ttotal: 1.85s\tremaining: 18.4s\n",
      "91:\ttest: 0.8425895\tbest: 0.8425895 (91)\ttotal: 1.87s\tremaining: 18.5s\n",
      "92:\ttest: 0.8426764\tbest: 0.8426764 (92)\ttotal: 1.9s\tremaining: 18.5s\n",
      "93:\ttest: 0.8427396\tbest: 0.8427396 (93)\ttotal: 1.93s\tremaining: 18.6s\n",
      "94:\ttest: 0.8427396\tbest: 0.8427396 (93)\ttotal: 1.94s\tremaining: 18.4s\n",
      "95:\ttest: 0.8425856\tbest: 0.8427396 (93)\ttotal: 1.96s\tremaining: 18.5s\n",
      "96:\ttest: 0.8426053\tbest: 0.8427396 (93)\ttotal: 1.99s\tremaining: 18.5s\n",
      "97:\ttest: 0.8424987\tbest: 0.8427396 (93)\ttotal: 2.01s\tremaining: 18.5s\n",
      "98:\ttest: 0.8426369\tbest: 0.8427396 (93)\ttotal: 2.04s\tremaining: 18.5s\n",
      "99:\ttest: 0.8425856\tbest: 0.8427396 (93)\ttotal: 2.06s\tremaining: 18.5s\n",
      "100:\ttest: 0.8426251\tbest: 0.8427396 (93)\ttotal: 2.08s\tremaining: 18.5s\n",
      "101:\ttest: 0.8426369\tbest: 0.8427396 (93)\ttotal: 2.1s\tremaining: 18.5s\n",
      "102:\ttest: 0.8426488\tbest: 0.8427396 (93)\ttotal: 2.13s\tremaining: 18.5s\n",
      "103:\ttest: 0.8427672\tbest: 0.8427672 (103)\ttotal: 2.15s\tremaining: 18.5s\n",
      "104:\ttest: 0.8429370\tbest: 0.8429370 (104)\ttotal: 2.17s\tremaining: 18.5s\n",
      "105:\ttest: 0.8426646\tbest: 0.8429370 (104)\ttotal: 2.2s\tremaining: 18.6s\n",
      "106:\ttest: 0.8429370\tbest: 0.8429370 (104)\ttotal: 2.22s\tremaining: 18.6s\n",
      "107:\ttest: 0.8429489\tbest: 0.8429489 (107)\ttotal: 2.25s\tremaining: 18.6s\n",
      "108:\ttest: 0.8430792\tbest: 0.8430792 (108)\ttotal: 2.27s\tremaining: 18.5s\n",
      "109:\ttest: 0.8430950\tbest: 0.8430950 (109)\ttotal: 2.29s\tremaining: 18.5s\n",
      "110:\ttest: 0.8430081\tbest: 0.8430950 (109)\ttotal: 2.31s\tremaining: 18.5s\n",
      "111:\ttest: 0.8431503\tbest: 0.8431503 (111)\ttotal: 2.34s\tremaining: 18.5s\n",
      "112:\ttest: 0.8432411\tbest: 0.8432411 (112)\ttotal: 2.37s\tremaining: 18.6s\n",
      "113:\ttest: 0.8432391\tbest: 0.8432411 (112)\ttotal: 2.39s\tremaining: 18.6s\n",
      "114:\ttest: 0.8432431\tbest: 0.8432431 (114)\ttotal: 2.41s\tremaining: 18.6s\n",
      "115:\ttest: 0.8432510\tbest: 0.8432510 (115)\ttotal: 2.43s\tremaining: 18.5s\n",
      "116:\ttest: 0.8433457\tbest: 0.8433457 (116)\ttotal: 2.46s\tremaining: 18.6s\n",
      "117:\ttest: 0.8433773\tbest: 0.8433773 (117)\ttotal: 2.49s\tremaining: 18.6s\n",
      "118:\ttest: 0.8432865\tbest: 0.8433773 (117)\ttotal: 2.54s\tremaining: 18.8s\n",
      "119:\ttest: 0.8432312\tbest: 0.8433773 (117)\ttotal: 2.56s\tremaining: 18.8s\n",
      "120:\ttest: 0.8431996\tbest: 0.8433773 (117)\ttotal: 2.57s\tremaining: 18.7s\n",
      "121:\ttest: 0.8431483\tbest: 0.8433773 (117)\ttotal: 2.59s\tremaining: 18.7s\n",
      "122:\ttest: 0.8431601\tbest: 0.8433773 (117)\ttotal: 2.62s\tremaining: 18.7s\n",
      "123:\ttest: 0.8432273\tbest: 0.8433773 (117)\ttotal: 2.64s\tremaining: 18.7s\n",
      "124:\ttest: 0.8432747\tbest: 0.8433773 (117)\ttotal: 2.65s\tremaining: 18.6s\n",
      "125:\ttest: 0.8432431\tbest: 0.8433773 (117)\ttotal: 2.67s\tremaining: 18.6s\n",
      "126:\ttest: 0.8431522\tbest: 0.8433773 (117)\ttotal: 2.69s\tremaining: 18.5s\n",
      "127:\ttest: 0.8431127\tbest: 0.8433773 (117)\ttotal: 2.7s\tremaining: 18.4s\n",
      "128:\ttest: 0.8431127\tbest: 0.8433773 (117)\ttotal: 2.71s\tremaining: 18.3s\n",
      "129:\ttest: 0.8430140\tbest: 0.8433773 (117)\ttotal: 2.73s\tremaining: 18.3s\n",
      "130:\ttest: 0.8430219\tbest: 0.8433773 (117)\ttotal: 2.75s\tremaining: 18.3s\n",
      "131:\ttest: 0.8430614\tbest: 0.8433773 (117)\ttotal: 2.78s\tremaining: 18.3s\n",
      "132:\ttest: 0.8431246\tbest: 0.8433773 (117)\ttotal: 2.8s\tremaining: 18.3s\n",
      "133:\ttest: 0.8431049\tbest: 0.8433773 (117)\ttotal: 2.83s\tremaining: 18.3s\n",
      "134:\ttest: 0.8429745\tbest: 0.8433773 (117)\ttotal: 2.85s\tremaining: 18.3s\n",
      "135:\ttest: 0.8429824\tbest: 0.8433773 (117)\ttotal: 2.87s\tremaining: 18.2s\n",
      "136:\ttest: 0.8430417\tbest: 0.8433773 (117)\ttotal: 2.9s\tremaining: 18.3s\n",
      "137:\ttest: 0.8430891\tbest: 0.8433773 (117)\ttotal: 2.94s\tremaining: 18.4s\n",
      "138:\ttest: 0.8432904\tbest: 0.8433773 (117)\ttotal: 2.97s\tremaining: 18.4s\n",
      "139:\ttest: 0.8432904\tbest: 0.8433773 (117)\ttotal: 2.99s\tremaining: 18.3s\n",
      "140:\ttest: 0.8432154\tbest: 0.8433773 (117)\ttotal: 3.02s\tremaining: 18.4s\n",
      "141:\ttest: 0.8432707\tbest: 0.8433773 (117)\ttotal: 3.04s\tremaining: 18.4s\n",
      "142:\ttest: 0.8432431\tbest: 0.8433773 (117)\ttotal: 3.07s\tremaining: 18.4s\n",
      "143:\ttest: 0.8434010\tbest: 0.8434010 (143)\ttotal: 3.1s\tremaining: 18.4s\n",
      "144:\ttest: 0.8434997\tbest: 0.8434997 (144)\ttotal: 3.12s\tremaining: 18.4s\n",
      "145:\ttest: 0.8435827\tbest: 0.8435827 (145)\ttotal: 3.15s\tremaining: 18.4s\n",
      "146:\ttest: 0.8435432\tbest: 0.8435827 (145)\ttotal: 3.18s\tremaining: 18.4s\n",
      "147:\ttest: 0.8437011\tbest: 0.8437011 (147)\ttotal: 3.21s\tremaining: 18.5s\n",
      "148:\ttest: 0.8437367\tbest: 0.8437367 (148)\ttotal: 3.23s\tremaining: 18.4s\n",
      "149:\ttest: 0.8438630\tbest: 0.8438630 (149)\ttotal: 3.24s\tremaining: 18.4s\n",
      "150:\ttest: 0.8433655\tbest: 0.8438630 (149)\ttotal: 3.26s\tremaining: 18.3s\n",
      "151:\ttest: 0.8434050\tbest: 0.8438630 (149)\ttotal: 3.29s\tremaining: 18.3s\n",
      "152:\ttest: 0.8434366\tbest: 0.8438630 (149)\ttotal: 3.29s\tremaining: 18.2s\n",
      "153:\ttest: 0.8434879\tbest: 0.8438630 (149)\ttotal: 3.31s\tremaining: 18.2s\n",
      "154:\ttest: 0.8433852\tbest: 0.8438630 (149)\ttotal: 3.33s\tremaining: 18.2s\n",
      "155:\ttest: 0.8433378\tbest: 0.8438630 (149)\ttotal: 3.35s\tremaining: 18.1s\n",
      "156:\ttest: 0.8434050\tbest: 0.8438630 (149)\ttotal: 3.38s\tremaining: 18.2s\n",
      "157:\ttest: 0.8434445\tbest: 0.8438630 (149)\ttotal: 3.41s\tremaining: 18.2s\n",
      "158:\ttest: 0.8432747\tbest: 0.8438630 (149)\ttotal: 3.43s\tremaining: 18.2s\n",
      "159:\ttest: 0.8435116\tbest: 0.8438630 (149)\ttotal: 3.46s\tremaining: 18.2s\n",
      "160:\ttest: 0.8436458\tbest: 0.8438630 (149)\ttotal: 3.49s\tremaining: 18.2s\n",
      "161:\ttest: 0.8433971\tbest: 0.8438630 (149)\ttotal: 3.52s\tremaining: 18.2s\n",
      "162:\ttest: 0.8434760\tbest: 0.8438630 (149)\ttotal: 3.54s\tremaining: 18.2s\n",
      "163:\ttest: 0.8434760\tbest: 0.8438630 (149)\ttotal: 3.56s\tremaining: 18.2s\n",
      "164:\ttest: 0.8435906\tbest: 0.8438630 (149)\ttotal: 3.58s\tremaining: 18.1s\n",
      "165:\ttest: 0.8439302\tbest: 0.8439302 (165)\ttotal: 3.6s\tremaining: 18.1s\n",
      "166:\ttest: 0.8441276\tbest: 0.8441276 (166)\ttotal: 3.63s\tremaining: 18.1s\n",
      "167:\ttest: 0.8441158\tbest: 0.8441276 (166)\ttotal: 3.66s\tremaining: 18.1s\n",
      "168:\ttest: 0.8442066\tbest: 0.8442066 (168)\ttotal: 3.68s\tremaining: 18.1s\n",
      "169:\ttest: 0.8444356\tbest: 0.8444356 (169)\ttotal: 3.7s\tremaining: 18.1s\n",
      "170:\ttest: 0.8446015\tbest: 0.8446015 (170)\ttotal: 3.73s\tremaining: 18.1s\n",
      "171:\ttest: 0.8445186\tbest: 0.8446015 (170)\ttotal: 3.75s\tremaining: 18.1s\n",
      "172:\ttest: 0.8446054\tbest: 0.8446054 (172)\ttotal: 3.77s\tremaining: 18s\n",
      "173:\ttest: 0.8446173\tbest: 0.8446173 (173)\ttotal: 3.79s\tremaining: 18s\n",
      "174:\ttest: 0.8445304\tbest: 0.8446173 (173)\ttotal: 3.8s\tremaining: 17.9s\n",
      "175:\ttest: 0.8446844\tbest: 0.8446844 (175)\ttotal: 3.83s\tremaining: 17.9s\n",
      "176:\ttest: 0.8446528\tbest: 0.8446844 (175)\ttotal: 3.85s\tremaining: 17.9s\n",
      "177:\ttest: 0.8447278\tbest: 0.8447278 (177)\ttotal: 3.88s\tremaining: 17.9s\n",
      "178:\ttest: 0.8447160\tbest: 0.8447278 (177)\ttotal: 3.9s\tremaining: 17.9s\n",
      "179:\ttest: 0.8448147\tbest: 0.8448147 (179)\ttotal: 3.93s\tremaining: 17.9s\n",
      "180:\ttest: 0.8450674\tbest: 0.8450674 (180)\ttotal: 3.96s\tremaining: 17.9s\n",
      "181:\ttest: 0.8451030\tbest: 0.8451030 (181)\ttotal: 3.98s\tremaining: 17.9s\n",
      "182:\ttest: 0.8452886\tbest: 0.8452886 (182)\ttotal: 4.01s\tremaining: 17.9s\n",
      "183:\ttest: 0.8453715\tbest: 0.8453715 (183)\ttotal: 4.04s\tremaining: 17.9s\n",
      "184:\ttest: 0.8453202\tbest: 0.8453715 (183)\ttotal: 4.06s\tremaining: 17.9s\n",
      "185:\ttest: 0.8451109\tbest: 0.8453715 (183)\ttotal: 4.08s\tremaining: 17.9s\n",
      "186:\ttest: 0.8451780\tbest: 0.8453715 (183)\ttotal: 4.11s\tremaining: 17.8s\n",
      "187:\ttest: 0.8452491\tbest: 0.8453715 (183)\ttotal: 4.13s\tremaining: 17.8s\n",
      "188:\ttest: 0.8452372\tbest: 0.8453715 (183)\ttotal: 4.15s\tremaining: 17.8s\n",
      "189:\ttest: 0.8450832\tbest: 0.8453715 (183)\ttotal: 4.18s\tremaining: 17.8s\n",
      "190:\ttest: 0.8452333\tbest: 0.8453715 (183)\ttotal: 4.2s\tremaining: 17.8s\n",
      "191:\ttest: 0.8452057\tbest: 0.8453715 (183)\ttotal: 4.23s\tremaining: 17.8s\n",
      "192:\ttest: 0.8453162\tbest: 0.8453715 (183)\ttotal: 4.25s\tremaining: 17.8s\n",
      "193:\ttest: 0.8453676\tbest: 0.8453715 (183)\ttotal: 4.27s\tremaining: 17.7s\n",
      "194:\ttest: 0.8454426\tbest: 0.8454426 (194)\ttotal: 4.29s\tremaining: 17.7s\n",
      "195:\ttest: 0.8456854\tbest: 0.8456854 (195)\ttotal: 4.31s\tremaining: 17.7s\n",
      "196:\ttest: 0.8457289\tbest: 0.8457289 (196)\ttotal: 4.34s\tremaining: 17.7s\n",
      "197:\ttest: 0.8456933\tbest: 0.8457289 (196)\ttotal: 4.36s\tremaining: 17.7s\n",
      "198:\ttest: 0.8457723\tbest: 0.8457723 (198)\ttotal: 4.38s\tremaining: 17.6s\n",
      "199:\ttest: 0.8458237\tbest: 0.8458237 (199)\ttotal: 4.41s\tremaining: 17.6s\n",
      "200:\ttest: 0.8456025\tbest: 0.8458237 (199)\ttotal: 4.43s\tremaining: 17.6s\n",
      "201:\ttest: 0.8455788\tbest: 0.8458237 (199)\ttotal: 4.45s\tremaining: 17.6s\n",
      "202:\ttest: 0.8455709\tbest: 0.8458237 (199)\ttotal: 4.47s\tremaining: 17.6s\n",
      "203:\ttest: 0.8456618\tbest: 0.8458237 (199)\ttotal: 4.5s\tremaining: 17.5s\n",
      "204:\ttest: 0.8454880\tbest: 0.8458237 (199)\ttotal: 4.52s\tremaining: 17.5s\n",
      "205:\ttest: 0.8455630\tbest: 0.8458237 (199)\ttotal: 4.54s\tremaining: 17.5s\n",
      "206:\ttest: 0.8455235\tbest: 0.8458237 (199)\ttotal: 4.56s\tremaining: 17.5s\n",
      "207:\ttest: 0.8454169\tbest: 0.8458237 (199)\ttotal: 4.58s\tremaining: 17.5s\n",
      "208:\ttest: 0.8455196\tbest: 0.8458237 (199)\ttotal: 4.61s\tremaining: 17.4s\n",
      "209:\ttest: 0.8454722\tbest: 0.8458237 (199)\ttotal: 4.63s\tremaining: 17.4s\n",
      "210:\ttest: 0.8456578\tbest: 0.8458237 (199)\ttotal: 4.66s\tremaining: 17.4s\n",
      "211:\ttest: 0.8456460\tbest: 0.8458237 (199)\ttotal: 4.68s\tremaining: 17.4s\n",
      "212:\ttest: 0.8457407\tbest: 0.8458237 (199)\ttotal: 4.7s\tremaining: 17.4s\n",
      "213:\ttest: 0.8456775\tbest: 0.8458237 (199)\ttotal: 4.72s\tremaining: 17.4s\n",
      "214:\ttest: 0.8455591\tbest: 0.8458237 (199)\ttotal: 4.75s\tremaining: 17.3s\n",
      "215:\ttest: 0.8455867\tbest: 0.8458237 (199)\ttotal: 4.77s\tremaining: 17.3s\n",
      "216:\ttest: 0.8456065\tbest: 0.8458237 (199)\ttotal: 4.79s\tremaining: 17.3s\n",
      "217:\ttest: 0.8455275\tbest: 0.8458237 (199)\ttotal: 4.81s\tremaining: 17.3s\n",
      "218:\ttest: 0.8454209\tbest: 0.8458237 (199)\ttotal: 4.84s\tremaining: 17.3s\n",
      "219:\ttest: 0.8453103\tbest: 0.8458237 (199)\ttotal: 4.86s\tremaining: 17.2s\n",
      "220:\ttest: 0.8451800\tbest: 0.8458237 (199)\ttotal: 4.88s\tremaining: 17.2s\n",
      "221:\ttest: 0.8454604\tbest: 0.8458237 (199)\ttotal: 4.91s\tremaining: 17.2s\n",
      "222:\ttest: 0.8455591\tbest: 0.8458237 (199)\ttotal: 4.93s\tremaining: 17.2s\n",
      "223:\ttest: 0.8455670\tbest: 0.8458237 (199)\ttotal: 4.95s\tremaining: 17.2s\n",
      "224:\ttest: 0.8453972\tbest: 0.8458237 (199)\ttotal: 4.97s\tremaining: 17.1s\n",
      "225:\ttest: 0.8453458\tbest: 0.8458237 (199)\ttotal: 5s\tremaining: 17.1s\n",
      "226:\ttest: 0.8454288\tbest: 0.8458237 (199)\ttotal: 5.02s\tremaining: 17.1s\n",
      "227:\ttest: 0.8455670\tbest: 0.8458237 (199)\ttotal: 5.05s\tremaining: 17.1s\n",
      "228:\ttest: 0.8456025\tbest: 0.8458237 (199)\ttotal: 5.07s\tremaining: 17.1s\n",
      "229:\ttest: 0.8455196\tbest: 0.8458237 (199)\ttotal: 5.1s\tremaining: 17.1s\n",
      "Stopped by overfitting detector  (30 iterations wait)\n",
      "\n",
      "bestTest = 0.8458236586\n",
      "bestIteration = 199\n",
      "\n",
      "Shrink model to first 200 iterations.\n"
     ]
    },
    {
     "data": {
      "text/plain": [
       "<catboost.core.CatBoostClassifier at 0x1c048f00fa0>"
      ]
     },
     "execution_count": 143,
     "metadata": {},
     "output_type": "execute_result"
    }
   ],
   "source": [
    "#Запустим CatBoost на выборке без выбросов\n",
    "\n",
    "clf.fit(X = train_data, \n",
    "        \n",
    "        eval_set= valid, \n",
    "        verbose=True, early_stopping_rounds=30)"
   ]
  },
  {
   "cell_type": "code",
   "execution_count": 322,
   "id": "1788d42b",
   "metadata": {},
   "outputs": [],
   "source": [
    "my_submission = pd.DataFrame({\"id\": [i for i in range(0, len(test))],'Churn': clf.predict_proba(test)[:,1]})\n",
    "\n",
    "my_submission.to_csv('mfti_cat.csv', index=False)"
   ]
  },
  {
   "cell_type": "code",
   "execution_count": null,
   "id": "1508076e",
   "metadata": {},
   "outputs": [],
   "source": [
    "# Показатель AUC получился больше на подвыборке с выбросами"
   ]
  },
  {
   "cell_type": "code",
   "execution_count": 117,
   "id": "e13e4472",
   "metadata": {},
   "outputs": [],
   "source": [
    "#Теперь займёмся тюнингом гиперпараметров с помощью оптуны\n",
    "import optuna"
   ]
  },
  {
   "cell_type": "code",
   "execution_count": 118,
   "id": "9f3d2744",
   "metadata": {},
   "outputs": [],
   "source": [
    "#Сначала выборка без выбросов\n",
    "def objective(trial):\n",
    "    param = {\n",
    "          \"loss_function\": \"Logloss\",\n",
    "          \"eval_metric\": \"AUC\",\n",
    "          \"task_type\":\"CPU\",\n",
    "          \"devices\":'0:1',\n",
    "          \"iterations\": 5000,\n",
    "          \"learning_rate\": trial.suggest_float(\"learning_rate\", 0.001, 0.1),\n",
    "          \"bootstrap_type\": trial.suggest_categorical(\"bootstrap_type\", [\"Bayesian\"]),\n",
    "          \"boosting_type\": trial.suggest_categorical(\"boosting_type\", [\"Ordered\", \"Plain\"]),\n",
    "          'l2_leaf_reg': trial.suggest_discrete_uniform('l2_leaf_reg', 1.0, 5.0, 0.5),\n",
    "          \"early_stopping_rounds\":20,\n",
    "          \"max_depth\" : trial.suggest_int('max_depth', 3, 10)\n",
    "          \n",
    "          \n",
    "    }\n",
    "    if param[\"bootstrap_type\"] == \"Bayesian\":\n",
    "        param[\"bagging_temperature\"] = trial.suggest_float(\"bagging_temperature\", 0, 10)\n",
    "\n",
    "    model = CatBoostClassifier(**param)\n",
    "    model.fit(train_data, eval_set=valid, verbose=100, use_best_model=True, early_stopping_rounds=40)\n",
    "\n",
    "    roc = roc_auc_score(y_test, model.predict_proba(X_test)[:,1])\n",
    "    return roc"
   ]
  },
  {
   "cell_type": "code",
   "execution_count": 119,
   "id": "1cc62352",
   "metadata": {
    "scrolled": true
   },
   "outputs": [
    {
     "name": "stderr",
     "output_type": "stream",
     "text": [
      "\u001b[32m[I 2023-03-27 22:22:40,231]\u001b[0m A new study created in memory with name: no-name-239882ba-34d0-4da5-b20b-d9b3480fdd90\u001b[0m\n",
      "C:\\Users\\paul\\AppData\\Local\\Temp\\ipykernel_14388\\3750462692.py:11: FutureWarning: suggest_discrete_uniform has been deprecated in v3.0.0. This feature will be removed in v6.0.0. See https://github.com/optuna/optuna/releases/tag/v3.0.0. Use :func:`~optuna.trial.Trial.suggest_float` instead.\n",
      "  'l2_leaf_reg': trial.suggest_discrete_uniform('l2_leaf_reg', 1.0, 5.0, 0.5),\n"
     ]
    },
    {
     "name": "stdout",
     "output_type": "stream",
     "text": [
      "0:\ttest: 0.7612681\tbest: 0.7612681 (0)\ttotal: 16.8ms\tremaining: 1m 23s\n",
      "100:\ttest: 0.8305237\tbest: 0.8305237 (100)\ttotal: 1.49s\tremaining: 1m 12s\n",
      "200:\ttest: 0.8388065\tbest: 0.8388618 (198)\ttotal: 2.94s\tremaining: 1m 10s\n"
     ]
    },
    {
     "name": "stderr",
     "output_type": "stream",
     "text": [
      "\u001b[32m[I 2023-03-27 22:22:44,520]\u001b[0m Trial 0 finished with value: 0.8399121767837117 and parameters: {'learning_rate': 0.05831488495301591, 'bootstrap_type': 'Bayesian', 'boosting_type': 'Plain', 'l2_leaf_reg': 1.5, 'max_depth': 4, 'bagging_temperature': 7.868460490857599}. Best is trial 0 with value: 0.8399121767837117.\u001b[0m\n"
     ]
    },
    {
     "name": "stdout",
     "output_type": "stream",
     "text": [
      "Stopped by overfitting detector  (40 iterations wait)\n",
      "\n",
      "bestTest = 0.8399121768\n",
      "bestIteration = 247\n",
      "\n",
      "Shrink model to first 248 iterations.\n",
      "0:\ttest: 0.7620066\tbest: 0.7620066 (0)\ttotal: 112ms\tremaining: 9m 21s\n"
     ]
    },
    {
     "name": "stderr",
     "output_type": "stream",
     "text": [
      "C:\\Users\\paul\\AppData\\Local\\Temp\\ipykernel_14388\\3750462692.py:11: FutureWarning: suggest_discrete_uniform has been deprecated in v3.0.0. This feature will be removed in v6.0.0. See https://github.com/optuna/optuna/releases/tag/v3.0.0. Use :func:`~optuna.trial.Trial.suggest_float` instead.\n",
      "  'l2_leaf_reg': trial.suggest_discrete_uniform('l2_leaf_reg', 1.0, 5.0, 0.5),\n"
     ]
    },
    {
     "name": "stdout",
     "output_type": "stream",
     "text": [
      "100:\ttest: 0.8286243\tbest: 0.8287072 (99)\ttotal: 18s\tremaining: 14m 33s\n",
      "200:\ttest: 0.8310193\tbest: 0.8312049 (167)\ttotal: 40s\tremaining: 15m 54s\n"
     ]
    },
    {
     "name": "stderr",
     "output_type": "stream",
     "text": [
      "\u001b[32m[I 2023-03-27 22:23:26,062]\u001b[0m Trial 1 finished with value: 0.8312048839817403 and parameters: {'learning_rate': 0.035634964250410336, 'bootstrap_type': 'Bayesian', 'boosting_type': 'Ordered', 'l2_leaf_reg': 5.0, 'max_depth': 10, 'bagging_temperature': 9.96177587621334}. Best is trial 0 with value: 0.8399121767837117.\u001b[0m\n"
     ]
    },
    {
     "name": "stdout",
     "output_type": "stream",
     "text": [
      "Stopped by overfitting detector  (40 iterations wait)\n",
      "\n",
      "bestTest = 0.831204884\n",
      "bestIteration = 167\n",
      "\n",
      "Shrink model to first 168 iterations.\n",
      "0:\ttest: 0.7768741\tbest: 0.7768741 (0)\ttotal: 41.2ms\tremaining: 3m 25s\n"
     ]
    },
    {
     "name": "stderr",
     "output_type": "stream",
     "text": [
      "C:\\Users\\paul\\AppData\\Local\\Temp\\ipykernel_14388\\3750462692.py:11: FutureWarning: suggest_discrete_uniform has been deprecated in v3.0.0. This feature will be removed in v6.0.0. See https://github.com/optuna/optuna/releases/tag/v3.0.0. Use :func:`~optuna.trial.Trial.suggest_float` instead.\n",
      "  'l2_leaf_reg': trial.suggest_discrete_uniform('l2_leaf_reg', 1.0, 5.0, 0.5),\n"
     ]
    },
    {
     "name": "stdout",
     "output_type": "stream",
     "text": [
      "100:\ttest: 0.8234730\tbest: 0.8235559 (97)\ttotal: 4.16s\tremaining: 3m 21s\n"
     ]
    },
    {
     "name": "stderr",
     "output_type": "stream",
     "text": [
      "\u001b[32m[I 2023-03-27 22:23:32,477]\u001b[0m Trial 2 finished with value: 0.8244917784201298 and parameters: {'learning_rate': 0.007133655848199122, 'bootstrap_type': 'Bayesian', 'boosting_type': 'Plain', 'l2_leaf_reg': 2.0, 'max_depth': 8, 'bagging_temperature': 7.924364322683637}. Best is trial 0 with value: 0.8399121767837117.\u001b[0m\n"
     ]
    },
    {
     "name": "stdout",
     "output_type": "stream",
     "text": [
      "Stopped by overfitting detector  (40 iterations wait)\n",
      "\n",
      "bestTest = 0.8244917784\n",
      "bestIteration = 116\n",
      "\n",
      "Shrink model to first 117 iterations.\n",
      "0:\ttest: 0.7708402\tbest: 0.7708402 (0)\ttotal: 11.5ms\tremaining: 57.4s\n"
     ]
    },
    {
     "name": "stderr",
     "output_type": "stream",
     "text": [
      "C:\\Users\\paul\\AppData\\Local\\Temp\\ipykernel_14388\\3750462692.py:11: FutureWarning: suggest_discrete_uniform has been deprecated in v3.0.0. This feature will be removed in v6.0.0. See https://github.com/optuna/optuna/releases/tag/v3.0.0. Use :func:`~optuna.trial.Trial.suggest_float` instead.\n",
      "  'l2_leaf_reg': trial.suggest_discrete_uniform('l2_leaf_reg', 1.0, 5.0, 0.5),\n"
     ]
    },
    {
     "name": "stdout",
     "output_type": "stream",
     "text": [
      "100:\ttest: 0.8437327\tbest: 0.8437564 (99)\ttotal: 1.33s\tremaining: 1m 4s\n",
      "200:\ttest: 0.8461415\tbest: 0.8464614 (186)\ttotal: 2.63s\tremaining: 1m 2s\n"
     ]
    },
    {
     "name": "stderr",
     "output_type": "stream",
     "text": [
      "\u001b[32m[I 2023-03-27 22:23:35,518]\u001b[0m Trial 3 finished with value: 0.8464614035919065 and parameters: {'learning_rate': 0.08658726865115521, 'bootstrap_type': 'Bayesian', 'boosting_type': 'Plain', 'l2_leaf_reg': 3.0, 'max_depth': 3, 'bagging_temperature': 1.9547299285040476}. Best is trial 3 with value: 0.8464614035919065.\u001b[0m\n"
     ]
    },
    {
     "name": "stdout",
     "output_type": "stream",
     "text": [
      "Stopped by overfitting detector  (40 iterations wait)\n",
      "\n",
      "bestTest = 0.8464614036\n",
      "bestIteration = 186\n",
      "\n",
      "Shrink model to first 187 iterations.\n",
      "0:\ttest: 0.7864838\tbest: 0.7864838 (0)\ttotal: 25ms\tremaining: 2m 4s\n"
     ]
    },
    {
     "name": "stderr",
     "output_type": "stream",
     "text": [
      "C:\\Users\\paul\\AppData\\Local\\Temp\\ipykernel_14388\\3750462692.py:11: FutureWarning: suggest_discrete_uniform has been deprecated in v3.0.0. This feature will be removed in v6.0.0. See https://github.com/optuna/optuna/releases/tag/v3.0.0. Use :func:`~optuna.trial.Trial.suggest_float` instead.\n",
      "  'l2_leaf_reg': trial.suggest_discrete_uniform('l2_leaf_reg', 1.0, 5.0, 0.5),\n"
     ]
    },
    {
     "name": "stdout",
     "output_type": "stream",
     "text": [
      "100:\ttest: 0.8397562\tbest: 0.8400089 (84)\ttotal: 3.86s\tremaining: 3m 7s\n",
      "200:\ttest: 0.8417287\tbest: 0.8417761 (196)\ttotal: 6.85s\tremaining: 2m 43s\n",
      "300:\ttest: 0.8434524\tbest: 0.8435530 (282)\ttotal: 10.9s\tremaining: 2m 49s\n",
      "400:\ttest: 0.8452254\tbest: 0.8452254 (400)\ttotal: 18.9s\tremaining: 3m 37s\n",
      "500:\ttest: 0.8456914\tbest: 0.8461257 (475)\ttotal: 27.4s\tremaining: 4m 5s\n"
     ]
    },
    {
     "name": "stderr",
     "output_type": "stream",
     "text": [
      "\u001b[32m[I 2023-03-27 22:24:04,164]\u001b[0m Trial 4 finished with value: 0.8461257483138259 and parameters: {'learning_rate': 0.030932573298312206, 'bootstrap_type': 'Bayesian', 'boosting_type': 'Ordered', 'l2_leaf_reg': 1.5, 'max_depth': 8, 'bagging_temperature': 1.3768600754979732}. Best is trial 3 with value: 0.8464614035919065.\u001b[0m\n"
     ]
    },
    {
     "name": "stdout",
     "output_type": "stream",
     "text": [
      "Stopped by overfitting detector  (40 iterations wait)\n",
      "\n",
      "bestTest = 0.8461257483\n",
      "bestIteration = 475\n",
      "\n",
      "Shrink model to first 476 iterations.\n",
      "0:\ttest: 0.8015349\tbest: 0.8015349 (0)\ttotal: 38.4ms\tremaining: 3m 12s\n"
     ]
    },
    {
     "name": "stderr",
     "output_type": "stream",
     "text": [
      "C:\\Users\\paul\\AppData\\Local\\Temp\\ipykernel_14388\\3750462692.py:11: FutureWarning: suggest_discrete_uniform has been deprecated in v3.0.0. This feature will be removed in v6.0.0. See https://github.com/optuna/optuna/releases/tag/v3.0.0. Use :func:`~optuna.trial.Trial.suggest_float` instead.\n",
      "  'l2_leaf_reg': trial.suggest_discrete_uniform('l2_leaf_reg', 1.0, 5.0, 0.5),\n"
     ]
    },
    {
     "name": "stdout",
     "output_type": "stream",
     "text": [
      "100:\ttest: 0.8438374\tbest: 0.8441770 (84)\ttotal: 3.25s\tremaining: 2m 37s\n"
     ]
    },
    {
     "name": "stderr",
     "output_type": "stream",
     "text": [
      "\u001b[32m[I 2023-03-27 22:24:08,091]\u001b[0m Trial 5 finished with value: 0.8441769732581466 and parameters: {'learning_rate': 0.07335724635282055, 'bootstrap_type': 'Bayesian', 'boosting_type': 'Ordered', 'l2_leaf_reg': 1.5, 'max_depth': 6, 'bagging_temperature': 1.2896549006824998}. Best is trial 3 with value: 0.8464614035919065.\u001b[0m\n"
     ]
    },
    {
     "name": "stdout",
     "output_type": "stream",
     "text": [
      "Stopped by overfitting detector  (40 iterations wait)\n",
      "\n",
      "bestTest = 0.8441769733\n",
      "bestIteration = 84\n",
      "\n",
      "Shrink model to first 85 iterations.\n",
      "0:\ttest: 0.7613136\tbest: 0.7613136 (0)\ttotal: 41.4ms\tremaining: 3m 26s\n"
     ]
    },
    {
     "name": "stderr",
     "output_type": "stream",
     "text": [
      "C:\\Users\\paul\\AppData\\Local\\Temp\\ipykernel_14388\\3750462692.py:11: FutureWarning: suggest_discrete_uniform has been deprecated in v3.0.0. This feature will be removed in v6.0.0. See https://github.com/optuna/optuna/releases/tag/v3.0.0. Use :func:`~optuna.trial.Trial.suggest_float` instead.\n",
      "  'l2_leaf_reg': trial.suggest_discrete_uniform('l2_leaf_reg', 1.0, 5.0, 0.5),\n"
     ]
    },
    {
     "name": "stdout",
     "output_type": "stream",
     "text": [
      "100:\ttest: 0.8295661\tbest: 0.8296372 (98)\ttotal: 4.76s\tremaining: 3m 50s\n",
      "200:\ttest: 0.8342218\tbest: 0.8348892 (192)\ttotal: 9.5s\tremaining: 3m 46s\n"
     ]
    },
    {
     "name": "stderr",
     "output_type": "stream",
     "text": [
      "\u001b[32m[I 2023-03-27 22:24:20,205]\u001b[0m Trial 6 finished with value: 0.8353670094299389 and parameters: {'learning_rate': 0.052169683880994154, 'bootstrap_type': 'Bayesian', 'boosting_type': 'Ordered', 'l2_leaf_reg': 5.0, 'max_depth': 7, 'bagging_temperature': 8.782027990613507}. Best is trial 3 with value: 0.8464614035919065.\u001b[0m\n"
     ]
    },
    {
     "name": "stdout",
     "output_type": "stream",
     "text": [
      "Stopped by overfitting detector  (40 iterations wait)\n",
      "\n",
      "bestTest = 0.8353670094\n",
      "bestIteration = 213\n",
      "\n",
      "Shrink model to first 214 iterations.\n",
      "0:\ttest: 0.7166852\tbest: 0.7166852 (0)\ttotal: 46.9ms\tremaining: 3m 54s\n"
     ]
    },
    {
     "name": "stderr",
     "output_type": "stream",
     "text": [
      "C:\\Users\\paul\\AppData\\Local\\Temp\\ipykernel_14388\\3750462692.py:11: FutureWarning: suggest_discrete_uniform has been deprecated in v3.0.0. This feature will be removed in v6.0.0. See https://github.com/optuna/optuna/releases/tag/v3.0.0. Use :func:`~optuna.trial.Trial.suggest_float` instead.\n",
      "  'l2_leaf_reg': trial.suggest_discrete_uniform('l2_leaf_reg', 1.0, 5.0, 0.5),\n"
     ]
    },
    {
     "name": "stdout",
     "output_type": "stream",
     "text": [
      "100:\ttest: 0.8274495\tbest: 0.8274495 (100)\ttotal: 5.16s\tremaining: 4m 10s\n",
      "200:\ttest: 0.8296332\tbest: 0.8299136 (190)\ttotal: 9.91s\tremaining: 3m 56s\n",
      "300:\ttest: 0.8310390\tbest: 0.8310390 (300)\ttotal: 14.8s\tremaining: 3m 51s\n",
      "400:\ttest: 0.8319354\tbest: 0.8321250 (374)\ttotal: 19.9s\tremaining: 3m 47s\n"
     ]
    },
    {
     "name": "stderr",
     "output_type": "stream",
     "text": [
      "\u001b[32m[I 2023-03-27 22:24:42,493]\u001b[0m Trial 7 finished with value: 0.8322631853291002 and parameters: {'learning_rate': 0.04143633330311254, 'bootstrap_type': 'Bayesian', 'boosting_type': 'Ordered', 'l2_leaf_reg': 2.0, 'max_depth': 7, 'bagging_temperature': 7.642260000432812}. Best is trial 3 with value: 0.8464614035919065.\u001b[0m\n"
     ]
    },
    {
     "name": "stdout",
     "output_type": "stream",
     "text": [
      "Stopped by overfitting detector  (40 iterations wait)\n",
      "\n",
      "bestTest = 0.8322631853\n",
      "bestIteration = 411\n",
      "\n",
      "Shrink model to first 412 iterations.\n",
      "0:\ttest: 0.7864838\tbest: 0.7864838 (0)\ttotal: 22.6ms\tremaining: 1m 53s\n"
     ]
    },
    {
     "name": "stderr",
     "output_type": "stream",
     "text": [
      "C:\\Users\\paul\\AppData\\Local\\Temp\\ipykernel_14388\\3750462692.py:11: FutureWarning: suggest_discrete_uniform has been deprecated in v3.0.0. This feature will be removed in v6.0.0. See https://github.com/optuna/optuna/releases/tag/v3.0.0. Use :func:`~optuna.trial.Trial.suggest_float` instead.\n",
      "  'l2_leaf_reg': trial.suggest_discrete_uniform('l2_leaf_reg', 1.0, 5.0, 0.5),\n",
      "\u001b[32m[I 2023-03-27 22:24:44,709]\u001b[0m Trial 8 finished with value: 0.8282254497780728 and parameters: {'learning_rate': 0.005598329810915852, 'bootstrap_type': 'Bayesian', 'boosting_type': 'Ordered', 'l2_leaf_reg': 5.0, 'max_depth': 4, 'bagging_temperature': 1.389323310917947}. Best is trial 3 with value: 0.8464614035919065.\u001b[0m\n"
     ]
    },
    {
     "name": "stdout",
     "output_type": "stream",
     "text": [
      "Stopped by overfitting detector  (40 iterations wait)\n",
      "\n",
      "bestTest = 0.8282254498\n",
      "bestIteration = 44\n",
      "\n",
      "Shrink model to first 45 iterations.\n",
      "0:\ttest: 0.7200497\tbest: 0.7200497 (0)\ttotal: 17.8ms\tremaining: 1m 29s\n"
     ]
    },
    {
     "name": "stderr",
     "output_type": "stream",
     "text": [
      "C:\\Users\\paul\\AppData\\Local\\Temp\\ipykernel_14388\\3750462692.py:11: FutureWarning: suggest_discrete_uniform has been deprecated in v3.0.0. This feature will be removed in v6.0.0. See https://github.com/optuna/optuna/releases/tag/v3.0.0. Use :func:`~optuna.trial.Trial.suggest_float` instead.\n",
      "  'l2_leaf_reg': trial.suggest_discrete_uniform('l2_leaf_reg', 1.0, 5.0, 0.5),\n"
     ]
    },
    {
     "name": "stdout",
     "output_type": "stream",
     "text": [
      "100:\ttest: 0.8285552\tbest: 0.8292146 (90)\ttotal: 2.26s\tremaining: 1m 49s\n",
      "200:\ttest: 0.8369189\tbest: 0.8369189 (200)\ttotal: 4.36s\tremaining: 1m 44s\n",
      "300:\ttest: 0.8395884\tbest: 0.8395884 (300)\ttotal: 6.36s\tremaining: 1m 39s\n",
      "400:\ttest: 0.8410356\tbest: 0.8410830 (390)\ttotal: 8.62s\tremaining: 1m 38s\n",
      "500:\ttest: 0.8416418\tbest: 0.8417445 (488)\ttotal: 11s\tremaining: 1m 38s\n",
      "600:\ttest: 0.8427396\tbest: 0.8427396 (600)\ttotal: 13.1s\tremaining: 1m 36s\n",
      "700:\ttest: 0.8433477\tbest: 0.8433477 (700)\ttotal: 15.2s\tremaining: 1m 33s\n"
     ]
    },
    {
     "name": "stderr",
     "output_type": "stream",
     "text": [
      "\u001b[32m[I 2023-03-27 22:25:02,203]\u001b[0m Trial 9 finished with value: 0.8435254071301079 and parameters: {'learning_rate': 0.02562655801747844, 'bootstrap_type': 'Bayesian', 'boosting_type': 'Ordered', 'l2_leaf_reg': 4.5, 'max_depth': 3, 'bagging_temperature': 7.596347413950996}. Best is trial 3 with value: 0.8464614035919065.\u001b[0m\n"
     ]
    },
    {
     "name": "stdout",
     "output_type": "stream",
     "text": [
      "800:\ttest: 0.8432608\tbest: 0.8435254 (765)\ttotal: 17.3s\tremaining: 1m 30s\n",
      "Stopped by overfitting detector  (40 iterations wait)\n",
      "\n",
      "bestTest = 0.8435254071\n",
      "bestIteration = 765\n",
      "\n",
      "Shrink model to first 766 iterations.\n",
      "0:\ttest: 0.7783490\tbest: 0.7783490 (0)\ttotal: 19.4ms\tremaining: 1m 36s\n"
     ]
    },
    {
     "name": "stderr",
     "output_type": "stream",
     "text": [
      "C:\\Users\\paul\\AppData\\Local\\Temp\\ipykernel_14388\\3750462692.py:11: FutureWarning: suggest_discrete_uniform has been deprecated in v3.0.0. This feature will be removed in v6.0.0. See https://github.com/optuna/optuna/releases/tag/v3.0.0. Use :func:`~optuna.trial.Trial.suggest_float` instead.\n",
      "  'l2_leaf_reg': trial.suggest_discrete_uniform('l2_leaf_reg', 1.0, 5.0, 0.5),\n"
     ]
    },
    {
     "name": "stdout",
     "output_type": "stream",
     "text": [
      "100:\ttest: 0.8402755\tbest: 0.8406763 (76)\ttotal: 2.2s\tremaining: 1m 46s\n"
     ]
    },
    {
     "name": "stderr",
     "output_type": "stream",
     "text": [
      "\u001b[32m[I 2023-03-27 22:25:05,838]\u001b[0m Trial 10 finished with value: 0.8412547978960336 and parameters: {'learning_rate': 0.09714348989667161, 'bootstrap_type': 'Bayesian', 'boosting_type': 'Plain', 'l2_leaf_reg': 3.5, 'max_depth': 5, 'bagging_temperature': 3.6893157266743053}. Best is trial 3 with value: 0.8464614035919065.\u001b[0m\n"
     ]
    },
    {
     "name": "stdout",
     "output_type": "stream",
     "text": [
      "Stopped by overfitting detector  (40 iterations wait)\n",
      "\n",
      "bestTest = 0.8412547979\n",
      "bestIteration = 124\n",
      "\n",
      "Shrink model to first 125 iterations.\n",
      "0:\ttest: 0.7629010\tbest: 0.7629010 (0)\ttotal: 10.7ms\tremaining: 53.3s\n"
     ]
    },
    {
     "name": "stderr",
     "output_type": "stream",
     "text": [
      "C:\\Users\\paul\\AppData\\Local\\Temp\\ipykernel_14388\\3750462692.py:11: FutureWarning: suggest_discrete_uniform has been deprecated in v3.0.0. This feature will be removed in v6.0.0. See https://github.com/optuna/optuna/releases/tag/v3.0.0. Use :func:`~optuna.trial.Trial.suggest_float` instead.\n",
      "  'l2_leaf_reg': trial.suggest_discrete_uniform('l2_leaf_reg', 1.0, 5.0, 0.5),\n",
      "\u001b[32m[I 2023-03-27 22:25:09,125]\u001b[0m Trial 11 finished with value: 0.8361508632263975 and parameters: {'learning_rate': 0.09618206876281855, 'bootstrap_type': 'Bayesian', 'boosting_type': 'Plain', 'l2_leaf_reg': 3.0, 'max_depth': 9, 'bagging_temperature': 0.1751014805431208}. Best is trial 3 with value: 0.8464614035919065.\u001b[0m\n"
     ]
    },
    {
     "name": "stdout",
     "output_type": "stream",
     "text": [
      "Stopped by overfitting detector  (40 iterations wait)\n",
      "\n",
      "bestTest = 0.8361508632\n",
      "bestIteration = 32\n",
      "\n",
      "Shrink model to first 33 iterations.\n",
      "0:\ttest: 0.7944546\tbest: 0.7944546 (0)\ttotal: 33.7ms\tremaining: 2m 48s\n"
     ]
    },
    {
     "name": "stderr",
     "output_type": "stream",
     "text": [
      "C:\\Users\\paul\\AppData\\Local\\Temp\\ipykernel_14388\\3750462692.py:11: FutureWarning: suggest_discrete_uniform has been deprecated in v3.0.0. This feature will be removed in v6.0.0. See https://github.com/optuna/optuna/releases/tag/v3.0.0. Use :func:`~optuna.trial.Trial.suggest_float` instead.\n",
      "  'l2_leaf_reg': trial.suggest_discrete_uniform('l2_leaf_reg', 1.0, 5.0, 0.5),\n",
      "\u001b[32m[I 2023-03-27 22:25:12,903]\u001b[0m Trial 12 finished with value: 0.8311811906679933 and parameters: {'learning_rate': 0.07383597258678302, 'bootstrap_type': 'Bayesian', 'boosting_type': 'Plain', 'l2_leaf_reg': 3.0, 'max_depth': 8, 'bagging_temperature': 3.4533988804823847}. Best is trial 3 with value: 0.8464614035919065.\u001b[0m\n"
     ]
    },
    {
     "name": "stdout",
     "output_type": "stream",
     "text": [
      "Stopped by overfitting detector  (40 iterations wait)\n",
      "\n",
      "bestTest = 0.8311811907\n",
      "bestIteration = 48\n",
      "\n",
      "Shrink model to first 49 iterations.\n",
      "0:\ttest: 0.7831766\tbest: 0.7831766 (0)\ttotal: 25.5ms\tremaining: 2m 7s\n"
     ]
    },
    {
     "name": "stderr",
     "output_type": "stream",
     "text": [
      "C:\\Users\\paul\\AppData\\Local\\Temp\\ipykernel_14388\\3750462692.py:11: FutureWarning: suggest_discrete_uniform has been deprecated in v3.0.0. This feature will be removed in v6.0.0. See https://github.com/optuna/optuna/releases/tag/v3.0.0. Use :func:`~optuna.trial.Trial.suggest_float` instead.\n",
      "  'l2_leaf_reg': trial.suggest_discrete_uniform('l2_leaf_reg', 1.0, 5.0, 0.5),\n"
     ]
    },
    {
     "name": "stdout",
     "output_type": "stream",
     "text": [
      "100:\ttest: 0.8368399\tbest: 0.8373118 (90)\ttotal: 2.79s\tremaining: 2m 15s\n",
      "200:\ttest: 0.8382714\tbest: 0.8386387 (172)\ttotal: 5.43s\tremaining: 2m 9s\n"
     ]
    },
    {
     "name": "stderr",
     "output_type": "stream",
     "text": [
      "\u001b[32m[I 2023-03-27 22:25:18,851]\u001b[0m Trial 13 finished with value: 0.8386386611698178 and parameters: {'learning_rate': 0.027876857334528906, 'bootstrap_type': 'Bayesian', 'boosting_type': 'Plain', 'l2_leaf_reg': 1.0, 'max_depth': 6, 'bagging_temperature': 2.9308056834390674}. Best is trial 3 with value: 0.8464614035919065.\u001b[0m\n"
     ]
    },
    {
     "name": "stdout",
     "output_type": "stream",
     "text": [
      "Stopped by overfitting detector  (40 iterations wait)\n",
      "\n",
      "bestTest = 0.8386386612\n",
      "bestIteration = 172\n",
      "\n",
      "Shrink model to first 173 iterations.\n"
     ]
    },
    {
     "name": "stderr",
     "output_type": "stream",
     "text": [
      "C:\\Users\\paul\\AppData\\Local\\Temp\\ipykernel_14388\\3750462692.py:11: FutureWarning: suggest_discrete_uniform has been deprecated in v3.0.0. This feature will be removed in v6.0.0. See https://github.com/optuna/optuna/releases/tag/v3.0.0. Use :func:`~optuna.trial.Trial.suggest_float` instead.\n",
      "  'l2_leaf_reg': trial.suggest_discrete_uniform('l2_leaf_reg', 1.0, 5.0, 0.5),\n"
     ]
    },
    {
     "name": "stdout",
     "output_type": "stream",
     "text": [
      "0:\ttest: 0.7735669\tbest: 0.7735669 (0)\ttotal: 282ms\tremaining: 23m 29s\n",
      "100:\ttest: 0.8406783\tbest: 0.8411719 (78)\ttotal: 20.8s\tremaining: 16m 48s\n"
     ]
    },
    {
     "name": "stderr",
     "output_type": "stream",
     "text": [
      "\u001b[32m[I 2023-03-27 22:25:48,734]\u001b[0m Trial 14 finished with value: 0.8412666445529072 and parameters: {'learning_rate': 0.072845036638087, 'bootstrap_type': 'Bayesian', 'boosting_type': 'Ordered', 'l2_leaf_reg': 3.5, 'max_depth': 10, 'bagging_temperature': 4.676050026838405}. Best is trial 3 with value: 0.8464614035919065.\u001b[0m\n"
     ]
    },
    {
     "name": "stdout",
     "output_type": "stream",
     "text": [
      "Stopped by overfitting detector  (40 iterations wait)\n",
      "\n",
      "bestTest = 0.8412666446\n",
      "bestIteration = 104\n",
      "\n",
      "Shrink model to first 105 iterations.\n",
      "0:\ttest: 0.7708402\tbest: 0.7708402 (0)\ttotal: 15.8ms\tremaining: 1m 18s\n"
     ]
    },
    {
     "name": "stderr",
     "output_type": "stream",
     "text": [
      "C:\\Users\\paul\\AppData\\Local\\Temp\\ipykernel_14388\\3750462692.py:11: FutureWarning: suggest_discrete_uniform has been deprecated in v3.0.0. This feature will be removed in v6.0.0. See https://github.com/optuna/optuna/releases/tag/v3.0.0. Use :func:`~optuna.trial.Trial.suggest_float` instead.\n",
      "  'l2_leaf_reg': trial.suggest_discrete_uniform('l2_leaf_reg', 1.0, 5.0, 0.5),\n"
     ]
    },
    {
     "name": "stdout",
     "output_type": "stream",
     "text": [
      "100:\ttest: 0.8365773\tbest: 0.8367333 (98)\ttotal: 1.41s\tremaining: 1m 8s\n",
      "200:\ttest: 0.8398826\tbest: 0.8399142 (198)\ttotal: 2.67s\tremaining: 1m 3s\n",
      "300:\ttest: 0.8417326\tbest: 0.8417366 (299)\ttotal: 4s\tremaining: 1m 2s\n",
      "400:\ttest: 0.8436755\tbest: 0.8436794 (399)\ttotal: 6s\tremaining: 1m 8s\n",
      "500:\ttest: 0.8449233\tbest: 0.8450299 (494)\ttotal: 7.72s\tremaining: 1m 9s\n",
      "600:\ttest: 0.8460922\tbest: 0.8460922 (600)\ttotal: 9.51s\tremaining: 1m 9s\n",
      "700:\ttest: 0.8468069\tbest: 0.8468069 (700)\ttotal: 11.2s\tremaining: 1m 8s\n",
      "800:\ttest: 0.8470913\tbest: 0.8472532 (776)\ttotal: 13.1s\tremaining: 1m 8s\n"
     ]
    },
    {
     "name": "stderr",
     "output_type": "stream",
     "text": [
      "\u001b[32m[I 2023-03-27 22:26:02,435]\u001b[0m Trial 15 finished with value: 0.8472531551596139 and parameters: {'learning_rate': 0.019321011144242884, 'bootstrap_type': 'Bayesian', 'boosting_type': 'Plain', 'l2_leaf_reg': 2.5, 'max_depth': 3, 'bagging_temperature': 2.0854342875768017}. Best is trial 15 with value: 0.8472531551596139.\u001b[0m\n"
     ]
    },
    {
     "name": "stdout",
     "output_type": "stream",
     "text": [
      "Stopped by overfitting detector  (40 iterations wait)\n",
      "\n",
      "bestTest = 0.8472531552\n",
      "bestIteration = 776\n",
      "\n",
      "Shrink model to first 777 iterations.\n",
      "0:\ttest: 0.7209816\tbest: 0.7209816 (0)\ttotal: 21.4ms\tremaining: 1m 46s\n"
     ]
    },
    {
     "name": "stderr",
     "output_type": "stream",
     "text": [
      "C:\\Users\\paul\\AppData\\Local\\Temp\\ipykernel_14388\\3750462692.py:11: FutureWarning: suggest_discrete_uniform has been deprecated in v3.0.0. This feature will be removed in v6.0.0. See https://github.com/optuna/optuna/releases/tag/v3.0.0. Use :func:`~optuna.trial.Trial.suggest_float` instead.\n",
      "  'l2_leaf_reg': trial.suggest_discrete_uniform('l2_leaf_reg', 1.0, 5.0, 0.5),\n"
     ]
    },
    {
     "name": "stdout",
     "output_type": "stream",
     "text": [
      "100:\ttest: 0.8359850\tbest: 0.8361528 (82)\ttotal: 2.46s\tremaining: 1m 59s\n",
      "200:\ttest: 0.8392409\tbest: 0.8393277 (199)\ttotal: 4.38s\tremaining: 1m 44s\n",
      "300:\ttest: 0.8407474\tbest: 0.8407474 (300)\ttotal: 6.23s\tremaining: 1m 37s\n",
      "400:\ttest: 0.8420189\tbest: 0.8421137 (393)\ttotal: 7.69s\tremaining: 1m 28s\n",
      "500:\ttest: 0.8434997\tbest: 0.8435116 (499)\ttotal: 9.09s\tremaining: 1m 21s\n",
      "600:\ttest: 0.8446291\tbest: 0.8446607 (597)\ttotal: 10.4s\tremaining: 1m 16s\n",
      "700:\ttest: 0.8451780\tbest: 0.8451938 (693)\ttotal: 11.7s\tremaining: 1m 11s\n",
      "800:\ttest: 0.8454544\tbest: 0.8455571 (793)\ttotal: 13s\tremaining: 1m 8s\n"
     ]
    },
    {
     "name": "stderr",
     "output_type": "stream",
     "text": [
      "\u001b[32m[I 2023-03-27 22:26:16,013]\u001b[0m Trial 16 finished with value: 0.8455571087839012 and parameters: {'learning_rate': 0.016663315707087546, 'bootstrap_type': 'Bayesian', 'boosting_type': 'Plain', 'l2_leaf_reg': 2.5, 'max_depth': 3, 'bagging_temperature': 5.3013511536433695}. Best is trial 15 with value: 0.8472531551596139.\u001b[0m\n"
     ]
    },
    {
     "name": "stdout",
     "output_type": "stream",
     "text": [
      "Stopped by overfitting detector  (40 iterations wait)\n",
      "\n",
      "bestTest = 0.8455571088\n",
      "bestIteration = 793\n",
      "\n",
      "Shrink model to first 794 iterations.\n",
      "0:\ttest: 0.7852063\tbest: 0.7852063 (0)\ttotal: 16.6ms\tremaining: 1m 22s\n"
     ]
    },
    {
     "name": "stderr",
     "output_type": "stream",
     "text": [
      "C:\\Users\\paul\\AppData\\Local\\Temp\\ipykernel_14388\\3750462692.py:11: FutureWarning: suggest_discrete_uniform has been deprecated in v3.0.0. This feature will be removed in v6.0.0. See https://github.com/optuna/optuna/releases/tag/v3.0.0. Use :func:`~optuna.trial.Trial.suggest_float` instead.\n",
      "  'l2_leaf_reg': trial.suggest_discrete_uniform('l2_leaf_reg', 1.0, 5.0, 0.5),\n"
     ]
    },
    {
     "name": "stdout",
     "output_type": "stream",
     "text": [
      "100:\ttest: 0.8382339\tbest: 0.8382813 (99)\ttotal: 1.67s\tremaining: 1m 21s\n",
      "200:\ttest: 0.8426586\tbest: 0.8427337 (199)\ttotal: 3.28s\tremaining: 1m 18s\n",
      "300:\ttest: 0.8444791\tbest: 0.8444791 (300)\ttotal: 5.03s\tremaining: 1m 18s\n",
      "400:\ttest: 0.8457605\tbest: 0.8460132 (378)\ttotal: 6.71s\tremaining: 1m 16s\n"
     ]
    },
    {
     "name": "stderr",
     "output_type": "stream",
     "text": [
      "\u001b[32m[I 2023-03-27 22:26:23,129]\u001b[0m Trial 17 finished with value: 0.8460132050735283 and parameters: {'learning_rate': 0.017971823138425727, 'bootstrap_type': 'Bayesian', 'boosting_type': 'Plain', 'l2_leaf_reg': 4.0, 'max_depth': 4, 'bagging_temperature': 2.2166117907111325}. Best is trial 15 with value: 0.8472531551596139.\u001b[0m\n"
     ]
    },
    {
     "name": "stdout",
     "output_type": "stream",
     "text": [
      "Stopped by overfitting detector  (40 iterations wait)\n",
      "\n",
      "bestTest = 0.8460132051\n",
      "bestIteration = 378\n",
      "\n",
      "Shrink model to first 379 iterations.\n",
      "0:\ttest: 0.7629010\tbest: 0.7629010 (0)\ttotal: 11.2ms\tremaining: 56.2s\n"
     ]
    },
    {
     "name": "stderr",
     "output_type": "stream",
     "text": [
      "C:\\Users\\paul\\AppData\\Local\\Temp\\ipykernel_14388\\3750462692.py:11: FutureWarning: suggest_discrete_uniform has been deprecated in v3.0.0. This feature will be removed in v6.0.0. See https://github.com/optuna/optuna/releases/tag/v3.0.0. Use :func:`~optuna.trial.Trial.suggest_float` instead.\n",
      "  'l2_leaf_reg': trial.suggest_discrete_uniform('l2_leaf_reg', 1.0, 5.0, 0.5),\n"
     ]
    },
    {
     "name": "stdout",
     "output_type": "stream",
     "text": [
      "100:\ttest: 0.8443251\tbest: 0.8443251 (100)\ttotal: 1.96s\tremaining: 1m 34s\n",
      "200:\ttest: 0.8463745\tbest: 0.8464930 (197)\ttotal: 4.01s\tremaining: 1m 35s\n"
     ]
    },
    {
     "name": "stderr",
     "output_type": "stream",
     "text": [
      "\u001b[32m[I 2023-03-27 22:26:28,588]\u001b[0m Trial 18 finished with value: 0.8468207521837336 and parameters: {'learning_rate': 0.04547344955496178, 'bootstrap_type': 'Bayesian', 'boosting_type': 'Plain', 'l2_leaf_reg': 2.5, 'max_depth': 5, 'bagging_temperature': 0.5926767629006884}. Best is trial 15 with value: 0.8472531551596139.\u001b[0m\n"
     ]
    },
    {
     "name": "stdout",
     "output_type": "stream",
     "text": [
      "Stopped by overfitting detector  (40 iterations wait)\n",
      "\n",
      "bestTest = 0.8468207522\n",
      "bestIteration = 226\n",
      "\n",
      "Shrink model to first 227 iterations.\n",
      "0:\ttest: 0.7629010\tbest: 0.7629010 (0)\ttotal: 11ms\tremaining: 55.1s\n"
     ]
    },
    {
     "name": "stderr",
     "output_type": "stream",
     "text": [
      "C:\\Users\\paul\\AppData\\Local\\Temp\\ipykernel_14388\\3750462692.py:11: FutureWarning: suggest_discrete_uniform has been deprecated in v3.0.0. This feature will be removed in v6.0.0. See https://github.com/optuna/optuna/releases/tag/v3.0.0. Use :func:`~optuna.trial.Trial.suggest_float` instead.\n",
      "  'l2_leaf_reg': trial.suggest_discrete_uniform('l2_leaf_reg', 1.0, 5.0, 0.5),\n"
     ]
    },
    {
     "name": "stdout",
     "output_type": "stream",
     "text": [
      "100:\ttest: 0.8447199\tbest: 0.8447476 (97)\ttotal: 1.88s\tremaining: 1m 31s\n"
     ]
    },
    {
     "name": "stderr",
     "output_type": "stream",
     "text": [
      "\u001b[32m[I 2023-03-27 22:26:32,124]\u001b[0m Trial 19 finished with value: 0.8464159914072249 and parameters: {'learning_rate': 0.045757439405488966, 'bootstrap_type': 'Bayesian', 'boosting_type': 'Plain', 'l2_leaf_reg': 2.5, 'max_depth': 5, 'bagging_temperature': 0.18470613621756016}. Best is trial 15 with value: 0.8472531551596139.\u001b[0m\n"
     ]
    },
    {
     "name": "stdout",
     "output_type": "stream",
     "text": [
      "Stopped by overfitting detector  (40 iterations wait)\n",
      "\n",
      "bestTest = 0.8464159914\n",
      "bestIteration = 137\n",
      "\n",
      "Shrink model to first 138 iterations.\n",
      "0:\ttest: 0.7629010\tbest: 0.7629010 (0)\ttotal: 11.7ms\tremaining: 58.4s\n"
     ]
    },
    {
     "name": "stderr",
     "output_type": "stream",
     "text": [
      "C:\\Users\\paul\\AppData\\Local\\Temp\\ipykernel_14388\\3750462692.py:11: FutureWarning: suggest_discrete_uniform has been deprecated in v3.0.0. This feature will be removed in v6.0.0. See https://github.com/optuna/optuna/releases/tag/v3.0.0. Use :func:`~optuna.trial.Trial.suggest_float` instead.\n",
      "  'l2_leaf_reg': trial.suggest_discrete_uniform('l2_leaf_reg', 1.0, 5.0, 0.5),\n"
     ]
    },
    {
     "name": "stdout",
     "output_type": "stream",
     "text": [
      "100:\ttest: 0.8411482\tbest: 0.8412232 (98)\ttotal: 2.11s\tremaining: 1m 42s\n",
      "200:\ttest: 0.8437742\tbest: 0.8437979 (199)\ttotal: 4.12s\tremaining: 1m 38s\n"
     ]
    },
    {
     "name": "stderr",
     "output_type": "stream",
     "text": [
      "\u001b[32m[I 2023-03-27 22:26:38,584]\u001b[0m Trial 20 finished with value: 0.844909491541487 and parameters: {'learning_rate': 0.03969752196930133, 'bootstrap_type': 'Bayesian', 'boosting_type': 'Plain', 'l2_leaf_reg': 2.5, 'max_depth': 5, 'bagging_temperature': 0.2146878452691956}. Best is trial 15 with value: 0.8472531551596139.\u001b[0m\n"
     ]
    },
    {
     "name": "stdout",
     "output_type": "stream",
     "text": [
      "Stopped by overfitting detector  (40 iterations wait)\n",
      "\n",
      "bestTest = 0.8449094915\n",
      "bestIteration = 256\n",
      "\n",
      "Shrink model to first 257 iterations.\n",
      "0:\ttest: 0.7740586\tbest: 0.7740586 (0)\ttotal: 12.9ms\tremaining: 1m 4s\n"
     ]
    },
    {
     "name": "stderr",
     "output_type": "stream",
     "text": [
      "C:\\Users\\paul\\AppData\\Local\\Temp\\ipykernel_14388\\3750462692.py:11: FutureWarning: suggest_discrete_uniform has been deprecated in v3.0.0. This feature will be removed in v6.0.0. See https://github.com/optuna/optuna/releases/tag/v3.0.0. Use :func:`~optuna.trial.Trial.suggest_float` instead.\n",
      "  'l2_leaf_reg': trial.suggest_discrete_uniform('l2_leaf_reg', 1.0, 5.0, 0.5),\n"
     ]
    },
    {
     "name": "stdout",
     "output_type": "stream",
     "text": [
      "100:\ttest: 0.8404137\tbest: 0.8404137 (100)\ttotal: 1.33s\tremaining: 1m 4s\n",
      "200:\ttest: 0.8438492\tbest: 0.8439598 (197)\ttotal: 2.63s\tremaining: 1m 2s\n",
      "300:\ttest: 0.8454939\tbest: 0.8454939 (300)\ttotal: 3.96s\tremaining: 1m 1s\n",
      "400:\ttest: 0.8463094\tbest: 0.8463094 (400)\ttotal: 5.22s\tremaining: 59.9s\n",
      "500:\ttest: 0.8462146\tbest: 0.8466687 (481)\ttotal: 6.54s\tremaining: 58.8s\n"
     ]
    },
    {
     "name": "stderr",
     "output_type": "stream",
     "text": [
      "\u001b[32m[I 2023-03-27 22:26:45,536]\u001b[0m Trial 21 finished with value: 0.8466687200871914 and parameters: {'learning_rate': 0.05333858991635148, 'bootstrap_type': 'Bayesian', 'boosting_type': 'Plain', 'l2_leaf_reg': 3.0, 'max_depth': 3, 'bagging_temperature': 1.74587571582909}. Best is trial 15 with value: 0.8472531551596139.\u001b[0m\n"
     ]
    },
    {
     "name": "stdout",
     "output_type": "stream",
     "text": [
      "Stopped by overfitting detector  (40 iterations wait)\n",
      "\n",
      "bestTest = 0.8466687201\n",
      "bestIteration = 481\n",
      "\n",
      "Shrink model to first 482 iterations.\n",
      "0:\ttest: 0.8013414\tbest: 0.8013414 (0)\ttotal: 15.7ms\tremaining: 1m 18s\n"
     ]
    },
    {
     "name": "stderr",
     "output_type": "stream",
     "text": [
      "C:\\Users\\paul\\AppData\\Local\\Temp\\ipykernel_14388\\3750462692.py:11: FutureWarning: suggest_discrete_uniform has been deprecated in v3.0.0. This feature will be removed in v6.0.0. See https://github.com/optuna/optuna/releases/tag/v3.0.0. Use :func:`~optuna.trial.Trial.suggest_float` instead.\n",
      "  'l2_leaf_reg': trial.suggest_discrete_uniform('l2_leaf_reg', 1.0, 5.0, 0.5),\n"
     ]
    },
    {
     "name": "stdout",
     "output_type": "stream",
     "text": [
      "100:\ttest: 0.8413377\tbest: 0.8413377 (100)\ttotal: 2.3s\tremaining: 1m 51s\n",
      "200:\ttest: 0.8432371\tbest: 0.8432371 (200)\ttotal: 4.81s\tremaining: 1m 54s\n"
     ]
    },
    {
     "name": "stderr",
     "output_type": "stream",
     "text": [
      "\u001b[32m[I 2023-03-27 22:26:52,682]\u001b[0m Trial 22 finished with value: 0.8444988074365415 and parameters: {'learning_rate': 0.051365708429757816, 'bootstrap_type': 'Bayesian', 'boosting_type': 'Plain', 'l2_leaf_reg': 3.5, 'max_depth': 4, 'bagging_temperature': 2.5501953974645577}. Best is trial 15 with value: 0.8472531551596139.\u001b[0m\n"
     ]
    },
    {
     "name": "stdout",
     "output_type": "stream",
     "text": [
      "300:\ttest: 0.8437090\tbest: 0.8444988 (267)\ttotal: 6.92s\tremaining: 1m 48s\n",
      "Stopped by overfitting detector  (40 iterations wait)\n",
      "\n",
      "bestTest = 0.8444988074\n",
      "bestIteration = 267\n",
      "\n",
      "Shrink model to first 268 iterations.\n",
      "0:\ttest: 0.7629010\tbest: 0.7629010 (0)\ttotal: 12.9ms\tremaining: 1m 4s\n"
     ]
    },
    {
     "name": "stderr",
     "output_type": "stream",
     "text": [
      "C:\\Users\\paul\\AppData\\Local\\Temp\\ipykernel_14388\\3750462692.py:11: FutureWarning: suggest_discrete_uniform has been deprecated in v3.0.0. This feature will be removed in v6.0.0. See https://github.com/optuna/optuna/releases/tag/v3.0.0. Use :func:`~optuna.trial.Trial.suggest_float` instead.\n",
      "  'l2_leaf_reg': trial.suggest_discrete_uniform('l2_leaf_reg', 1.0, 5.0, 0.5),\n"
     ]
    },
    {
     "name": "stdout",
     "output_type": "stream",
     "text": [
      "100:\ttest: 0.8418906\tbest: 0.8418906 (100)\ttotal: 1.97s\tremaining: 1m 35s\n",
      "200:\ttest: 0.8443507\tbest: 0.8444929 (188)\ttotal: 3.79s\tremaining: 1m 30s\n"
     ]
    },
    {
     "name": "stderr",
     "output_type": "stream",
     "text": [
      "\u001b[32m[I 2023-03-27 22:26:57,772]\u001b[0m Trial 23 finished with value: 0.8445738362634064 and parameters: {'learning_rate': 0.05556675602619817, 'bootstrap_type': 'Bayesian', 'boosting_type': 'Plain', 'l2_leaf_reg': 2.0, 'max_depth': 3, 'bagging_temperature': 1.1245654137923946}. Best is trial 15 with value: 0.8472531551596139.\u001b[0m\n"
     ]
    },
    {
     "name": "stdout",
     "output_type": "stream",
     "text": [
      "Stopped by overfitting detector  (40 iterations wait)\n",
      "\n",
      "bestTest = 0.8445738363\n",
      "bestIteration = 234\n",
      "\n",
      "Shrink model to first 235 iterations.\n",
      "0:\ttest: 0.7629010\tbest: 0.7629010 (0)\ttotal: 14.1ms\tremaining: 1m 10s\n"
     ]
    },
    {
     "name": "stderr",
     "output_type": "stream",
     "text": [
      "C:\\Users\\paul\\AppData\\Local\\Temp\\ipykernel_14388\\3750462692.py:11: FutureWarning: suggest_discrete_uniform has been deprecated in v3.0.0. This feature will be removed in v6.0.0. See https://github.com/optuna/optuna/releases/tag/v3.0.0. Use :func:`~optuna.trial.Trial.suggest_float` instead.\n",
      "  'l2_leaf_reg': trial.suggest_discrete_uniform('l2_leaf_reg', 1.0, 5.0, 0.5),\n"
     ]
    },
    {
     "name": "stdout",
     "output_type": "stream",
     "text": [
      "100:\ttest: 0.8441197\tbest: 0.8441197 (100)\ttotal: 2.13s\tremaining: 1m 43s\n"
     ]
    },
    {
     "name": "stderr",
     "output_type": "stream",
     "text": [
      "\u001b[32m[I 2023-03-27 22:27:02,373]\u001b[0m Trial 24 finished with value: 0.8463350392519232 and parameters: {'learning_rate': 0.04642312455923414, 'bootstrap_type': 'Bayesian', 'boosting_type': 'Plain', 'l2_leaf_reg': 2.5, 'max_depth': 5, 'bagging_temperature': 0.9005114344309597}. Best is trial 15 with value: 0.8472531551596139.\u001b[0m\n"
     ]
    },
    {
     "name": "stdout",
     "output_type": "stream",
     "text": [
      "Stopped by overfitting detector  (40 iterations wait)\n",
      "\n",
      "bestTest = 0.8463350393\n",
      "bestIteration = 154\n",
      "\n",
      "Shrink model to first 155 iterations.\n",
      "0:\ttest: 0.7852063\tbest: 0.7852063 (0)\ttotal: 20.5ms\tremaining: 1m 42s\n"
     ]
    },
    {
     "name": "stderr",
     "output_type": "stream",
     "text": [
      "C:\\Users\\paul\\AppData\\Local\\Temp\\ipykernel_14388\\3750462692.py:11: FutureWarning: suggest_discrete_uniform has been deprecated in v3.0.0. This feature will be removed in v6.0.0. See https://github.com/optuna/optuna/releases/tag/v3.0.0. Use :func:`~optuna.trial.Trial.suggest_float` instead.\n",
      "  'l2_leaf_reg': trial.suggest_discrete_uniform('l2_leaf_reg', 1.0, 5.0, 0.5),\n"
     ]
    },
    {
     "name": "stdout",
     "output_type": "stream",
     "text": [
      "100:\ttest: 0.8437248\tbest: 0.8437248 (100)\ttotal: 2.09s\tremaining: 1m 41s\n",
      "200:\ttest: 0.8463489\tbest: 0.8474091 (176)\ttotal: 3.9s\tremaining: 1m 33s\n"
     ]
    },
    {
     "name": "stderr",
     "output_type": "stream",
     "text": [
      "\u001b[32m[I 2023-03-27 22:27:06,630]\u001b[0m Trial 25 finished with value: 0.8474091361417808 and parameters: {'learning_rate': 0.06111095926631775, 'bootstrap_type': 'Bayesian', 'boosting_type': 'Plain', 'l2_leaf_reg': 4.0, 'max_depth': 4, 'bagging_temperature': 2.2095109157283384}. Best is trial 25 with value: 0.8474091361417808.\u001b[0m\n"
     ]
    },
    {
     "name": "stdout",
     "output_type": "stream",
     "text": [
      "Stopped by overfitting detector  (40 iterations wait)\n",
      "\n",
      "bestTest = 0.8474091361\n",
      "bestIteration = 176\n",
      "\n",
      "Shrink model to first 177 iterations.\n",
      "0:\ttest: 0.8029861\tbest: 0.8029861 (0)\ttotal: 15.8ms\tremaining: 1m 18s\n"
     ]
    },
    {
     "name": "stderr",
     "output_type": "stream",
     "text": [
      "C:\\Users\\paul\\AppData\\Local\\Temp\\ipykernel_14388\\3750462692.py:11: FutureWarning: suggest_discrete_uniform has been deprecated in v3.0.0. This feature will be removed in v6.0.0. See https://github.com/optuna/optuna/releases/tag/v3.0.0. Use :func:`~optuna.trial.Trial.suggest_float` instead.\n",
      "  'l2_leaf_reg': trial.suggest_discrete_uniform('l2_leaf_reg', 1.0, 5.0, 0.5),\n"
     ]
    },
    {
     "name": "stdout",
     "output_type": "stream",
     "text": [
      "100:\ttest: 0.8422223\tbest: 0.8428975 (85)\ttotal: 1.73s\tremaining: 1m 24s\n",
      "200:\ttest: 0.8444297\tbest: 0.8444810 (198)\ttotal: 3.51s\tremaining: 1m 23s\n"
     ]
    },
    {
     "name": "stderr",
     "output_type": "stream",
     "text": [
      "\u001b[32m[I 2023-03-27 22:27:11,574]\u001b[0m Trial 26 finished with value: 0.8448206416149363 and parameters: {'learning_rate': 0.06238226438981943, 'bootstrap_type': 'Bayesian', 'boosting_type': 'Plain', 'l2_leaf_reg': 4.0, 'max_depth': 4, 'bagging_temperature': 2.6846699055855217}. Best is trial 25 with value: 0.8474091361417808.\u001b[0m\n"
     ]
    },
    {
     "name": "stdout",
     "output_type": "stream",
     "text": [
      "Stopped by overfitting detector  (40 iterations wait)\n",
      "\n",
      "bestTest = 0.8448206416\n",
      "bestIteration = 235\n",
      "\n",
      "Shrink model to first 236 iterations.\n",
      "0:\ttest: 0.7629010\tbest: 0.7629010 (0)\ttotal: 12.5ms\tremaining: 1m 2s\n"
     ]
    },
    {
     "name": "stderr",
     "output_type": "stream",
     "text": [
      "C:\\Users\\paul\\AppData\\Local\\Temp\\ipykernel_14388\\3750462692.py:11: FutureWarning: suggest_discrete_uniform has been deprecated in v3.0.0. This feature will be removed in v6.0.0. See https://github.com/optuna/optuna/releases/tag/v3.0.0. Use :func:`~optuna.trial.Trial.suggest_float` instead.\n",
      "  'l2_leaf_reg': trial.suggest_discrete_uniform('l2_leaf_reg', 1.0, 5.0, 0.5),\n"
     ]
    },
    {
     "name": "stdout",
     "output_type": "stream",
     "text": [
      "100:\ttest: 0.8423862\tbest: 0.8423862 (100)\ttotal: 2.59s\tremaining: 2m 5s\n",
      "200:\ttest: 0.8447081\tbest: 0.8448226 (198)\ttotal: 5.27s\tremaining: 2m 5s\n"
     ]
    },
    {
     "name": "stderr",
     "output_type": "stream",
     "text": [
      "\u001b[32m[I 2023-03-27 22:27:18,543]\u001b[0m Trial 27 finished with value: 0.84526489124769 and parameters: {'learning_rate': 0.03871189554288089, 'bootstrap_type': 'Bayesian', 'boosting_type': 'Plain', 'l2_leaf_reg': 4.0, 'max_depth': 6, 'bagging_temperature': 0.6069328583713265}. Best is trial 25 with value: 0.8474091361417808.\u001b[0m\n"
     ]
    },
    {
     "name": "stdout",
     "output_type": "stream",
     "text": [
      "Stopped by overfitting detector  (40 iterations wait)\n",
      "\n",
      "bestTest = 0.8452648912\n",
      "bestIteration = 219\n",
      "\n",
      "Shrink model to first 220 iterations.\n",
      "0:\ttest: 0.7876645\tbest: 0.7876645 (0)\ttotal: 20.5ms\tremaining: 1m 42s\n"
     ]
    },
    {
     "name": "stderr",
     "output_type": "stream",
     "text": [
      "C:\\Users\\paul\\AppData\\Local\\Temp\\ipykernel_14388\\3750462692.py:11: FutureWarning: suggest_discrete_uniform has been deprecated in v3.0.0. This feature will be removed in v6.0.0. See https://github.com/optuna/optuna/releases/tag/v3.0.0. Use :func:`~optuna.trial.Trial.suggest_float` instead.\n",
      "  'l2_leaf_reg': trial.suggest_discrete_uniform('l2_leaf_reg', 1.0, 5.0, 0.5),\n"
     ]
    },
    {
     "name": "stdout",
     "output_type": "stream",
     "text": [
      "100:\ttest: 0.8390316\tbest: 0.8390316 (100)\ttotal: 2.35s\tremaining: 1m 53s\n",
      "200:\ttest: 0.8427751\tbest: 0.8427751 (200)\ttotal: 4.93s\tremaining: 1m 57s\n",
      "300:\ttest: 0.8447555\tbest: 0.8448463 (284)\ttotal: 7.34s\tremaining: 1m 54s\n"
     ]
    },
    {
     "name": "stderr",
     "output_type": "stream",
     "text": [
      "\u001b[32m[I 2023-03-27 22:27:27,883]\u001b[0m Trial 28 finished with value: 0.8455057732707829 and parameters: {'learning_rate': 0.021967330924301278, 'bootstrap_type': 'Bayesian', 'boosting_type': 'Plain', 'l2_leaf_reg': 4.5, 'max_depth': 5, 'bagging_temperature': 1.7433421390866877}. Best is trial 25 with value: 0.8474091361417808.\u001b[0m\n"
     ]
    },
    {
     "name": "stdout",
     "output_type": "stream",
     "text": [
      "Stopped by overfitting detector  (40 iterations wait)\n",
      "\n",
      "bestTest = 0.8455057733\n",
      "bestIteration = 346\n",
      "\n",
      "Shrink model to first 347 iterations.\n",
      "0:\ttest: 0.7629010\tbest: 0.7629010 (0)\ttotal: 11.3ms\tremaining: 56.4s\n"
     ]
    },
    {
     "name": "stderr",
     "output_type": "stream",
     "text": [
      "C:\\Users\\paul\\AppData\\Local\\Temp\\ipykernel_14388\\3750462692.py:11: FutureWarning: suggest_discrete_uniform has been deprecated in v3.0.0. This feature will be removed in v6.0.0. See https://github.com/optuna/optuna/releases/tag/v3.0.0. Use :func:`~optuna.trial.Trial.suggest_float` instead.\n",
      "  'l2_leaf_reg': trial.suggest_discrete_uniform('l2_leaf_reg', 1.0, 5.0, 0.5),\n"
     ]
    },
    {
     "name": "stdout",
     "output_type": "stream",
     "text": [
      "100:\ttest: 0.8454228\tbest: 0.8454268 (98)\ttotal: 1.83s\tremaining: 1m 28s\n",
      "200:\ttest: 0.8466233\tbest: 0.8473183 (172)\ttotal: 3.72s\tremaining: 1m 28s\n"
     ]
    },
    {
     "name": "stderr",
     "output_type": "stream",
     "text": [
      "\u001b[32m[I 2023-03-27 22:27:31,900]\u001b[0m Trial 29 finished with value: 0.8473183117724177 and parameters: {'learning_rate': 0.06070927609393347, 'bootstrap_type': 'Bayesian', 'boosting_type': 'Plain', 'l2_leaf_reg': 3.5, 'max_depth': 4, 'bagging_temperature': 0.6614792415480593}. Best is trial 25 with value: 0.8474091361417808.\u001b[0m\n"
     ]
    },
    {
     "name": "stdout",
     "output_type": "stream",
     "text": [
      "Stopped by overfitting detector  (40 iterations wait)\n",
      "\n",
      "bestTest = 0.8473183118\n",
      "bestIteration = 172\n",
      "\n",
      "Shrink model to first 173 iterations.\n",
      "0:\ttest: 0.7852063\tbest: 0.7852063 (0)\ttotal: 16.2ms\tremaining: 1m 21s\n"
     ]
    },
    {
     "name": "stderr",
     "output_type": "stream",
     "text": [
      "C:\\Users\\paul\\AppData\\Local\\Temp\\ipykernel_14388\\3750462692.py:11: FutureWarning: suggest_discrete_uniform has been deprecated in v3.0.0. This feature will be removed in v6.0.0. See https://github.com/optuna/optuna/releases/tag/v3.0.0. Use :func:`~optuna.trial.Trial.suggest_float` instead.\n",
      "  'l2_leaf_reg': trial.suggest_discrete_uniform('l2_leaf_reg', 1.0, 5.0, 0.5),\n"
     ]
    },
    {
     "name": "stdout",
     "output_type": "stream",
     "text": [
      "100:\ttest: 0.8431424\tbest: 0.8431424 (100)\ttotal: 1.75s\tremaining: 1m 24s\n",
      "200:\ttest: 0.8481081\tbest: 0.8484595 (187)\ttotal: 3.44s\tremaining: 1m 22s\n"
     ]
    },
    {
     "name": "stderr",
     "output_type": "stream",
     "text": [
      "\u001b[32m[I 2023-03-27 22:27:36,976]\u001b[0m Trial 30 finished with value: 0.8489136615647065 and parameters: {'learning_rate': 0.0606136538495589, 'bootstrap_type': 'Bayesian', 'boosting_type': 'Plain', 'l2_leaf_reg': 3.5, 'max_depth': 4, 'bagging_temperature': 2.241688449983937}. Best is trial 30 with value: 0.8489136615647065.\u001b[0m\n"
     ]
    },
    {
     "name": "stdout",
     "output_type": "stream",
     "text": [
      "Stopped by overfitting detector  (40 iterations wait)\n",
      "\n",
      "bestTest = 0.8489136616\n",
      "bestIteration = 254\n",
      "\n",
      "Shrink model to first 255 iterations.\n",
      "0:\ttest: 0.7852063\tbest: 0.7852063 (0)\ttotal: 14.2ms\tremaining: 1m 11s\n"
     ]
    },
    {
     "name": "stderr",
     "output_type": "stream",
     "text": [
      "C:\\Users\\paul\\AppData\\Local\\Temp\\ipykernel_14388\\3750462692.py:11: FutureWarning: suggest_discrete_uniform has been deprecated in v3.0.0. This feature will be removed in v6.0.0. See https://github.com/optuna/optuna/releases/tag/v3.0.0. Use :func:`~optuna.trial.Trial.suggest_float` instead.\n",
      "  'l2_leaf_reg': trial.suggest_discrete_uniform('l2_leaf_reg', 1.0, 5.0, 0.5),\n"
     ]
    },
    {
     "name": "stdout",
     "output_type": "stream",
     "text": [
      "100:\ttest: 0.8443251\tbest: 0.8443251 (100)\ttotal: 1.68s\tremaining: 1m 21s\n",
      "200:\ttest: 0.8482937\tbest: 0.8482937 (200)\ttotal: 3.34s\tremaining: 1m 19s\n"
     ]
    },
    {
     "name": "stderr",
     "output_type": "stream",
     "text": [
      "\u001b[32m[I 2023-03-27 22:27:41,156]\u001b[0m Trial 31 finished with value: 0.8483963575478999 and parameters: {'learning_rate': 0.06453700864755225, 'bootstrap_type': 'Bayesian', 'boosting_type': 'Plain', 'l2_leaf_reg': 3.5, 'max_depth': 4, 'bagging_temperature': 2.164468325160004}. Best is trial 30 with value: 0.8489136615647065.\u001b[0m\n"
     ]
    },
    {
     "name": "stdout",
     "output_type": "stream",
     "text": [
      "Stopped by overfitting detector  (40 iterations wait)\n",
      "\n",
      "bestTest = 0.8483963575\n",
      "bestIteration = 204\n",
      "\n",
      "Shrink model to first 205 iterations.\n",
      "0:\ttest: 0.7601151\tbest: 0.7601151 (0)\ttotal: 14.6ms\tremaining: 1m 12s\n"
     ]
    },
    {
     "name": "stderr",
     "output_type": "stream",
     "text": [
      "C:\\Users\\paul\\AppData\\Local\\Temp\\ipykernel_14388\\3750462692.py:11: FutureWarning: suggest_discrete_uniform has been deprecated in v3.0.0. This feature will be removed in v6.0.0. See https://github.com/optuna/optuna/releases/tag/v3.0.0. Use :func:`~optuna.trial.Trial.suggest_float` instead.\n",
      "  'l2_leaf_reg': trial.suggest_discrete_uniform('l2_leaf_reg', 1.0, 5.0, 0.5),\n"
     ]
    },
    {
     "name": "stdout",
     "output_type": "stream",
     "text": [
      "100:\ttest: 0.8442836\tbest: 0.8442836 (99)\ttotal: 1.76s\tremaining: 1m 25s\n",
      "200:\ttest: 0.8461080\tbest: 0.8461080 (200)\ttotal: 4.21s\tremaining: 1m 40s\n"
     ]
    },
    {
     "name": "stderr",
     "output_type": "stream",
     "text": [
      "\u001b[32m[I 2023-03-27 22:27:46,592]\u001b[0m Trial 32 finished with value: 0.8465028668909633 and parameters: {'learning_rate': 0.06181013078939572, 'bootstrap_type': 'Bayesian', 'boosting_type': 'Plain', 'l2_leaf_reg': 3.5, 'max_depth': 4, 'bagging_temperature': 3.0336856547967166}. Best is trial 30 with value: 0.8489136615647065.\u001b[0m\n"
     ]
    },
    {
     "name": "stdout",
     "output_type": "stream",
     "text": [
      "Stopped by overfitting detector  (40 iterations wait)\n",
      "\n",
      "bestTest = 0.8465028669\n",
      "bestIteration = 217\n",
      "\n",
      "Shrink model to first 218 iterations.\n",
      "0:\ttest: 0.7629010\tbest: 0.7629010 (0)\ttotal: 14.2ms\tremaining: 1m 10s\n"
     ]
    },
    {
     "name": "stderr",
     "output_type": "stream",
     "text": [
      "C:\\Users\\paul\\AppData\\Local\\Temp\\ipykernel_14388\\3750462692.py:11: FutureWarning: suggest_discrete_uniform has been deprecated in v3.0.0. This feature will be removed in v6.0.0. See https://github.com/optuna/optuna/releases/tag/v3.0.0. Use :func:`~optuna.trial.Trial.suggest_float` instead.\n",
      "  'l2_leaf_reg': trial.suggest_discrete_uniform('l2_leaf_reg', 1.0, 5.0, 0.5),\n"
     ]
    },
    {
     "name": "stdout",
     "output_type": "stream",
     "text": [
      "100:\ttest: 0.8448542\tbest: 0.8448542 (100)\ttotal: 1.97s\tremaining: 1m 35s\n",
      "200:\ttest: 0.8459480\tbest: 0.8459757 (179)\ttotal: 3.87s\tremaining: 1m 32s\n",
      "300:\ttest: 0.8469116\tbest: 0.8475118 (277)\ttotal: 5.69s\tremaining: 1m 28s\n"
     ]
    },
    {
     "name": "stderr",
     "output_type": "stream",
     "text": [
      "\u001b[32m[I 2023-03-27 22:27:52,827]\u001b[0m Trial 33 finished with value: 0.8475118071680172 and parameters: {'learning_rate': 0.06425379878392781, 'bootstrap_type': 'Bayesian', 'boosting_type': 'Plain', 'l2_leaf_reg': 4.5, 'max_depth': 4, 'bagging_temperature': 1.0001921853085944}. Best is trial 30 with value: 0.8489136615647065.\u001b[0m\n"
     ]
    },
    {
     "name": "stdout",
     "output_type": "stream",
     "text": [
      "Stopped by overfitting detector  (40 iterations wait)\n",
      "\n",
      "bestTest = 0.8475118072\n",
      "bestIteration = 277\n",
      "\n",
      "Shrink model to first 278 iterations.\n",
      "0:\ttest: 0.7852063\tbest: 0.7852063 (0)\ttotal: 19.8ms\tremaining: 1m 39s\n"
     ]
    },
    {
     "name": "stderr",
     "output_type": "stream",
     "text": [
      "C:\\Users\\paul\\AppData\\Local\\Temp\\ipykernel_14388\\3750462692.py:11: FutureWarning: suggest_discrete_uniform has been deprecated in v3.0.0. This feature will be removed in v6.0.0. See https://github.com/optuna/optuna/releases/tag/v3.0.0. Use :func:`~optuna.trial.Trial.suggest_float` instead.\n",
      "  'l2_leaf_reg': trial.suggest_discrete_uniform('l2_leaf_reg', 1.0, 5.0, 0.5),\n"
     ]
    },
    {
     "name": "stdout",
     "output_type": "stream",
     "text": [
      "100:\ttest: 0.8425757\tbest: 0.8425757 (100)\ttotal: 2.03s\tremaining: 1m 38s\n"
     ]
    },
    {
     "name": "stderr",
     "output_type": "stream",
     "text": [
      "\u001b[32m[I 2023-03-27 22:27:56,268]\u001b[0m Trial 34 finished with value: 0.8435885893000995 and parameters: {'learning_rate': 0.06966012943746502, 'bootstrap_type': 'Bayesian', 'boosting_type': 'Plain', 'l2_leaf_reg': 4.5, 'max_depth': 4, 'bagging_temperature': 2.2256357123647628}. Best is trial 30 with value: 0.8489136615647065.\u001b[0m\n"
     ]
    },
    {
     "name": "stdout",
     "output_type": "stream",
     "text": [
      "Stopped by overfitting detector  (40 iterations wait)\n",
      "\n",
      "bestTest = 0.8435885893\n",
      "bestIteration = 133\n",
      "\n",
      "Shrink model to first 134 iterations.\n",
      "0:\ttest: 0.7811370\tbest: 0.7811370 (0)\ttotal: 14.6ms\tremaining: 1m 12s\n"
     ]
    },
    {
     "name": "stderr",
     "output_type": "stream",
     "text": [
      "C:\\Users\\paul\\AppData\\Local\\Temp\\ipykernel_14388\\3750462692.py:11: FutureWarning: suggest_discrete_uniform has been deprecated in v3.0.0. This feature will be removed in v6.0.0. See https://github.com/optuna/optuna/releases/tag/v3.0.0. Use :func:`~optuna.trial.Trial.suggest_float` instead.\n",
      "  'l2_leaf_reg': trial.suggest_discrete_uniform('l2_leaf_reg', 1.0, 5.0, 0.5),\n"
     ]
    },
    {
     "name": "stdout",
     "output_type": "stream",
     "text": [
      "100:\ttest: 0.8437722\tbest: 0.8437762 (97)\ttotal: 1.68s\tremaining: 1m 21s\n",
      "200:\ttest: 0.8457012\tbest: 0.8457289 (192)\ttotal: 3.66s\tremaining: 1m 27s\n"
     ]
    },
    {
     "name": "stderr",
     "output_type": "stream",
     "text": [
      "\u001b[32m[I 2023-03-27 22:28:01,782]\u001b[0m Trial 35 finished with value: 0.8466706945300037 and parameters: {'learning_rate': 0.05841387128506861, 'bootstrap_type': 'Bayesian', 'boosting_type': 'Plain', 'l2_leaf_reg': 4.0, 'max_depth': 4, 'bagging_temperature': 1.5829326197522637}. Best is trial 30 with value: 0.8489136615647065.\u001b[0m\n"
     ]
    },
    {
     "name": "stdout",
     "output_type": "stream",
     "text": [
      "Stopped by overfitting detector  (40 iterations wait)\n",
      "\n",
      "bestTest = 0.8466706945\n",
      "bestIteration = 235\n",
      "\n",
      "Shrink model to first 236 iterations.\n",
      "0:\ttest: 0.7629010\tbest: 0.7629010 (0)\ttotal: 16.2ms\tremaining: 1m 21s\n"
     ]
    },
    {
     "name": "stderr",
     "output_type": "stream",
     "text": [
      "C:\\Users\\paul\\AppData\\Local\\Temp\\ipykernel_14388\\3750462692.py:11: FutureWarning: suggest_discrete_uniform has been deprecated in v3.0.0. This feature will be removed in v6.0.0. See https://github.com/optuna/optuna/releases/tag/v3.0.0. Use :func:`~optuna.trial.Trial.suggest_float` instead.\n",
      "  'l2_leaf_reg': trial.suggest_discrete_uniform('l2_leaf_reg', 1.0, 5.0, 0.5),\n"
     ]
    },
    {
     "name": "stdout",
     "output_type": "stream",
     "text": [
      "100:\ttest: 0.8402202\tbest: 0.8406032 (91)\ttotal: 3.3s\tremaining: 2m 40s\n"
     ]
    },
    {
     "name": "stderr",
     "output_type": "stream",
     "text": [
      "\u001b[32m[I 2023-03-27 22:28:06,983]\u001b[0m Trial 36 finished with value: 0.8407315705507906 and parameters: {'learning_rate': 0.06593464118519117, 'bootstrap_type': 'Bayesian', 'boosting_type': 'Plain', 'l2_leaf_reg': 4.5, 'max_depth': 6, 'bagging_temperature': 1.2217751957102787}. Best is trial 30 with value: 0.8489136615647065.\u001b[0m\n"
     ]
    },
    {
     "name": "stdout",
     "output_type": "stream",
     "text": [
      "Stopped by overfitting detector  (40 iterations wait)\n",
      "\n",
      "bestTest = 0.8407315706\n",
      "bestIteration = 122\n",
      "\n",
      "Shrink model to first 123 iterations.\n",
      "0:\ttest: 0.7442228\tbest: 0.7442228 (0)\ttotal: 12.6ms\tremaining: 1m 2s\n"
     ]
    },
    {
     "name": "stderr",
     "output_type": "stream",
     "text": [
      "C:\\Users\\paul\\AppData\\Local\\Temp\\ipykernel_14388\\3750462692.py:11: FutureWarning: suggest_discrete_uniform has been deprecated in v3.0.0. This feature will be removed in v6.0.0. See https://github.com/optuna/optuna/releases/tag/v3.0.0. Use :func:`~optuna.trial.Trial.suggest_float` instead.\n",
      "  'l2_leaf_reg': trial.suggest_discrete_uniform('l2_leaf_reg', 1.0, 5.0, 0.5),\n"
     ]
    },
    {
     "name": "stdout",
     "output_type": "stream",
     "text": [
      "100:\ttest: 0.8422479\tbest: 0.8422479 (100)\ttotal: 1.7s\tremaining: 1m 22s\n",
      "200:\ttest: 0.8455848\tbest: 0.8458770 (191)\ttotal: 3.14s\tremaining: 1m 14s\n"
     ]
    },
    {
     "name": "stderr",
     "output_type": "stream",
     "text": [
      "\u001b[32m[I 2023-03-27 22:28:10,632]\u001b[0m Trial 37 finished with value: 0.8458769685194838 and parameters: {'learning_rate': 0.0796593527840948, 'bootstrap_type': 'Bayesian', 'boosting_type': 'Plain', 'l2_leaf_reg': 4.0, 'max_depth': 3, 'bagging_temperature': 3.66377009363063}. Best is trial 30 with value: 0.8489136615647065.\u001b[0m\n"
     ]
    },
    {
     "name": "stdout",
     "output_type": "stream",
     "text": [
      "Stopped by overfitting detector  (40 iterations wait)\n",
      "\n",
      "bestTest = 0.8458769685\n",
      "bestIteration = 191\n",
      "\n",
      "Shrink model to first 192 iterations.\n",
      "0:\ttest: 0.7919589\tbest: 0.7919589 (0)\ttotal: 18.7ms\tremaining: 1m 33s\n"
     ]
    },
    {
     "name": "stderr",
     "output_type": "stream",
     "text": [
      "C:\\Users\\paul\\AppData\\Local\\Temp\\ipykernel_14388\\3750462692.py:11: FutureWarning: suggest_discrete_uniform has been deprecated in v3.0.0. This feature will be removed in v6.0.0. See https://github.com/optuna/optuna/releases/tag/v3.0.0. Use :func:`~optuna.trial.Trial.suggest_float` instead.\n",
      "  'l2_leaf_reg': trial.suggest_discrete_uniform('l2_leaf_reg', 1.0, 5.0, 0.5),\n"
     ]
    },
    {
     "name": "stdout",
     "output_type": "stream",
     "text": [
      "100:\ttest: 0.8433043\tbest: 0.8433931 (96)\ttotal: 2.19s\tremaining: 1m 46s\n"
     ]
    },
    {
     "name": "stderr",
     "output_type": "stream",
     "text": [
      "\u001b[32m[I 2023-03-27 22:28:14,130]\u001b[0m Trial 38 finished with value: 0.843667567012589 and parameters: {'learning_rate': 0.06647135988465146, 'bootstrap_type': 'Bayesian', 'boosting_type': 'Plain', 'l2_leaf_reg': 5.0, 'max_depth': 5, 'bagging_temperature': 1.9977660833817987}. Best is trial 30 with value: 0.8489136615647065.\u001b[0m\n"
     ]
    },
    {
     "name": "stdout",
     "output_type": "stream",
     "text": [
      "Stopped by overfitting detector  (40 iterations wait)\n",
      "\n",
      "bestTest = 0.843667567\n",
      "bestIteration = 103\n",
      "\n",
      "Shrink model to first 104 iterations.\n",
      "0:\ttest: 0.7841006\tbest: 0.7841006 (0)\ttotal: 28.9ms\tremaining: 2m 24s\n"
     ]
    },
    {
     "name": "stderr",
     "output_type": "stream",
     "text": [
      "C:\\Users\\paul\\AppData\\Local\\Temp\\ipykernel_14388\\3750462692.py:11: FutureWarning: suggest_discrete_uniform has been deprecated in v3.0.0. This feature will be removed in v6.0.0. See https://github.com/optuna/optuna/releases/tag/v3.0.0. Use :func:`~optuna.trial.Trial.suggest_float` instead.\n",
      "  'l2_leaf_reg': trial.suggest_discrete_uniform('l2_leaf_reg', 1.0, 5.0, 0.5),\n"
     ]
    },
    {
     "name": "stdout",
     "output_type": "stream",
     "text": [
      "100:\ttest: 0.8398687\tbest: 0.8398687 (100)\ttotal: 2.52s\tremaining: 2m 2s\n",
      "200:\ttest: 0.8444554\tbest: 0.8444554 (200)\ttotal: 4.52s\tremaining: 1m 47s\n",
      "300:\ttest: 0.8459421\tbest: 0.8459935 (296)\ttotal: 6.53s\tremaining: 1m 41s\n"
     ]
    },
    {
     "name": "stderr",
     "output_type": "stream",
     "text": [
      "\u001b[32m[I 2023-03-27 22:28:21,635]\u001b[0m Trial 39 finished with value: 0.8460171539591528 and parameters: {'learning_rate': 0.05672655861815392, 'bootstrap_type': 'Bayesian', 'boosting_type': 'Ordered', 'l2_leaf_reg': 4.5, 'max_depth': 3, 'bagging_temperature': 1.0888996433471299}. Best is trial 30 with value: 0.8489136615647065.\u001b[0m\n"
     ]
    },
    {
     "name": "stdout",
     "output_type": "stream",
     "text": [
      "Stopped by overfitting detector  (40 iterations wait)\n",
      "\n",
      "bestTest = 0.846017154\n",
      "bestIteration = 301\n",
      "\n",
      "Shrink model to first 302 iterations.\n",
      "0:\ttest: 0.8222370\tbest: 0.8222370 (0)\ttotal: 29.5ms\tremaining: 2m 27s\n"
     ]
    },
    {
     "name": "stderr",
     "output_type": "stream",
     "text": [
      "C:\\Users\\paul\\AppData\\Local\\Temp\\ipykernel_14388\\3750462692.py:11: FutureWarning: suggest_discrete_uniform has been deprecated in v3.0.0. This feature will be removed in v6.0.0. See https://github.com/optuna/optuna/releases/tag/v3.0.0. Use :func:`~optuna.trial.Trial.suggest_float` instead.\n",
      "  'l2_leaf_reg': trial.suggest_discrete_uniform('l2_leaf_reg', 1.0, 5.0, 0.5),\n",
      "\u001b[32m[I 2023-03-27 22:28:24,801]\u001b[0m Trial 40 finished with value: 0.837199292359696 and parameters: {'learning_rate': 0.07944992115532935, 'bootstrap_type': 'Bayesian', 'boosting_type': 'Plain', 'l2_leaf_reg': 4.0, 'max_depth': 7, 'bagging_temperature': 2.5213549111149525}. Best is trial 30 with value: 0.8489136615647065.\u001b[0m\n"
     ]
    },
    {
     "name": "stdout",
     "output_type": "stream",
     "text": [
      "Stopped by overfitting detector  (40 iterations wait)\n",
      "\n",
      "bestTest = 0.8371992924\n",
      "bestIteration = 50\n",
      "\n",
      "Shrink model to first 51 iterations.\n",
      "0:\ttest: 0.7629010\tbest: 0.7629010 (0)\ttotal: 11.1ms\tremaining: 55.5s\n"
     ]
    },
    {
     "name": "stderr",
     "output_type": "stream",
     "text": [
      "C:\\Users\\paul\\AppData\\Local\\Temp\\ipykernel_14388\\3750462692.py:11: FutureWarning: suggest_discrete_uniform has been deprecated in v3.0.0. This feature will be removed in v6.0.0. See https://github.com/optuna/optuna/releases/tag/v3.0.0. Use :func:`~optuna.trial.Trial.suggest_float` instead.\n",
      "  'l2_leaf_reg': trial.suggest_discrete_uniform('l2_leaf_reg', 1.0, 5.0, 0.5),\n"
     ]
    },
    {
     "name": "stdout",
     "output_type": "stream",
     "text": [
      "100:\ttest: 0.8433339\tbest: 0.8436064 (93)\ttotal: 1.68s\tremaining: 1m 21s\n"
     ]
    },
    {
     "name": "stderr",
     "output_type": "stream",
     "text": [
      "\u001b[32m[I 2023-03-27 22:28:28,142]\u001b[0m Trial 41 finished with value: 0.8472492062739895 and parameters: {'learning_rate': 0.0605487472235637, 'bootstrap_type': 'Bayesian', 'boosting_type': 'Plain', 'l2_leaf_reg': 3.5, 'max_depth': 4, 'bagging_temperature': 0.6314766379618673}. Best is trial 30 with value: 0.8489136615647065.\u001b[0m\n"
     ]
    },
    {
     "name": "stdout",
     "output_type": "stream",
     "text": [
      "Stopped by overfitting detector  (40 iterations wait)\n",
      "\n",
      "bestTest = 0.8472492063\n",
      "bestIteration = 147\n",
      "\n",
      "Shrink model to first 148 iterations.\n",
      "0:\ttest: 0.7811370\tbest: 0.7811370 (0)\ttotal: 18.2ms\tremaining: 1m 31s\n"
     ]
    },
    {
     "name": "stderr",
     "output_type": "stream",
     "text": [
      "C:\\Users\\paul\\AppData\\Local\\Temp\\ipykernel_14388\\3750462692.py:11: FutureWarning: suggest_discrete_uniform has been deprecated in v3.0.0. This feature will be removed in v6.0.0. See https://github.com/optuna/optuna/releases/tag/v3.0.0. Use :func:`~optuna.trial.Trial.suggest_float` instead.\n",
      "  'l2_leaf_reg': trial.suggest_discrete_uniform('l2_leaf_reg', 1.0, 5.0, 0.5),\n"
     ]
    },
    {
     "name": "stdout",
     "output_type": "stream",
     "text": [
      "100:\ttest: 0.8420327\tbest: 0.8426330 (87)\ttotal: 2.08s\tremaining: 1m 40s\n"
     ]
    },
    {
     "name": "stderr",
     "output_type": "stream",
     "text": [
      "\u001b[32m[I 2023-03-27 22:28:31,812]\u001b[0m Trial 42 finished with value: 0.8449845203683521 and parameters: {'learning_rate': 0.0645942267123455, 'bootstrap_type': 'Bayesian', 'boosting_type': 'Plain', 'l2_leaf_reg': 3.5, 'max_depth': 4, 'bagging_temperature': 1.5363086494004285}. Best is trial 30 with value: 0.8489136615647065.\u001b[0m\n"
     ]
    },
    {
     "name": "stdout",
     "output_type": "stream",
     "text": [
      "Stopped by overfitting detector  (40 iterations wait)\n",
      "\n",
      "bestTest = 0.8449845204\n",
      "bestIteration = 148\n",
      "\n",
      "Shrink model to first 149 iterations.\n",
      "0:\ttest: 0.7629010\tbest: 0.7629010 (0)\ttotal: 10.9ms\tremaining: 54.3s\n"
     ]
    },
    {
     "name": "stderr",
     "output_type": "stream",
     "text": [
      "C:\\Users\\paul\\AppData\\Local\\Temp\\ipykernel_14388\\3750462692.py:11: FutureWarning: suggest_discrete_uniform has been deprecated in v3.0.0. This feature will be removed in v6.0.0. See https://github.com/optuna/optuna/releases/tag/v3.0.0. Use :func:`~optuna.trial.Trial.suggest_float` instead.\n",
      "  'l2_leaf_reg': trial.suggest_discrete_uniform('l2_leaf_reg', 1.0, 5.0, 0.5),\n"
     ]
    },
    {
     "name": "stdout",
     "output_type": "stream",
     "text": [
      "100:\ttest: 0.8448345\tbest: 0.8453794 (90)\ttotal: 1.67s\tremaining: 1m 21s\n",
      "200:\ttest: 0.8461119\tbest: 0.8468267 (173)\ttotal: 3.29s\tremaining: 1m 18s\n"
     ]
    },
    {
     "name": "stderr",
     "output_type": "stream",
     "text": [
      "\u001b[32m[I 2023-03-27 22:28:36,071]\u001b[0m Trial 43 finished with value: 0.846846419940293 and parameters: {'learning_rate': 0.05800075581436968, 'bootstrap_type': 'Bayesian', 'boosting_type': 'Plain', 'l2_leaf_reg': 3.5, 'max_depth': 4, 'bagging_temperature': 0.003331384053175568}. Best is trial 30 with value: 0.8489136615647065.\u001b[0m\n"
     ]
    },
    {
     "name": "stdout",
     "output_type": "stream",
     "text": [
      "Stopped by overfitting detector  (40 iterations wait)\n",
      "\n",
      "bestTest = 0.8468464199\n",
      "bestIteration = 209\n",
      "\n",
      "Shrink model to first 210 iterations.\n",
      "0:\ttest: 0.7841006\tbest: 0.7841006 (0)\ttotal: 15.4ms\tremaining: 1m 17s\n"
     ]
    },
    {
     "name": "stderr",
     "output_type": "stream",
     "text": [
      "C:\\Users\\paul\\AppData\\Local\\Temp\\ipykernel_14388\\3750462692.py:11: FutureWarning: suggest_discrete_uniform has been deprecated in v3.0.0. This feature will be removed in v6.0.0. See https://github.com/optuna/optuna/releases/tag/v3.0.0. Use :func:`~optuna.trial.Trial.suggest_float` instead.\n",
      "  'l2_leaf_reg': trial.suggest_discrete_uniform('l2_leaf_reg', 1.0, 5.0, 0.5),\n"
     ]
    },
    {
     "name": "stdout",
     "output_type": "stream",
     "text": [
      "100:\ttest: 0.8426981\tbest: 0.8427692 (99)\ttotal: 2.53s\tremaining: 2m 2s\n",
      "200:\ttest: 0.8446311\tbest: 0.8447950 (186)\ttotal: 5.41s\tremaining: 2m 9s\n",
      "300:\ttest: 0.8459204\tbest: 0.8461909 (277)\ttotal: 9.02s\tremaining: 2m 20s\n"
     ]
    },
    {
     "name": "stderr",
     "output_type": "stream",
     "text": [
      "\u001b[32m[I 2023-03-27 22:28:45,763]\u001b[0m Trial 44 finished with value: 0.8461909049266297 and parameters: {'learning_rate': 0.06844163021795176, 'bootstrap_type': 'Bayesian', 'boosting_type': 'Ordered', 'l2_leaf_reg': 3.0, 'max_depth': 5, 'bagging_temperature': 0.7083133468701637}. Best is trial 30 with value: 0.8489136615647065.\u001b[0m\n"
     ]
    },
    {
     "name": "stdout",
     "output_type": "stream",
     "text": [
      "Stopped by overfitting detector  (40 iterations wait)\n",
      "\n",
      "bestTest = 0.8461909049\n",
      "bestIteration = 277\n",
      "\n",
      "Shrink model to first 278 iterations.\n",
      "0:\ttest: 0.7811370\tbest: 0.7811370 (0)\ttotal: 15.4ms\tremaining: 1m 17s\n"
     ]
    },
    {
     "name": "stderr",
     "output_type": "stream",
     "text": [
      "C:\\Users\\paul\\AppData\\Local\\Temp\\ipykernel_14388\\3750462692.py:11: FutureWarning: suggest_discrete_uniform has been deprecated in v3.0.0. This feature will be removed in v6.0.0. See https://github.com/optuna/optuna/releases/tag/v3.0.0. Use :func:`~optuna.trial.Trial.suggest_float` instead.\n",
      "  'l2_leaf_reg': trial.suggest_discrete_uniform('l2_leaf_reg', 1.0, 5.0, 0.5),\n"
     ]
    },
    {
     "name": "stdout",
     "output_type": "stream",
     "text": [
      "100:\ttest: 0.8408402\tbest: 0.8408797 (97)\ttotal: 1.73s\tremaining: 1m 23s\n",
      "200:\ttest: 0.8445363\tbest: 0.8446508 (197)\ttotal: 3.5s\tremaining: 1m 23s\n",
      "300:\ttest: 0.8461850\tbest: 0.8462679 (297)\ttotal: 5.62s\tremaining: 1m 27s\n"
     ]
    },
    {
     "name": "stderr",
     "output_type": "stream",
     "text": [
      "\u001b[32m[I 2023-03-27 22:28:53,018]\u001b[0m Trial 45 finished with value: 0.8467022856149995 and parameters: {'learning_rate': 0.05075302976750054, 'bootstrap_type': 'Bayesian', 'boosting_type': 'Plain', 'l2_leaf_reg': 4.0, 'max_depth': 4, 'bagging_temperature': 1.4543153547585799}. Best is trial 30 with value: 0.8489136615647065.\u001b[0m\n"
     ]
    },
    {
     "name": "stdout",
     "output_type": "stream",
     "text": [
      "Stopped by overfitting detector  (40 iterations wait)\n",
      "\n",
      "bestTest = 0.8467022856\n",
      "bestIteration = 327\n",
      "\n",
      "Shrink model to first 328 iterations.\n",
      "0:\ttest: 0.7973886\tbest: 0.7973886 (0)\ttotal: 28ms\tremaining: 2m 19s\n"
     ]
    },
    {
     "name": "stderr",
     "output_type": "stream",
     "text": [
      "C:\\Users\\paul\\AppData\\Local\\Temp\\ipykernel_14388\\3750462692.py:11: FutureWarning: suggest_discrete_uniform has been deprecated in v3.0.0. This feature will be removed in v6.0.0. See https://github.com/optuna/optuna/releases/tag/v3.0.0. Use :func:`~optuna.trial.Trial.suggest_float` instead.\n",
      "  'l2_leaf_reg': trial.suggest_discrete_uniform('l2_leaf_reg', 1.0, 5.0, 0.5),\n"
     ]
    },
    {
     "name": "stdout",
     "output_type": "stream",
     "text": [
      "100:\ttest: 0.8420762\tbest: 0.8427396 (93)\ttotal: 3.04s\tremaining: 2m 27s\n"
     ]
    },
    {
     "name": "stderr",
     "output_type": "stream",
     "text": [
      "\u001b[32m[I 2023-03-27 22:28:57,058]\u001b[0m Trial 46 finished with value: 0.842739578890837 and parameters: {'learning_rate': 0.06151338607122783, 'bootstrap_type': 'Bayesian', 'boosting_type': 'Plain', 'l2_leaf_reg': 3.5, 'max_depth': 6, 'bagging_temperature': 1.817653106252568}. Best is trial 30 with value: 0.8489136615647065.\u001b[0m\n"
     ]
    },
    {
     "name": "stdout",
     "output_type": "stream",
     "text": [
      "Stopped by overfitting detector  (40 iterations wait)\n",
      "\n",
      "bestTest = 0.8427395789\n",
      "bestIteration = 93\n",
      "\n",
      "Shrink model to first 94 iterations.\n",
      "0:\ttest: 0.7841006\tbest: 0.7841006 (0)\ttotal: 15.7ms\tremaining: 1m 18s\n"
     ]
    },
    {
     "name": "stderr",
     "output_type": "stream",
     "text": [
      "C:\\Users\\paul\\AppData\\Local\\Temp\\ipykernel_14388\\3750462692.py:11: FutureWarning: suggest_discrete_uniform has been deprecated in v3.0.0. This feature will be removed in v6.0.0. See https://github.com/optuna/optuna/releases/tag/v3.0.0. Use :func:`~optuna.trial.Trial.suggest_float` instead.\n",
      "  'l2_leaf_reg': trial.suggest_discrete_uniform('l2_leaf_reg', 1.0, 5.0, 0.5),\n"
     ]
    },
    {
     "name": "stdout",
     "output_type": "stream",
     "text": [
      "100:\ttest: 0.8412133\tbest: 0.8412133 (100)\ttotal: 2.41s\tremaining: 1m 56s\n",
      "200:\ttest: 0.8448226\tbest: 0.8448226 (200)\ttotal: 5.95s\tremaining: 2m 22s\n",
      "300:\ttest: 0.8474289\tbest: 0.8474289 (300)\ttotal: 8.36s\tremaining: 2m 10s\n"
     ]
    },
    {
     "name": "stderr",
     "output_type": "stream",
     "text": [
      "\u001b[32m[I 2023-03-27 22:29:07,528]\u001b[0m Trial 47 finished with value: 0.8476875325783064 and parameters: {'learning_rate': 0.05537148312203969, 'bootstrap_type': 'Bayesian', 'boosting_type': 'Ordered', 'l2_leaf_reg': 3.0, 'max_depth': 3, 'bagging_temperature': 1.0949047249292498}. Best is trial 30 with value: 0.8489136615647065.\u001b[0m\n"
     ]
    },
    {
     "name": "stdout",
     "output_type": "stream",
     "text": [
      "Stopped by overfitting detector  (40 iterations wait)\n",
      "\n",
      "bestTest = 0.8476875326\n",
      "bestIteration = 350\n",
      "\n",
      "Shrink model to first 351 iterations.\n",
      "0:\ttest: 0.7280185\tbest: 0.7280185 (0)\ttotal: 19ms\tremaining: 1m 35s\n"
     ]
    },
    {
     "name": "stderr",
     "output_type": "stream",
     "text": [
      "C:\\Users\\paul\\AppData\\Local\\Temp\\ipykernel_14388\\3750462692.py:11: FutureWarning: suggest_discrete_uniform has been deprecated in v3.0.0. This feature will be removed in v6.0.0. See https://github.com/optuna/optuna/releases/tag/v3.0.0. Use :func:`~optuna.trial.Trial.suggest_float` instead.\n",
      "  'l2_leaf_reg': trial.suggest_discrete_uniform('l2_leaf_reg', 1.0, 5.0, 0.5),\n"
     ]
    },
    {
     "name": "stdout",
     "output_type": "stream",
     "text": [
      "100:\ttest: 0.8391421\tbest: 0.8391737 (99)\ttotal: 2.17s\tremaining: 1m 45s\n",
      "200:\ttest: 0.8437110\tbest: 0.8437110 (199)\ttotal: 4.42s\tremaining: 1m 45s\n",
      "300:\ttest: 0.8450892\tbest: 0.8451010 (299)\ttotal: 6.75s\tremaining: 1m 45s\n",
      "400:\ttest: 0.8460053\tbest: 0.8460369 (383)\ttotal: 8.99s\tremaining: 1m 43s\n"
     ]
    },
    {
     "name": "stderr",
     "output_type": "stream",
     "text": [
      "\u001b[32m[I 2023-03-27 22:29:17,125]\u001b[0m Trial 48 finished with value: 0.8460368983872751 and parameters: {'learning_rate': 0.07004119265391259, 'bootstrap_type': 'Bayesian', 'boosting_type': 'Ordered', 'l2_leaf_reg': 3.0, 'max_depth': 3, 'bagging_temperature': 3.2253590616116083}. Best is trial 30 with value: 0.8489136615647065.\u001b[0m\n"
     ]
    },
    {
     "name": "stdout",
     "output_type": "stream",
     "text": [
      "Stopped by overfitting detector  (40 iterations wait)\n",
      "\n",
      "bestTest = 0.8460368984\n",
      "bestIteration = 383\n",
      "\n",
      "Shrink model to first 384 iterations.\n",
      "0:\ttest: 0.7939985\tbest: 0.7939985 (0)\ttotal: 63.3ms\tremaining: 5m 16s\n"
     ]
    },
    {
     "name": "stderr",
     "output_type": "stream",
     "text": [
      "C:\\Users\\paul\\AppData\\Local\\Temp\\ipykernel_14388\\3750462692.py:11: FutureWarning: suggest_discrete_uniform has been deprecated in v3.0.0. This feature will be removed in v6.0.0. See https://github.com/optuna/optuna/releases/tag/v3.0.0. Use :func:`~optuna.trial.Trial.suggest_float` instead.\n",
      "  'l2_leaf_reg': trial.suggest_discrete_uniform('l2_leaf_reg', 1.0, 5.0, 0.5),\n"
     ]
    },
    {
     "name": "stdout",
     "output_type": "stream",
     "text": [
      "100:\ttest: 0.8434583\tbest: 0.8440861 (77)\ttotal: 7.62s\tremaining: 6m 9s\n",
      "200:\ttest: 0.8449529\tbest: 0.8454189 (166)\ttotal: 14.6s\tremaining: 5m 49s\n"
     ]
    },
    {
     "name": "stderr",
     "output_type": "stream",
     "text": [
      "\u001b[32m[I 2023-03-27 22:29:32,463]\u001b[0m Trial 49 finished with value: 0.8454188977870445 and parameters: {'learning_rate': 0.054353748969541246, 'bootstrap_type': 'Bayesian', 'boosting_type': 'Ordered', 'l2_leaf_reg': 4.5, 'max_depth': 9, 'bagging_temperature': 2.2840548503735008}. Best is trial 30 with value: 0.8489136615647065.\u001b[0m\n"
     ]
    },
    {
     "name": "stdout",
     "output_type": "stream",
     "text": [
      "Stopped by overfitting detector  (40 iterations wait)\n",
      "\n",
      "bestTest = 0.8454188978\n",
      "bestIteration = 166\n",
      "\n",
      "Shrink model to first 167 iterations.\n",
      "0:\ttest: 0.7494531\tbest: 0.7494531 (0)\ttotal: 19ms\tremaining: 1m 35s\n"
     ]
    },
    {
     "name": "stderr",
     "output_type": "stream",
     "text": [
      "C:\\Users\\paul\\AppData\\Local\\Temp\\ipykernel_14388\\3750462692.py:11: FutureWarning: suggest_discrete_uniform has been deprecated in v3.0.0. This feature will be removed in v6.0.0. See https://github.com/optuna/optuna/releases/tag/v3.0.0. Use :func:`~optuna.trial.Trial.suggest_float` instead.\n",
      "  'l2_leaf_reg': trial.suggest_discrete_uniform('l2_leaf_reg', 1.0, 5.0, 0.5),\n"
     ]
    },
    {
     "name": "stdout",
     "output_type": "stream",
     "text": [
      "100:\ttest: 0.8410179\tbest: 0.8412311 (92)\ttotal: 2.76s\tremaining: 2m 13s\n",
      "200:\ttest: 0.8434721\tbest: 0.8434721 (200)\ttotal: 5.27s\tremaining: 2m 5s\n",
      "300:\ttest: 0.8446785\tbest: 0.8446785 (300)\ttotal: 7.7s\tremaining: 2m\n",
      "400:\ttest: 0.8455867\tbest: 0.8457131 (375)\ttotal: 11.1s\tremaining: 2m 6s\n"
     ]
    },
    {
     "name": "stderr",
     "output_type": "stream",
     "text": [
      "\u001b[32m[I 2023-03-27 22:29:45,339]\u001b[0m Trial 50 finished with value: 0.846044796158524 and parameters: {'learning_rate': 0.0494595419500439, 'bootstrap_type': 'Bayesian', 'boosting_type': 'Ordered', 'l2_leaf_reg': 5.0, 'max_depth': 3, 'bagging_temperature': 2.7825657702566815}. Best is trial 30 with value: 0.8489136615647065.\u001b[0m\n"
     ]
    },
    {
     "name": "stdout",
     "output_type": "stream",
     "text": [
      "Stopped by overfitting detector  (40 iterations wait)\n",
      "\n",
      "bestTest = 0.8460447962\n",
      "bestIteration = 410\n",
      "\n",
      "Shrink model to first 411 iterations.\n",
      "0:\ttest: 0.7478498\tbest: 0.7478498 (0)\ttotal: 25.7ms\tremaining: 2m 8s\n"
     ]
    },
    {
     "name": "stderr",
     "output_type": "stream",
     "text": [
      "C:\\Users\\paul\\AppData\\Local\\Temp\\ipykernel_14388\\3750462692.py:11: FutureWarning: suggest_discrete_uniform has been deprecated in v3.0.0. This feature will be removed in v6.0.0. See https://github.com/optuna/optuna/releases/tag/v3.0.0. Use :func:`~optuna.trial.Trial.suggest_float` instead.\n",
      "  'l2_leaf_reg': trial.suggest_discrete_uniform('l2_leaf_reg', 1.0, 5.0, 0.5),\n"
     ]
    },
    {
     "name": "stdout",
     "output_type": "stream",
     "text": [
      "100:\ttest: 0.8417306\tbest: 0.8417306 (100)\ttotal: 3.25s\tremaining: 2m 37s\n",
      "200:\ttest: 0.8452629\tbest: 0.8452629 (200)\ttotal: 5.9s\tremaining: 2m 20s\n",
      "300:\ttest: 0.8475908\tbest: 0.8476184 (298)\ttotal: 9.22s\tremaining: 2m 23s\n"
     ]
    },
    {
     "name": "stderr",
     "output_type": "stream",
     "text": [
      "\u001b[32m[I 2023-03-27 22:29:57,100]\u001b[0m Trial 51 finished with value: 0.8479481590295218 and parameters: {'learning_rate': 0.058370176282669405, 'bootstrap_type': 'Bayesian', 'boosting_type': 'Ordered', 'l2_leaf_reg': 3.0, 'max_depth': 4, 'bagging_temperature': 1.10857896047873}. Best is trial 30 with value: 0.8489136615647065.\u001b[0m\n"
     ]
    },
    {
     "name": "stdout",
     "output_type": "stream",
     "text": [
      "Stopped by overfitting detector  (40 iterations wait)\n",
      "\n",
      "bestTest = 0.847948159\n",
      "bestIteration = 348\n",
      "\n",
      "Shrink model to first 349 iterations.\n",
      "0:\ttest: 0.7740586\tbest: 0.7740586 (0)\ttotal: 17.2ms\tremaining: 1m 26s\n"
     ]
    },
    {
     "name": "stderr",
     "output_type": "stream",
     "text": [
      "C:\\Users\\paul\\AppData\\Local\\Temp\\ipykernel_14388\\3750462692.py:11: FutureWarning: suggest_discrete_uniform has been deprecated in v3.0.0. This feature will be removed in v6.0.0. See https://github.com/optuna/optuna/releases/tag/v3.0.0. Use :func:`~optuna.trial.Trial.suggest_float` instead.\n",
      "  'l2_leaf_reg': trial.suggest_discrete_uniform('l2_leaf_reg', 1.0, 5.0, 0.5),\n"
     ]
    },
    {
     "name": "stdout",
     "output_type": "stream",
     "text": [
      "100:\ttest: 0.8421157\tbest: 0.8421393 (99)\ttotal: 2.11s\tremaining: 1m 42s\n",
      "200:\ttest: 0.8463528\tbest: 0.8463647 (196)\ttotal: 4.25s\tremaining: 1m 41s\n"
     ]
    },
    {
     "name": "stderr",
     "output_type": "stream",
     "text": [
      "\u001b[32m[I 2023-03-27 22:30:02,508]\u001b[0m Trial 52 finished with value: 0.8465068157765878 and parameters: {'learning_rate': 0.06468635832278631, 'bootstrap_type': 'Bayesian', 'boosting_type': 'Ordered', 'l2_leaf_reg': 3.0, 'max_depth': 3, 'bagging_temperature': 1.4311209793518014}. Best is trial 30 with value: 0.8489136615647065.\u001b[0m\n"
     ]
    },
    {
     "name": "stdout",
     "output_type": "stream",
     "text": [
      "Stopped by overfitting detector  (40 iterations wait)\n",
      "\n",
      "bestTest = 0.8465068158\n",
      "bestIteration = 208\n",
      "\n",
      "Shrink model to first 209 iterations.\n",
      "0:\ttest: 0.7841006\tbest: 0.7841006 (0)\ttotal: 17.1ms\tremaining: 1m 25s\n"
     ]
    },
    {
     "name": "stderr",
     "output_type": "stream",
     "text": [
      "C:\\Users\\paul\\AppData\\Local\\Temp\\ipykernel_14388\\3750462692.py:11: FutureWarning: suggest_discrete_uniform has been deprecated in v3.0.0. This feature will be removed in v6.0.0. See https://github.com/optuna/optuna/releases/tag/v3.0.0. Use :func:`~optuna.trial.Trial.suggest_float` instead.\n",
      "  'l2_leaf_reg': trial.suggest_discrete_uniform('l2_leaf_reg', 1.0, 5.0, 0.5),\n"
     ]
    },
    {
     "name": "stdout",
     "output_type": "stream",
     "text": [
      "100:\ttest: 0.8417287\tbest: 0.8417287 (100)\ttotal: 2.63s\tremaining: 2m 7s\n",
      "200:\ttest: 0.8432391\tbest: 0.8432391 (200)\ttotal: 5.75s\tremaining: 2m 17s\n"
     ]
    },
    {
     "name": "stderr",
     "output_type": "stream",
     "text": [
      "\u001b[32m[I 2023-03-27 22:30:12,268]\u001b[0m Trial 53 finished with value: 0.8442658231846973 and parameters: {'learning_rate': 0.05510488480981222, 'bootstrap_type': 'Bayesian', 'boosting_type': 'Ordered', 'l2_leaf_reg': 3.0, 'max_depth': 4, 'bagging_temperature': 1.0675465325702898}. Best is trial 30 with value: 0.8489136615647065.\u001b[0m\n"
     ]
    },
    {
     "name": "stdout",
     "output_type": "stream",
     "text": [
      "300:\ttest: 0.8438137\tbest: 0.8442658 (261)\ttotal: 9.62s\tremaining: 2m 30s\n",
      "Stopped by overfitting detector  (40 iterations wait)\n",
      "\n",
      "bestTest = 0.8442658232\n",
      "bestIteration = 261\n",
      "\n",
      "Shrink model to first 262 iterations.\n",
      "0:\ttest: 0.7851095\tbest: 0.7851095 (0)\ttotal: 41.3ms\tremaining: 3m 26s\n"
     ]
    },
    {
     "name": "stderr",
     "output_type": "stream",
     "text": [
      "C:\\Users\\paul\\AppData\\Local\\Temp\\ipykernel_14388\\3750462692.py:11: FutureWarning: suggest_discrete_uniform has been deprecated in v3.0.0. This feature will be removed in v6.0.0. See https://github.com/optuna/optuna/releases/tag/v3.0.0. Use :func:`~optuna.trial.Trial.suggest_float` instead.\n",
      "  'l2_leaf_reg': trial.suggest_discrete_uniform('l2_leaf_reg', 1.0, 5.0, 0.5),\n"
     ]
    },
    {
     "name": "stdout",
     "output_type": "stream",
     "text": [
      "100:\ttest: 0.8395963\tbest: 0.8396318 (98)\ttotal: 4.92s\tremaining: 3m 58s\n",
      "200:\ttest: 0.8424237\tbest: 0.8424237 (200)\ttotal: 8.59s\tremaining: 3m 25s\n",
      "300:\ttest: 0.8430081\tbest: 0.8430397 (297)\ttotal: 13.1s\tremaining: 3m 24s\n"
     ]
    },
    {
     "name": "stderr",
     "output_type": "stream",
     "text": [
      "\u001b[32m[I 2023-03-27 22:30:27,686]\u001b[0m Trial 54 finished with value: 0.8439953245194206 and parameters: {'learning_rate': 0.05806797838589432, 'bootstrap_type': 'Bayesian', 'boosting_type': 'Ordered', 'l2_leaf_reg': 2.0, 'max_depth': 5, 'bagging_temperature': 2.133052627254205}. Best is trial 30 with value: 0.8489136615647065.\u001b[0m\n"
     ]
    },
    {
     "name": "stdout",
     "output_type": "stream",
     "text": [
      "Stopped by overfitting detector  (40 iterations wait)\n",
      "\n",
      "bestTest = 0.8439953245\n",
      "bestIteration = 321\n",
      "\n",
      "Shrink model to first 322 iterations.\n",
      "0:\ttest: 0.7740586\tbest: 0.7740586 (0)\ttotal: 17.4ms\tremaining: 1m 26s\n"
     ]
    },
    {
     "name": "stderr",
     "output_type": "stream",
     "text": [
      "C:\\Users\\paul\\AppData\\Local\\Temp\\ipykernel_14388\\3750462692.py:11: FutureWarning: suggest_discrete_uniform has been deprecated in v3.0.0. This feature will be removed in v6.0.0. See https://github.com/optuna/optuna/releases/tag/v3.0.0. Use :func:`~optuna.trial.Trial.suggest_float` instead.\n",
      "  'l2_leaf_reg': trial.suggest_discrete_uniform('l2_leaf_reg', 1.0, 5.0, 0.5),\n"
     ]
    },
    {
     "name": "stdout",
     "output_type": "stream",
     "text": [
      "100:\ttest: 0.8401017\tbest: 0.8403308 (95)\ttotal: 2.1s\tremaining: 1m 41s\n",
      "200:\ttest: 0.8416043\tbest: 0.8420110 (171)\ttotal: 4.13s\tremaining: 1m 38s\n"
     ]
    },
    {
     "name": "stderr",
     "output_type": "stream",
     "text": [
      "\u001b[32m[I 2023-03-27 22:30:33,644]\u001b[0m Trial 55 finished with value: 0.8429567676001832 and parameters: {'learning_rate': 0.07498055048457011, 'bootstrap_type': 'Bayesian', 'boosting_type': 'Ordered', 'l2_leaf_reg': 3.5, 'max_depth': 3, 'bagging_temperature': 1.8192230946657237}. Best is trial 30 with value: 0.8489136615647065.\u001b[0m\n"
     ]
    },
    {
     "name": "stdout",
     "output_type": "stream",
     "text": [
      "Stopped by overfitting detector  (40 iterations wait)\n",
      "\n",
      "bestTest = 0.8429567676\n",
      "bestIteration = 242\n",
      "\n",
      "Shrink model to first 243 iterations.\n",
      "0:\ttest: 0.7629010\tbest: 0.7629010 (0)\ttotal: 17.8ms\tremaining: 1m 28s\n"
     ]
    },
    {
     "name": "stderr",
     "output_type": "stream",
     "text": [
      "C:\\Users\\paul\\AppData\\Local\\Temp\\ipykernel_14388\\3750462692.py:11: FutureWarning: suggest_discrete_uniform has been deprecated in v3.0.0. This feature will be removed in v6.0.0. See https://github.com/optuna/optuna/releases/tag/v3.0.0. Use :func:`~optuna.trial.Trial.suggest_float` instead.\n",
      "  'l2_leaf_reg': trial.suggest_discrete_uniform('l2_leaf_reg', 1.0, 5.0, 0.5),\n"
     ]
    },
    {
     "name": "stdout",
     "output_type": "stream",
     "text": [
      "100:\ttest: 0.8424019\tbest: 0.8424019 (96)\ttotal: 2.5s\tremaining: 2m 1s\n",
      "200:\ttest: 0.8449095\tbest: 0.8450201 (199)\ttotal: 4.85s\tremaining: 1m 55s\n",
      "300:\ttest: 0.8458750\tbest: 0.8459757 (287)\ttotal: 7.44s\tremaining: 1m 56s\n"
     ]
    },
    {
     "name": "stderr",
     "output_type": "stream",
     "text": [
      "\u001b[32m[I 2023-03-27 22:30:41,869]\u001b[0m Trial 56 finished with value: 0.8459756906600957 and parameters: {'learning_rate': 0.06367982848951297, 'bootstrap_type': 'Bayesian', 'boosting_type': 'Ordered', 'l2_leaf_reg': 3.0, 'max_depth': 4, 'bagging_temperature': 0.3509126777084772}. Best is trial 30 with value: 0.8489136615647065.\u001b[0m\n"
     ]
    },
    {
     "name": "stdout",
     "output_type": "stream",
     "text": [
      "Stopped by overfitting detector  (40 iterations wait)\n",
      "\n",
      "bestTest = 0.8459756907\n",
      "bestIteration = 287\n",
      "\n",
      "Shrink model to first 288 iterations.\n",
      "0:\ttest: 0.7841006\tbest: 0.7841006 (0)\ttotal: 17.4ms\tremaining: 1m 27s\n"
     ]
    },
    {
     "name": "stderr",
     "output_type": "stream",
     "text": [
      "C:\\Users\\paul\\AppData\\Local\\Temp\\ipykernel_14388\\3750462692.py:11: FutureWarning: suggest_discrete_uniform has been deprecated in v3.0.0. This feature will be removed in v6.0.0. See https://github.com/optuna/optuna/releases/tag/v3.0.0. Use :func:`~optuna.trial.Trial.suggest_float` instead.\n",
      "  'l2_leaf_reg': trial.suggest_discrete_uniform('l2_leaf_reg', 1.0, 5.0, 0.5),\n"
     ]
    },
    {
     "name": "stdout",
     "output_type": "stream",
     "text": [
      "100:\ttest: 0.8385715\tbest: 0.8385715 (100)\ttotal: 2.04s\tremaining: 1m 39s\n",
      "200:\ttest: 0.8427040\tbest: 0.8427159 (197)\ttotal: 4.21s\tremaining: 1m 40s\n",
      "300:\ttest: 0.8443527\tbest: 0.8445067 (292)\ttotal: 6.33s\tremaining: 1m 38s\n",
      "400:\ttest: 0.8452076\tbest: 0.8454406 (385)\ttotal: 8.41s\tremaining: 1m 36s\n"
     ]
    },
    {
     "name": "stderr",
     "output_type": "stream",
     "text": [
      "\u001b[32m[I 2023-03-27 22:30:50,925]\u001b[0m Trial 57 finished with value: 0.8454406166579791 and parameters: {'learning_rate': 0.04945027695005229, 'bootstrap_type': 'Bayesian', 'boosting_type': 'Ordered', 'l2_leaf_reg': 4.0, 'max_depth': 3, 'bagging_temperature': 1.0919000302287858}. Best is trial 30 with value: 0.8489136615647065.\u001b[0m\n"
     ]
    },
    {
     "name": "stdout",
     "output_type": "stream",
     "text": [
      "Stopped by overfitting detector  (40 iterations wait)\n",
      "\n",
      "bestTest = 0.8454406167\n",
      "bestIteration = 385\n",
      "\n",
      "Shrink model to first 386 iterations.\n",
      "0:\ttest: 0.7796068\tbest: 0.7796068 (0)\ttotal: 28.6ms\tremaining: 2m 23s\n"
     ]
    },
    {
     "name": "stderr",
     "output_type": "stream",
     "text": [
      "C:\\Users\\paul\\AppData\\Local\\Temp\\ipykernel_14388\\3750462692.py:11: FutureWarning: suggest_discrete_uniform has been deprecated in v3.0.0. This feature will be removed in v6.0.0. See https://github.com/optuna/optuna/releases/tag/v3.0.0. Use :func:`~optuna.trial.Trial.suggest_float` instead.\n",
      "  'l2_leaf_reg': trial.suggest_discrete_uniform('l2_leaf_reg', 1.0, 5.0, 0.5),\n"
     ]
    },
    {
     "name": "stdout",
     "output_type": "stream",
     "text": [
      "100:\ttest: 0.8441414\tbest: 0.8446824 (85)\ttotal: 3.43s\tremaining: 2m 46s\n"
     ]
    },
    {
     "name": "stderr",
     "output_type": "stream",
     "text": [
      "\u001b[32m[I 2023-03-27 22:30:56,714]\u001b[0m Trial 58 finished with value: 0.8449035682130502 and parameters: {'learning_rate': 0.06795006910248826, 'bootstrap_type': 'Bayesian', 'boosting_type': 'Ordered', 'l2_leaf_reg': 1.0, 'max_depth': 5, 'bagging_temperature': 2.5010303360788475}. Best is trial 30 with value: 0.8489136615647065.\u001b[0m\n"
     ]
    },
    {
     "name": "stdout",
     "output_type": "stream",
     "text": [
      "Stopped by overfitting detector  (40 iterations wait)\n",
      "\n",
      "bestTest = 0.8449035682\n",
      "bestIteration = 129\n",
      "\n",
      "Shrink model to first 130 iterations.\n",
      "0:\ttest: 0.7539686\tbest: 0.7539686 (0)\ttotal: 22.7ms\tremaining: 1m 53s\n"
     ]
    },
    {
     "name": "stderr",
     "output_type": "stream",
     "text": [
      "C:\\Users\\paul\\AppData\\Local\\Temp\\ipykernel_14388\\3750462692.py:11: FutureWarning: suggest_discrete_uniform has been deprecated in v3.0.0. This feature will be removed in v6.0.0. See https://github.com/optuna/optuna/releases/tag/v3.0.0. Use :func:`~optuna.trial.Trial.suggest_float` instead.\n",
      "  'l2_leaf_reg': trial.suggest_discrete_uniform('l2_leaf_reg', 1.0, 5.0, 0.5),\n",
      "\u001b[32m[I 2023-03-27 22:30:59,646]\u001b[0m Trial 59 finished with value: 0.842788939961143 and parameters: {'learning_rate': 0.05540755900856251, 'bootstrap_type': 'Bayesian', 'boosting_type': 'Ordered', 'l2_leaf_reg': 3.0, 'max_depth': 4, 'bagging_temperature': 4.040562114101328}. Best is trial 30 with value: 0.8489136615647065.\u001b[0m\n"
     ]
    },
    {
     "name": "stdout",
     "output_type": "stream",
     "text": [
      "100:\ttest: 0.8421551\tbest: 0.8427889 (61)\ttotal: 2.83s\tremaining: 2m 17s\n",
      "Stopped by overfitting detector  (40 iterations wait)\n",
      "\n",
      "bestTest = 0.84278894\n",
      "bestIteration = 61\n",
      "\n",
      "Shrink model to first 62 iterations.\n",
      "0:\ttest: 0.7841006\tbest: 0.7841006 (0)\ttotal: 20.2ms\tremaining: 1m 41s\n"
     ]
    },
    {
     "name": "stderr",
     "output_type": "stream",
     "text": [
      "C:\\Users\\paul\\AppData\\Local\\Temp\\ipykernel_14388\\3750462692.py:11: FutureWarning: suggest_discrete_uniform has been deprecated in v3.0.0. This feature will be removed in v6.0.0. See https://github.com/optuna/optuna/releases/tag/v3.0.0. Use :func:`~optuna.trial.Trial.suggest_float` instead.\n",
      "  'l2_leaf_reg': trial.suggest_discrete_uniform('l2_leaf_reg', 1.0, 5.0, 0.5),\n"
     ]
    },
    {
     "name": "stdout",
     "output_type": "stream",
     "text": [
      "100:\ttest: 0.8387670\tbest: 0.8387670 (100)\ttotal: 2.56s\tremaining: 2m 4s\n",
      "200:\ttest: 0.8418471\tbest: 0.8419538 (198)\ttotal: 5.11s\tremaining: 2m 2s\n",
      "300:\ttest: 0.8442895\tbest: 0.8442895 (300)\ttotal: 8.38s\tremaining: 2m 10s\n",
      "400:\ttest: 0.8453320\tbest: 0.8453320 (398)\ttotal: 11s\tremaining: 2m 5s\n"
     ]
    },
    {
     "name": "stderr",
     "output_type": "stream",
     "text": [
      "\u001b[32m[I 2023-03-27 22:31:11,995]\u001b[0m Trial 60 finished with value: 0.8453320223033061 and parameters: {'learning_rate': 0.0432512213450161, 'bootstrap_type': 'Bayesian', 'boosting_type': 'Ordered', 'l2_leaf_reg': 2.5, 'max_depth': 3, 'bagging_temperature': 0.9140585623904826}. Best is trial 30 with value: 0.8489136615647065.\u001b[0m\n"
     ]
    },
    {
     "name": "stdout",
     "output_type": "stream",
     "text": [
      "Stopped by overfitting detector  (40 iterations wait)\n",
      "\n",
      "bestTest = 0.8453320223\n",
      "bestIteration = 398\n",
      "\n",
      "Shrink model to first 399 iterations.\n",
      "0:\ttest: 0.7629010\tbest: 0.7629010 (0)\ttotal: 23.7ms\tremaining: 1m 58s\n"
     ]
    },
    {
     "name": "stderr",
     "output_type": "stream",
     "text": [
      "C:\\Users\\paul\\AppData\\Local\\Temp\\ipykernel_14388\\3750462692.py:11: FutureWarning: suggest_discrete_uniform has been deprecated in v3.0.0. This feature will be removed in v6.0.0. See https://github.com/optuna/optuna/releases/tag/v3.0.0. Use :func:`~optuna.trial.Trial.suggest_float` instead.\n",
      "  'l2_leaf_reg': trial.suggest_discrete_uniform('l2_leaf_reg', 1.0, 5.0, 0.5),\n"
     ]
    },
    {
     "name": "stdout",
     "output_type": "stream",
     "text": [
      "100:\ttest: 0.8417306\tbest: 0.8420544 (84)\ttotal: 2.3s\tremaining: 1m 51s\n"
     ]
    },
    {
     "name": "stderr",
     "output_type": "stream",
     "text": [
      "\u001b[32m[I 2023-03-27 22:31:16,238]\u001b[0m Trial 61 finished with value: 0.844927261526797 and parameters: {'learning_rate': 0.0612119768462717, 'bootstrap_type': 'Bayesian', 'boosting_type': 'Plain', 'l2_leaf_reg': 3.5, 'max_depth': 4, 'bagging_temperature': 0.610419497219148}. Best is trial 30 with value: 0.8489136615647065.\u001b[0m\n"
     ]
    },
    {
     "name": "stdout",
     "output_type": "stream",
     "text": [
      "Stopped by overfitting detector  (40 iterations wait)\n",
      "\n",
      "bestTest = 0.8449272615\n",
      "bestIteration = 151\n",
      "\n",
      "Shrink model to first 152 iterations.\n",
      "0:\ttest: 0.7629010\tbest: 0.7629010 (0)\ttotal: 11.3ms\tremaining: 56.6s\n"
     ]
    },
    {
     "name": "stderr",
     "output_type": "stream",
     "text": [
      "C:\\Users\\paul\\AppData\\Local\\Temp\\ipykernel_14388\\3750462692.py:11: FutureWarning: suggest_discrete_uniform has been deprecated in v3.0.0. This feature will be removed in v6.0.0. See https://github.com/optuna/optuna/releases/tag/v3.0.0. Use :func:`~optuna.trial.Trial.suggest_float` instead.\n",
      "  'l2_leaf_reg': trial.suggest_discrete_uniform('l2_leaf_reg', 1.0, 5.0, 0.5),\n"
     ]
    },
    {
     "name": "stdout",
     "output_type": "stream",
     "text": [
      "100:\ttest: 0.8444712\tbest: 0.8444712 (100)\ttotal: 1.82s\tremaining: 1m 28s\n",
      "200:\ttest: 0.8470932\tbest: 0.8477487 (171)\ttotal: 3.75s\tremaining: 1m 29s\n"
     ]
    },
    {
     "name": "stderr",
     "output_type": "stream",
     "text": [
      "\u001b[32m[I 2023-03-27 22:31:20,333]\u001b[0m Trial 62 finished with value: 0.8477487403054857 and parameters: {'learning_rate': 0.0597693593056723, 'bootstrap_type': 'Bayesian', 'boosting_type': 'Plain', 'l2_leaf_reg': 3.5, 'max_depth': 4, 'bagging_temperature': 0.3448469708220734}. Best is trial 30 with value: 0.8489136615647065.\u001b[0m\n"
     ]
    },
    {
     "name": "stdout",
     "output_type": "stream",
     "text": [
      "Stopped by overfitting detector  (40 iterations wait)\n",
      "\n",
      "bestTest = 0.8477487403\n",
      "bestIteration = 171\n",
      "\n",
      "Shrink model to first 172 iterations.\n",
      "0:\ttest: 0.7629010\tbest: 0.7629010 (0)\ttotal: 16.6ms\tremaining: 1m 22s\n"
     ]
    },
    {
     "name": "stderr",
     "output_type": "stream",
     "text": [
      "C:\\Users\\paul\\AppData\\Local\\Temp\\ipykernel_14388\\3750462692.py:11: FutureWarning: suggest_discrete_uniform has been deprecated in v3.0.0. This feature will be removed in v6.0.0. See https://github.com/optuna/optuna/releases/tag/v3.0.0. Use :func:`~optuna.trial.Trial.suggest_float` instead.\n",
      "  'l2_leaf_reg': trial.suggest_discrete_uniform('l2_leaf_reg', 1.0, 5.0, 0.5),\n"
     ]
    },
    {
     "name": "stdout",
     "output_type": "stream",
     "text": [
      "100:\ttest: 0.8422598\tbest: 0.8422598 (99)\ttotal: 2.55s\tremaining: 2m 3s\n",
      "200:\ttest: 0.8451405\tbest: 0.8451405 (200)\ttotal: 4.98s\tremaining: 1m 58s\n",
      "300:\ttest: 0.8457881\tbest: 0.8466727 (273)\ttotal: 7.16s\tremaining: 1m 51s\n"
     ]
    },
    {
     "name": "stderr",
     "output_type": "stream",
     "text": [
      "\u001b[32m[I 2023-03-27 22:31:27,882]\u001b[0m Trial 63 finished with value: 0.8466726689728158 and parameters: {'learning_rate': 0.05123752556587757, 'bootstrap_type': 'Bayesian', 'boosting_type': 'Plain', 'l2_leaf_reg': 4.0, 'max_depth': 5, 'bagging_temperature': 0.27900188392360814}. Best is trial 30 with value: 0.8489136615647065.\u001b[0m\n"
     ]
    },
    {
     "name": "stdout",
     "output_type": "stream",
     "text": [
      "Stopped by overfitting detector  (40 iterations wait)\n",
      "\n",
      "bestTest = 0.846672669\n",
      "bestIteration = 273\n",
      "\n",
      "Shrink model to first 274 iterations.\n",
      "0:\ttest: 0.7811370\tbest: 0.7811370 (0)\ttotal: 14.2ms\tremaining: 1m 10s\n"
     ]
    },
    {
     "name": "stderr",
     "output_type": "stream",
     "text": [
      "C:\\Users\\paul\\AppData\\Local\\Temp\\ipykernel_14388\\3750462692.py:11: FutureWarning: suggest_discrete_uniform has been deprecated in v3.0.0. This feature will be removed in v6.0.0. See https://github.com/optuna/optuna/releases/tag/v3.0.0. Use :func:`~optuna.trial.Trial.suggest_float` instead.\n",
      "  'l2_leaf_reg': trial.suggest_discrete_uniform('l2_leaf_reg', 1.0, 5.0, 0.5),\n"
     ]
    },
    {
     "name": "stdout",
     "output_type": "stream",
     "text": [
      "100:\ttest: 0.8427751\tbest: 0.8435294 (94)\ttotal: 1.79s\tremaining: 1m 27s\n",
      "200:\ttest: 0.8440704\tbest: 0.8446706 (179)\ttotal: 3.6s\tremaining: 1m 26s\n"
     ]
    },
    {
     "name": "stderr",
     "output_type": "stream",
     "text": [
      "\u001b[32m[I 2023-03-27 22:31:31,951]\u001b[0m Trial 64 finished with value: 0.8446705839612061 and parameters: {'learning_rate': 0.05873257134559121, 'bootstrap_type': 'Bayesian', 'boosting_type': 'Plain', 'l2_leaf_reg': 3.5, 'max_depth': 4, 'bagging_temperature': 1.4138345814722555}. Best is trial 30 with value: 0.8489136615647065.\u001b[0m\n"
     ]
    },
    {
     "name": "stdout",
     "output_type": "stream",
     "text": [
      "Stopped by overfitting detector  (40 iterations wait)\n",
      "\n",
      "bestTest = 0.844670584\n",
      "bestIteration = 179\n",
      "\n",
      "Shrink model to first 180 iterations.\n",
      "0:\ttest: 0.7919589\tbest: 0.7919589 (0)\ttotal: 23.2ms\tremaining: 1m 55s\n"
     ]
    },
    {
     "name": "stderr",
     "output_type": "stream",
     "text": [
      "C:\\Users\\paul\\AppData\\Local\\Temp\\ipykernel_14388\\3750462692.py:11: FutureWarning: suggest_discrete_uniform has been deprecated in v3.0.0. This feature will be removed in v6.0.0. See https://github.com/optuna/optuna/releases/tag/v3.0.0. Use :func:`~optuna.trial.Trial.suggest_float` instead.\n",
      "  'l2_leaf_reg': trial.suggest_discrete_uniform('l2_leaf_reg', 1.0, 5.0, 0.5),\n"
     ]
    },
    {
     "name": "stdout",
     "output_type": "stream",
     "text": [
      "100:\ttest: 0.8429884\tbest: 0.8432332 (97)\ttotal: 2.25s\tremaining: 1m 49s\n",
      "200:\ttest: 0.8446350\tbest: 0.8455314 (174)\ttotal: 4.64s\tremaining: 1m 50s\n"
     ]
    },
    {
     "name": "stderr",
     "output_type": "stream",
     "text": [
      "\u001b[32m[I 2023-03-27 22:31:37,024]\u001b[0m Trial 65 finished with value: 0.845531441027342 and parameters: {'learning_rate': 0.05393186497832164, 'bootstrap_type': 'Bayesian', 'boosting_type': 'Plain', 'l2_leaf_reg': 3.0, 'max_depth': 5, 'bagging_temperature': 1.9120086561299598}. Best is trial 30 with value: 0.8489136615647065.\u001b[0m\n"
     ]
    },
    {
     "name": "stdout",
     "output_type": "stream",
     "text": [
      "Stopped by overfitting detector  (40 iterations wait)\n",
      "\n",
      "bestTest = 0.845531441\n",
      "bestIteration = 174\n",
      "\n",
      "Shrink model to first 175 iterations.\n",
      "0:\ttest: 0.7629010\tbest: 0.7629010 (0)\ttotal: 12.9ms\tremaining: 1m 4s\n"
     ]
    },
    {
     "name": "stderr",
     "output_type": "stream",
     "text": [
      "C:\\Users\\paul\\AppData\\Local\\Temp\\ipykernel_14388\\3750462692.py:11: FutureWarning: suggest_discrete_uniform has been deprecated in v3.0.0. This feature will be removed in v6.0.0. See https://github.com/optuna/optuna/releases/tag/v3.0.0. Use :func:`~optuna.trial.Trial.suggest_float` instead.\n",
      "  'l2_leaf_reg': trial.suggest_discrete_uniform('l2_leaf_reg', 1.0, 5.0, 0.5),\n"
     ]
    },
    {
     "name": "stdout",
     "output_type": "stream",
     "text": [
      "100:\ttest: 0.8437525\tbest: 0.8439341 (94)\ttotal: 2s\tremaining: 1m 36s\n",
      "200:\ttest: 0.8480864\tbest: 0.8481890 (198)\ttotal: 4.31s\tremaining: 1m 42s\n"
     ]
    },
    {
     "name": "stderr",
     "output_type": "stream",
     "text": [
      "\u001b[32m[I 2023-03-27 22:31:43,044]\u001b[0m Trial 66 finished with value: 0.8485641851869403 and parameters: {'learning_rate': 0.06323345036443752, 'bootstrap_type': 'Bayesian', 'boosting_type': 'Plain', 'l2_leaf_reg': 3.5, 'max_depth': 4, 'bagging_temperature': 0.3629704795386276}. Best is trial 30 with value: 0.8489136615647065.\u001b[0m\n"
     ]
    },
    {
     "name": "stdout",
     "output_type": "stream",
     "text": [
      "Stopped by overfitting detector  (40 iterations wait)\n",
      "\n",
      "bestTest = 0.8485641852\n",
      "bestIteration = 234\n",
      "\n",
      "Shrink model to first 235 iterations.\n",
      "0:\ttest: 0.7629010\tbest: 0.7629010 (0)\ttotal: 12.9ms\tremaining: 1m 4s\n"
     ]
    },
    {
     "name": "stderr",
     "output_type": "stream",
     "text": [
      "C:\\Users\\paul\\AppData\\Local\\Temp\\ipykernel_14388\\3750462692.py:11: FutureWarning: suggest_discrete_uniform has been deprecated in v3.0.0. This feature will be removed in v6.0.0. See https://github.com/optuna/optuna/releases/tag/v3.0.0. Use :func:`~optuna.trial.Trial.suggest_float` instead.\n",
      "  'l2_leaf_reg': trial.suggest_discrete_uniform('l2_leaf_reg', 1.0, 5.0, 0.5),\n"
     ]
    },
    {
     "name": "stdout",
     "output_type": "stream",
     "text": [
      "100:\ttest: 0.8447891\tbest: 0.8447891 (100)\ttotal: 1.57s\tremaining: 1m 16s\n",
      "200:\ttest: 0.8474842\tbest: 0.8474921 (194)\ttotal: 3.32s\tremaining: 1m 19s\n"
     ]
    },
    {
     "name": "stderr",
     "output_type": "stream",
     "text": [
      "\u001b[32m[I 2023-03-27 22:31:47,378]\u001b[0m Trial 67 finished with value: 0.8475828871092578 and parameters: {'learning_rate': 0.07127784668338975, 'bootstrap_type': 'Bayesian', 'boosting_type': 'Plain', 'l2_leaf_reg': 3.0, 'max_depth': 3, 'bagging_temperature': 0.29596206936382063}. Best is trial 30 with value: 0.8489136615647065.\u001b[0m\n"
     ]
    },
    {
     "name": "stdout",
     "output_type": "stream",
     "text": [
      "Stopped by overfitting detector  (40 iterations wait)\n",
      "\n",
      "bestTest = 0.8475828871\n",
      "bestIteration = 204\n",
      "\n",
      "Shrink model to first 205 iterations.\n",
      "0:\ttest: 0.7629010\tbest: 0.7629010 (0)\ttotal: 12.4ms\tremaining: 1m 2s\n"
     ]
    },
    {
     "name": "stderr",
     "output_type": "stream",
     "text": [
      "C:\\Users\\paul\\AppData\\Local\\Temp\\ipykernel_14388\\3750462692.py:11: FutureWarning: suggest_discrete_uniform has been deprecated in v3.0.0. This feature will be removed in v6.0.0. See https://github.com/optuna/optuna/releases/tag/v3.0.0. Use :func:`~optuna.trial.Trial.suggest_float` instead.\n",
      "  'l2_leaf_reg': trial.suggest_discrete_uniform('l2_leaf_reg', 1.0, 5.0, 0.5),\n"
     ]
    },
    {
     "name": "stdout",
     "output_type": "stream",
     "text": [
      "100:\ttest: 0.8458118\tbest: 0.8458118 (100)\ttotal: 1.5s\tremaining: 1m 12s\n"
     ]
    },
    {
     "name": "stderr",
     "output_type": "stream",
     "text": [
      "\u001b[32m[I 2023-03-27 22:31:50,537]\u001b[0m Trial 68 finished with value: 0.8484536163894549 and parameters: {'learning_rate': 0.07270081209859568, 'bootstrap_type': 'Bayesian', 'boosting_type': 'Plain', 'l2_leaf_reg': 3.0, 'max_depth': 3, 'bagging_temperature': 0.3853049930881117}. Best is trial 30 with value: 0.8489136615647065.\u001b[0m\n"
     ]
    },
    {
     "name": "stdout",
     "output_type": "stream",
     "text": [
      "200:\ttest: 0.8477448\tbest: 0.8484536 (166)\ttotal: 2.97s\tremaining: 1m 10s\n",
      "Stopped by overfitting detector  (40 iterations wait)\n",
      "\n",
      "bestTest = 0.8484536164\n",
      "bestIteration = 166\n",
      "\n",
      "Shrink model to first 167 iterations.\n",
      "0:\ttest: 0.7629010\tbest: 0.7629010 (0)\ttotal: 13.3ms\tremaining: 1m 6s\n"
     ]
    },
    {
     "name": "stderr",
     "output_type": "stream",
     "text": [
      "C:\\Users\\paul\\AppData\\Local\\Temp\\ipykernel_14388\\3750462692.py:11: FutureWarning: suggest_discrete_uniform has been deprecated in v3.0.0. This feature will be removed in v6.0.0. See https://github.com/optuna/optuna/releases/tag/v3.0.0. Use :func:`~optuna.trial.Trial.suggest_float` instead.\n",
      "  'l2_leaf_reg': trial.suggest_discrete_uniform('l2_leaf_reg', 1.0, 5.0, 0.5),\n"
     ]
    },
    {
     "name": "stdout",
     "output_type": "stream",
     "text": [
      "100:\ttest: 0.8422124\tbest: 0.8422124 (100)\ttotal: 1.42s\tremaining: 1m 8s\n",
      "200:\ttest: 0.8460705\tbest: 0.8461139 (196)\ttotal: 2.81s\tremaining: 1m 7s\n"
     ]
    },
    {
     "name": "stderr",
     "output_type": "stream",
     "text": [
      "\u001b[32m[I 2023-03-27 22:31:54,321]\u001b[0m Trial 69 finished with value: 0.8469688353946516 and parameters: {'learning_rate': 0.0662488067019005, 'bootstrap_type': 'Bayesian', 'boosting_type': 'Plain', 'l2_leaf_reg': 2.5, 'max_depth': 3, 'bagging_temperature': 0.8434043774846101}. Best is trial 30 with value: 0.8489136615647065.\u001b[0m\n"
     ]
    },
    {
     "name": "stdout",
     "output_type": "stream",
     "text": [
      "Stopped by overfitting detector  (40 iterations wait)\n",
      "\n",
      "bestTest = 0.8469688354\n",
      "bestIteration = 222\n",
      "\n",
      "Shrink model to first 223 iterations.\n",
      "0:\ttest: 0.7629010\tbest: 0.7629010 (0)\ttotal: 12ms\tremaining: 1m\n"
     ]
    },
    {
     "name": "stderr",
     "output_type": "stream",
     "text": [
      "C:\\Users\\paul\\AppData\\Local\\Temp\\ipykernel_14388\\3750462692.py:11: FutureWarning: suggest_discrete_uniform has been deprecated in v3.0.0. This feature will be removed in v6.0.0. See https://github.com/optuna/optuna/releases/tag/v3.0.0. Use :func:`~optuna.trial.Trial.suggest_float` instead.\n",
      "  'l2_leaf_reg': trial.suggest_discrete_uniform('l2_leaf_reg', 1.0, 5.0, 0.5),\n"
     ]
    },
    {
     "name": "stdout",
     "output_type": "stream",
     "text": [
      "100:\ttest: 0.8455275\tbest: 0.8457170 (98)\ttotal: 1.41s\tremaining: 1m 8s\n"
     ]
    },
    {
     "name": "stderr",
     "output_type": "stream",
     "text": [
      "\u001b[32m[I 2023-03-27 22:31:57,479]\u001b[0m Trial 70 finished with value: 0.8481515266391824 and parameters: {'learning_rate': 0.07204987151629165, 'bootstrap_type': 'Bayesian', 'boosting_type': 'Plain', 'l2_leaf_reg': 2.5, 'max_depth': 3, 'bagging_temperature': 0.4388925647412595}. Best is trial 30 with value: 0.8489136615647065.\u001b[0m\n"
     ]
    },
    {
     "name": "stdout",
     "output_type": "stream",
     "text": [
      "200:\ttest: 0.8480212\tbest: 0.8481515 (168)\ttotal: 2.93s\tremaining: 1m 9s\n",
      "Stopped by overfitting detector  (40 iterations wait)\n",
      "\n",
      "bestTest = 0.8481515266\n",
      "bestIteration = 168\n",
      "\n",
      "Shrink model to first 169 iterations.\n"
     ]
    },
    {
     "name": "stderr",
     "output_type": "stream",
     "text": [
      "C:\\Users\\paul\\AppData\\Local\\Temp\\ipykernel_14388\\3750462692.py:11: FutureWarning: suggest_discrete_uniform has been deprecated in v3.0.0. This feature will be removed in v6.0.0. See https://github.com/optuna/optuna/releases/tag/v3.0.0. Use :func:`~optuna.trial.Trial.suggest_float` instead.\n",
      "  'l2_leaf_reg': trial.suggest_discrete_uniform('l2_leaf_reg', 1.0, 5.0, 0.5),\n"
     ]
    },
    {
     "name": "stdout",
     "output_type": "stream",
     "text": [
      "0:\ttest: 0.7629010\tbest: 0.7629010 (0)\ttotal: 13.9ms\tremaining: 1m 9s\n",
      "100:\ttest: 0.8455196\tbest: 0.8455196 (100)\ttotal: 1.67s\tremaining: 1m 21s\n",
      "200:\ttest: 0.8482048\tbest: 0.8483509 (198)\ttotal: 3.36s\tremaining: 1m 20s\n"
     ]
    },
    {
     "name": "stderr",
     "output_type": "stream",
     "text": [
      "\u001b[32m[I 2023-03-27 22:32:01,691]\u001b[0m Trial 71 finished with value: 0.8484417697325815 and parameters: {'learning_rate': 0.07331960148652958, 'bootstrap_type': 'Bayesian', 'boosting_type': 'Plain', 'l2_leaf_reg': 2.5, 'max_depth': 3, 'bagging_temperature': 0.04812258418520843}. Best is trial 30 with value: 0.8489136615647065.\u001b[0m\n"
     ]
    },
    {
     "name": "stdout",
     "output_type": "stream",
     "text": [
      "Stopped by overfitting detector  (40 iterations wait)\n",
      "\n",
      "bestTest = 0.8484417697\n",
      "bestIteration = 204\n",
      "\n",
      "Shrink model to first 205 iterations.\n",
      "0:\ttest: 0.7629010\tbest: 0.7629010 (0)\ttotal: 14.9ms\tremaining: 1m 14s\n"
     ]
    },
    {
     "name": "stderr",
     "output_type": "stream",
     "text": [
      "C:\\Users\\paul\\AppData\\Local\\Temp\\ipykernel_14388\\3750462692.py:11: FutureWarning: suggest_discrete_uniform has been deprecated in v3.0.0. This feature will be removed in v6.0.0. See https://github.com/optuna/optuna/releases/tag/v3.0.0. Use :func:`~optuna.trial.Trial.suggest_float` instead.\n",
      "  'l2_leaf_reg': trial.suggest_discrete_uniform('l2_leaf_reg', 1.0, 5.0, 0.5),\n"
     ]
    },
    {
     "name": "stdout",
     "output_type": "stream",
     "text": [
      "100:\ttest: 0.8455591\tbest: 0.8455591 (100)\ttotal: 1.74s\tremaining: 1m 24s\n",
      "200:\ttest: 0.8485405\tbest: 0.8487004 (187)\ttotal: 3.58s\tremaining: 1m 25s\n"
     ]
    },
    {
     "name": "stderr",
     "output_type": "stream",
     "text": [
      "\u001b[32m[I 2023-03-27 22:32:06,117]\u001b[0m Trial 72 finished with value: 0.8492039046581055 and parameters: {'learning_rate': 0.07511902981350263, 'bootstrap_type': 'Bayesian', 'boosting_type': 'Plain', 'l2_leaf_reg': 2.0, 'max_depth': 3, 'bagging_temperature': 0.08761535607282256}. Best is trial 72 with value: 0.8492039046581055.\u001b[0m\n"
     ]
    },
    {
     "name": "stdout",
     "output_type": "stream",
     "text": [
      "Stopped by overfitting detector  (40 iterations wait)\n",
      "\n",
      "bestTest = 0.8492039047\n",
      "bestIteration = 206\n",
      "\n",
      "Shrink model to first 207 iterations.\n",
      "0:\ttest: 0.7629010\tbest: 0.7629010 (0)\ttotal: 11.6ms\tremaining: 57.9s\n"
     ]
    },
    {
     "name": "stderr",
     "output_type": "stream",
     "text": [
      "C:\\Users\\paul\\AppData\\Local\\Temp\\ipykernel_14388\\3750462692.py:11: FutureWarning: suggest_discrete_uniform has been deprecated in v3.0.0. This feature will be removed in v6.0.0. See https://github.com/optuna/optuna/releases/tag/v3.0.0. Use :func:`~optuna.trial.Trial.suggest_float` instead.\n",
      "  'l2_leaf_reg': trial.suggest_discrete_uniform('l2_leaf_reg', 1.0, 5.0, 0.5),\n"
     ]
    },
    {
     "name": "stdout",
     "output_type": "stream",
     "text": [
      "100:\ttest: 0.8445245\tbest: 0.8445245 (100)\ttotal: 1.41s\tremaining: 1m 8s\n"
     ]
    },
    {
     "name": "stderr",
     "output_type": "stream",
     "text": [
      "\u001b[32m[I 2023-03-27 22:32:08,970]\u001b[0m Trial 73 finished with value: 0.8480883444691909 and parameters: {'learning_rate': 0.07236218812937092, 'bootstrap_type': 'Bayesian', 'boosting_type': 'Plain', 'l2_leaf_reg': 2.0, 'max_depth': 3, 'bagging_temperature': 0.05791573925690341}. Best is trial 72 with value: 0.8492039046581055.\u001b[0m\n"
     ]
    },
    {
     "name": "stdout",
     "output_type": "stream",
     "text": [
      "Stopped by overfitting detector  (40 iterations wait)\n",
      "\n",
      "bestTest = 0.8480883445\n",
      "bestIteration = 159\n",
      "\n",
      "Shrink model to first 160 iterations.\n",
      "0:\ttest: 0.7629010\tbest: 0.7629010 (0)\ttotal: 11.4ms\tremaining: 57s\n"
     ]
    },
    {
     "name": "stderr",
     "output_type": "stream",
     "text": [
      "C:\\Users\\paul\\AppData\\Local\\Temp\\ipykernel_14388\\3750462692.py:11: FutureWarning: suggest_discrete_uniform has been deprecated in v3.0.0. This feature will be removed in v6.0.0. See https://github.com/optuna/optuna/releases/tag/v3.0.0. Use :func:`~optuna.trial.Trial.suggest_float` instead.\n",
      "  'l2_leaf_reg': trial.suggest_discrete_uniform('l2_leaf_reg', 1.0, 5.0, 0.5),\n"
     ]
    },
    {
     "name": "stdout",
     "output_type": "stream",
     "text": [
      "100:\ttest: 0.8447180\tbest: 0.8447180 (100)\ttotal: 1.32s\tremaining: 1m 4s\n",
      "200:\ttest: 0.8473104\tbest: 0.8480133 (187)\ttotal: 2.8s\tremaining: 1m 6s\n"
     ]
    },
    {
     "name": "stderr",
     "output_type": "stream",
     "text": [
      "\u001b[32m[I 2023-03-27 22:32:12,266]\u001b[0m Trial 74 finished with value: 0.8480133156423257 and parameters: {'learning_rate': 0.0746095622470954, 'bootstrap_type': 'Bayesian', 'boosting_type': 'Plain', 'l2_leaf_reg': 2.0, 'max_depth': 3, 'bagging_temperature': 0.045208619148712846}. Best is trial 72 with value: 0.8492039046581055.\u001b[0m\n"
     ]
    },
    {
     "name": "stdout",
     "output_type": "stream",
     "text": [
      "Stopped by overfitting detector  (40 iterations wait)\n",
      "\n",
      "bestTest = 0.8480133156\n",
      "bestIteration = 187\n",
      "\n",
      "Shrink model to first 188 iterations.\n",
      "0:\ttest: 0.7629010\tbest: 0.7629010 (0)\ttotal: 11.1ms\tremaining: 55.6s\n"
     ]
    },
    {
     "name": "stderr",
     "output_type": "stream",
     "text": [
      "C:\\Users\\paul\\AppData\\Local\\Temp\\ipykernel_14388\\3750462692.py:11: FutureWarning: suggest_discrete_uniform has been deprecated in v3.0.0. This feature will be removed in v6.0.0. See https://github.com/optuna/optuna/releases/tag/v3.0.0. Use :func:`~optuna.trial.Trial.suggest_float` instead.\n",
      "  'l2_leaf_reg': trial.suggest_discrete_uniform('l2_leaf_reg', 1.0, 5.0, 0.5),\n"
     ]
    },
    {
     "name": "stdout",
     "output_type": "stream",
     "text": [
      "100:\ttest: 0.8426705\tbest: 0.8426705 (100)\ttotal: 1.44s\tremaining: 1m 9s\n"
     ]
    },
    {
     "name": "stderr",
     "output_type": "stream",
     "text": [
      "\u001b[32m[I 2023-03-27 22:32:15,443]\u001b[0m Trial 75 finished with value: 0.8468069310840481 and parameters: {'learning_rate': 0.07758187987350738, 'bootstrap_type': 'Bayesian', 'boosting_type': 'Plain', 'l2_leaf_reg': 1.5, 'max_depth': 3, 'bagging_temperature': 0.0024650288073221893}. Best is trial 72 with value: 0.8492039046581055.\u001b[0m\n"
     ]
    },
    {
     "name": "stdout",
     "output_type": "stream",
     "text": [
      "200:\ttest: 0.8460448\tbest: 0.8468069 (170)\ttotal: 2.96s\tremaining: 1m 10s\n",
      "Stopped by overfitting detector  (40 iterations wait)\n",
      "\n",
      "bestTest = 0.8468069311\n",
      "bestIteration = 170\n",
      "\n",
      "Shrink model to first 171 iterations.\n",
      "0:\ttest: 0.7629010\tbest: 0.7629010 (0)\ttotal: 11.7ms\tremaining: 58.3s\n"
     ]
    },
    {
     "name": "stderr",
     "output_type": "stream",
     "text": [
      "C:\\Users\\paul\\AppData\\Local\\Temp\\ipykernel_14388\\3750462692.py:11: FutureWarning: suggest_discrete_uniform has been deprecated in v3.0.0. This feature will be removed in v6.0.0. See https://github.com/optuna/optuna/releases/tag/v3.0.0. Use :func:`~optuna.trial.Trial.suggest_float` instead.\n",
      "  'l2_leaf_reg': trial.suggest_discrete_uniform('l2_leaf_reg', 1.0, 5.0, 0.5),\n"
     ]
    },
    {
     "name": "stdout",
     "output_type": "stream",
     "text": [
      "100:\ttest: 0.8431562\tbest: 0.8431562 (100)\ttotal: 1.37s\tremaining: 1m 6s\n",
      "200:\ttest: 0.8461791\tbest: 0.8465463 (177)\ttotal: 2.65s\tremaining: 1m 3s\n"
     ]
    },
    {
     "name": "stderr",
     "output_type": "stream",
     "text": [
      "\u001b[32m[I 2023-03-27 22:32:18,912]\u001b[0m Trial 76 finished with value: 0.8466134356884487 and parameters: {'learning_rate': 0.07195192632312225, 'bootstrap_type': 'Bayesian', 'boosting_type': 'Plain', 'l2_leaf_reg': 2.0, 'max_depth': 3, 'bagging_temperature': 0.6272325946973458}. Best is trial 72 with value: 0.8492039046581055.\u001b[0m\n"
     ]
    },
    {
     "name": "stdout",
     "output_type": "stream",
     "text": [
      "Stopped by overfitting detector  (40 iterations wait)\n",
      "\n",
      "bestTest = 0.8466134357\n",
      "bestIteration = 213\n",
      "\n",
      "Shrink model to first 214 iterations.\n",
      "0:\ttest: 0.7629010\tbest: 0.7629010 (0)\ttotal: 11.1ms\tremaining: 55.7s\n"
     ]
    },
    {
     "name": "stderr",
     "output_type": "stream",
     "text": [
      "C:\\Users\\paul\\AppData\\Local\\Temp\\ipykernel_14388\\3750462692.py:11: FutureWarning: suggest_discrete_uniform has been deprecated in v3.0.0. This feature will be removed in v6.0.0. See https://github.com/optuna/optuna/releases/tag/v3.0.0. Use :func:`~optuna.trial.Trial.suggest_float` instead.\n",
      "  'l2_leaf_reg': trial.suggest_discrete_uniform('l2_leaf_reg', 1.0, 5.0, 0.5),\n"
     ]
    },
    {
     "name": "stdout",
     "output_type": "stream",
     "text": [
      "100:\ttest: 0.8432648\tbest: 0.8433240 (99)\ttotal: 1.25s\tremaining: 1m\n",
      "200:\ttest: 0.8467892\tbest: 0.8468129 (199)\ttotal: 2.51s\tremaining: 59.9s\n"
     ]
    },
    {
     "name": "stderr",
     "output_type": "stream",
     "text": [
      "\u001b[32m[I 2023-03-27 22:32:22,164]\u001b[0m Trial 77 finished with value: 0.8471524585761898 and parameters: {'learning_rate': 0.08166880952667628, 'bootstrap_type': 'Bayesian', 'boosting_type': 'Plain', 'l2_leaf_reg': 1.5, 'max_depth': 3, 'bagging_temperature': 0.38507876195537105}. Best is trial 72 with value: 0.8492039046581055.\u001b[0m\n"
     ]
    },
    {
     "name": "stdout",
     "output_type": "stream",
     "text": [
      "Stopped by overfitting detector  (40 iterations wait)\n",
      "\n",
      "bestTest = 0.8471524586\n",
      "bestIteration = 209\n",
      "\n",
      "Shrink model to first 210 iterations.\n",
      "0:\ttest: 0.7629010\tbest: 0.7629010 (0)\ttotal: 11.2ms\tremaining: 55.9s\n"
     ]
    },
    {
     "name": "stderr",
     "output_type": "stream",
     "text": [
      "C:\\Users\\paul\\AppData\\Local\\Temp\\ipykernel_14388\\3750462692.py:11: FutureWarning: suggest_discrete_uniform has been deprecated in v3.0.0. This feature will be removed in v6.0.0. See https://github.com/optuna/optuna/releases/tag/v3.0.0. Use :func:`~optuna.trial.Trial.suggest_float` instead.\n",
      "  'l2_leaf_reg': trial.suggest_discrete_uniform('l2_leaf_reg', 1.0, 5.0, 0.5),\n"
     ]
    },
    {
     "name": "stdout",
     "output_type": "stream",
     "text": [
      "100:\ttest: 0.8443803\tbest: 0.8443803 (100)\ttotal: 1.3s\tremaining: 1m 3s\n",
      "200:\ttest: 0.8464219\tbest: 0.8465957 (185)\ttotal: 2.58s\tremaining: 1m 1s\n"
     ]
    },
    {
     "name": "stderr",
     "output_type": "stream",
     "text": [
      "\u001b[32m[I 2023-03-27 22:32:25,983]\u001b[0m Trial 78 finished with value: 0.8469451420809047 and parameters: {'learning_rate': 0.06948560929041235, 'bootstrap_type': 'Bayesian', 'boosting_type': 'Plain', 'l2_leaf_reg': 2.0, 'max_depth': 3, 'bagging_temperature': 0.5155181900753287}. Best is trial 72 with value: 0.8492039046581055.\u001b[0m\n"
     ]
    },
    {
     "name": "stdout",
     "output_type": "stream",
     "text": [
      "Stopped by overfitting detector  (40 iterations wait)\n",
      "\n",
      "bestTest = 0.8469451421\n",
      "bestIteration = 249\n",
      "\n",
      "Shrink model to first 250 iterations.\n",
      "0:\ttest: 0.7629010\tbest: 0.7629010 (0)\ttotal: 10.7ms\tremaining: 53.3s\n"
     ]
    },
    {
     "name": "stderr",
     "output_type": "stream",
     "text": [
      "C:\\Users\\paul\\AppData\\Local\\Temp\\ipykernel_14388\\3750462692.py:11: FutureWarning: suggest_discrete_uniform has been deprecated in v3.0.0. This feature will be removed in v6.0.0. See https://github.com/optuna/optuna/releases/tag/v3.0.0. Use :func:`~optuna.trial.Trial.suggest_float` instead.\n",
      "  'l2_leaf_reg': trial.suggest_discrete_uniform('l2_leaf_reg', 1.0, 5.0, 0.5),\n"
     ]
    },
    {
     "name": "stdout",
     "output_type": "stream",
     "text": [
      "100:\ttest: 0.8457091\tbest: 0.8460132 (95)\ttotal: 1.28s\tremaining: 1m 1s\n",
      "200:\ttest: 0.8478909\tbest: 0.8487320 (181)\ttotal: 2.57s\tremaining: 1m 1s\n"
     ]
    },
    {
     "name": "stderr",
     "output_type": "stream",
     "text": [
      "\u001b[32m[I 2023-03-27 22:32:28,906]\u001b[0m Trial 79 finished with value: 0.8487320128259804 and parameters: {'learning_rate': 0.07275254511088317, 'bootstrap_type': 'Bayesian', 'boosting_type': 'Plain', 'l2_leaf_reg': 2.5, 'max_depth': 3, 'bagging_temperature': 0.05532491938797868}. Best is trial 72 with value: 0.8492039046581055.\u001b[0m\n"
     ]
    },
    {
     "name": "stdout",
     "output_type": "stream",
     "text": [
      "Stopped by overfitting detector  (40 iterations wait)\n",
      "\n",
      "bestTest = 0.8487320128\n",
      "bestIteration = 181\n",
      "\n",
      "Shrink model to first 182 iterations.\n",
      "0:\ttest: 0.7629010\tbest: 0.7629010 (0)\ttotal: 11.2ms\tremaining: 56.1s\n"
     ]
    },
    {
     "name": "stderr",
     "output_type": "stream",
     "text": [
      "C:\\Users\\paul\\AppData\\Local\\Temp\\ipykernel_14388\\3750462692.py:11: FutureWarning: suggest_discrete_uniform has been deprecated in v3.0.0. This feature will be removed in v6.0.0. See https://github.com/optuna/optuna/releases/tag/v3.0.0. Use :func:`~optuna.trial.Trial.suggest_float` instead.\n",
      "  'l2_leaf_reg': trial.suggest_discrete_uniform('l2_leaf_reg', 1.0, 5.0, 0.5),\n"
     ]
    },
    {
     "name": "stdout",
     "output_type": "stream",
     "text": [
      "100:\ttest: 0.8446429\tbest: 0.8446429 (100)\ttotal: 1.24s\tremaining: 1m\n",
      "200:\ttest: 0.8480074\tbest: 0.8480429 (199)\ttotal: 2.48s\tremaining: 59.3s\n"
     ]
    },
    {
     "name": "stderr",
     "output_type": "stream",
     "text": [
      "\u001b[32m[I 2023-03-27 22:32:32,408]\u001b[0m Trial 80 finished with value: 0.8483450220347818 and parameters: {'learning_rate': 0.0753640085665134, 'bootstrap_type': 'Bayesian', 'boosting_type': 'Plain', 'l2_leaf_reg': 2.5, 'max_depth': 3, 'bagging_temperature': 0.8050696474472925}. Best is trial 72 with value: 0.8492039046581055.\u001b[0m\n"
     ]
    },
    {
     "name": "stdout",
     "output_type": "stream",
     "text": [
      "Stopped by overfitting detector  (40 iterations wait)\n",
      "\n",
      "bestTest = 0.848345022\n",
      "bestIteration = 227\n",
      "\n",
      "Shrink model to first 228 iterations.\n",
      "0:\ttest: 0.7629010\tbest: 0.7629010 (0)\ttotal: 11ms\tremaining: 54.9s\n"
     ]
    },
    {
     "name": "stderr",
     "output_type": "stream",
     "text": [
      "C:\\Users\\paul\\AppData\\Local\\Temp\\ipykernel_14388\\3750462692.py:11: FutureWarning: suggest_discrete_uniform has been deprecated in v3.0.0. This feature will be removed in v6.0.0. See https://github.com/optuna/optuna/releases/tag/v3.0.0. Use :func:`~optuna.trial.Trial.suggest_float` instead.\n",
      "  'l2_leaf_reg': trial.suggest_discrete_uniform('l2_leaf_reg', 1.0, 5.0, 0.5),\n"
     ]
    },
    {
     "name": "stdout",
     "output_type": "stream",
     "text": [
      "100:\ttest: 0.8456282\tbest: 0.8460053 (88)\ttotal: 1.31s\tremaining: 1m 3s\n"
     ]
    },
    {
     "name": "stderr",
     "output_type": "stream",
     "text": [
      "\u001b[32m[I 2023-03-27 22:32:34,659]\u001b[0m Trial 81 finished with value: 0.8466924134009381 and parameters: {'learning_rate': 0.07600413080768396, 'bootstrap_type': 'Bayesian', 'boosting_type': 'Plain', 'l2_leaf_reg': 2.5, 'max_depth': 3, 'bagging_temperature': 0.8234379734861539}. Best is trial 72 with value: 0.8492039046581055.\u001b[0m\n"
     ]
    },
    {
     "name": "stdout",
     "output_type": "stream",
     "text": [
      "Stopped by overfitting detector  (40 iterations wait)\n",
      "\n",
      "bestTest = 0.8466924134\n",
      "bestIteration = 127\n",
      "\n",
      "Shrink model to first 128 iterations.\n",
      "0:\ttest: 0.7629010\tbest: 0.7629010 (0)\ttotal: 10.6ms\tremaining: 53s\n"
     ]
    },
    {
     "name": "stderr",
     "output_type": "stream",
     "text": [
      "C:\\Users\\paul\\AppData\\Local\\Temp\\ipykernel_14388\\3750462692.py:11: FutureWarning: suggest_discrete_uniform has been deprecated in v3.0.0. This feature will be removed in v6.0.0. See https://github.com/optuna/optuna/releases/tag/v3.0.0. Use :func:`~optuna.trial.Trial.suggest_float` instead.\n",
      "  'l2_leaf_reg': trial.suggest_discrete_uniform('l2_leaf_reg', 1.0, 5.0, 0.5),\n"
     ]
    },
    {
     "name": "stdout",
     "output_type": "stream",
     "text": [
      "100:\ttest: 0.8434780\tbest: 0.8439519 (95)\ttotal: 1.24s\tremaining: 1m\n"
     ]
    },
    {
     "name": "stderr",
     "output_type": "stream",
     "text": [
      "\u001b[32m[I 2023-03-27 22:32:37,317]\u001b[0m Trial 82 finished with value: 0.8463646558941066 and parameters: {'learning_rate': 0.08399990589850485, 'bootstrap_type': 'Bayesian', 'boosting_type': 'Plain', 'l2_leaf_reg': 2.5, 'max_depth': 3, 'bagging_temperature': 0.4689608347143146}. Best is trial 72 with value: 0.8492039046581055.\u001b[0m\n"
     ]
    },
    {
     "name": "stdout",
     "output_type": "stream",
     "text": [
      "200:\ttest: 0.8458098\tbest: 0.8463647 (164)\ttotal: 2.52s\tremaining: 1m\n",
      "Stopped by overfitting detector  (40 iterations wait)\n",
      "\n",
      "bestTest = 0.8463646559\n",
      "bestIteration = 164\n",
      "\n",
      "Shrink model to first 165 iterations.\n",
      "0:\ttest: 0.7629010\tbest: 0.7629010 (0)\ttotal: 10.4ms\tremaining: 51.9s\n"
     ]
    },
    {
     "name": "stderr",
     "output_type": "stream",
     "text": [
      "C:\\Users\\paul\\AppData\\Local\\Temp\\ipykernel_14388\\3750462692.py:11: FutureWarning: suggest_discrete_uniform has been deprecated in v3.0.0. This feature will be removed in v6.0.0. See https://github.com/optuna/optuna/releases/tag/v3.0.0. Use :func:`~optuna.trial.Trial.suggest_float` instead.\n",
      "  'l2_leaf_reg': trial.suggest_discrete_uniform('l2_leaf_reg', 1.0, 5.0, 0.5),\n"
     ]
    },
    {
     "name": "stdout",
     "output_type": "stream",
     "text": [
      "100:\ttest: 0.8426409\tbest: 0.8426409 (100)\ttotal: 2.83s\tremaining: 2m 17s\n"
     ]
    },
    {
     "name": "stderr",
     "output_type": "stream",
     "text": [
      "\u001b[32m[I 2023-03-27 22:32:42,306]\u001b[0m Trial 83 finished with value: 0.8437840591385113 and parameters: {'learning_rate': 0.0730399046935055, 'bootstrap_type': 'Bayesian', 'boosting_type': 'Plain', 'l2_leaf_reg': 2.5, 'max_depth': 7, 'bagging_temperature': 0.24180337101527896}. Best is trial 72 with value: 0.8492039046581055.\u001b[0m\n"
     ]
    },
    {
     "name": "stdout",
     "output_type": "stream",
     "text": [
      "Stopped by overfitting detector  (40 iterations wait)\n",
      "\n",
      "bestTest = 0.8437840591\n",
      "bestIteration = 126\n",
      "\n",
      "Shrink model to first 127 iterations.\n",
      "0:\ttest: 0.7629010\tbest: 0.7629010 (0)\ttotal: 11ms\tremaining: 55.1s\n"
     ]
    },
    {
     "name": "stderr",
     "output_type": "stream",
     "text": [
      "C:\\Users\\paul\\AppData\\Local\\Temp\\ipykernel_14388\\3750462692.py:11: FutureWarning: suggest_discrete_uniform has been deprecated in v3.0.0. This feature will be removed in v6.0.0. See https://github.com/optuna/optuna/releases/tag/v3.0.0. Use :func:`~optuna.trial.Trial.suggest_float` instead.\n",
      "  'l2_leaf_reg': trial.suggest_discrete_uniform('l2_leaf_reg', 1.0, 5.0, 0.5),\n"
     ]
    },
    {
     "name": "stdout",
     "output_type": "stream",
     "text": [
      "100:\ttest: 0.8439420\tbest: 0.8439815 (99)\ttotal: 1.26s\tremaining: 1m 1s\n",
      "200:\ttest: 0.8462343\tbest: 0.8472611 (175)\ttotal: 2.51s\tremaining: 59.9s\n",
      "Stopped by overfitting detector  (40 iterations wait)\n",
      "\n",
      "bestTest = 0.8472610529\n",
      "bestIteration = 175\n",
      "\n",
      "Shrink model to first 176 iterations.\n"
     ]
    },
    {
     "name": "stderr",
     "output_type": "stream",
     "text": [
      "\u001b[32m[I 2023-03-27 22:32:45,085]\u001b[0m Trial 84 finished with value: 0.8472610529308628 and parameters: {'learning_rate': 0.07685676493927958, 'bootstrap_type': 'Bayesian', 'boosting_type': 'Plain', 'l2_leaf_reg': 2.5, 'max_depth': 3, 'bagging_temperature': 0.8073087635192429}. Best is trial 72 with value: 0.8492039046581055.\u001b[0m\n",
      "C:\\Users\\paul\\AppData\\Local\\Temp\\ipykernel_14388\\3750462692.py:11: FutureWarning: suggest_discrete_uniform has been deprecated in v3.0.0. This feature will be removed in v6.0.0. See https://github.com/optuna/optuna/releases/tag/v3.0.0. Use :func:`~optuna.trial.Trial.suggest_float` instead.\n",
      "  'l2_leaf_reg': trial.suggest_discrete_uniform('l2_leaf_reg', 1.0, 5.0, 0.5),\n"
     ]
    },
    {
     "name": "stdout",
     "output_type": "stream",
     "text": [
      "0:\ttest: 0.7629010\tbest: 0.7629010 (0)\ttotal: 11ms\tremaining: 54.8s\n",
      "100:\ttest: 0.8438690\tbest: 0.8438690 (100)\ttotal: 1.24s\tremaining: 1m\n",
      "200:\ttest: 0.8462837\tbest: 0.8462837 (200)\ttotal: 2.49s\tremaining: 59.4s\n"
     ]
    },
    {
     "name": "stderr",
     "output_type": "stream",
     "text": [
      "\u001b[32m[I 2023-03-27 22:32:48,268]\u001b[0m Trial 85 finished with value: 0.84635873256567 and parameters: {'learning_rate': 0.06787941604662442, 'bootstrap_type': 'Bayesian', 'boosting_type': 'Plain', 'l2_leaf_reg': 2.5, 'max_depth': 3, 'bagging_temperature': 1.2514788026459431}. Best is trial 72 with value: 0.8492039046581055.\u001b[0m\n"
     ]
    },
    {
     "name": "stdout",
     "output_type": "stream",
     "text": [
      "Stopped by overfitting detector  (40 iterations wait)\n",
      "\n",
      "bestTest = 0.8463587326\n",
      "bestIteration = 209\n",
      "\n",
      "Shrink model to first 210 iterations.\n",
      "0:\ttest: 0.7629010\tbest: 0.7629010 (0)\ttotal: 10.8ms\tremaining: 54.2s\n"
     ]
    },
    {
     "name": "stderr",
     "output_type": "stream",
     "text": [
      "C:\\Users\\paul\\AppData\\Local\\Temp\\ipykernel_14388\\3750462692.py:11: FutureWarning: suggest_discrete_uniform has been deprecated in v3.0.0. This feature will be removed in v6.0.0. See https://github.com/optuna/optuna/releases/tag/v3.0.0. Use :func:`~optuna.trial.Trial.suggest_float` instead.\n",
      "  'l2_leaf_reg': trial.suggest_discrete_uniform('l2_leaf_reg', 1.0, 5.0, 0.5),\n"
     ]
    },
    {
     "name": "stdout",
     "output_type": "stream",
     "text": [
      "100:\ttest: 0.8442737\tbest: 0.8442737 (99)\ttotal: 1.23s\tremaining: 59.8s\n",
      "200:\ttest: 0.8463844\tbest: 0.8468563 (173)\ttotal: 2.6s\tremaining: 1m 1s\n",
      "300:\ttest: 0.8466924\tbest: 0.8473519 (279)\ttotal: 3.94s\tremaining: 1m 1s\n"
     ]
    },
    {
     "name": "stderr",
     "output_type": "stream",
     "text": [
      "\u001b[32m[I 2023-03-27 22:32:52,556]\u001b[0m Trial 86 finished with value: 0.847351877300226 and parameters: {'learning_rate': 0.0708552530306948, 'bootstrap_type': 'Bayesian', 'boosting_type': 'Plain', 'l2_leaf_reg': 2.0, 'max_depth': 3, 'bagging_temperature': 0.4587868301236251}. Best is trial 72 with value: 0.8492039046581055.\u001b[0m\n"
     ]
    },
    {
     "name": "stdout",
     "output_type": "stream",
     "text": [
      "Stopped by overfitting detector  (40 iterations wait)\n",
      "\n",
      "bestTest = 0.8473518773\n",
      "bestIteration = 279\n",
      "\n",
      "Shrink model to first 280 iterations.\n",
      "0:\ttest: 0.7629010\tbest: 0.7629010 (0)\ttotal: 11.2ms\tremaining: 55.8s\n"
     ]
    },
    {
     "name": "stderr",
     "output_type": "stream",
     "text": [
      "C:\\Users\\paul\\AppData\\Local\\Temp\\ipykernel_14388\\3750462692.py:11: FutureWarning: suggest_discrete_uniform has been deprecated in v3.0.0. This feature will be removed in v6.0.0. See https://github.com/optuna/optuna/releases/tag/v3.0.0. Use :func:`~optuna.trial.Trial.suggest_float` instead.\n",
      "  'l2_leaf_reg': trial.suggest_discrete_uniform('l2_leaf_reg', 1.0, 5.0, 0.5),\n",
      "\u001b[32m[I 2023-03-27 22:32:56,548]\u001b[0m Trial 87 finished with value: 0.8363739752641806 and parameters: {'learning_rate': 0.0790457640788611, 'bootstrap_type': 'Bayesian', 'boosting_type': 'Plain', 'l2_leaf_reg': 2.5, 'max_depth': 10, 'bagging_temperature': 0.782937839450891}. Best is trial 72 with value: 0.8492039046581055.\u001b[0m\n"
     ]
    },
    {
     "name": "stdout",
     "output_type": "stream",
     "text": [
      "Stopped by overfitting detector  (40 iterations wait)\n",
      "\n",
      "bestTest = 0.8363739753\n",
      "bestIteration = 33\n",
      "\n",
      "Shrink model to first 34 iterations.\n",
      "0:\ttest: 0.7629010\tbest: 0.7629010 (0)\ttotal: 12.5ms\tremaining: 1m 2s\n"
     ]
    },
    {
     "name": "stderr",
     "output_type": "stream",
     "text": [
      "C:\\Users\\paul\\AppData\\Local\\Temp\\ipykernel_14388\\3750462692.py:11: FutureWarning: suggest_discrete_uniform has been deprecated in v3.0.0. This feature will be removed in v6.0.0. See https://github.com/optuna/optuna/releases/tag/v3.0.0. Use :func:`~optuna.trial.Trial.suggest_float` instead.\n",
      "  'l2_leaf_reg': trial.suggest_discrete_uniform('l2_leaf_reg', 1.0, 5.0, 0.5),\n"
     ]
    },
    {
     "name": "stdout",
     "output_type": "stream",
     "text": [
      "100:\ttest: 0.8431305\tbest: 0.8432885 (86)\ttotal: 1.85s\tremaining: 1m 30s\n"
     ]
    },
    {
     "name": "stderr",
     "output_type": "stream",
     "text": [
      "\u001b[32m[I 2023-03-27 22:32:59,918]\u001b[0m Trial 88 finished with value: 0.8465384068615837 and parameters: {'learning_rate': 0.07485061270686673, 'bootstrap_type': 'Bayesian', 'boosting_type': 'Plain', 'l2_leaf_reg': 2.5, 'max_depth': 4, 'bagging_temperature': 0.004383117856637364}. Best is trial 72 with value: 0.8492039046581055.\u001b[0m\n"
     ]
    },
    {
     "name": "stdout",
     "output_type": "stream",
     "text": [
      "Stopped by overfitting detector  (40 iterations wait)\n",
      "\n",
      "bestTest = 0.8465384069\n",
      "bestIteration = 140\n",
      "\n",
      "Shrink model to first 141 iterations.\n",
      "0:\ttest: 0.8075767\tbest: 0.8075767 (0)\ttotal: 43.7ms\tremaining: 3m 38s\n"
     ]
    },
    {
     "name": "stderr",
     "output_type": "stream",
     "text": [
      "C:\\Users\\paul\\AppData\\Local\\Temp\\ipykernel_14388\\3750462692.py:11: FutureWarning: suggest_discrete_uniform has been deprecated in v3.0.0. This feature will be removed in v6.0.0. See https://github.com/optuna/optuna/releases/tag/v3.0.0. Use :func:`~optuna.trial.Trial.suggest_float` instead.\n",
      "  'l2_leaf_reg': trial.suggest_discrete_uniform('l2_leaf_reg', 1.0, 5.0, 0.5),\n"
     ]
    },
    {
     "name": "stdout",
     "output_type": "stream",
     "text": [
      "100:\ttest: 0.8381727\tbest: 0.8387709 (92)\ttotal: 4.02s\tremaining: 3m 14s\n"
     ]
    },
    {
     "name": "stderr",
     "output_type": "stream",
     "text": [
      "\u001b[32m[I 2023-03-27 22:33:05,323]\u001b[0m Trial 89 finished with value: 0.8387709488382378 and parameters: {'learning_rate': 0.06645409839311266, 'bootstrap_type': 'Bayesian', 'boosting_type': 'Plain', 'l2_leaf_reg': 2.0, 'max_depth': 8, 'bagging_temperature': 1.6200538418016859}. Best is trial 72 with value: 0.8492039046581055.\u001b[0m\n"
     ]
    },
    {
     "name": "stdout",
     "output_type": "stream",
     "text": [
      "Stopped by overfitting detector  (40 iterations wait)\n",
      "\n",
      "bestTest = 0.8387709488\n",
      "bestIteration = 92\n",
      "\n",
      "Shrink model to first 93 iterations.\n",
      "0:\ttest: 0.7629010\tbest: 0.7629010 (0)\ttotal: 11.3ms\tremaining: 56.3s\n"
     ]
    },
    {
     "name": "stderr",
     "output_type": "stream",
     "text": [
      "C:\\Users\\paul\\AppData\\Local\\Temp\\ipykernel_14388\\3750462692.py:11: FutureWarning: suggest_discrete_uniform has been deprecated in v3.0.0. This feature will be removed in v6.0.0. See https://github.com/optuna/optuna/releases/tag/v3.0.0. Use :func:`~optuna.trial.Trial.suggest_float` instead.\n",
      "  'l2_leaf_reg': trial.suggest_discrete_uniform('l2_leaf_reg', 1.0, 5.0, 0.5),\n"
     ]
    },
    {
     "name": "stdout",
     "output_type": "stream",
     "text": [
      "100:\ttest: 0.8451701\tbest: 0.8451701 (100)\ttotal: 1.36s\tremaining: 1m 5s\n"
     ]
    },
    {
     "name": "stderr",
     "output_type": "stream",
     "text": [
      "\u001b[32m[I 2023-03-27 22:33:07,658]\u001b[0m Trial 90 finished with value: 0.8467832377703012 and parameters: {'learning_rate': 0.07351833124204635, 'bootstrap_type': 'Bayesian', 'boosting_type': 'Plain', 'l2_leaf_reg': 2.5, 'max_depth': 3, 'bagging_temperature': 1.245735712640141}. Best is trial 72 with value: 0.8492039046581055.\u001b[0m\n"
     ]
    },
    {
     "name": "stdout",
     "output_type": "stream",
     "text": [
      "Stopped by overfitting detector  (40 iterations wait)\n",
      "\n",
      "bestTest = 0.8467832378\n",
      "bestIteration = 131\n",
      "\n",
      "Shrink model to first 132 iterations.\n",
      "0:\ttest: 0.7629010\tbest: 0.7629010 (0)\ttotal: 10.9ms\tremaining: 54.7s\n"
     ]
    },
    {
     "name": "stderr",
     "output_type": "stream",
     "text": [
      "C:\\Users\\paul\\AppData\\Local\\Temp\\ipykernel_14388\\3750462692.py:11: FutureWarning: suggest_discrete_uniform has been deprecated in v3.0.0. This feature will be removed in v6.0.0. See https://github.com/optuna/optuna/releases/tag/v3.0.0. Use :func:`~optuna.trial.Trial.suggest_float` instead.\n",
      "  'l2_leaf_reg': trial.suggest_discrete_uniform('l2_leaf_reg', 1.0, 5.0, 0.5),\n"
     ]
    },
    {
     "name": "stdout",
     "output_type": "stream",
     "text": [
      "100:\ttest: 0.8432075\tbest: 0.8432075 (100)\ttotal: 1.34s\tremaining: 1m 4s\n",
      "200:\ttest: 0.8473696\tbest: 0.8474763 (187)\ttotal: 2.63s\tremaining: 1m 2s\n"
     ]
    },
    {
     "name": "stderr",
     "output_type": "stream",
     "text": [
      "\u001b[32m[I 2023-03-27 22:33:10,762]\u001b[0m Trial 91 finished with value: 0.8474762671973969 and parameters: {'learning_rate': 0.07145276845401534, 'bootstrap_type': 'Bayesian', 'boosting_type': 'Plain', 'l2_leaf_reg': 1.5, 'max_depth': 3, 'bagging_temperature': 0.18496287845236595}. Best is trial 72 with value: 0.8492039046581055.\u001b[0m\n"
     ]
    },
    {
     "name": "stdout",
     "output_type": "stream",
     "text": [
      "Stopped by overfitting detector  (40 iterations wait)\n",
      "\n",
      "bestTest = 0.8474762672\n",
      "bestIteration = 187\n",
      "\n",
      "Shrink model to first 188 iterations.\n",
      "0:\ttest: 0.7629010\tbest: 0.7629010 (0)\ttotal: 11ms\tremaining: 55.1s\n"
     ]
    },
    {
     "name": "stderr",
     "output_type": "stream",
     "text": [
      "C:\\Users\\paul\\AppData\\Local\\Temp\\ipykernel_14388\\3750462692.py:11: FutureWarning: suggest_discrete_uniform has been deprecated in v3.0.0. This feature will be removed in v6.0.0. See https://github.com/optuna/optuna/releases/tag/v3.0.0. Use :func:`~optuna.trial.Trial.suggest_float` instead.\n",
      "  'l2_leaf_reg': trial.suggest_discrete_uniform('l2_leaf_reg', 1.0, 5.0, 0.5),\n"
     ]
    },
    {
     "name": "stdout",
     "output_type": "stream",
     "text": [
      "100:\ttest: 0.8440506\tbest: 0.8440783 (99)\ttotal: 1.25s\tremaining: 1m\n",
      "200:\ttest: 0.8464535\tbest: 0.8465799 (178)\ttotal: 2.5s\tremaining: 59.8s\n"
     ]
    },
    {
     "name": "stderr",
     "output_type": "stream",
     "text": [
      "\u001b[32m[I 2023-03-27 22:33:13,579]\u001b[0m Trial 92 finished with value: 0.8465798701606406 and parameters: {'learning_rate': 0.0774460136049403, 'bootstrap_type': 'Bayesian', 'boosting_type': 'Plain', 'l2_leaf_reg': 2.0, 'max_depth': 3, 'bagging_temperature': 0.48058785401684495}. Best is trial 72 with value: 0.8492039046581055.\u001b[0m\n"
     ]
    },
    {
     "name": "stdout",
     "output_type": "stream",
     "text": [
      "Stopped by overfitting detector  (40 iterations wait)\n",
      "\n",
      "bestTest = 0.8465798702\n",
      "bestIteration = 178\n",
      "\n",
      "Shrink model to first 179 iterations.\n",
      "0:\ttest: 0.7629010\tbest: 0.7629010 (0)\ttotal: 10.5ms\tremaining: 52.3s\n"
     ]
    },
    {
     "name": "stderr",
     "output_type": "stream",
     "text": [
      "C:\\Users\\paul\\AppData\\Local\\Temp\\ipykernel_14388\\3750462692.py:11: FutureWarning: suggest_discrete_uniform has been deprecated in v3.0.0. This feature will be removed in v6.0.0. See https://github.com/optuna/optuna/releases/tag/v3.0.0. Use :func:`~optuna.trial.Trial.suggest_float` instead.\n",
      "  'l2_leaf_reg': trial.suggest_discrete_uniform('l2_leaf_reg', 1.0, 5.0, 0.5),\n"
     ]
    },
    {
     "name": "stdout",
     "output_type": "stream",
     "text": [
      "100:\ttest: 0.8448818\tbest: 0.8448818 (100)\ttotal: 1.28s\tremaining: 1m 2s\n",
      "200:\ttest: 0.8493441\tbest: 0.8493441 (200)\ttotal: 2.57s\tremaining: 1m 1s\n"
     ]
    },
    {
     "name": "stderr",
     "output_type": "stream",
     "text": [
      "\u001b[32m[I 2023-03-27 22:33:16,861]\u001b[0m Trial 93 finished with value: 0.8496442054052347 and parameters: {'learning_rate': 0.069016295561445, 'bootstrap_type': 'Bayesian', 'boosting_type': 'Plain', 'l2_leaf_reg': 2.0, 'max_depth': 3, 'bagging_temperature': 0.20228778152344007}. Best is trial 93 with value: 0.8496442054052347.\u001b[0m\n"
     ]
    },
    {
     "name": "stdout",
     "output_type": "stream",
     "text": [
      "Stopped by overfitting detector  (40 iterations wait)\n",
      "\n",
      "bestTest = 0.8496442054\n",
      "bestIteration = 205\n",
      "\n",
      "Shrink model to first 206 iterations.\n",
      "0:\ttest: 0.7629010\tbest: 0.7629010 (0)\ttotal: 11.7ms\tremaining: 58.7s\n"
     ]
    },
    {
     "name": "stderr",
     "output_type": "stream",
     "text": [
      "C:\\Users\\paul\\AppData\\Local\\Temp\\ipykernel_14388\\3750462692.py:11: FutureWarning: suggest_discrete_uniform has been deprecated in v3.0.0. This feature will be removed in v6.0.0. See https://github.com/optuna/optuna/releases/tag/v3.0.0. Use :func:`~optuna.trial.Trial.suggest_float` instead.\n",
      "  'l2_leaf_reg': trial.suggest_discrete_uniform('l2_leaf_reg', 1.0, 5.0, 0.5),\n"
     ]
    },
    {
     "name": "stdout",
     "output_type": "stream",
     "text": [
      "100:\ttest: 0.8450003\tbest: 0.8450003 (100)\ttotal: 1.43s\tremaining: 1m 9s\n",
      "200:\ttest: 0.8475118\tbest: 0.8475118 (200)\ttotal: 2.99s\tremaining: 1m 11s\n"
     ]
    },
    {
     "name": "stderr",
     "output_type": "stream",
     "text": [
      "\u001b[32m[I 2023-03-27 22:33:21,097]\u001b[0m Trial 94 finished with value: 0.8483410731491573 and parameters: {'learning_rate': 0.06917415446113821, 'bootstrap_type': 'Bayesian', 'boosting_type': 'Plain', 'l2_leaf_reg': 2.0, 'max_depth': 3, 'bagging_temperature': 0.9011263179585638}. Best is trial 93 with value: 0.8496442054052347.\u001b[0m\n"
     ]
    },
    {
     "name": "stdout",
     "output_type": "stream",
     "text": [
      "Stopped by overfitting detector  (40 iterations wait)\n",
      "\n",
      "bestTest = 0.8483410731\n",
      "bestIteration = 226\n",
      "\n",
      "Shrink model to first 227 iterations.\n",
      "0:\ttest: 0.7629010\tbest: 0.7629010 (0)\ttotal: 13.9ms\tremaining: 1m 9s\n"
     ]
    },
    {
     "name": "stderr",
     "output_type": "stream",
     "text": [
      "C:\\Users\\paul\\AppData\\Local\\Temp\\ipykernel_14388\\3750462692.py:11: FutureWarning: suggest_discrete_uniform has been deprecated in v3.0.0. This feature will be removed in v6.0.0. See https://github.com/optuna/optuna/releases/tag/v3.0.0. Use :func:`~optuna.trial.Trial.suggest_float` instead.\n",
      "  'l2_leaf_reg': trial.suggest_discrete_uniform('l2_leaf_reg', 1.0, 5.0, 0.5),\n"
     ]
    },
    {
     "name": "stdout",
     "output_type": "stream",
     "text": [
      "100:\ttest: 0.8439400\tbest: 0.8440783 (93)\ttotal: 2.01s\tremaining: 1m 37s\n",
      "200:\ttest: 0.8455946\tbest: 0.8463686 (173)\ttotal: 4.26s\tremaining: 1m 41s\n"
     ]
    },
    {
     "name": "stderr",
     "output_type": "stream",
     "text": [
      "\u001b[32m[I 2023-03-27 22:33:25,743]\u001b[0m Trial 95 finished with value: 0.8463686047797312 and parameters: {'learning_rate': 0.06330153516382853, 'bootstrap_type': 'Bayesian', 'boosting_type': 'Plain', 'l2_leaf_reg': 1.5, 'max_depth': 4, 'bagging_temperature': 0.8569188124389914}. Best is trial 93 with value: 0.8496442054052347.\u001b[0m\n"
     ]
    },
    {
     "name": "stdout",
     "output_type": "stream",
     "text": [
      "Stopped by overfitting detector  (40 iterations wait)\n",
      "\n",
      "bestTest = 0.8463686048\n",
      "bestIteration = 173\n",
      "\n",
      "Shrink model to first 174 iterations.\n",
      "0:\ttest: 0.7629010\tbest: 0.7629010 (0)\ttotal: 12.3ms\tremaining: 1m 1s\n"
     ]
    },
    {
     "name": "stderr",
     "output_type": "stream",
     "text": [
      "C:\\Users\\paul\\AppData\\Local\\Temp\\ipykernel_14388\\3750462692.py:11: FutureWarning: suggest_discrete_uniform has been deprecated in v3.0.0. This feature will be removed in v6.0.0. See https://github.com/optuna/optuna/releases/tag/v3.0.0. Use :func:`~optuna.trial.Trial.suggest_float` instead.\n",
      "  'l2_leaf_reg': trial.suggest_discrete_uniform('l2_leaf_reg', 1.0, 5.0, 0.5),\n"
     ]
    },
    {
     "name": "stdout",
     "output_type": "stream",
     "text": [
      "100:\ttest: 0.8444534\tbest: 0.8445284 (97)\ttotal: 1.54s\tremaining: 1m 14s\n",
      "200:\ttest: 0.8473756\tbest: 0.8478060 (194)\ttotal: 2.97s\tremaining: 1m 10s\n"
     ]
    },
    {
     "name": "stderr",
     "output_type": "stream",
     "text": [
      "\u001b[32m[I 2023-03-27 22:33:29,328]\u001b[0m Trial 96 finished with value: 0.8478059991470408 and parameters: {'learning_rate': 0.06804419886046242, 'bootstrap_type': 'Bayesian', 'boosting_type': 'Plain', 'l2_leaf_reg': 2.0, 'max_depth': 3, 'bagging_temperature': 0.6858192697596018}. Best is trial 93 with value: 0.8496442054052347.\u001b[0m\n"
     ]
    },
    {
     "name": "stdout",
     "output_type": "stream",
     "text": [
      "Stopped by overfitting detector  (40 iterations wait)\n",
      "\n",
      "bestTest = 0.8478059991\n",
      "bestIteration = 194\n",
      "\n",
      "Shrink model to first 195 iterations.\n",
      "0:\ttest: 0.7629010\tbest: 0.7629010 (0)\ttotal: 14.5ms\tremaining: 1m 12s\n"
     ]
    },
    {
     "name": "stderr",
     "output_type": "stream",
     "text": [
      "C:\\Users\\paul\\AppData\\Local\\Temp\\ipykernel_14388\\3750462692.py:11: FutureWarning: suggest_discrete_uniform has been deprecated in v3.0.0. This feature will be removed in v6.0.0. See https://github.com/optuna/optuna/releases/tag/v3.0.0. Use :func:`~optuna.trial.Trial.suggest_float` instead.\n",
      "  'l2_leaf_reg': trial.suggest_discrete_uniform('l2_leaf_reg', 1.0, 5.0, 0.5),\n"
     ]
    },
    {
     "name": "stdout",
     "output_type": "stream",
     "text": [
      "100:\ttest: 0.8460369\tbest: 0.8460369 (100)\ttotal: 1.82s\tremaining: 1m 28s\n"
     ]
    },
    {
     "name": "stderr",
     "output_type": "stream",
     "text": [
      "\u001b[32m[I 2023-03-27 22:33:33,115]\u001b[0m Trial 97 finished with value: 0.8482008877094883 and parameters: {'learning_rate': 0.06957199274198075, 'bootstrap_type': 'Bayesian', 'boosting_type': 'Plain', 'l2_leaf_reg': 2.0, 'max_depth': 4, 'bagging_temperature': 0.20183411486190656}. Best is trial 93 with value: 0.8496442054052347.\u001b[0m\n"
     ]
    },
    {
     "name": "stdout",
     "output_type": "stream",
     "text": [
      "200:\ttest: 0.8477369\tbest: 0.8482009 (162)\ttotal: 3.65s\tremaining: 1m 27s\n",
      "Stopped by overfitting detector  (40 iterations wait)\n",
      "\n",
      "bestTest = 0.8482008877\n",
      "bestIteration = 162\n",
      "\n",
      "Shrink model to first 163 iterations.\n",
      "0:\ttest: 0.7740586\tbest: 0.7740586 (0)\ttotal: 13ms\tremaining: 1m 5s\n"
     ]
    },
    {
     "name": "stderr",
     "output_type": "stream",
     "text": [
      "C:\\Users\\paul\\AppData\\Local\\Temp\\ipykernel_14388\\3750462692.py:11: FutureWarning: suggest_discrete_uniform has been deprecated in v3.0.0. This feature will be removed in v6.0.0. See https://github.com/optuna/optuna/releases/tag/v3.0.0. Use :func:`~optuna.trial.Trial.suggest_float` instead.\n",
      "  'l2_leaf_reg': trial.suggest_discrete_uniform('l2_leaf_reg', 1.0, 5.0, 0.5),\n"
     ]
    },
    {
     "name": "stdout",
     "output_type": "stream",
     "text": [
      "100:\ttest: 0.8435748\tbest: 0.8435748 (100)\ttotal: 1.39s\tremaining: 1m 7s\n"
     ]
    },
    {
     "name": "stderr",
     "output_type": "stream",
     "text": [
      "\u001b[32m[I 2023-03-27 22:33:36,124]\u001b[0m Trial 98 finished with value: 0.846167211612883 and parameters: {'learning_rate': 0.06460881666171607, 'bootstrap_type': 'Bayesian', 'boosting_type': 'Plain', 'l2_leaf_reg': 3.5, 'max_depth': 3, 'bagging_temperature': 1.6567211712826535}. Best is trial 93 with value: 0.8496442054052347.\u001b[0m\n"
     ]
    },
    {
     "name": "stdout",
     "output_type": "stream",
     "text": [
      "200:\ttest: 0.8457032\tbest: 0.8461672 (173)\ttotal: 2.75s\tremaining: 1m 5s\n",
      "Stopped by overfitting detector  (40 iterations wait)\n",
      "\n",
      "bestTest = 0.8461672116\n",
      "bestIteration = 173\n",
      "\n",
      "Shrink model to first 174 iterations.\n"
     ]
    },
    {
     "name": "stderr",
     "output_type": "stream",
     "text": [
      "C:\\Users\\paul\\AppData\\Local\\Temp\\ipykernel_14388\\3750462692.py:11: FutureWarning: suggest_discrete_uniform has been deprecated in v3.0.0. This feature will be removed in v6.0.0. See https://github.com/optuna/optuna/releases/tag/v3.0.0. Use :func:`~optuna.trial.Trial.suggest_float` instead.\n",
      "  'l2_leaf_reg': trial.suggest_discrete_uniform('l2_leaf_reg', 1.0, 5.0, 0.5),\n"
     ]
    },
    {
     "name": "stdout",
     "output_type": "stream",
     "text": [
      "0:\ttest: 0.7629010\tbest: 0.7629010 (0)\ttotal: 10.9ms\tremaining: 54.3s\n",
      "100:\ttest: 0.8448226\tbest: 0.8448976 (90)\ttotal: 1.79s\tremaining: 1m 26s\n"
     ]
    },
    {
     "name": "stderr",
     "output_type": "stream",
     "text": [
      "\u001b[32m[I 2023-03-27 22:33:39,161]\u001b[0m Trial 99 finished with value: 0.8457545530651249 and parameters: {'learning_rate': 0.07405518764854409, 'bootstrap_type': 'Bayesian', 'boosting_type': 'Plain', 'l2_leaf_reg': 1.5, 'max_depth': 4, 'bagging_temperature': 0.9829033718624036}. Best is trial 93 with value: 0.8496442054052347.\u001b[0m\n"
     ]
    },
    {
     "name": "stdout",
     "output_type": "stream",
     "text": [
      "Stopped by overfitting detector  (40 iterations wait)\n",
      "\n",
      "bestTest = 0.8457545531\n",
      "bestIteration = 117\n",
      "\n",
      "Shrink model to first 118 iterations.\n"
     ]
    }
   ],
   "source": [
    "study = optuna.create_study(direction=\"maximize\")\n",
    "study.optimize(objective, n_trials=100)"
   ]
  },
  {
   "cell_type": "code",
   "execution_count": 120,
   "id": "fe1d537f",
   "metadata": {},
   "outputs": [
    {
     "data": {
      "text/plain": [
       "{'learning_rate': 0.069016295561445,\n",
       " 'bootstrap_type': 'Bayesian',\n",
       " 'boosting_type': 'Plain',\n",
       " 'l2_leaf_reg': 2.0,\n",
       " 'max_depth': 3,\n",
       " 'bagging_temperature': 0.20228778152344007}"
      ]
     },
     "execution_count": 120,
     "metadata": {},
     "output_type": "execute_result"
    }
   ],
   "source": [
    "study.best_params"
   ]
  },
  {
   "cell_type": "code",
   "execution_count": 121,
   "id": "1447128b",
   "metadata": {},
   "outputs": [],
   "source": [
    "model = CatBoostClassifier(**study.best_params, eval_metric = \"AUC\", loss_function= \"Logloss\")"
   ]
  },
  {
   "cell_type": "code",
   "execution_count": 122,
   "id": "10b6c23c",
   "metadata": {
    "scrolled": true
   },
   "outputs": [
    {
     "name": "stdout",
     "output_type": "stream",
     "text": [
      "0:\ttest: 0.7629010\tbest: 0.7629010 (0)\ttotal: 11.7ms\tremaining: 11.6s\n",
      "1:\ttest: 0.7786235\tbest: 0.7786235 (1)\ttotal: 25.8ms\tremaining: 12.9s\n",
      "2:\ttest: 0.7893842\tbest: 0.7893842 (2)\ttotal: 39.6ms\tremaining: 13.2s\n",
      "3:\ttest: 0.8102758\tbest: 0.8102758 (3)\ttotal: 52.4ms\tremaining: 13s\n",
      "4:\ttest: 0.8115947\tbest: 0.8115947 (4)\ttotal: 64ms\tremaining: 12.7s\n",
      "5:\ttest: 0.8227207\tbest: 0.8227207 (5)\ttotal: 74.5ms\tremaining: 12.3s\n",
      "6:\ttest: 0.8285512\tbest: 0.8285512 (6)\ttotal: 85.7ms\tremaining: 12.2s\n",
      "7:\ttest: 0.8308613\tbest: 0.8308613 (7)\ttotal: 95.7ms\tremaining: 11.9s\n",
      "8:\ttest: 0.8321289\tbest: 0.8321289 (8)\ttotal: 106ms\tremaining: 11.7s\n",
      "9:\ttest: 0.8317340\tbest: 0.8321289 (8)\ttotal: 116ms\tremaining: 11.5s\n",
      "10:\ttest: 0.8323580\tbest: 0.8323580 (10)\ttotal: 128ms\tremaining: 11.5s\n",
      "11:\ttest: 0.8328654\tbest: 0.8328654 (11)\ttotal: 138ms\tremaining: 11.4s\n",
      "12:\ttest: 0.8327193\tbest: 0.8328654 (11)\ttotal: 149ms\tremaining: 11.3s\n",
      "13:\ttest: 0.8318900\tbest: 0.8328654 (11)\ttotal: 159ms\tremaining: 11.2s\n",
      "14:\ttest: 0.8310055\tbest: 0.8328654 (11)\ttotal: 170ms\tremaining: 11.2s\n",
      "15:\ttest: 0.8317459\tbest: 0.8328654 (11)\ttotal: 180ms\tremaining: 11.1s\n",
      "16:\ttest: 0.8318565\tbest: 0.8328654 (11)\ttotal: 192ms\tremaining: 11.1s\n",
      "17:\ttest: 0.8327884\tbest: 0.8328654 (11)\ttotal: 203ms\tremaining: 11.1s\n",
      "18:\ttest: 0.8327331\tbest: 0.8328654 (11)\ttotal: 214ms\tremaining: 11.1s\n",
      "19:\ttest: 0.8319177\tbest: 0.8328654 (11)\ttotal: 226ms\tremaining: 11.1s\n",
      "20:\ttest: 0.8324014\tbest: 0.8328654 (11)\ttotal: 238ms\tremaining: 11.1s\n",
      "21:\ttest: 0.8324725\tbest: 0.8328654 (11)\ttotal: 249ms\tremaining: 11.1s\n",
      "22:\ttest: 0.8336374\tbest: 0.8336374 (22)\ttotal: 263ms\tremaining: 11.2s\n",
      "23:\ttest: 0.8338210\tbest: 0.8338210 (23)\ttotal: 276ms\tremaining: 11.2s\n",
      "24:\ttest: 0.8347332\tbest: 0.8347332 (24)\ttotal: 286ms\tremaining: 11.2s\n",
      "25:\ttest: 0.8342218\tbest: 0.8347332 (24)\ttotal: 297ms\tremaining: 11.1s\n",
      "26:\ttest: 0.8350866\tbest: 0.8350866 (26)\ttotal: 308ms\tremaining: 11.1s\n",
      "27:\ttest: 0.8351933\tbest: 0.8351933 (27)\ttotal: 319ms\tremaining: 11.1s\n",
      "28:\ttest: 0.8360028\tbest: 0.8360028 (28)\ttotal: 331ms\tremaining: 11.1s\n",
      "29:\ttest: 0.8357678\tbest: 0.8360028 (28)\ttotal: 342ms\tremaining: 11.1s\n",
      "30:\ttest: 0.8356178\tbest: 0.8360028 (28)\ttotal: 353ms\tremaining: 11s\n",
      "31:\ttest: 0.8359376\tbest: 0.8360028 (28)\ttotal: 364ms\tremaining: 11s\n",
      "32:\ttest: 0.8361864\tbest: 0.8361864 (32)\ttotal: 375ms\tremaining: 11s\n",
      "33:\ttest: 0.8366919\tbest: 0.8366919 (33)\ttotal: 386ms\tremaining: 11s\n",
      "34:\ttest: 0.8366287\tbest: 0.8366919 (33)\ttotal: 397ms\tremaining: 10.9s\n",
      "35:\ttest: 0.8371855\tbest: 0.8371855 (35)\ttotal: 408ms\tremaining: 10.9s\n",
      "36:\ttest: 0.8376277\tbest: 0.8376277 (36)\ttotal: 419ms\tremaining: 10.9s\n",
      "37:\ttest: 0.8379595\tbest: 0.8379595 (37)\ttotal: 430ms\tremaining: 10.9s\n",
      "38:\ttest: 0.8377916\tbest: 0.8379595 (37)\ttotal: 442ms\tremaining: 10.9s\n",
      "39:\ttest: 0.8376653\tbest: 0.8379595 (37)\ttotal: 456ms\tremaining: 10.9s\n",
      "40:\ttest: 0.8375981\tbest: 0.8379595 (37)\ttotal: 469ms\tremaining: 11s\n",
      "41:\ttest: 0.8377482\tbest: 0.8379595 (37)\ttotal: 481ms\tremaining: 11s\n",
      "42:\ttest: 0.8380384\tbest: 0.8380384 (42)\ttotal: 492ms\tremaining: 11s\n",
      "43:\ttest: 0.8379752\tbest: 0.8380384 (42)\ttotal: 504ms\tremaining: 10.9s\n",
      "44:\ttest: 0.8383504\tbest: 0.8383504 (44)\ttotal: 515ms\tremaining: 10.9s\n",
      "45:\ttest: 0.8385083\tbest: 0.8385083 (45)\ttotal: 526ms\tremaining: 10.9s\n",
      "46:\ttest: 0.8392231\tbest: 0.8392231 (46)\ttotal: 537ms\tremaining: 10.9s\n",
      "47:\ttest: 0.8396535\tbest: 0.8396535 (47)\ttotal: 548ms\tremaining: 10.9s\n",
      "48:\ttest: 0.8397858\tbest: 0.8397858 (48)\ttotal: 558ms\tremaining: 10.8s\n",
      "49:\ttest: 0.8399319\tbest: 0.8399319 (49)\ttotal: 569ms\tremaining: 10.8s\n",
      "50:\ttest: 0.8398924\tbest: 0.8399319 (49)\ttotal: 581ms\tremaining: 10.8s\n",
      "51:\ttest: 0.8396358\tbest: 0.8399319 (49)\ttotal: 592ms\tremaining: 10.8s\n",
      "52:\ttest: 0.8399477\tbest: 0.8399477 (52)\ttotal: 603ms\tremaining: 10.8s\n",
      "53:\ttest: 0.8400227\tbest: 0.8400227 (53)\ttotal: 614ms\tremaining: 10.8s\n",
      "54:\ttest: 0.8403169\tbest: 0.8403169 (54)\ttotal: 626ms\tremaining: 10.7s\n",
      "55:\ttest: 0.8402893\tbest: 0.8403169 (54)\ttotal: 637ms\tremaining: 10.7s\n",
      "56:\ttest: 0.8408184\tbest: 0.8408184 (56)\ttotal: 647ms\tremaining: 10.7s\n",
      "57:\ttest: 0.8406526\tbest: 0.8408184 (56)\ttotal: 659ms\tremaining: 10.7s\n",
      "58:\ttest: 0.8407809\tbest: 0.8408184 (56)\ttotal: 673ms\tremaining: 10.7s\n",
      "59:\ttest: 0.8410968\tbest: 0.8410968 (59)\ttotal: 686ms\tremaining: 10.7s\n",
      "60:\ttest: 0.8414443\tbest: 0.8414443 (60)\ttotal: 702ms\tremaining: 10.8s\n",
      "61:\ttest: 0.8413812\tbest: 0.8414443 (60)\ttotal: 730ms\tremaining: 11.1s\n",
      "62:\ttest: 0.8412508\tbest: 0.8414443 (60)\ttotal: 763ms\tremaining: 11.3s\n",
      "63:\ttest: 0.8412508\tbest: 0.8414443 (60)\ttotal: 769ms\tremaining: 11.2s\n",
      "64:\ttest: 0.8414483\tbest: 0.8414483 (64)\ttotal: 791ms\tremaining: 11.4s\n",
      "65:\ttest: 0.8417129\tbest: 0.8417129 (65)\ttotal: 813ms\tremaining: 11.5s\n",
      "66:\ttest: 0.8420268\tbest: 0.8420268 (66)\ttotal: 825ms\tremaining: 11.5s\n",
      "67:\ttest: 0.8423664\tbest: 0.8423664 (67)\ttotal: 837ms\tremaining: 11.5s\n",
      "68:\ttest: 0.8422124\tbest: 0.8423664 (67)\ttotal: 848ms\tremaining: 11.4s\n",
      "69:\ttest: 0.8422124\tbest: 0.8423664 (67)\ttotal: 859ms\tremaining: 11.4s\n",
      "70:\ttest: 0.8420189\tbest: 0.8423664 (67)\ttotal: 870ms\tremaining: 11.4s\n",
      "71:\ttest: 0.8423348\tbest: 0.8423664 (67)\ttotal: 881ms\tremaining: 11.4s\n",
      "72:\ttest: 0.8423743\tbest: 0.8423743 (72)\ttotal: 893ms\tremaining: 11.3s\n",
      "73:\ttest: 0.8423980\tbest: 0.8423980 (73)\ttotal: 906ms\tremaining: 11.3s\n",
      "74:\ttest: 0.8424296\tbest: 0.8424296 (74)\ttotal: 918ms\tremaining: 11.3s\n",
      "75:\ttest: 0.8423388\tbest: 0.8424296 (74)\ttotal: 930ms\tremaining: 11.3s\n",
      "76:\ttest: 0.8423388\tbest: 0.8424296 (74)\ttotal: 941ms\tremaining: 11.3s\n",
      "77:\ttest: 0.8427929\tbest: 0.8427929 (77)\ttotal: 952ms\tremaining: 11.3s\n",
      "78:\ttest: 0.8430377\tbest: 0.8430377 (78)\ttotal: 964ms\tremaining: 11.2s\n",
      "79:\ttest: 0.8431720\tbest: 0.8431720 (79)\ttotal: 975ms\tremaining: 11.2s\n",
      "80:\ttest: 0.8430535\tbest: 0.8431720 (79)\ttotal: 986ms\tremaining: 11.2s\n",
      "81:\ttest: 0.8432668\tbest: 0.8432668 (81)\ttotal: 998ms\tremaining: 11.2s\n",
      "82:\ttest: 0.8432549\tbest: 0.8432668 (81)\ttotal: 1.01s\tremaining: 11.2s\n",
      "83:\ttest: 0.8433852\tbest: 0.8433852 (83)\ttotal: 1.02s\tremaining: 11.2s\n",
      "84:\ttest: 0.8435432\tbest: 0.8435432 (84)\ttotal: 1.04s\tremaining: 11.2s\n",
      "85:\ttest: 0.8435906\tbest: 0.8435906 (85)\ttotal: 1.05s\tremaining: 11.2s\n",
      "86:\ttest: 0.8437051\tbest: 0.8437051 (86)\ttotal: 1.06s\tremaining: 11.1s\n",
      "87:\ttest: 0.8439104\tbest: 0.8439104 (87)\ttotal: 1.07s\tremaining: 11.1s\n",
      "88:\ttest: 0.8438788\tbest: 0.8439104 (87)\ttotal: 1.08s\tremaining: 11.1s\n",
      "89:\ttest: 0.8440427\tbest: 0.8440427 (89)\ttotal: 1.09s\tremaining: 11.1s\n",
      "90:\ttest: 0.8442481\tbest: 0.8442481 (90)\ttotal: 1.1s\tremaining: 11s\n",
      "91:\ttest: 0.8441158\tbest: 0.8442481 (90)\ttotal: 1.12s\tremaining: 11s\n",
      "92:\ttest: 0.8441632\tbest: 0.8442481 (90)\ttotal: 1.13s\tremaining: 11s\n",
      "93:\ttest: 0.8442619\tbest: 0.8442619 (93)\ttotal: 1.14s\tremaining: 11s\n",
      "94:\ttest: 0.8444119\tbest: 0.8444119 (94)\ttotal: 1.15s\tremaining: 11s\n",
      "95:\ttest: 0.8445778\tbest: 0.8445778 (95)\ttotal: 1.16s\tremaining: 11s\n",
      "96:\ttest: 0.8446805\tbest: 0.8446805 (96)\ttotal: 1.18s\tremaining: 11s\n",
      "97:\ttest: 0.8446489\tbest: 0.8446805 (96)\ttotal: 1.19s\tremaining: 10.9s\n",
      "98:\ttest: 0.8446489\tbest: 0.8446805 (96)\ttotal: 1.2s\tremaining: 10.9s\n",
      "99:\ttest: 0.8448621\tbest: 0.8448621 (99)\ttotal: 1.21s\tremaining: 10.9s\n",
      "100:\ttest: 0.8448818\tbest: 0.8448818 (100)\ttotal: 1.22s\tremaining: 10.9s\n",
      "101:\ttest: 0.8449806\tbest: 0.8449806 (101)\ttotal: 1.23s\tremaining: 10.9s\n",
      "102:\ttest: 0.8453320\tbest: 0.8453320 (102)\ttotal: 1.25s\tremaining: 10.9s\n",
      "103:\ttest: 0.8452965\tbest: 0.8453320 (102)\ttotal: 1.26s\tremaining: 10.9s\n",
      "104:\ttest: 0.8451978\tbest: 0.8453320 (102)\ttotal: 1.28s\tremaining: 10.9s\n",
      "105:\ttest: 0.8451464\tbest: 0.8453320 (102)\ttotal: 1.29s\tremaining: 10.9s\n",
      "106:\ttest: 0.8451464\tbest: 0.8453320 (102)\ttotal: 1.3s\tremaining: 10.9s\n",
      "107:\ttest: 0.8451188\tbest: 0.8453320 (102)\ttotal: 1.31s\tremaining: 10.8s\n",
      "108:\ttest: 0.8454860\tbest: 0.8454860 (108)\ttotal: 1.32s\tremaining: 10.8s\n",
      "109:\ttest: 0.8455295\tbest: 0.8455295 (109)\ttotal: 1.34s\tremaining: 10.8s\n",
      "110:\ttest: 0.8456756\tbest: 0.8456756 (110)\ttotal: 1.35s\tremaining: 10.8s\n",
      "111:\ttest: 0.8456361\tbest: 0.8456756 (110)\ttotal: 1.37s\tremaining: 10.8s\n",
      "112:\ttest: 0.8457230\tbest: 0.8457230 (112)\ttotal: 1.38s\tremaining: 10.8s\n",
      "113:\ttest: 0.8457230\tbest: 0.8457230 (112)\ttotal: 1.39s\tremaining: 10.8s\n",
      "114:\ttest: 0.8459323\tbest: 0.8459323 (114)\ttotal: 1.41s\tremaining: 10.8s\n",
      "115:\ttest: 0.8458533\tbest: 0.8459323 (114)\ttotal: 1.42s\tremaining: 10.8s\n",
      "116:\ttest: 0.8459224\tbest: 0.8459323 (114)\ttotal: 1.43s\tremaining: 10.8s\n",
      "117:\ttest: 0.8461119\tbest: 0.8461119 (117)\ttotal: 1.43s\tremaining: 10.7s\n",
      "118:\ttest: 0.8461277\tbest: 0.8461277 (118)\ttotal: 1.45s\tremaining: 10.7s\n",
      "119:\ttest: 0.8459046\tbest: 0.8461277 (118)\ttotal: 1.46s\tremaining: 10.7s\n",
      "120:\ttest: 0.8460665\tbest: 0.8461277 (118)\ttotal: 1.47s\tremaining: 10.6s\n",
      "121:\ttest: 0.8458256\tbest: 0.8461277 (118)\ttotal: 1.48s\tremaining: 10.6s\n",
      "122:\ttest: 0.8459086\tbest: 0.8461277 (118)\ttotal: 1.49s\tremaining: 10.6s\n",
      "123:\ttest: 0.8459836\tbest: 0.8461277 (118)\ttotal: 1.5s\tremaining: 10.6s\n",
      "124:\ttest: 0.8461494\tbest: 0.8461494 (124)\ttotal: 1.51s\tremaining: 10.6s\n",
      "125:\ttest: 0.8461297\tbest: 0.8461494 (124)\ttotal: 1.52s\tremaining: 10.5s\n",
      "126:\ttest: 0.8460507\tbest: 0.8461494 (124)\ttotal: 1.53s\tremaining: 10.5s\n",
      "127:\ttest: 0.8459559\tbest: 0.8461494 (124)\ttotal: 1.55s\tremaining: 10.6s\n",
      "128:\ttest: 0.8462166\tbest: 0.8462166 (128)\ttotal: 1.57s\tremaining: 10.6s\n",
      "129:\ttest: 0.8461692\tbest: 0.8462166 (128)\ttotal: 1.58s\tremaining: 10.6s\n",
      "130:\ttest: 0.8460863\tbest: 0.8462166 (128)\ttotal: 1.6s\tremaining: 10.6s\n",
      "131:\ttest: 0.8461494\tbest: 0.8462166 (128)\ttotal: 1.61s\tremaining: 10.6s\n",
      "132:\ttest: 0.8462067\tbest: 0.8462166 (128)\ttotal: 1.62s\tremaining: 10.6s\n",
      "133:\ttest: 0.8462462\tbest: 0.8462462 (133)\ttotal: 1.64s\tremaining: 10.6s\n",
      "134:\ttest: 0.8463844\tbest: 0.8463844 (134)\ttotal: 1.65s\tremaining: 10.6s\n",
      "135:\ttest: 0.8465187\tbest: 0.8465187 (135)\ttotal: 1.66s\tremaining: 10.6s\n",
      "136:\ttest: 0.8466016\tbest: 0.8466016 (136)\ttotal: 1.67s\tremaining: 10.5s\n",
      "137:\ttest: 0.8465068\tbest: 0.8466016 (136)\ttotal: 1.69s\tremaining: 10.5s\n",
      "138:\ttest: 0.8465226\tbest: 0.8466016 (136)\ttotal: 1.7s\tremaining: 10.5s\n",
      "139:\ttest: 0.8466608\tbest: 0.8466608 (139)\ttotal: 1.71s\tremaining: 10.5s\n",
      "140:\ttest: 0.8467319\tbest: 0.8467319 (140)\ttotal: 1.72s\tremaining: 10.5s\n",
      "141:\ttest: 0.8468938\tbest: 0.8468938 (141)\ttotal: 1.74s\tremaining: 10.5s\n",
      "142:\ttest: 0.8468938\tbest: 0.8468938 (141)\ttotal: 1.75s\tremaining: 10.5s\n",
      "143:\ttest: 0.8468701\tbest: 0.8468938 (141)\ttotal: 1.76s\tremaining: 10.5s\n",
      "144:\ttest: 0.8469136\tbest: 0.8469136 (144)\ttotal: 1.77s\tremaining: 10.5s\n",
      "145:\ttest: 0.8468899\tbest: 0.8469136 (144)\ttotal: 1.78s\tremaining: 10.4s\n",
      "146:\ttest: 0.8469965\tbest: 0.8469965 (146)\ttotal: 1.79s\tremaining: 10.4s\n",
      "147:\ttest: 0.8469965\tbest: 0.8469965 (146)\ttotal: 1.8s\tremaining: 10.4s\n",
      "148:\ttest: 0.8470202\tbest: 0.8470202 (148)\ttotal: 1.82s\tremaining: 10.4s\n",
      "149:\ttest: 0.8470399\tbest: 0.8470399 (149)\ttotal: 1.83s\tremaining: 10.4s\n",
      "150:\ttest: 0.8471979\tbest: 0.8471979 (150)\ttotal: 1.84s\tremaining: 10.3s\n",
      "151:\ttest: 0.8472255\tbest: 0.8472255 (151)\ttotal: 1.85s\tremaining: 10.3s\n",
      "152:\ttest: 0.8471979\tbest: 0.8472255 (151)\ttotal: 1.86s\tremaining: 10.3s\n",
      "153:\ttest: 0.8473321\tbest: 0.8473321 (153)\ttotal: 1.87s\tremaining: 10.3s\n",
      "154:\ttest: 0.8473479\tbest: 0.8473479 (154)\ttotal: 1.88s\tremaining: 10.3s\n",
      "155:\ttest: 0.8475414\tbest: 0.8475414 (155)\ttotal: 1.9s\tremaining: 10.3s\n",
      "156:\ttest: 0.8476007\tbest: 0.8476007 (156)\ttotal: 1.91s\tremaining: 10.2s\n",
      "157:\ttest: 0.8475276\tbest: 0.8476007 (156)\ttotal: 1.92s\tremaining: 10.2s\n",
      "158:\ttest: 0.8475079\tbest: 0.8476007 (156)\ttotal: 1.93s\tremaining: 10.2s\n",
      "159:\ttest: 0.8475473\tbest: 0.8476007 (156)\ttotal: 1.94s\tremaining: 10.2s\n",
      "160:\ttest: 0.8475552\tbest: 0.8476007 (156)\ttotal: 1.95s\tremaining: 10.2s\n",
      "161:\ttest: 0.8474407\tbest: 0.8476007 (156)\ttotal: 1.97s\tremaining: 10.2s\n",
      "162:\ttest: 0.8474407\tbest: 0.8476007 (156)\ttotal: 1.98s\tremaining: 10.2s\n",
      "163:\ttest: 0.8473933\tbest: 0.8476007 (156)\ttotal: 1.99s\tremaining: 10.2s\n",
      "164:\ttest: 0.8475552\tbest: 0.8476007 (156)\ttotal: 2.01s\tremaining: 10.2s\n",
      "165:\ttest: 0.8476224\tbest: 0.8476224 (165)\ttotal: 2.02s\tremaining: 10.2s\n",
      "166:\ttest: 0.8475908\tbest: 0.8476224 (165)\ttotal: 2.03s\tremaining: 10.1s\n",
      "167:\ttest: 0.8477369\tbest: 0.8477369 (167)\ttotal: 2.05s\tremaining: 10.1s\n",
      "168:\ttest: 0.8476777\tbest: 0.8477369 (167)\ttotal: 2.06s\tremaining: 10.1s\n",
      "169:\ttest: 0.8477408\tbest: 0.8477408 (169)\ttotal: 2.07s\tremaining: 10.1s\n",
      "170:\ttest: 0.8478238\tbest: 0.8478238 (170)\ttotal: 2.08s\tremaining: 10.1s\n",
      "171:\ttest: 0.8480370\tbest: 0.8480370 (171)\ttotal: 2.1s\tremaining: 10.1s\n",
      "172:\ttest: 0.8480725\tbest: 0.8480725 (172)\ttotal: 2.11s\tremaining: 10.1s\n",
      "173:\ttest: 0.8480568\tbest: 0.8480725 (172)\ttotal: 2.12s\tremaining: 10.1s\n",
      "174:\ttest: 0.8480133\tbest: 0.8480725 (172)\ttotal: 2.14s\tremaining: 10.1s\n",
      "175:\ttest: 0.8478001\tbest: 0.8480725 (172)\ttotal: 2.15s\tremaining: 10.1s\n",
      "176:\ttest: 0.8480331\tbest: 0.8480725 (172)\ttotal: 2.16s\tremaining: 10.1s\n",
      "177:\ttest: 0.8481357\tbest: 0.8481357 (177)\ttotal: 2.18s\tremaining: 10.1s\n",
      "178:\ttest: 0.8483529\tbest: 0.8483529 (178)\ttotal: 2.19s\tremaining: 10s\n",
      "179:\ttest: 0.8482897\tbest: 0.8483529 (178)\ttotal: 2.2s\tremaining: 10s\n",
      "180:\ttest: 0.8482502\tbest: 0.8483529 (178)\ttotal: 2.22s\tremaining: 10s\n",
      "181:\ttest: 0.8484398\tbest: 0.8484398 (181)\ttotal: 2.23s\tremaining: 10s\n",
      "182:\ttest: 0.8484437\tbest: 0.8484437 (182)\ttotal: 2.24s\tremaining: 10s\n",
      "183:\ttest: 0.8485583\tbest: 0.8485583 (183)\ttotal: 2.25s\tremaining: 9.99s\n",
      "184:\ttest: 0.8485800\tbest: 0.8485800 (184)\ttotal: 2.26s\tremaining: 9.97s\n",
      "185:\ttest: 0.8483391\tbest: 0.8485800 (184)\ttotal: 2.27s\tremaining: 9.96s\n",
      "186:\ttest: 0.8486155\tbest: 0.8486155 (186)\ttotal: 2.29s\tremaining: 9.94s\n",
      "187:\ttest: 0.8486313\tbest: 0.8486313 (187)\ttotal: 2.3s\tremaining: 9.93s\n",
      "188:\ttest: 0.8487774\tbest: 0.8487774 (188)\ttotal: 2.31s\tremaining: 9.91s\n",
      "189:\ttest: 0.8488959\tbest: 0.8488959 (189)\ttotal: 2.32s\tremaining: 9.9s\n",
      "190:\ttest: 0.8488722\tbest: 0.8488959 (189)\ttotal: 2.33s\tremaining: 9.89s\n",
      "191:\ttest: 0.8489749\tbest: 0.8489749 (191)\ttotal: 2.35s\tremaining: 9.87s\n",
      "192:\ttest: 0.8491684\tbest: 0.8491684 (192)\ttotal: 2.36s\tremaining: 9.85s\n",
      "193:\ttest: 0.8492118\tbest: 0.8492118 (193)\ttotal: 2.38s\tremaining: 9.87s\n",
      "194:\ttest: 0.8491802\tbest: 0.8492118 (193)\ttotal: 2.39s\tremaining: 9.86s\n",
      "195:\ttest: 0.8490775\tbest: 0.8492118 (193)\ttotal: 2.4s\tremaining: 9.85s\n",
      "196:\ttest: 0.8491486\tbest: 0.8492118 (193)\ttotal: 2.41s\tremaining: 9.84s\n",
      "197:\ttest: 0.8491131\tbest: 0.8492118 (193)\ttotal: 2.43s\tremaining: 9.83s\n",
      "198:\ttest: 0.8491289\tbest: 0.8492118 (193)\ttotal: 2.44s\tremaining: 9.83s\n",
      "199:\ttest: 0.8492138\tbest: 0.8492138 (199)\ttotal: 2.45s\tremaining: 9.82s\n",
      "200:\ttest: 0.8493441\tbest: 0.8493441 (200)\ttotal: 2.47s\tremaining: 9.81s\n",
      "201:\ttest: 0.8493441\tbest: 0.8493441 (200)\ttotal: 2.48s\tremaining: 9.8s\n",
      "202:\ttest: 0.8494784\tbest: 0.8494784 (202)\ttotal: 2.5s\tremaining: 9.81s\n",
      "203:\ttest: 0.8494744\tbest: 0.8494784 (202)\ttotal: 2.51s\tremaining: 9.8s\n",
      "204:\ttest: 0.8494033\tbest: 0.8494784 (202)\ttotal: 2.52s\tremaining: 9.79s\n",
      "205:\ttest: 0.8496442\tbest: 0.8496442 (205)\ttotal: 2.54s\tremaining: 9.78s\n",
      "206:\ttest: 0.8495771\tbest: 0.8496442 (205)\ttotal: 2.55s\tremaining: 9.76s\n",
      "207:\ttest: 0.8495652\tbest: 0.8496442 (205)\ttotal: 2.56s\tremaining: 9.74s\n",
      "208:\ttest: 0.8493599\tbest: 0.8496442 (205)\ttotal: 2.57s\tremaining: 9.73s\n",
      "209:\ttest: 0.8492849\tbest: 0.8496442 (205)\ttotal: 2.58s\tremaining: 9.72s\n",
      "210:\ttest: 0.8492217\tbest: 0.8496442 (205)\ttotal: 2.6s\tremaining: 9.7s\n",
      "211:\ttest: 0.8492138\tbest: 0.8496442 (205)\ttotal: 2.61s\tremaining: 9.7s\n",
      "212:\ttest: 0.8494349\tbest: 0.8496442 (205)\ttotal: 2.62s\tremaining: 9.68s\n",
      "213:\ttest: 0.8494310\tbest: 0.8496442 (205)\ttotal: 2.63s\tremaining: 9.67s\n",
      "214:\ttest: 0.8492098\tbest: 0.8496442 (205)\ttotal: 2.64s\tremaining: 9.65s\n",
      "215:\ttest: 0.8492414\tbest: 0.8496442 (205)\ttotal: 2.65s\tremaining: 9.63s\n",
      "216:\ttest: 0.8493599\tbest: 0.8496442 (205)\ttotal: 2.67s\tremaining: 9.62s\n",
      "217:\ttest: 0.8493520\tbest: 0.8496442 (205)\ttotal: 2.68s\tremaining: 9.6s\n",
      "218:\ttest: 0.8492335\tbest: 0.8496442 (205)\ttotal: 2.69s\tremaining: 9.59s\n",
      "219:\ttest: 0.8492691\tbest: 0.8496442 (205)\ttotal: 2.7s\tremaining: 9.57s\n",
      "220:\ttest: 0.8491901\tbest: 0.8496442 (205)\ttotal: 2.71s\tremaining: 9.56s\n",
      "221:\ttest: 0.8492888\tbest: 0.8496442 (205)\ttotal: 2.73s\tremaining: 9.55s\n",
      "222:\ttest: 0.8492888\tbest: 0.8496442 (205)\ttotal: 2.74s\tremaining: 9.54s\n",
      "223:\ttest: 0.8493243\tbest: 0.8496442 (205)\ttotal: 2.75s\tremaining: 9.53s\n",
      "224:\ttest: 0.8493401\tbest: 0.8496442 (205)\ttotal: 2.76s\tremaining: 9.52s\n",
      "225:\ttest: 0.8491980\tbest: 0.8496442 (205)\ttotal: 2.78s\tremaining: 9.51s\n",
      "226:\ttest: 0.8491348\tbest: 0.8496442 (205)\ttotal: 2.79s\tremaining: 9.5s\n",
      "227:\ttest: 0.8494073\tbest: 0.8496442 (205)\ttotal: 2.8s\tremaining: 9.49s\n",
      "228:\ttest: 0.8493046\tbest: 0.8496442 (205)\ttotal: 2.82s\tremaining: 9.48s\n",
      "229:\ttest: 0.8491743\tbest: 0.8496442 (205)\ttotal: 2.83s\tremaining: 9.48s\n",
      "230:\ttest: 0.8491703\tbest: 0.8496442 (205)\ttotal: 2.84s\tremaining: 9.47s\n",
      "231:\ttest: 0.8493164\tbest: 0.8496442 (205)\ttotal: 2.85s\tremaining: 9.45s\n",
      "232:\ttest: 0.8493796\tbest: 0.8496442 (205)\ttotal: 2.87s\tremaining: 9.43s\n",
      "233:\ttest: 0.8492691\tbest: 0.8496442 (205)\ttotal: 2.88s\tremaining: 9.42s\n",
      "234:\ttest: 0.8492691\tbest: 0.8496442 (205)\ttotal: 2.89s\tremaining: 9.4s\n",
      "235:\ttest: 0.8492414\tbest: 0.8496442 (205)\ttotal: 2.9s\tremaining: 9.38s\n",
      "236:\ttest: 0.8492770\tbest: 0.8496442 (205)\ttotal: 2.91s\tremaining: 9.38s\n",
      "237:\ttest: 0.8493125\tbest: 0.8496442 (205)\ttotal: 2.92s\tremaining: 9.36s\n",
      "238:\ttest: 0.8493125\tbest: 0.8496442 (205)\ttotal: 2.94s\tremaining: 9.35s\n",
      "239:\ttest: 0.8493322\tbest: 0.8496442 (205)\ttotal: 2.95s\tremaining: 9.33s\n",
      "240:\ttest: 0.8494626\tbest: 0.8496442 (205)\ttotal: 2.96s\tremaining: 9.31s\n",
      "241:\ttest: 0.8495178\tbest: 0.8496442 (205)\ttotal: 2.97s\tremaining: 9.29s\n",
      "242:\ttest: 0.8494033\tbest: 0.8496442 (205)\ttotal: 2.98s\tremaining: 9.28s\n",
      "243:\ttest: 0.8494033\tbest: 0.8496442 (205)\ttotal: 2.99s\tremaining: 9.26s\n",
      "244:\ttest: 0.8493164\tbest: 0.8496442 (205)\ttotal: 3s\tremaining: 9.25s\n",
      "245:\ttest: 0.8493007\tbest: 0.8496442 (205)\ttotal: 3.01s\tremaining: 9.23s\n",
      "Stopped by overfitting detector  (40 iterations wait)\n",
      "\n",
      "bestTest = 0.8496442054\n",
      "bestIteration = 205\n",
      "\n",
      "Shrink model to first 206 iterations.\n"
     ]
    },
    {
     "data": {
      "text/plain": [
       "<catboost.core.CatBoostClassifier at 0x1c0314f8e50>"
      ]
     },
     "execution_count": 122,
     "metadata": {},
     "output_type": "execute_result"
    }
   ],
   "source": [
    "model.fit(X = train_data, \n",
    "        \n",
    "        eval_set=valid, \n",
    "        verbose=True, early_stopping_rounds=40)"
   ]
  },
  {
   "cell_type": "code",
   "execution_count": 123,
   "id": "7fbbd8f8",
   "metadata": {},
   "outputs": [],
   "source": [
    "my_submission = pd.DataFrame({\"id\": [i for i in range(0, len(test))],'Churn': model.predict_proba(test)[:,1]})\n",
    "\n",
    "my_submission.to_csv('mfti_cat.csv', index=False)"
   ]
  },
  {
   "cell_type": "code",
   "execution_count": 133,
   "id": "0d2008fa",
   "metadata": {},
   "outputs": [],
   "source": [
    "#Теперь тюнинг для выборки с выбросами\n",
    "def objective(trial):\n",
    "    param = {\n",
    "          \"loss_function\": \"Logloss\",\n",
    "          \"eval_metric\": \"AUC\",\n",
    "          \"task_type\":\"CPU\",\n",
    "          \"devices\":'0:1',\n",
    "          \"iterations\": 5000,\n",
    "          \"learning_rate\": trial.suggest_float(\"learning_rate\", 0.001, 0.1),\n",
    "          \"bootstrap_type\": trial.suggest_categorical(\"bootstrap_type\", [\"Bayesian\"]),\n",
    "          \"boosting_type\": trial.suggest_categorical(\"boosting_type\", [\"Ordered\", \"Plain\"]),\n",
    "          'l2_leaf_reg': trial.suggest_discrete_uniform('l2_leaf_reg', 1.0, 5.0, 0.5),\n",
    "          \"early_stopping_rounds\":20,\n",
    "          \"max_depth\" : trial.suggest_int('max_depth', 2, 7)\n",
    "          \n",
    "          \n",
    "    }\n",
    "    if param[\"bootstrap_type\"] == \"Bayesian\":\n",
    "        param[\"bagging_temperature\"] = trial.suggest_float(\"bagging_temperature\", 0, 10)\n",
    "\n",
    "    model = CatBoostClassifier(**param)\n",
    "    model.fit(train_data_ou, eval_set=valid_ou, verbose=100, use_best_model=True, early_stopping_rounds=40)\n",
    "\n",
    "    roc = roc_auc_score(y_test, model.predict_proba(X_test)[:,1])\n",
    "    return roc"
   ]
  },
  {
   "cell_type": "code",
   "execution_count": 134,
   "id": "f4559d38",
   "metadata": {
    "scrolled": true
   },
   "outputs": [
    {
     "name": "stderr",
     "output_type": "stream",
     "text": [
      "\u001b[32m[I 2023-03-27 22:49:15,008]\u001b[0m A new study created in memory with name: no-name-7d3c1503-163d-4f46-ba3f-1e728a99e0f0\u001b[0m\n",
      "C:\\Users\\paul\\AppData\\Local\\Temp\\ipykernel_14388\\3858626213.py:11: FutureWarning: suggest_discrete_uniform has been deprecated in v3.0.0. This feature will be removed in v6.0.0. See https://github.com/optuna/optuna/releases/tag/v3.0.0. Use :func:`~optuna.trial.Trial.suggest_float` instead.\n",
      "  'l2_leaf_reg': trial.suggest_discrete_uniform('l2_leaf_reg', 1.0, 5.0, 0.5),\n"
     ]
    },
    {
     "name": "stdout",
     "output_type": "stream",
     "text": [
      "0:\ttest: 0.7767467\tbest: 0.7767467 (0)\ttotal: 28.1ms\tremaining: 2m 20s\n",
      "100:\ttest: 0.8359098\tbest: 0.8359098 (100)\ttotal: 2.66s\tremaining: 2m 8s\n",
      "200:\ttest: 0.8429634\tbest: 0.8429634 (200)\ttotal: 5.13s\tremaining: 2m 2s\n",
      "300:\ttest: 0.8454880\tbest: 0.8455597 (297)\ttotal: 7.7s\tremaining: 2m\n",
      "400:\ttest: 0.8472727\tbest: 0.8472996 (398)\ttotal: 11.2s\tremaining: 2m 7s\n",
      "500:\ttest: 0.8484117\tbest: 0.8485402 (495)\ttotal: 14.8s\tremaining: 2m 13s\n",
      "600:\ttest: 0.8496015\tbest: 0.8497599 (593)\ttotal: 18.5s\tremaining: 2m 15s\n",
      "700:\ttest: 0.8502114\tbest: 0.8502682 (694)\ttotal: 22s\tremaining: 2m 14s\n",
      "800:\ttest: 0.8508272\tbest: 0.8508272 (800)\ttotal: 25.4s\tremaining: 2m 13s\n",
      "900:\ttest: 0.8511231\tbest: 0.8511560 (896)\ttotal: 29.3s\tremaining: 2m 13s\n",
      "1000:\ttest: 0.8516882\tbest: 0.8517180 (984)\ttotal: 33.1s\tremaining: 2m 12s\n"
     ]
    },
    {
     "name": "stderr",
     "output_type": "stream",
     "text": [
      "\u001b[32m[I 2023-03-27 22:49:50,311]\u001b[0m Trial 0 finished with value: 0.8548784533004786 and parameters: {'learning_rate': 0.018927616410340704, 'bootstrap_type': 'Bayesian', 'boosting_type': 'Ordered', 'l2_leaf_reg': 5.0, 'max_depth': 5, 'bagging_temperature': 9.667788464601353}. Best is trial 0 with value: 0.8548784533004786.\u001b[0m\n"
     ]
    },
    {
     "name": "stdout",
     "output_type": "stream",
     "text": [
      "Stopped by overfitting detector  (40 iterations wait)\n",
      "\n",
      "bestTest = 0.851816698\n",
      "bestIteration = 1021\n",
      "\n",
      "Shrink model to first 1022 iterations.\n",
      "0:\ttest: 0.7638831\tbest: 0.7638831 (0)\ttotal: 49.9ms\tremaining: 4m 9s\n"
     ]
    },
    {
     "name": "stderr",
     "output_type": "stream",
     "text": [
      "C:\\Users\\paul\\AppData\\Local\\Temp\\ipykernel_14388\\3858626213.py:11: FutureWarning: suggest_discrete_uniform has been deprecated in v3.0.0. This feature will be removed in v6.0.0. See https://github.com/optuna/optuna/releases/tag/v3.0.0. Use :func:`~optuna.trial.Trial.suggest_float` instead.\n",
      "  'l2_leaf_reg': trial.suggest_discrete_uniform('l2_leaf_reg', 1.0, 5.0, 0.5),\n"
     ]
    },
    {
     "name": "stdout",
     "output_type": "stream",
     "text": [
      "100:\ttest: 0.8522831\tbest: 0.8522831 (100)\ttotal: 4.87s\tremaining: 3m 56s\n"
     ]
    },
    {
     "name": "stderr",
     "output_type": "stream",
     "text": [
      "\u001b[32m[I 2023-03-27 22:49:58,692]\u001b[0m Trial 1 finished with value: 0.8596664771201569 and parameters: {'learning_rate': 0.08362384177896205, 'bootstrap_type': 'Bayesian', 'boosting_type': 'Ordered', 'l2_leaf_reg': 4.5, 'max_depth': 7, 'bagging_temperature': 7.286744729248134}. Best is trial 1 with value: 0.8596664771201569.\u001b[0m\n"
     ]
    },
    {
     "name": "stdout",
     "output_type": "stream",
     "text": [
      "Stopped by overfitting detector  (40 iterations wait)\n",
      "\n",
      "bestTest = 0.8526059167\n",
      "bestIteration = 128\n",
      "\n",
      "Shrink model to first 129 iterations.\n",
      "0:\ttest: 0.7345340\tbest: 0.7345340 (0)\ttotal: 15.7ms\tremaining: 1m 18s\n"
     ]
    },
    {
     "name": "stderr",
     "output_type": "stream",
     "text": [
      "C:\\Users\\paul\\AppData\\Local\\Temp\\ipykernel_14388\\3858626213.py:11: FutureWarning: suggest_discrete_uniform has been deprecated in v3.0.0. This feature will be removed in v6.0.0. See https://github.com/optuna/optuna/releases/tag/v3.0.0. Use :func:`~optuna.trial.Trial.suggest_float` instead.\n",
      "  'l2_leaf_reg': trial.suggest_discrete_uniform('l2_leaf_reg', 1.0, 5.0, 0.5),\n"
     ]
    },
    {
     "name": "stdout",
     "output_type": "stream",
     "text": [
      "100:\ttest: 0.8539273\tbest: 0.8541126 (95)\ttotal: 2.29s\tremaining: 1m 50s\n",
      "200:\ttest: 0.8563577\tbest: 0.8563577 (200)\ttotal: 4.8s\tremaining: 1m 54s\n"
     ]
    },
    {
     "name": "stderr",
     "output_type": "stream",
     "text": [
      "\u001b[32m[I 2023-03-27 22:50:04,559]\u001b[0m Trial 2 finished with value: 0.8532653335228798 and parameters: {'learning_rate': 0.06723193245306976, 'bootstrap_type': 'Bayesian', 'boosting_type': 'Ordered', 'l2_leaf_reg': 1.5, 'max_depth': 2, 'bagging_temperature': 1.1663117165352033}. Best is trial 1 with value: 0.8596664771201569.\u001b[0m\n"
     ]
    },
    {
     "name": "stdout",
     "output_type": "stream",
     "text": [
      "Stopped by overfitting detector  (40 iterations wait)\n",
      "\n",
      "bestTest = 0.8563696533\n",
      "bestIteration = 201\n",
      "\n",
      "Shrink model to first 202 iterations.\n",
      "0:\ttest: 0.7620251\tbest: 0.7620251 (0)\ttotal: 62.6ms\tremaining: 5m 13s\n"
     ]
    },
    {
     "name": "stderr",
     "output_type": "stream",
     "text": [
      "C:\\Users\\paul\\AppData\\Local\\Temp\\ipykernel_14388\\3858626213.py:11: FutureWarning: suggest_discrete_uniform has been deprecated in v3.0.0. This feature will be removed in v6.0.0. See https://github.com/optuna/optuna/releases/tag/v3.0.0. Use :func:`~optuna.trial.Trial.suggest_float` instead.\n",
      "  'l2_leaf_reg': trial.suggest_discrete_uniform('l2_leaf_reg', 1.0, 5.0, 0.5),\n"
     ]
    },
    {
     "name": "stdout",
     "output_type": "stream",
     "text": [
      "100:\ttest: 0.8487958\tbest: 0.8487958 (100)\ttotal: 6.15s\tremaining: 4m 58s\n",
      "200:\ttest: 0.8507330\tbest: 0.8509901 (178)\ttotal: 12s\tremaining: 4m 47s\n",
      "300:\ttest: 0.8520334\tbest: 0.8521112 (299)\ttotal: 18.2s\tremaining: 4m 43s\n",
      "400:\ttest: 0.8525820\tbest: 0.8526807 (383)\ttotal: 24.5s\tremaining: 4m 41s\n",
      "500:\ttest: 0.8530962\tbest: 0.8531201 (496)\ttotal: 29.4s\tremaining: 4m 24s\n",
      "600:\ttest: 0.8534071\tbest: 0.8534071 (600)\ttotal: 34.6s\tremaining: 4m 12s\n"
     ]
    },
    {
     "name": "stderr",
     "output_type": "stream",
     "text": [
      "\u001b[32m[I 2023-03-27 22:50:42,091]\u001b[0m Trial 3 finished with value: 0.8610308171034134 and parameters: {'learning_rate': 0.016567229208573335, 'bootstrap_type': 'Bayesian', 'boosting_type': 'Ordered', 'l2_leaf_reg': 2.5, 'max_depth': 7, 'bagging_temperature': 6.5749009000047876}. Best is trial 3 with value: 0.8610308171034134.\u001b[0m\n"
     ]
    },
    {
     "name": "stdout",
     "output_type": "stream",
     "text": [
      "Stopped by overfitting detector  (40 iterations wait)\n",
      "\n",
      "bestTest = 0.8534220407\n",
      "bestIteration = 610\n",
      "\n",
      "Shrink model to first 611 iterations.\n",
      "0:\ttest: 0.8203302\tbest: 0.8203302 (0)\ttotal: 29.6ms\tremaining: 2m 28s\n"
     ]
    },
    {
     "name": "stderr",
     "output_type": "stream",
     "text": [
      "C:\\Users\\paul\\AppData\\Local\\Temp\\ipykernel_14388\\3858626213.py:11: FutureWarning: suggest_discrete_uniform has been deprecated in v3.0.0. This feature will be removed in v6.0.0. See https://github.com/optuna/optuna/releases/tag/v3.0.0. Use :func:`~optuna.trial.Trial.suggest_float` instead.\n",
      "  'l2_leaf_reg': trial.suggest_discrete_uniform('l2_leaf_reg', 1.0, 5.0, 0.5),\n",
      "\u001b[32m[I 2023-03-27 22:50:45,107]\u001b[0m Trial 4 finished with value: 0.8590998120330444 and parameters: {'learning_rate': 0.06335661394425955, 'bootstrap_type': 'Bayesian', 'boosting_type': 'Plain', 'l2_leaf_reg': 4.0, 'max_depth': 6, 'bagging_temperature': 1.419488321248581}. Best is trial 3 with value: 0.8610308171034134.\u001b[0m\n"
     ]
    },
    {
     "name": "stdout",
     "output_type": "stream",
     "text": [
      "100:\ttest: 0.8537135\tbest: 0.8544190 (66)\ttotal: 2.79s\tremaining: 2m 15s\n",
      "Stopped by overfitting detector  (40 iterations wait)\n",
      "\n",
      "bestTest = 0.8544190273\n",
      "bestIteration = 66\n",
      "\n",
      "Shrink model to first 67 iterations.\n"
     ]
    },
    {
     "name": "stderr",
     "output_type": "stream",
     "text": [
      "C:\\Users\\paul\\AppData\\Local\\Temp\\ipykernel_14388\\3858626213.py:11: FutureWarning: suggest_discrete_uniform has been deprecated in v3.0.0. This feature will be removed in v6.0.0. See https://github.com/optuna/optuna/releases/tag/v3.0.0. Use :func:`~optuna.trial.Trial.suggest_float` instead.\n",
      "  'l2_leaf_reg': trial.suggest_discrete_uniform('l2_leaf_reg', 1.0, 5.0, 0.5),\n"
     ]
    },
    {
     "name": "stdout",
     "output_type": "stream",
     "text": [
      "0:\ttest: 0.7367552\tbest: 0.7367552 (0)\ttotal: 11.5ms\tremaining: 57.4s\n",
      "100:\ttest: 0.8471217\tbest: 0.8472712 (98)\ttotal: 1.62s\tremaining: 1m 18s\n",
      "200:\ttest: 0.8502188\tbest: 0.8502188 (200)\ttotal: 3.27s\tremaining: 1m 17s\n",
      "300:\ttest: 0.8524878\tbest: 0.8524878 (300)\ttotal: 5.01s\tremaining: 1m 18s\n",
      "400:\ttest: 0.8534011\tbest: 0.8534011 (399)\ttotal: 6.7s\tremaining: 1m 16s\n",
      "500:\ttest: 0.8544086\tbest: 0.8544654 (495)\ttotal: 8.88s\tremaining: 1m 19s\n",
      "600:\ttest: 0.8547793\tbest: 0.8547793 (600)\ttotal: 11.3s\tremaining: 1m 22s\n",
      "700:\ttest: 0.8553831\tbest: 0.8553831 (700)\ttotal: 13.3s\tremaining: 1m 21s\n",
      "800:\ttest: 0.8558345\tbest: 0.8558824 (792)\ttotal: 15.2s\tremaining: 1m 19s\n",
      "900:\ttest: 0.8563607\tbest: 0.8563637 (896)\ttotal: 17s\tremaining: 1m 17s\n",
      "1000:\ttest: 0.8567613\tbest: 0.8568480 (985)\ttotal: 18.8s\tremaining: 1m 15s\n"
     ]
    },
    {
     "name": "stderr",
     "output_type": "stream",
     "text": [
      "\u001b[32m[I 2023-03-27 22:51:04,567]\u001b[0m Trial 5 finished with value: 0.8516522137452811 and parameters: {'learning_rate': 0.02396120404609568, 'bootstrap_type': 'Bayesian', 'boosting_type': 'Ordered', 'l2_leaf_reg': 3.5, 'max_depth': 2, 'bagging_temperature': 8.028790378102485}. Best is trial 3 with value: 0.8610308171034134.\u001b[0m\n"
     ]
    },
    {
     "name": "stdout",
     "output_type": "stream",
     "text": [
      "Stopped by overfitting detector  (40 iterations wait)\n",
      "\n",
      "bestTest = 0.8568479678\n",
      "bestIteration = 985\n",
      "\n",
      "Shrink model to first 986 iterations.\n",
      "0:\ttest: 0.8083289\tbest: 0.8083289 (0)\ttotal: 44.9ms\tremaining: 3m 44s\n"
     ]
    },
    {
     "name": "stderr",
     "output_type": "stream",
     "text": [
      "C:\\Users\\paul\\AppData\\Local\\Temp\\ipykernel_14388\\3858626213.py:11: FutureWarning: suggest_discrete_uniform has been deprecated in v3.0.0. This feature will be removed in v6.0.0. See https://github.com/optuna/optuna/releases/tag/v3.0.0. Use :func:`~optuna.trial.Trial.suggest_float` instead.\n",
      "  'l2_leaf_reg': trial.suggest_discrete_uniform('l2_leaf_reg', 1.0, 5.0, 0.5),\n"
     ]
    },
    {
     "name": "stdout",
     "output_type": "stream",
     "text": [
      "100:\ttest: 0.8498272\tbest: 0.8499348 (96)\ttotal: 5.08s\tremaining: 4m 6s\n",
      "200:\ttest: 0.8524624\tbest: 0.8525222 (199)\ttotal: 10.6s\tremaining: 4m 13s\n",
      "300:\ttest: 0.8533727\tbest: 0.8533757 (299)\ttotal: 15.1s\tremaining: 3m 55s\n"
     ]
    },
    {
     "name": "stderr",
     "output_type": "stream",
     "text": [
      "\u001b[32m[I 2023-03-27 22:51:22,551]\u001b[0m Trial 6 finished with value: 0.8535200366456588 and parameters: {'learning_rate': 0.00957062145265512, 'bootstrap_type': 'Bayesian', 'boosting_type': 'Ordered', 'l2_leaf_reg': 2.5, 'max_depth': 6, 'bagging_temperature': 3.3524525633870583}. Best is trial 3 with value: 0.8610308171034134.\u001b[0m\n"
     ]
    },
    {
     "name": "stdout",
     "output_type": "stream",
     "text": [
      "Stopped by overfitting detector  (40 iterations wait)\n",
      "\n",
      "bestTest = 0.8537463977\n",
      "bestIteration = 321\n",
      "\n",
      "Shrink model to first 322 iterations.\n",
      "0:\ttest: 0.8239818\tbest: 0.8239818 (0)\ttotal: 63.3ms\tremaining: 5m 16s\n"
     ]
    },
    {
     "name": "stderr",
     "output_type": "stream",
     "text": [
      "C:\\Users\\paul\\AppData\\Local\\Temp\\ipykernel_14388\\3858626213.py:11: FutureWarning: suggest_discrete_uniform has been deprecated in v3.0.0. This feature will be removed in v6.0.0. See https://github.com/optuna/optuna/releases/tag/v3.0.0. Use :func:`~optuna.trial.Trial.suggest_float` instead.\n",
      "  'l2_leaf_reg': trial.suggest_discrete_uniform('l2_leaf_reg', 1.0, 5.0, 0.5),\n"
     ]
    },
    {
     "name": "stdout",
     "output_type": "stream",
     "text": [
      "100:\ttest: 0.8500245\tbest: 0.8500694 (99)\ttotal: 4.47s\tremaining: 3m 36s\n",
      "200:\ttest: 0.8524893\tbest: 0.8525043 (197)\ttotal: 9.53s\tremaining: 3m 47s\n",
      "300:\ttest: 0.8535715\tbest: 0.8535715 (300)\ttotal: 13.7s\tremaining: 3m 34s\n",
      "400:\ttest: 0.8541574\tbest: 0.8541784 (399)\ttotal: 18.2s\tremaining: 3m 28s\n",
      "500:\ttest: 0.8547793\tbest: 0.8547793 (499)\ttotal: 22.6s\tremaining: 3m 22s\n",
      "600:\ttest: 0.8552516\tbest: 0.8552695 (597)\ttotal: 26.2s\tremaining: 3m 11s\n",
      "700:\ttest: 0.8556910\tbest: 0.8556940 (698)\ttotal: 30s\tremaining: 3m 3s\n"
     ]
    },
    {
     "name": "stderr",
     "output_type": "stream",
     "text": [
      "\u001b[32m[I 2023-03-27 22:51:54,536]\u001b[0m Trial 7 finished with value: 0.8580770506563047 and parameters: {'learning_rate': 0.010368158318812194, 'bootstrap_type': 'Bayesian', 'boosting_type': 'Ordered', 'l2_leaf_reg': 2.0, 'max_depth': 7, 'bagging_temperature': 2.323041842639053}. Best is trial 3 with value: 0.8610308171034134.\u001b[0m\n"
     ]
    },
    {
     "name": "stdout",
     "output_type": "stream",
     "text": [
      "Stopped by overfitting detector  (40 iterations wait)\n",
      "\n",
      "bestTest = 0.8557388762\n",
      "bestIteration = 704\n",
      "\n",
      "Shrink model to first 705 iterations.\n",
      "0:\ttest: 0.7848900\tbest: 0.7848900 (0)\ttotal: 35.3ms\tremaining: 2m 56s\n"
     ]
    },
    {
     "name": "stderr",
     "output_type": "stream",
     "text": [
      "C:\\Users\\paul\\AppData\\Local\\Temp\\ipykernel_14388\\3858626213.py:11: FutureWarning: suggest_discrete_uniform has been deprecated in v3.0.0. This feature will be removed in v6.0.0. See https://github.com/optuna/optuna/releases/tag/v3.0.0. Use :func:`~optuna.trial.Trial.suggest_float` instead.\n",
      "  'l2_leaf_reg': trial.suggest_discrete_uniform('l2_leaf_reg', 1.0, 5.0, 0.5),\n"
     ]
    },
    {
     "name": "stdout",
     "output_type": "stream",
     "text": [
      "100:\ttest: 0.8479199\tbest: 0.8479678 (95)\ttotal: 3.64s\tremaining: 2m 56s\n",
      "200:\ttest: 0.8507569\tbest: 0.8508376 (174)\ttotal: 8.71s\tremaining: 3m 28s\n",
      "300:\ttest: 0.8520020\tbest: 0.8520708 (285)\ttotal: 13s\tremaining: 3m 22s\n"
     ]
    },
    {
     "name": "stderr",
     "output_type": "stream",
     "text": [
      "\u001b[32m[I 2023-03-27 22:52:10,498]\u001b[0m Trial 8 finished with value: 0.8505425768848031 and parameters: {'learning_rate': 0.011452179116464518, 'bootstrap_type': 'Bayesian', 'boosting_type': 'Ordered', 'l2_leaf_reg': 3.0, 'max_depth': 5, 'bagging_temperature': 5.047991981459813}. Best is trial 3 with value: 0.8610308171034134.\u001b[0m\n"
     ]
    },
    {
     "name": "stdout",
     "output_type": "stream",
     "text": [
      "Stopped by overfitting detector  (40 iterations wait)\n",
      "\n",
      "bestTest = 0.8521724443\n",
      "bestIteration = 332\n",
      "\n",
      "Shrink model to first 333 iterations.\n",
      "0:\ttest: 0.7848900\tbest: 0.7848900 (0)\ttotal: 33.6ms\tremaining: 2m 47s\n"
     ]
    },
    {
     "name": "stderr",
     "output_type": "stream",
     "text": [
      "C:\\Users\\paul\\AppData\\Local\\Temp\\ipykernel_14388\\3858626213.py:11: FutureWarning: suggest_discrete_uniform has been deprecated in v3.0.0. This feature will be removed in v6.0.0. See https://github.com/optuna/optuna/releases/tag/v3.0.0. Use :func:`~optuna.trial.Trial.suggest_float` instead.\n",
      "  'l2_leaf_reg': trial.suggest_discrete_uniform('l2_leaf_reg', 1.0, 5.0, 0.5),\n"
     ]
    },
    {
     "name": "stdout",
     "output_type": "stream",
     "text": [
      "100:\ttest: 0.8495985\tbest: 0.8495985 (100)\ttotal: 4.14s\tremaining: 3m 20s\n",
      "200:\ttest: 0.8521754\tbest: 0.8521814 (191)\ttotal: 7.64s\tremaining: 3m 2s\n",
      "300:\ttest: 0.8535057\tbest: 0.8535057 (300)\ttotal: 11.2s\tremaining: 2m 54s\n",
      "400:\ttest: 0.8543368\tbest: 0.8543637 (398)\ttotal: 15.3s\tremaining: 2m 55s\n",
      "500:\ttest: 0.8548809\tbest: 0.8548809 (500)\ttotal: 18.7s\tremaining: 2m 48s\n"
     ]
    },
    {
     "name": "stderr",
     "output_type": "stream",
     "text": [
      "\u001b[32m[I 2023-03-27 22:52:30,968]\u001b[0m Trial 9 finished with value: 0.8572003980476709 and parameters: {'learning_rate': 0.020204917010247816, 'bootstrap_type': 'Bayesian', 'boosting_type': 'Ordered', 'l2_leaf_reg': 2.5, 'max_depth': 5, 'bagging_temperature': 5.2986483147082755}. Best is trial 3 with value: 0.8610308171034134.\u001b[0m\n"
     ]
    },
    {
     "name": "stdout",
     "output_type": "stream",
     "text": [
      "Stopped by overfitting detector  (40 iterations wait)\n",
      "\n",
      "bestTest = 0.8549137838\n",
      "bestIteration = 507\n",
      "\n",
      "Shrink model to first 508 iterations.\n",
      "0:\ttest: 0.7600267\tbest: 0.7600267 (0)\ttotal: 11.9ms\tremaining: 59.3s\n"
     ]
    },
    {
     "name": "stderr",
     "output_type": "stream",
     "text": [
      "C:\\Users\\paul\\AppData\\Local\\Temp\\ipykernel_14388\\3858626213.py:11: FutureWarning: suggest_discrete_uniform has been deprecated in v3.0.0. This feature will be removed in v6.0.0. See https://github.com/optuna/optuna/releases/tag/v3.0.0. Use :func:`~optuna.trial.Trial.suggest_float` instead.\n",
      "  'l2_leaf_reg': trial.suggest_discrete_uniform('l2_leaf_reg', 1.0, 5.0, 0.5),\n"
     ]
    },
    {
     "name": "stdout",
     "output_type": "stream",
     "text": [
      "100:\ttest: 0.8536059\tbest: 0.8536059 (95)\ttotal: 1.33s\tremaining: 1m 4s\n",
      "200:\ttest: 0.8558719\tbest: 0.8559586 (192)\ttotal: 2.64s\tremaining: 1m 2s\n",
      "300:\ttest: 0.8570752\tbest: 0.8571350 (275)\ttotal: 3.95s\tremaining: 1m 1s\n"
     ]
    },
    {
     "name": "stderr",
     "output_type": "stream",
     "text": [
      "\u001b[32m[I 2023-03-27 22:52:35,614]\u001b[0m Trial 10 finished with value: 0.8583060860225245 and parameters: {'learning_rate': 0.038253058742407337, 'bootstrap_type': 'Bayesian', 'boosting_type': 'Plain', 'l2_leaf_reg': 1.0, 'max_depth': 3, 'bagging_temperature': 0.10138244563532695}. Best is trial 3 with value: 0.8610308171034134.\u001b[0m\n"
     ]
    },
    {
     "name": "stdout",
     "output_type": "stream",
     "text": [
      "Stopped by overfitting detector  (40 iterations wait)\n",
      "\n",
      "bestTest = 0.8571439248\n",
      "bestIteration = 302\n",
      "\n",
      "Shrink model to first 303 iterations.\n",
      "0:\ttest: 0.7883264\tbest: 0.7883264 (0)\ttotal: 33.8ms\tremaining: 2m 49s\n"
     ]
    },
    {
     "name": "stderr",
     "output_type": "stream",
     "text": [
      "C:\\Users\\paul\\AppData\\Local\\Temp\\ipykernel_14388\\3858626213.py:11: FutureWarning: suggest_discrete_uniform has been deprecated in v3.0.0. This feature will be removed in v6.0.0. See https://github.com/optuna/optuna/releases/tag/v3.0.0. Use :func:`~optuna.trial.Trial.suggest_float` instead.\n",
      "  'l2_leaf_reg': trial.suggest_discrete_uniform('l2_leaf_reg', 1.0, 5.0, 0.5),\n",
      "\u001b[32m[I 2023-03-27 22:52:38,268]\u001b[0m Trial 11 finished with value: 0.8528743938460566 and parameters: {'learning_rate': 0.09729585955053915, 'bootstrap_type': 'Bayesian', 'boosting_type': 'Plain', 'l2_leaf_reg': 5.0, 'max_depth': 7, 'bagging_temperature': 7.037045873148263}. Best is trial 3 with value: 0.8610308171034134.\u001b[0m\n"
     ]
    },
    {
     "name": "stdout",
     "output_type": "stream",
     "text": [
      "Stopped by overfitting detector  (40 iterations wait)\n",
      "\n",
      "bestTest = 0.8440097098\n",
      "bestIteration = 19\n",
      "\n",
      "Shrink model to first 20 iterations.\n",
      "0:\ttest: 0.7615453\tbest: 0.7615453 (0)\ttotal: 43ms\tremaining: 3m 35s\n"
     ]
    },
    {
     "name": "stderr",
     "output_type": "stream",
     "text": [
      "C:\\Users\\paul\\AppData\\Local\\Temp\\ipykernel_14388\\3858626213.py:11: FutureWarning: suggest_discrete_uniform has been deprecated in v3.0.0. This feature will be removed in v6.0.0. See https://github.com/optuna/optuna/releases/tag/v3.0.0. Use :func:`~optuna.trial.Trial.suggest_float` instead.\n",
      "  'l2_leaf_reg': trial.suggest_discrete_uniform('l2_leaf_reg', 1.0, 5.0, 0.5),\n"
     ]
    },
    {
     "name": "stdout",
     "output_type": "stream",
     "text": [
      "100:\ttest: 0.8505208\tbest: 0.8509303 (87)\ttotal: 5.12s\tremaining: 4m 8s\n"
     ]
    },
    {
     "name": "stderr",
     "output_type": "stream",
     "text": [
      "\u001b[32m[I 2023-03-27 22:52:47,790]\u001b[0m Trial 12 finished with value: 0.8571411647633038 and parameters: {'learning_rate': 0.04525131815608906, 'bootstrap_type': 'Bayesian', 'boosting_type': 'Ordered', 'l2_leaf_reg': 4.0, 'max_depth': 7, 'bagging_temperature': 6.693221863772427}. Best is trial 3 with value: 0.8610308171034134.\u001b[0m\n"
     ]
    },
    {
     "name": "stdout",
     "output_type": "stream",
     "text": [
      "Stopped by overfitting detector  (40 iterations wait)\n",
      "\n",
      "bestTest = 0.8511007211\n",
      "bestIteration = 141\n",
      "\n",
      "Shrink model to first 142 iterations.\n",
      "0:\ttest: 0.7633016\tbest: 0.7633016 (0)\ttotal: 45.2ms\tremaining: 3m 45s\n"
     ]
    },
    {
     "name": "stderr",
     "output_type": "stream",
     "text": [
      "C:\\Users\\paul\\AppData\\Local\\Temp\\ipykernel_14388\\3858626213.py:11: FutureWarning: suggest_discrete_uniform has been deprecated in v3.0.0. This feature will be removed in v6.0.0. See https://github.com/optuna/optuna/releases/tag/v3.0.0. Use :func:`~optuna.trial.Trial.suggest_float` instead.\n",
      "  'l2_leaf_reg': trial.suggest_discrete_uniform('l2_leaf_reg', 1.0, 5.0, 0.5),\n"
     ]
    },
    {
     "name": "stdout",
     "output_type": "stream",
     "text": [
      "100:\ttest: 0.8491800\tbest: 0.8491800 (100)\ttotal: 5.75s\tremaining: 4m 38s\n",
      "200:\ttest: 0.8529945\tbest: 0.8530753 (196)\ttotal: 11s\tremaining: 4m 22s\n",
      "300:\ttest: 0.8542352\tbest: 0.8542352 (300)\ttotal: 16.1s\tremaining: 4m 11s\n"
     ]
    },
    {
     "name": "stderr",
     "output_type": "stream",
     "text": [
      "\u001b[32m[I 2023-03-27 22:53:06,012]\u001b[0m Trial 13 finished with value: 0.8673371874457029 and parameters: {'learning_rate': 0.09137069521447472, 'bootstrap_type': 'Bayesian', 'boosting_type': 'Ordered', 'l2_leaf_reg': 4.0, 'max_depth': 6, 'bagging_temperature': 8.054545511488401}. Best is trial 13 with value: 0.8673371874457029.\u001b[0m\n"
     ]
    },
    {
     "name": "stdout",
     "output_type": "stream",
     "text": [
      "Stopped by overfitting detector  (40 iterations wait)\n",
      "\n",
      "bestTest = 0.8542351752\n",
      "bestIteration = 300\n",
      "\n",
      "Shrink model to first 301 iterations.\n",
      "0:\ttest: 0.7791802\tbest: 0.7791802 (0)\ttotal: 42.5ms\tremaining: 3m 32s\n"
     ]
    },
    {
     "name": "stderr",
     "output_type": "stream",
     "text": [
      "C:\\Users\\paul\\AppData\\Local\\Temp\\ipykernel_14388\\3858626213.py:11: FutureWarning: suggest_discrete_uniform has been deprecated in v3.0.0. This feature will be removed in v6.0.0. See https://github.com/optuna/optuna/releases/tag/v3.0.0. Use :func:`~optuna.trial.Trial.suggest_float` instead.\n",
      "  'l2_leaf_reg': trial.suggest_discrete_uniform('l2_leaf_reg', 1.0, 5.0, 0.5),\n"
     ]
    },
    {
     "name": "stdout",
     "output_type": "stream",
     "text": [
      "100:\ttest: 0.8492203\tbest: 0.8492203 (100)\ttotal: 4.85s\tremaining: 3m 55s\n",
      "200:\ttest: 0.8515133\tbest: 0.8516598 (194)\ttotal: 9.21s\tremaining: 3m 39s\n"
     ]
    },
    {
     "name": "stderr",
     "output_type": "stream",
     "text": [
      "\u001b[32m[I 2023-03-27 22:53:18,290]\u001b[0m Trial 14 finished with value: 0.8518871724399374 and parameters: {'learning_rate': 0.05791944224737454, 'bootstrap_type': 'Bayesian', 'boosting_type': 'Ordered', 'l2_leaf_reg': 3.5, 'max_depth': 6, 'bagging_temperature': 8.988736255397564}. Best is trial 13 with value: 0.8673371874457029.\u001b[0m\n"
     ]
    },
    {
     "name": "stdout",
     "output_type": "stream",
     "text": [
      "Stopped by overfitting detector  (40 iterations wait)\n",
      "\n",
      "bestTest = 0.8525760221\n",
      "bestIteration = 230\n",
      "\n",
      "Shrink model to first 231 iterations.\n",
      "0:\ttest: 0.7481824\tbest: 0.7481824 (0)\ttotal: 17ms\tremaining: 1m 24s\n"
     ]
    },
    {
     "name": "stderr",
     "output_type": "stream",
     "text": [
      "C:\\Users\\paul\\AppData\\Local\\Temp\\ipykernel_14388\\3858626213.py:11: FutureWarning: suggest_discrete_uniform has been deprecated in v3.0.0. This feature will be removed in v6.0.0. See https://github.com/optuna/optuna/releases/tag/v3.0.0. Use :func:`~optuna.trial.Trial.suggest_float` instead.\n",
      "  'l2_leaf_reg': trial.suggest_discrete_uniform('l2_leaf_reg', 1.0, 5.0, 0.5),\n"
     ]
    },
    {
     "name": "stdout",
     "output_type": "stream",
     "text": [
      "100:\ttest: 0.8465926\tbest: 0.8465926 (100)\ttotal: 1.84s\tremaining: 1m 29s\n",
      "200:\ttest: 0.8519348\tbest: 0.8519348 (200)\ttotal: 3.58s\tremaining: 1m 25s\n",
      "300:\ttest: 0.8539063\tbest: 0.8539093 (296)\ttotal: 5.4s\tremaining: 1m 24s\n",
      "400:\ttest: 0.8545939\tbest: 0.8547464 (386)\ttotal: 7.13s\tremaining: 1m 21s\n"
     ]
    },
    {
     "name": "stderr",
     "output_type": "stream",
     "text": [
      "\u001b[32m[I 2023-03-27 22:53:26,702]\u001b[0m Trial 15 finished with value: 0.8606240818840923 and parameters: {'learning_rate': 0.03512118702748455, 'bootstrap_type': 'Bayesian', 'boosting_type': 'Plain', 'l2_leaf_reg': 3.0, 'max_depth': 4, 'bagging_temperature': 5.932702386477423}. Best is trial 13 with value: 0.8673371874457029.\u001b[0m\n"
     ]
    },
    {
     "name": "stdout",
     "output_type": "stream",
     "text": [
      "Stopped by overfitting detector  (40 iterations wait)\n",
      "\n",
      "bestTest = 0.8551738673\n",
      "bestIteration = 430\n",
      "\n",
      "Shrink model to first 431 iterations.\n",
      "0:\ttest: 0.7691879\tbest: 0.7691879 (0)\ttotal: 38.3ms\tremaining: 3m 11s\n"
     ]
    },
    {
     "name": "stderr",
     "output_type": "stream",
     "text": [
      "C:\\Users\\paul\\AppData\\Local\\Temp\\ipykernel_14388\\3858626213.py:11: FutureWarning: suggest_discrete_uniform has been deprecated in v3.0.0. This feature will be removed in v6.0.0. See https://github.com/optuna/optuna/releases/tag/v3.0.0. Use :func:`~optuna.trial.Trial.suggest_float` instead.\n",
      "  'l2_leaf_reg': trial.suggest_discrete_uniform('l2_leaf_reg', 1.0, 5.0, 0.5),\n"
     ]
    },
    {
     "name": "stdout",
     "output_type": "stream",
     "text": [
      "100:\ttest: 0.8481681\tbest: 0.8483594 (99)\ttotal: 5.81s\tremaining: 4m 41s\n",
      "200:\ttest: 0.8506194\tbest: 0.8506194 (200)\ttotal: 11.5s\tremaining: 4m 35s\n"
     ]
    },
    {
     "name": "stderr",
     "output_type": "stream",
     "text": [
      "\u001b[32m[I 2023-03-27 22:53:40,253]\u001b[0m Trial 16 finished with value: 0.846799033312799 and parameters: {'learning_rate': 0.0023552891822129912, 'bootstrap_type': 'Bayesian', 'boosting_type': 'Ordered', 'l2_leaf_reg': 2.0, 'max_depth': 6, 'bagging_temperature': 8.299151881004077}. Best is trial 13 with value: 0.8673371874457029.\u001b[0m\n"
     ]
    },
    {
     "name": "stdout",
     "output_type": "stream",
     "text": [
      "Stopped by overfitting detector  (40 iterations wait)\n",
      "\n",
      "bestTest = 0.8507240485\n",
      "bestIteration = 202\n",
      "\n",
      "Shrink model to first 203 iterations.\n",
      "0:\ttest: 0.7644391\tbest: 0.7644391 (0)\ttotal: 23.3ms\tremaining: 1m 56s\n"
     ]
    },
    {
     "name": "stderr",
     "output_type": "stream",
     "text": [
      "C:\\Users\\paul\\AppData\\Local\\Temp\\ipykernel_14388\\3858626213.py:11: FutureWarning: suggest_discrete_uniform has been deprecated in v3.0.0. This feature will be removed in v6.0.0. See https://github.com/optuna/optuna/releases/tag/v3.0.0. Use :func:`~optuna.trial.Trial.suggest_float` instead.\n",
      "  'l2_leaf_reg': trial.suggest_discrete_uniform('l2_leaf_reg', 1.0, 5.0, 0.5),\n"
     ]
    },
    {
     "name": "stdout",
     "output_type": "stream",
     "text": [
      "100:\ttest: 0.8501874\tbest: 0.8502293 (97)\ttotal: 2.77s\tremaining: 2m 14s\n",
      "200:\ttest: 0.8515476\tbest: 0.8518735 (186)\ttotal: 5.41s\tremaining: 2m 9s\n"
     ]
    },
    {
     "name": "stderr",
     "output_type": "stream",
     "text": [
      "\u001b[32m[I 2023-03-27 22:53:47,317]\u001b[0m Trial 17 finished with value: 0.8503846214598241 and parameters: {'learning_rate': 0.08192093580317791, 'bootstrap_type': 'Bayesian', 'boosting_type': 'Ordered', 'l2_leaf_reg': 4.0, 'max_depth': 4, 'bagging_temperature': 9.807755919091168}. Best is trial 13 with value: 0.8673371874457029.\u001b[0m\n"
     ]
    },
    {
     "name": "stdout",
     "output_type": "stream",
     "text": [
      "Stopped by overfitting detector  (40 iterations wait)\n",
      "\n",
      "bestTest = 0.85202895\n",
      "bestIteration = 217\n",
      "\n",
      "Shrink model to first 218 iterations.\n",
      "0:\ttest: 0.7857406\tbest: 0.7857406 (0)\ttotal: 24.6ms\tremaining: 2m 2s\n"
     ]
    },
    {
     "name": "stderr",
     "output_type": "stream",
     "text": [
      "C:\\Users\\paul\\AppData\\Local\\Temp\\ipykernel_14388\\3858626213.py:11: FutureWarning: suggest_discrete_uniform has been deprecated in v3.0.0. This feature will be removed in v6.0.0. See https://github.com/optuna/optuna/releases/tag/v3.0.0. Use :func:`~optuna.trial.Trial.suggest_float` instead.\n",
      "  'l2_leaf_reg': trial.suggest_discrete_uniform('l2_leaf_reg', 1.0, 5.0, 0.5),\n"
     ]
    },
    {
     "name": "stdout",
     "output_type": "stream",
     "text": [
      "100:\ttest: 0.8525820\tbest: 0.8532367 (81)\ttotal: 2.7s\tremaining: 2m 10s\n"
     ]
    },
    {
     "name": "stderr",
     "output_type": "stream",
     "text": [
      "\u001b[32m[I 2023-03-27 22:53:50,629]\u001b[0m Trial 18 finished with value: 0.8629025888894154 and parameters: {'learning_rate': 0.0509428410082636, 'bootstrap_type': 'Bayesian', 'boosting_type': 'Plain', 'l2_leaf_reg': 3.0, 'max_depth': 6, 'bagging_temperature': 3.7379178161516124}. Best is trial 13 with value: 0.8673371874457029.\u001b[0m\n"
     ]
    },
    {
     "name": "stdout",
     "output_type": "stream",
     "text": [
      "Stopped by overfitting detector  (40 iterations wait)\n",
      "\n",
      "bestTest = 0.8532366939\n",
      "bestIteration = 81\n",
      "\n",
      "Shrink model to first 82 iterations.\n",
      "0:\ttest: 0.7851128\tbest: 0.7851128 (0)\ttotal: 23.8ms\tremaining: 1m 59s\n"
     ]
    },
    {
     "name": "stderr",
     "output_type": "stream",
     "text": [
      "C:\\Users\\paul\\AppData\\Local\\Temp\\ipykernel_14388\\3858626213.py:11: FutureWarning: suggest_discrete_uniform has been deprecated in v3.0.0. This feature will be removed in v6.0.0. See https://github.com/optuna/optuna/releases/tag/v3.0.0. Use :func:`~optuna.trial.Trial.suggest_float` instead.\n",
      "  'l2_leaf_reg': trial.suggest_discrete_uniform('l2_leaf_reg', 1.0, 5.0, 0.5),\n"
     ]
    },
    {
     "name": "stdout",
     "output_type": "stream",
     "text": [
      "100:\ttest: 0.8507779\tbest: 0.8508137 (99)\ttotal: 2.67s\tremaining: 2m 9s\n"
     ]
    },
    {
     "name": "stderr",
     "output_type": "stream",
     "text": [
      "\u001b[32m[I 2023-03-27 22:53:55,325]\u001b[0m Trial 19 finished with value: 0.870585145871835 and parameters: {'learning_rate': 0.0498977444958251, 'bootstrap_type': 'Bayesian', 'boosting_type': 'Plain', 'l2_leaf_reg': 3.5, 'max_depth': 6, 'bagging_temperature': 4.222231407676046}. Best is trial 19 with value: 0.870585145871835.\u001b[0m\n"
     ]
    },
    {
     "name": "stdout",
     "output_type": "stream",
     "text": [
      "Stopped by overfitting detector  (40 iterations wait)\n",
      "\n",
      "bestTest = 0.851894424\n",
      "bestIteration = 136\n",
      "\n",
      "Shrink model to first 137 iterations.\n"
     ]
    }
   ],
   "source": [
    "study = optuna.create_study(direction=\"maximize\")\n",
    "study.optimize(objective, n_trials=20)"
   ]
  },
  {
   "cell_type": "code",
   "execution_count": 135,
   "id": "ce5774fd",
   "metadata": {},
   "outputs": [
    {
     "data": {
      "text/plain": [
       "{'learning_rate': 0.0498977444958251,\n",
       " 'bootstrap_type': 'Bayesian',\n",
       " 'boosting_type': 'Plain',\n",
       " 'l2_leaf_reg': 3.5,\n",
       " 'max_depth': 6,\n",
       " 'bagging_temperature': 4.222231407676046}"
      ]
     },
     "execution_count": 135,
     "metadata": {},
     "output_type": "execute_result"
    }
   ],
   "source": [
    "study.best_params"
   ]
  },
  {
   "cell_type": "code",
   "execution_count": 139,
   "id": "322273c0",
   "metadata": {},
   "outputs": [],
   "source": [
    "#Передадим 3 trial, потому что при значениях из 19 trial результат вышел хуже, а 3 был лучше до него\n",
    "model = CatBoostClassifier(**{'learning_rate': 0.016567229208573335, 'bootstrap_type': 'Bayesian', 'boosting_type': 'Ordered', 'l2_leaf_reg': 2.5, 'max_depth': 7, 'bagging_temperature': 6.5749009000047876}, eval_metric = \"AUC\", loss_function= \"Logloss\")"
   ]
  },
  {
   "cell_type": "code",
   "execution_count": 140,
   "id": "34253a4c",
   "metadata": {},
   "outputs": [
    {
     "name": "stdout",
     "output_type": "stream",
     "text": [
      "0:\ttest: 0.7620251\tbest: 0.7620251 (0)\ttotal: 39.7ms\tremaining: 39.7s\n",
      "1:\ttest: 0.8075218\tbest: 0.8075218 (1)\ttotal: 76.8ms\tremaining: 38.3s\n",
      "2:\ttest: 0.8193093\tbest: 0.8193093 (2)\ttotal: 111ms\tremaining: 37s\n",
      "3:\ttest: 0.8256828\tbest: 0.8256828 (3)\ttotal: 146ms\tremaining: 36.3s\n",
      "4:\ttest: 0.8260759\tbest: 0.8260759 (4)\ttotal: 181ms\tremaining: 36s\n",
      "5:\ttest: 0.8305123\tbest: 0.8305123 (5)\ttotal: 216ms\tremaining: 35.8s\n",
      "6:\ttest: 0.8317305\tbest: 0.8317305 (6)\ttotal: 251ms\tremaining: 35.6s\n",
      "7:\ttest: 0.8319098\tbest: 0.8319098 (7)\ttotal: 290ms\tremaining: 35.9s\n",
      "8:\ttest: 0.8363313\tbest: 0.8363313 (8)\ttotal: 326ms\tremaining: 35.8s\n",
      "9:\ttest: 0.8384224\tbest: 0.8384224 (9)\ttotal: 363ms\tremaining: 35.9s\n",
      "10:\ttest: 0.8409216\tbest: 0.8409216 (10)\ttotal: 403ms\tremaining: 36.3s\n",
      "11:\ttest: 0.8399052\tbest: 0.8409216 (10)\ttotal: 440ms\tremaining: 36.2s\n",
      "12:\ttest: 0.8400561\tbest: 0.8409216 (10)\ttotal: 481ms\tremaining: 36.5s\n",
      "13:\ttest: 0.8405345\tbest: 0.8409216 (10)\ttotal: 517ms\tremaining: 36.4s\n",
      "14:\ttest: 0.8400128\tbest: 0.8409216 (10)\ttotal: 551ms\tremaining: 36.2s\n",
      "15:\ttest: 0.8401593\tbest: 0.8409216 (10)\ttotal: 589ms\tremaining: 36.2s\n",
      "16:\ttest: 0.8402759\tbest: 0.8409216 (10)\ttotal: 626ms\tremaining: 36.2s\n",
      "17:\ttest: 0.8404403\tbest: 0.8409216 (10)\ttotal: 662ms\tremaining: 36.1s\n",
      "18:\ttest: 0.8404941\tbest: 0.8409216 (10)\ttotal: 701ms\tremaining: 36.2s\n",
      "19:\ttest: 0.8404134\tbest: 0.8409216 (10)\ttotal: 739ms\tremaining: 36.2s\n",
      "20:\ttest: 0.8420411\tbest: 0.8420411 (20)\ttotal: 775ms\tremaining: 36.1s\n",
      "21:\ttest: 0.8419231\tbest: 0.8420411 (20)\ttotal: 811ms\tremaining: 36s\n",
      "22:\ttest: 0.8422310\tbest: 0.8422310 (22)\ttotal: 847ms\tremaining: 36s\n",
      "23:\ttest: 0.8425150\tbest: 0.8425150 (23)\ttotal: 887ms\tremaining: 36.1s\n",
      "24:\ttest: 0.8428005\tbest: 0.8428005 (24)\ttotal: 924ms\tremaining: 36s\n",
      "25:\ttest: 0.8434462\tbest: 0.8434462 (25)\ttotal: 963ms\tremaining: 36.1s\n",
      "26:\ttest: 0.8437392\tbest: 0.8437392 (26)\ttotal: 1s\tremaining: 36.1s\n",
      "27:\ttest: 0.8436913\tbest: 0.8437392 (26)\ttotal: 1.06s\tremaining: 36.7s\n",
      "28:\ttest: 0.8433999\tbest: 0.8437392 (26)\ttotal: 1.09s\tremaining: 36.7s\n",
      "29:\ttest: 0.8443909\tbest: 0.8443909 (29)\ttotal: 1.13s\tremaining: 36.7s\n",
      "30:\ttest: 0.8443744\tbest: 0.8443909 (29)\ttotal: 1.17s\tremaining: 36.6s\n",
      "31:\ttest: 0.8448647\tbest: 0.8448647 (31)\ttotal: 1.21s\tremaining: 36.6s\n",
      "32:\ttest: 0.8450979\tbest: 0.8450979 (32)\ttotal: 1.24s\tremaining: 36.4s\n",
      "33:\ttest: 0.8448946\tbest: 0.8450979 (32)\ttotal: 1.28s\tremaining: 36.4s\n",
      "34:\ttest: 0.8449424\tbest: 0.8450979 (32)\ttotal: 1.32s\tremaining: 36.4s\n",
      "35:\ttest: 0.8447481\tbest: 0.8450979 (32)\ttotal: 1.36s\tremaining: 36.4s\n",
      "36:\ttest: 0.8453789\tbest: 0.8453789 (36)\ttotal: 1.4s\tremaining: 36.6s\n",
      "37:\ttest: 0.8455642\tbest: 0.8455642 (37)\ttotal: 1.45s\tremaining: 36.7s\n",
      "38:\ttest: 0.8460724\tbest: 0.8460724 (38)\ttotal: 1.49s\tremaining: 36.8s\n",
      "39:\ttest: 0.8463594\tbest: 0.8463594 (39)\ttotal: 1.54s\tremaining: 37s\n",
      "40:\ttest: 0.8464147\tbest: 0.8464147 (40)\ttotal: 1.58s\tremaining: 36.9s\n",
      "41:\ttest: 0.8462981\tbest: 0.8464147 (40)\ttotal: 1.61s\tremaining: 36.7s\n",
      "42:\ttest: 0.8460201\tbest: 0.8464147 (40)\ttotal: 1.65s\tremaining: 36.7s\n",
      "43:\ttest: 0.8466315\tbest: 0.8466315 (43)\ttotal: 1.69s\tremaining: 36.6s\n",
      "44:\ttest: 0.8468348\tbest: 0.8468348 (44)\ttotal: 1.72s\tremaining: 36.5s\n",
      "45:\ttest: 0.8463654\tbest: 0.8468348 (44)\ttotal: 1.75s\tremaining: 36.4s\n",
      "46:\ttest: 0.8462428\tbest: 0.8468348 (44)\ttotal: 1.81s\tremaining: 36.7s\n",
      "47:\ttest: 0.8462309\tbest: 0.8468348 (44)\ttotal: 1.88s\tremaining: 37.4s\n",
      "48:\ttest: 0.8462847\tbest: 0.8468348 (44)\ttotal: 1.92s\tremaining: 37.3s\n",
      "49:\ttest: 0.8464252\tbest: 0.8468348 (44)\ttotal: 1.96s\tremaining: 37.2s\n",
      "50:\ttest: 0.8463714\tbest: 0.8468348 (44)\ttotal: 1.99s\tremaining: 37.1s\n",
      "51:\ttest: 0.8464043\tbest: 0.8468348 (44)\ttotal: 2.03s\tremaining: 36.9s\n",
      "52:\ttest: 0.8465627\tbest: 0.8468348 (44)\ttotal: 2.06s\tremaining: 36.8s\n",
      "53:\ttest: 0.8464671\tbest: 0.8468348 (44)\ttotal: 2.09s\tremaining: 36.7s\n",
      "54:\ttest: 0.8467316\tbest: 0.8468348 (44)\ttotal: 2.13s\tremaining: 36.7s\n",
      "55:\ttest: 0.8469528\tbest: 0.8469528 (55)\ttotal: 2.17s\tremaining: 36.6s\n",
      "56:\ttest: 0.8473445\tbest: 0.8473445 (56)\ttotal: 2.21s\tremaining: 36.5s\n",
      "57:\ttest: 0.8472518\tbest: 0.8473445 (56)\ttotal: 2.24s\tremaining: 36.4s\n",
      "58:\ttest: 0.8473355\tbest: 0.8473445 (56)\ttotal: 2.27s\tremaining: 36.2s\n",
      "59:\ttest: 0.8473594\tbest: 0.8473594 (59)\ttotal: 2.31s\tremaining: 36.2s\n",
      "60:\ttest: 0.8472010\tbest: 0.8473594 (59)\ttotal: 2.34s\tremaining: 36.1s\n",
      "61:\ttest: 0.8472279\tbest: 0.8473594 (59)\ttotal: 2.39s\tremaining: 36.1s\n",
      "62:\ttest: 0.8471845\tbest: 0.8473594 (59)\ttotal: 2.42s\tremaining: 36s\n",
      "63:\ttest: 0.8473758\tbest: 0.8473758 (63)\ttotal: 2.46s\tremaining: 35.9s\n",
      "64:\ttest: 0.8473998\tbest: 0.8473998 (64)\ttotal: 2.49s\tremaining: 35.9s\n",
      "65:\ttest: 0.8473071\tbest: 0.8473998 (64)\ttotal: 2.53s\tremaining: 35.8s\n",
      "66:\ttest: 0.8473101\tbest: 0.8473998 (64)\ttotal: 2.57s\tremaining: 35.8s\n",
      "67:\ttest: 0.8472324\tbest: 0.8473998 (64)\ttotal: 2.61s\tremaining: 35.8s\n",
      "68:\ttest: 0.8472114\tbest: 0.8473998 (64)\ttotal: 2.65s\tremaining: 35.7s\n",
      "69:\ttest: 0.8471188\tbest: 0.8473998 (64)\ttotal: 2.69s\tremaining: 35.7s\n",
      "70:\ttest: 0.8470948\tbest: 0.8473998 (64)\ttotal: 2.72s\tremaining: 35.6s\n",
      "71:\ttest: 0.8468975\tbest: 0.8473998 (64)\ttotal: 2.75s\tremaining: 35.5s\n",
      "72:\ttest: 0.8469782\tbest: 0.8473998 (64)\ttotal: 2.79s\tremaining: 35.4s\n",
      "73:\ttest: 0.8469394\tbest: 0.8473998 (64)\ttotal: 2.82s\tremaining: 35.3s\n",
      "74:\ttest: 0.8469484\tbest: 0.8473998 (64)\ttotal: 2.87s\tremaining: 35.3s\n",
      "75:\ttest: 0.8470321\tbest: 0.8473998 (64)\ttotal: 2.9s\tremaining: 35.3s\n",
      "76:\ttest: 0.8472174\tbest: 0.8473998 (64)\ttotal: 2.94s\tremaining: 35.2s\n",
      "77:\ttest: 0.8472652\tbest: 0.8473998 (64)\ttotal: 2.97s\tremaining: 35.1s\n",
      "78:\ttest: 0.8471576\tbest: 0.8473998 (64)\ttotal: 3.01s\tremaining: 35.1s\n",
      "79:\ttest: 0.8471606\tbest: 0.8473998 (64)\ttotal: 3.04s\tremaining: 35s\n",
      "80:\ttest: 0.8472294\tbest: 0.8473998 (64)\ttotal: 3.08s\tremaining: 35s\n",
      "81:\ttest: 0.8472324\tbest: 0.8473998 (64)\ttotal: 3.12s\tremaining: 34.9s\n",
      "82:\ttest: 0.8472862\tbest: 0.8473998 (64)\ttotal: 3.15s\tremaining: 34.8s\n",
      "83:\ttest: 0.8478422\tbest: 0.8478422 (83)\ttotal: 3.19s\tremaining: 34.8s\n",
      "84:\ttest: 0.8480305\tbest: 0.8480305 (84)\ttotal: 3.23s\tremaining: 34.8s\n",
      "85:\ttest: 0.8479169\tbest: 0.8480305 (84)\ttotal: 3.26s\tremaining: 34.7s\n",
      "86:\ttest: 0.8478721\tbest: 0.8480305 (84)\ttotal: 3.3s\tremaining: 34.6s\n",
      "87:\ttest: 0.8479438\tbest: 0.8480305 (84)\ttotal: 3.33s\tremaining: 34.5s\n",
      "88:\ttest: 0.8479797\tbest: 0.8480305 (84)\ttotal: 3.37s\tremaining: 34.5s\n",
      "89:\ttest: 0.8479618\tbest: 0.8480305 (84)\ttotal: 3.4s\tremaining: 34.4s\n",
      "90:\ttest: 0.8480365\tbest: 0.8480365 (90)\ttotal: 3.44s\tremaining: 34.3s\n",
      "91:\ttest: 0.8480485\tbest: 0.8480485 (91)\ttotal: 3.48s\tremaining: 34.3s\n",
      "92:\ttest: 0.8482249\tbest: 0.8482249 (92)\ttotal: 3.52s\tremaining: 34.4s\n",
      "93:\ttest: 0.8482009\tbest: 0.8482249 (92)\ttotal: 3.58s\tremaining: 34.5s\n",
      "94:\ttest: 0.8481412\tbest: 0.8482249 (92)\ttotal: 3.63s\tremaining: 34.6s\n",
      "95:\ttest: 0.8481292\tbest: 0.8482249 (92)\ttotal: 3.73s\tremaining: 35.1s\n",
      "96:\ttest: 0.8481980\tbest: 0.8482249 (92)\ttotal: 3.78s\tremaining: 35.2s\n",
      "97:\ttest: 0.8483444\tbest: 0.8483444 (97)\ttotal: 3.81s\tremaining: 35.1s\n",
      "98:\ttest: 0.8483116\tbest: 0.8483444 (97)\ttotal: 3.85s\tremaining: 35.1s\n",
      "99:\ttest: 0.8484072\tbest: 0.8484072 (99)\ttotal: 3.89s\tremaining: 35s\n",
      "100:\ttest: 0.8487958\tbest: 0.8487958 (100)\ttotal: 3.93s\tremaining: 35s\n",
      "101:\ttest: 0.8489513\tbest: 0.8489513 (101)\ttotal: 3.97s\tremaining: 34.9s\n",
      "102:\ttest: 0.8489902\tbest: 0.8489902 (102)\ttotal: 4.01s\tremaining: 34.9s\n",
      "103:\ttest: 0.8490649\tbest: 0.8490649 (103)\ttotal: 4.04s\tremaining: 34.8s\n",
      "104:\ttest: 0.8491277\tbest: 0.8491277 (104)\ttotal: 4.08s\tremaining: 34.8s\n",
      "105:\ttest: 0.8490679\tbest: 0.8491277 (104)\ttotal: 4.12s\tremaining: 34.7s\n",
      "106:\ttest: 0.8491127\tbest: 0.8491277 (104)\ttotal: 4.16s\tremaining: 34.7s\n",
      "107:\ttest: 0.8492353\tbest: 0.8492353 (107)\ttotal: 4.2s\tremaining: 34.7s\n",
      "108:\ttest: 0.8494625\tbest: 0.8494625 (108)\ttotal: 4.24s\tremaining: 34.6s\n",
      "109:\ttest: 0.8496359\tbest: 0.8496359 (109)\ttotal: 4.28s\tremaining: 34.6s\n",
      "110:\ttest: 0.8494535\tbest: 0.8496359 (109)\ttotal: 4.31s\tremaining: 34.5s\n",
      "111:\ttest: 0.8494984\tbest: 0.8496359 (109)\ttotal: 4.34s\tremaining: 34.4s\n",
      "112:\ttest: 0.8494057\tbest: 0.8496359 (109)\ttotal: 4.38s\tremaining: 34.4s\n",
      "113:\ttest: 0.8494326\tbest: 0.8496359 (109)\ttotal: 4.42s\tremaining: 34.3s\n",
      "114:\ttest: 0.8492801\tbest: 0.8496359 (109)\ttotal: 4.45s\tremaining: 34.3s\n",
      "115:\ttest: 0.8493489\tbest: 0.8496359 (109)\ttotal: 4.49s\tremaining: 34.2s\n",
      "116:\ttest: 0.8492323\tbest: 0.8496359 (109)\ttotal: 4.53s\tremaining: 34.2s\n",
      "117:\ttest: 0.8492592\tbest: 0.8496359 (109)\ttotal: 4.57s\tremaining: 34.1s\n",
      "118:\ttest: 0.8493190\tbest: 0.8496359 (109)\ttotal: 4.6s\tremaining: 34s\n",
      "119:\ttest: 0.8493698\tbest: 0.8496359 (109)\ttotal: 4.63s\tremaining: 34s\n",
      "120:\ttest: 0.8496867\tbest: 0.8496867 (120)\ttotal: 4.67s\tremaining: 33.9s\n",
      "121:\ttest: 0.8498063\tbest: 0.8498063 (121)\ttotal: 4.71s\tremaining: 33.9s\n",
      "122:\ttest: 0.8499498\tbest: 0.8499498 (122)\ttotal: 4.74s\tremaining: 33.8s\n",
      "123:\ttest: 0.8499318\tbest: 0.8499498 (122)\ttotal: 4.78s\tremaining: 33.8s\n",
      "124:\ttest: 0.8499468\tbest: 0.8499498 (122)\ttotal: 4.82s\tremaining: 33.7s\n",
      "125:\ttest: 0.8498661\tbest: 0.8499498 (122)\ttotal: 4.85s\tremaining: 33.7s\n",
      "126:\ttest: 0.8499109\tbest: 0.8499498 (122)\ttotal: 4.89s\tremaining: 33.6s\n",
      "127:\ttest: 0.8499169\tbest: 0.8499498 (122)\ttotal: 4.93s\tremaining: 33.6s\n",
      "128:\ttest: 0.8498810\tbest: 0.8499498 (122)\ttotal: 4.97s\tremaining: 33.5s\n",
      "129:\ttest: 0.8501830\tbest: 0.8501830 (129)\ttotal: 5s\tremaining: 33.5s\n",
      "130:\ttest: 0.8503384\tbest: 0.8503384 (130)\ttotal: 5.04s\tremaining: 33.4s\n",
      "131:\ttest: 0.8506284\tbest: 0.8506284 (131)\ttotal: 5.08s\tremaining: 33.4s\n",
      "132:\ttest: 0.8504371\tbest: 0.8506284 (131)\ttotal: 5.12s\tremaining: 33.4s\n",
      "133:\ttest: 0.8504102\tbest: 0.8506284 (131)\ttotal: 5.16s\tremaining: 33.3s\n",
      "134:\ttest: 0.8505118\tbest: 0.8506284 (131)\ttotal: 5.19s\tremaining: 33.3s\n",
      "135:\ttest: 0.8505566\tbest: 0.8506284 (131)\ttotal: 5.23s\tremaining: 33.2s\n",
      "136:\ttest: 0.8506045\tbest: 0.8506284 (131)\ttotal: 5.27s\tremaining: 33.2s\n",
      "137:\ttest: 0.8506045\tbest: 0.8506284 (131)\ttotal: 5.31s\tremaining: 33.2s\n",
      "138:\ttest: 0.8505028\tbest: 0.8506284 (131)\ttotal: 5.34s\tremaining: 33.1s\n",
      "139:\ttest: 0.8505447\tbest: 0.8506284 (131)\ttotal: 5.38s\tremaining: 33.1s\n",
      "140:\ttest: 0.8505267\tbest: 0.8506284 (131)\ttotal: 5.42s\tremaining: 33s\n",
      "141:\ttest: 0.8504012\tbest: 0.8506284 (131)\ttotal: 5.46s\tremaining: 33s\n",
      "142:\ttest: 0.8504670\tbest: 0.8506284 (131)\ttotal: 5.5s\tremaining: 33s\n",
      "143:\ttest: 0.8503743\tbest: 0.8506284 (131)\ttotal: 5.54s\tremaining: 32.9s\n",
      "144:\ttest: 0.8504251\tbest: 0.8506284 (131)\ttotal: 5.58s\tremaining: 32.9s\n",
      "145:\ttest: 0.8504759\tbest: 0.8506284 (131)\ttotal: 5.62s\tremaining: 32.9s\n",
      "146:\ttest: 0.8505118\tbest: 0.8506284 (131)\ttotal: 5.66s\tremaining: 32.8s\n",
      "147:\ttest: 0.8504012\tbest: 0.8506284 (131)\ttotal: 5.7s\tremaining: 32.8s\n",
      "148:\ttest: 0.8504460\tbest: 0.8506284 (131)\ttotal: 5.73s\tremaining: 32.7s\n",
      "149:\ttest: 0.8505806\tbest: 0.8506284 (131)\ttotal: 5.77s\tremaining: 32.7s\n",
      "150:\ttest: 0.8505656\tbest: 0.8506284 (131)\ttotal: 5.81s\tremaining: 32.7s\n",
      "151:\ttest: 0.8505357\tbest: 0.8506284 (131)\ttotal: 5.84s\tremaining: 32.6s\n",
      "152:\ttest: 0.8505835\tbest: 0.8506284 (131)\ttotal: 5.88s\tremaining: 32.5s\n",
      "153:\ttest: 0.8505357\tbest: 0.8506284 (131)\ttotal: 5.92s\tremaining: 32.5s\n",
      "154:\ttest: 0.8506224\tbest: 0.8506284 (131)\ttotal: 5.95s\tremaining: 32.4s\n",
      "155:\ttest: 0.8506792\tbest: 0.8506792 (155)\ttotal: 5.99s\tremaining: 32.4s\n",
      "156:\ttest: 0.8507300\tbest: 0.8507300 (156)\ttotal: 6s\tremaining: 32.2s\n",
      "157:\ttest: 0.8507240\tbest: 0.8507300 (156)\ttotal: 6.04s\tremaining: 32.2s\n",
      "158:\ttest: 0.8506732\tbest: 0.8507300 (156)\ttotal: 6.07s\tremaining: 32.1s\n",
      "159:\ttest: 0.8508257\tbest: 0.8508257 (159)\ttotal: 6.12s\tremaining: 32.1s\n",
      "160:\ttest: 0.8507838\tbest: 0.8508257 (159)\ttotal: 6.16s\tremaining: 32.1s\n",
      "161:\ttest: 0.8506613\tbest: 0.8508257 (159)\ttotal: 6.2s\tremaining: 32.1s\n",
      "162:\ttest: 0.8506672\tbest: 0.8508257 (159)\ttotal: 6.25s\tremaining: 32.1s\n",
      "163:\ttest: 0.8506792\tbest: 0.8508257 (159)\ttotal: 6.29s\tremaining: 32.1s\n",
      "164:\ttest: 0.8508227\tbest: 0.8508257 (159)\ttotal: 6.33s\tremaining: 32.1s\n",
      "165:\ttest: 0.8507689\tbest: 0.8508257 (159)\ttotal: 6.37s\tremaining: 32s\n",
      "166:\ttest: 0.8507838\tbest: 0.8508257 (159)\ttotal: 6.41s\tremaining: 32s\n",
      "167:\ttest: 0.8509542\tbest: 0.8509542 (167)\ttotal: 6.46s\tremaining: 32s\n",
      "168:\ttest: 0.8508646\tbest: 0.8509542 (167)\ttotal: 6.51s\tremaining: 32s\n",
      "169:\ttest: 0.8508616\tbest: 0.8509542 (167)\ttotal: 6.54s\tremaining: 31.9s\n",
      "170:\ttest: 0.8508197\tbest: 0.8509542 (167)\ttotal: 6.58s\tremaining: 31.9s\n",
      "171:\ttest: 0.8508406\tbest: 0.8509542 (167)\ttotal: 6.62s\tremaining: 31.9s\n",
      "172:\ttest: 0.8508018\tbest: 0.8509542 (167)\ttotal: 6.67s\tremaining: 31.9s\n",
      "173:\ttest: 0.8508347\tbest: 0.8509542 (167)\ttotal: 6.72s\tremaining: 31.9s\n",
      "174:\ttest: 0.8509243\tbest: 0.8509542 (167)\ttotal: 6.76s\tremaining: 31.9s\n",
      "175:\ttest: 0.8509393\tbest: 0.8509542 (167)\ttotal: 6.8s\tremaining: 31.9s\n",
      "176:\ttest: 0.8509512\tbest: 0.8509542 (167)\ttotal: 6.85s\tremaining: 31.8s\n",
      "177:\ttest: 0.8509512\tbest: 0.8509542 (167)\ttotal: 6.89s\tremaining: 31.8s\n",
      "178:\ttest: 0.8509901\tbest: 0.8509901 (178)\ttotal: 6.93s\tremaining: 31.8s\n",
      "179:\ttest: 0.8508795\tbest: 0.8509901 (178)\ttotal: 6.97s\tremaining: 31.8s\n",
      "180:\ttest: 0.8509124\tbest: 0.8509901 (178)\ttotal: 7.01s\tremaining: 31.7s\n",
      "181:\ttest: 0.8508167\tbest: 0.8509901 (178)\ttotal: 7.05s\tremaining: 31.7s\n",
      "182:\ttest: 0.8508048\tbest: 0.8509901 (178)\ttotal: 7.1s\tremaining: 31.7s\n",
      "183:\ttest: 0.8507988\tbest: 0.8509901 (178)\ttotal: 7.14s\tremaining: 31.7s\n",
      "184:\ttest: 0.8508376\tbest: 0.8509901 (178)\ttotal: 7.19s\tremaining: 31.7s\n",
      "185:\ttest: 0.8508287\tbest: 0.8509901 (178)\ttotal: 7.23s\tremaining: 31.6s\n",
      "186:\ttest: 0.8508048\tbest: 0.8509901 (178)\ttotal: 7.27s\tremaining: 31.6s\n",
      "187:\ttest: 0.8508018\tbest: 0.8509901 (178)\ttotal: 7.31s\tremaining: 31.6s\n",
      "188:\ttest: 0.8508765\tbest: 0.8509901 (178)\ttotal: 7.36s\tremaining: 31.6s\n",
      "189:\ttest: 0.8508197\tbest: 0.8509901 (178)\ttotal: 7.41s\tremaining: 31.6s\n",
      "190:\ttest: 0.8508616\tbest: 0.8509901 (178)\ttotal: 7.47s\tremaining: 31.6s\n",
      "191:\ttest: 0.8508825\tbest: 0.8509901 (178)\ttotal: 7.53s\tremaining: 31.7s\n",
      "192:\ttest: 0.8508317\tbest: 0.8509901 (178)\ttotal: 7.58s\tremaining: 31.7s\n",
      "193:\ttest: 0.8509393\tbest: 0.8509901 (178)\ttotal: 7.64s\tremaining: 31.7s\n",
      "194:\ttest: 0.8509632\tbest: 0.8509901 (178)\ttotal: 7.69s\tremaining: 31.8s\n",
      "195:\ttest: 0.8509602\tbest: 0.8509901 (178)\ttotal: 7.75s\tremaining: 31.8s\n",
      "196:\ttest: 0.8508885\tbest: 0.8509901 (178)\ttotal: 7.8s\tremaining: 31.8s\n",
      "197:\ttest: 0.8509303\tbest: 0.8509901 (178)\ttotal: 7.86s\tremaining: 31.8s\n",
      "198:\ttest: 0.8507928\tbest: 0.8509901 (178)\ttotal: 7.92s\tremaining: 31.9s\n",
      "199:\ttest: 0.8507569\tbest: 0.8509901 (178)\ttotal: 7.98s\tremaining: 31.9s\n",
      "200:\ttest: 0.8507330\tbest: 0.8509901 (178)\ttotal: 8.04s\tremaining: 32s\n",
      "201:\ttest: 0.8507240\tbest: 0.8509901 (178)\ttotal: 8.09s\tremaining: 32s\n",
      "202:\ttest: 0.8507779\tbest: 0.8509901 (178)\ttotal: 8.16s\tremaining: 32s\n",
      "203:\ttest: 0.8507749\tbest: 0.8509901 (178)\ttotal: 8.22s\tremaining: 32.1s\n",
      "204:\ttest: 0.8507151\tbest: 0.8509901 (178)\ttotal: 8.28s\tremaining: 32.1s\n",
      "205:\ttest: 0.8506942\tbest: 0.8509901 (178)\ttotal: 8.33s\tremaining: 32.1s\n",
      "206:\ttest: 0.8507001\tbest: 0.8509901 (178)\ttotal: 8.39s\tremaining: 32.1s\n",
      "207:\ttest: 0.8509632\tbest: 0.8509901 (178)\ttotal: 8.45s\tremaining: 32.2s\n",
      "208:\ttest: 0.8509632\tbest: 0.8509901 (178)\ttotal: 8.53s\tremaining: 32.3s\n",
      "209:\ttest: 0.8510409\tbest: 0.8510409 (209)\ttotal: 8.59s\tremaining: 32.3s\n",
      "210:\ttest: 0.8510350\tbest: 0.8510409 (209)\ttotal: 8.66s\tremaining: 32.4s\n",
      "211:\ttest: 0.8510858\tbest: 0.8510858 (211)\ttotal: 8.73s\tremaining: 32.4s\n",
      "212:\ttest: 0.8511964\tbest: 0.8511964 (212)\ttotal: 8.79s\tremaining: 32.5s\n",
      "213:\ttest: 0.8511964\tbest: 0.8511964 (212)\ttotal: 8.81s\tremaining: 32.4s\n",
      "214:\ttest: 0.8511904\tbest: 0.8511964 (212)\ttotal: 8.87s\tremaining: 32.4s\n",
      "215:\ttest: 0.8513698\tbest: 0.8513698 (215)\ttotal: 8.93s\tremaining: 32.4s\n",
      "216:\ttest: 0.8513698\tbest: 0.8513698 (215)\ttotal: 8.97s\tremaining: 32.4s\n",
      "217:\ttest: 0.8514894\tbest: 0.8514894 (217)\ttotal: 9.03s\tremaining: 32.4s\n",
      "218:\ttest: 0.8514266\tbest: 0.8514894 (217)\ttotal: 9.09s\tremaining: 32.4s\n",
      "219:\ttest: 0.8514535\tbest: 0.8514894 (217)\ttotal: 9.16s\tremaining: 32.5s\n",
      "220:\ttest: 0.8514475\tbest: 0.8514894 (217)\ttotal: 9.23s\tremaining: 32.5s\n",
      "221:\ttest: 0.8514744\tbest: 0.8514894 (217)\ttotal: 9.29s\tremaining: 32.5s\n",
      "222:\ttest: 0.8513997\tbest: 0.8514894 (217)\ttotal: 9.34s\tremaining: 32.6s\n",
      "223:\ttest: 0.8514176\tbest: 0.8514894 (217)\ttotal: 9.41s\tremaining: 32.6s\n",
      "224:\ttest: 0.8513967\tbest: 0.8514894 (217)\ttotal: 9.47s\tremaining: 32.6s\n",
      "225:\ttest: 0.8513518\tbest: 0.8514894 (217)\ttotal: 9.53s\tremaining: 32.6s\n",
      "226:\ttest: 0.8514415\tbest: 0.8514894 (217)\ttotal: 9.59s\tremaining: 32.7s\n",
      "227:\ttest: 0.8514864\tbest: 0.8514894 (217)\ttotal: 9.65s\tremaining: 32.7s\n",
      "228:\ttest: 0.8514864\tbest: 0.8514894 (217)\ttotal: 9.68s\tremaining: 32.6s\n",
      "229:\ttest: 0.8515701\tbest: 0.8515701 (229)\ttotal: 9.74s\tremaining: 32.6s\n",
      "230:\ttest: 0.8515462\tbest: 0.8515701 (229)\ttotal: 9.78s\tremaining: 32.6s\n",
      "231:\ttest: 0.8515342\tbest: 0.8515701 (229)\ttotal: 9.83s\tremaining: 32.6s\n",
      "232:\ttest: 0.8515850\tbest: 0.8515850 (232)\ttotal: 9.89s\tremaining: 32.6s\n",
      "233:\ttest: 0.8515731\tbest: 0.8515850 (232)\ttotal: 9.94s\tremaining: 32.6s\n",
      "234:\ttest: 0.8516119\tbest: 0.8516119 (234)\ttotal: 9.99s\tremaining: 32.5s\n",
      "235:\ttest: 0.8516358\tbest: 0.8516358 (235)\ttotal: 10s\tremaining: 32.5s\n",
      "236:\ttest: 0.8516299\tbest: 0.8516358 (235)\ttotal: 10.1s\tremaining: 32.5s\n",
      "237:\ttest: 0.8516299\tbest: 0.8516358 (235)\ttotal: 10.1s\tremaining: 32.4s\n",
      "238:\ttest: 0.8516089\tbest: 0.8516358 (235)\ttotal: 10.2s\tremaining: 32.5s\n",
      "239:\ttest: 0.8516209\tbest: 0.8516358 (235)\ttotal: 10.3s\tremaining: 32.5s\n",
      "240:\ttest: 0.8517076\tbest: 0.8517076 (240)\ttotal: 10.3s\tremaining: 32.5s\n",
      "241:\ttest: 0.8516777\tbest: 0.8517076 (240)\ttotal: 10.4s\tremaining: 32.5s\n",
      "242:\ttest: 0.8517285\tbest: 0.8517285 (242)\ttotal: 10.4s\tremaining: 32.5s\n",
      "243:\ttest: 0.8517285\tbest: 0.8517285 (242)\ttotal: 10.5s\tremaining: 32.5s\n",
      "244:\ttest: 0.8516777\tbest: 0.8517285 (242)\ttotal: 10.5s\tremaining: 32.5s\n",
      "245:\ttest: 0.8516837\tbest: 0.8517285 (242)\ttotal: 10.6s\tremaining: 32.5s\n",
      "246:\ttest: 0.8517375\tbest: 0.8517375 (246)\ttotal: 10.7s\tremaining: 32.5s\n",
      "247:\ttest: 0.8516867\tbest: 0.8517375 (246)\ttotal: 10.7s\tremaining: 32.5s\n",
      "248:\ttest: 0.8516867\tbest: 0.8517375 (246)\ttotal: 10.8s\tremaining: 32.5s\n",
      "249:\ttest: 0.8516867\tbest: 0.8517375 (246)\ttotal: 10.8s\tremaining: 32.4s\n",
      "250:\ttest: 0.8516777\tbest: 0.8517375 (246)\ttotal: 10.9s\tremaining: 32.4s\n",
      "251:\ttest: 0.8517225\tbest: 0.8517375 (246)\ttotal: 10.9s\tremaining: 32.4s\n",
      "252:\ttest: 0.8517793\tbest: 0.8517793 (252)\ttotal: 11s\tremaining: 32.5s\n",
      "253:\ttest: 0.8517853\tbest: 0.8517853 (253)\ttotal: 11.1s\tremaining: 32.5s\n",
      "254:\ttest: 0.8517823\tbest: 0.8517853 (253)\ttotal: 11.1s\tremaining: 32.5s\n",
      "255:\ttest: 0.8517943\tbest: 0.8517943 (255)\ttotal: 11.2s\tremaining: 32.5s\n",
      "256:\ttest: 0.8517943\tbest: 0.8517943 (255)\ttotal: 11.3s\tremaining: 32.5s\n",
      "257:\ttest: 0.8517734\tbest: 0.8517943 (255)\ttotal: 11.3s\tremaining: 32.5s\n",
      "258:\ttest: 0.8517674\tbest: 0.8517943 (255)\ttotal: 11.4s\tremaining: 32.5s\n",
      "259:\ttest: 0.8517973\tbest: 0.8517973 (259)\ttotal: 11.4s\tremaining: 32.5s\n",
      "260:\ttest: 0.8517943\tbest: 0.8517973 (259)\ttotal: 11.5s\tremaining: 32.5s\n",
      "261:\ttest: 0.8518331\tbest: 0.8518331 (261)\ttotal: 11.6s\tremaining: 32.5s\n",
      "262:\ttest: 0.8518451\tbest: 0.8518451 (262)\ttotal: 11.6s\tremaining: 32.5s\n",
      "263:\ttest: 0.8518571\tbest: 0.8518571 (263)\ttotal: 11.7s\tremaining: 32.5s\n",
      "264:\ttest: 0.8518750\tbest: 0.8518750 (264)\ttotal: 11.7s\tremaining: 32.5s\n",
      "265:\ttest: 0.8519019\tbest: 0.8519019 (265)\ttotal: 11.8s\tremaining: 32.5s\n",
      "266:\ttest: 0.8518989\tbest: 0.8519019 (265)\ttotal: 11.8s\tremaining: 32.4s\n",
      "267:\ttest: 0.8519557\tbest: 0.8519557 (267)\ttotal: 11.9s\tremaining: 32.5s\n",
      "268:\ttest: 0.8519677\tbest: 0.8519677 (268)\ttotal: 11.9s\tremaining: 32.5s\n",
      "269:\ttest: 0.8519408\tbest: 0.8519677 (268)\ttotal: 12s\tremaining: 32.4s\n",
      "270:\ttest: 0.8519557\tbest: 0.8519677 (268)\ttotal: 12s\tremaining: 32.3s\n",
      "271:\ttest: 0.8519647\tbest: 0.8519677 (268)\ttotal: 12.1s\tremaining: 32.3s\n",
      "272:\ttest: 0.8519647\tbest: 0.8519677 (268)\ttotal: 12.1s\tremaining: 32.2s\n",
      "273:\ttest: 0.8519826\tbest: 0.8519826 (273)\ttotal: 12.2s\tremaining: 32.2s\n",
      "274:\ttest: 0.8519677\tbest: 0.8519826 (273)\ttotal: 12.2s\tremaining: 32.2s\n",
      "275:\ttest: 0.8519647\tbest: 0.8519826 (273)\ttotal: 12.3s\tremaining: 32.2s\n",
      "276:\ttest: 0.8520065\tbest: 0.8520065 (276)\ttotal: 12.3s\tremaining: 32.2s\n",
      "277:\ttest: 0.8520364\tbest: 0.8520364 (277)\ttotal: 12.4s\tremaining: 32.2s\n",
      "278:\ttest: 0.8520424\tbest: 0.8520424 (278)\ttotal: 12.4s\tremaining: 32.1s\n",
      "279:\ttest: 0.8520245\tbest: 0.8520424 (278)\ttotal: 12.5s\tremaining: 32.1s\n",
      "280:\ttest: 0.8520035\tbest: 0.8520424 (278)\ttotal: 12.5s\tremaining: 32.1s\n",
      "281:\ttest: 0.8519527\tbest: 0.8520424 (278)\ttotal: 12.6s\tremaining: 32.1s\n",
      "282:\ttest: 0.8519378\tbest: 0.8520424 (278)\ttotal: 12.7s\tremaining: 32.1s\n",
      "283:\ttest: 0.8519109\tbest: 0.8520424 (278)\ttotal: 12.7s\tremaining: 32s\n",
      "284:\ttest: 0.8518870\tbest: 0.8520424 (278)\ttotal: 12.8s\tremaining: 32s\n",
      "285:\ttest: 0.8518840\tbest: 0.8520424 (278)\ttotal: 12.8s\tremaining: 32s\n",
      "286:\ttest: 0.8519079\tbest: 0.8520424 (278)\ttotal: 12.9s\tremaining: 32s\n",
      "287:\ttest: 0.8519408\tbest: 0.8520424 (278)\ttotal: 12.9s\tremaining: 32s\n",
      "288:\ttest: 0.8518870\tbest: 0.8520424 (278)\ttotal: 13s\tremaining: 31.9s\n",
      "289:\ttest: 0.8519079\tbest: 0.8520424 (278)\ttotal: 13s\tremaining: 31.9s\n",
      "290:\ttest: 0.8518660\tbest: 0.8520424 (278)\ttotal: 13.1s\tremaining: 31.9s\n",
      "291:\ttest: 0.8519557\tbest: 0.8520424 (278)\ttotal: 13.1s\tremaining: 31.9s\n",
      "292:\ttest: 0.8519707\tbest: 0.8520424 (278)\ttotal: 13.2s\tremaining: 31.8s\n",
      "293:\ttest: 0.8519647\tbest: 0.8520424 (278)\ttotal: 13.2s\tremaining: 31.8s\n",
      "294:\ttest: 0.8519736\tbest: 0.8520424 (278)\ttotal: 13.3s\tremaining: 31.8s\n",
      "295:\ttest: 0.8519916\tbest: 0.8520424 (278)\ttotal: 13.4s\tremaining: 31.8s\n",
      "296:\ttest: 0.8520544\tbest: 0.8520544 (296)\ttotal: 13.4s\tremaining: 31.7s\n",
      "297:\ttest: 0.8520215\tbest: 0.8520544 (296)\ttotal: 13.5s\tremaining: 31.7s\n",
      "298:\ttest: 0.8520902\tbest: 0.8520902 (298)\ttotal: 13.5s\tremaining: 31.7s\n",
      "299:\ttest: 0.8521112\tbest: 0.8521112 (299)\ttotal: 13.6s\tremaining: 31.6s\n",
      "300:\ttest: 0.8520334\tbest: 0.8521112 (299)\ttotal: 13.6s\tremaining: 31.6s\n",
      "301:\ttest: 0.8520334\tbest: 0.8521112 (299)\ttotal: 13.7s\tremaining: 31.6s\n",
      "302:\ttest: 0.8520514\tbest: 0.8521112 (299)\ttotal: 13.7s\tremaining: 31.6s\n",
      "303:\ttest: 0.8520663\tbest: 0.8521112 (299)\ttotal: 13.8s\tremaining: 31.6s\n",
      "304:\ttest: 0.8520663\tbest: 0.8521112 (299)\ttotal: 13.8s\tremaining: 31.5s\n",
      "305:\ttest: 0.8520544\tbest: 0.8521112 (299)\ttotal: 13.9s\tremaining: 31.5s\n",
      "306:\ttest: 0.8520992\tbest: 0.8521112 (299)\ttotal: 13.9s\tremaining: 31.4s\n",
      "307:\ttest: 0.8521291\tbest: 0.8521291 (307)\ttotal: 14s\tremaining: 31.4s\n",
      "308:\ttest: 0.8521829\tbest: 0.8521829 (308)\ttotal: 14s\tremaining: 31.4s\n",
      "309:\ttest: 0.8521769\tbest: 0.8521829 (308)\ttotal: 14.1s\tremaining: 31.4s\n",
      "310:\ttest: 0.8521769\tbest: 0.8521829 (308)\ttotal: 14.1s\tremaining: 31.3s\n",
      "311:\ttest: 0.8521650\tbest: 0.8521829 (308)\ttotal: 14.2s\tremaining: 31.3s\n",
      "312:\ttest: 0.8521440\tbest: 0.8521829 (308)\ttotal: 14.3s\tremaining: 31.3s\n",
      "313:\ttest: 0.8521351\tbest: 0.8521829 (308)\ttotal: 14.3s\tremaining: 31.3s\n",
      "314:\ttest: 0.8521530\tbest: 0.8521829 (308)\ttotal: 14.4s\tremaining: 31.2s\n",
      "315:\ttest: 0.8521680\tbest: 0.8521829 (308)\ttotal: 14.4s\tremaining: 31.2s\n",
      "316:\ttest: 0.8521381\tbest: 0.8521829 (308)\ttotal: 14.5s\tremaining: 31.2s\n",
      "317:\ttest: 0.8521530\tbest: 0.8521829 (308)\ttotal: 14.5s\tremaining: 31.1s\n",
      "318:\ttest: 0.8521411\tbest: 0.8521829 (308)\ttotal: 14.5s\tremaining: 31.1s\n",
      "319:\ttest: 0.8521201\tbest: 0.8521829 (308)\ttotal: 14.6s\tremaining: 31s\n",
      "320:\ttest: 0.8522068\tbest: 0.8522068 (320)\ttotal: 14.7s\tremaining: 31s\n",
      "321:\ttest: 0.8521620\tbest: 0.8522068 (320)\ttotal: 14.7s\tremaining: 31s\n",
      "322:\ttest: 0.8521351\tbest: 0.8522068 (320)\ttotal: 14.8s\tremaining: 30.9s\n",
      "323:\ttest: 0.8521620\tbest: 0.8522068 (320)\ttotal: 14.8s\tremaining: 30.9s\n",
      "324:\ttest: 0.8522547\tbest: 0.8522547 (324)\ttotal: 14.9s\tremaining: 30.9s\n",
      "325:\ttest: 0.8522517\tbest: 0.8522547 (324)\ttotal: 14.9s\tremaining: 30.9s\n",
      "326:\ttest: 0.8522218\tbest: 0.8522547 (324)\ttotal: 15s\tremaining: 30.8s\n",
      "327:\ttest: 0.8522218\tbest: 0.8522547 (324)\ttotal: 15s\tremaining: 30.8s\n",
      "328:\ttest: 0.8522576\tbest: 0.8522576 (328)\ttotal: 15.1s\tremaining: 30.8s\n",
      "329:\ttest: 0.8522636\tbest: 0.8522636 (329)\ttotal: 15.1s\tremaining: 30.7s\n",
      "330:\ttest: 0.8523025\tbest: 0.8523025 (330)\ttotal: 15.2s\tremaining: 30.7s\n",
      "331:\ttest: 0.8522397\tbest: 0.8523025 (330)\ttotal: 15.2s\tremaining: 30.7s\n",
      "332:\ttest: 0.8522397\tbest: 0.8523025 (330)\ttotal: 15.3s\tremaining: 30.6s\n",
      "333:\ttest: 0.8522307\tbest: 0.8523025 (330)\ttotal: 15.4s\tremaining: 30.6s\n",
      "334:\ttest: 0.8522786\tbest: 0.8523025 (330)\ttotal: 15.4s\tremaining: 30.6s\n",
      "335:\ttest: 0.8523264\tbest: 0.8523264 (335)\ttotal: 15.5s\tremaining: 30.6s\n",
      "336:\ttest: 0.8522905\tbest: 0.8523264 (335)\ttotal: 15.5s\tremaining: 30.6s\n",
      "337:\ttest: 0.8522875\tbest: 0.8523264 (335)\ttotal: 15.6s\tremaining: 30.5s\n",
      "338:\ttest: 0.8522935\tbest: 0.8523264 (335)\ttotal: 15.6s\tremaining: 30.5s\n",
      "339:\ttest: 0.8522547\tbest: 0.8523264 (335)\ttotal: 15.7s\tremaining: 30.5s\n",
      "340:\ttest: 0.8522965\tbest: 0.8523264 (335)\ttotal: 15.8s\tremaining: 30.5s\n",
      "341:\ttest: 0.8523264\tbest: 0.8523264 (335)\ttotal: 15.8s\tremaining: 30.5s\n",
      "342:\ttest: 0.8523144\tbest: 0.8523264 (335)\ttotal: 15.9s\tremaining: 30.4s\n",
      "343:\ttest: 0.8522845\tbest: 0.8523264 (335)\ttotal: 16s\tremaining: 30.4s\n",
      "344:\ttest: 0.8523443\tbest: 0.8523443 (344)\ttotal: 16s\tremaining: 30.4s\n",
      "345:\ttest: 0.8523473\tbest: 0.8523473 (345)\ttotal: 16.1s\tremaining: 30.4s\n",
      "346:\ttest: 0.8523443\tbest: 0.8523473 (345)\ttotal: 16.1s\tremaining: 30.3s\n",
      "347:\ttest: 0.8523653\tbest: 0.8523653 (347)\ttotal: 16.2s\tremaining: 30.3s\n",
      "348:\ttest: 0.8524041\tbest: 0.8524041 (348)\ttotal: 16.2s\tremaining: 30.3s\n",
      "349:\ttest: 0.8524161\tbest: 0.8524161 (349)\ttotal: 16.3s\tremaining: 30.2s\n",
      "350:\ttest: 0.8524430\tbest: 0.8524430 (350)\ttotal: 16.3s\tremaining: 30.2s\n",
      "351:\ttest: 0.8524131\tbest: 0.8524430 (350)\ttotal: 16.4s\tremaining: 30.2s\n",
      "352:\ttest: 0.8524221\tbest: 0.8524430 (350)\ttotal: 16.5s\tremaining: 30.2s\n",
      "353:\ttest: 0.8524579\tbest: 0.8524579 (353)\ttotal: 16.5s\tremaining: 30.2s\n",
      "354:\ttest: 0.8524131\tbest: 0.8524579 (353)\ttotal: 16.6s\tremaining: 30.2s\n",
      "355:\ttest: 0.8524191\tbest: 0.8524579 (353)\ttotal: 16.7s\tremaining: 30.1s\n",
      "356:\ttest: 0.8524161\tbest: 0.8524579 (353)\ttotal: 16.7s\tremaining: 30.1s\n",
      "357:\ttest: 0.8524011\tbest: 0.8524579 (353)\ttotal: 16.8s\tremaining: 30.1s\n",
      "358:\ttest: 0.8524191\tbest: 0.8524579 (353)\ttotal: 16.8s\tremaining: 30s\n",
      "359:\ttest: 0.8524191\tbest: 0.8524579 (353)\ttotal: 16.9s\tremaining: 30s\n",
      "360:\ttest: 0.8523742\tbest: 0.8524579 (353)\ttotal: 16.9s\tremaining: 29.9s\n",
      "361:\ttest: 0.8523772\tbest: 0.8524579 (353)\ttotal: 17s\tremaining: 29.9s\n",
      "362:\ttest: 0.8523952\tbest: 0.8524579 (353)\ttotal: 17s\tremaining: 29.8s\n",
      "363:\ttest: 0.8523832\tbest: 0.8524579 (353)\ttotal: 17.1s\tremaining: 29.8s\n",
      "364:\ttest: 0.8523683\tbest: 0.8524579 (353)\ttotal: 17.1s\tremaining: 29.8s\n",
      "365:\ttest: 0.8523981\tbest: 0.8524579 (353)\ttotal: 17.2s\tremaining: 29.8s\n",
      "366:\ttest: 0.8523922\tbest: 0.8524579 (353)\ttotal: 17.3s\tremaining: 29.8s\n",
      "367:\ttest: 0.8523952\tbest: 0.8524579 (353)\ttotal: 17.3s\tremaining: 29.7s\n",
      "368:\ttest: 0.8524579\tbest: 0.8524579 (353)\ttotal: 17.4s\tremaining: 29.7s\n",
      "369:\ttest: 0.8524848\tbest: 0.8524848 (369)\ttotal: 17.4s\tremaining: 29.7s\n",
      "370:\ttest: 0.8524998\tbest: 0.8524998 (370)\ttotal: 17.5s\tremaining: 29.7s\n",
      "371:\ttest: 0.8524400\tbest: 0.8524998 (370)\ttotal: 17.6s\tremaining: 29.7s\n",
      "372:\ttest: 0.8524699\tbest: 0.8524998 (370)\ttotal: 17.6s\tremaining: 29.6s\n",
      "373:\ttest: 0.8524714\tbest: 0.8524998 (370)\ttotal: 17.7s\tremaining: 29.6s\n",
      "374:\ttest: 0.8524475\tbest: 0.8524998 (370)\ttotal: 17.7s\tremaining: 29.6s\n",
      "375:\ttest: 0.8524774\tbest: 0.8524998 (370)\ttotal: 17.8s\tremaining: 29.5s\n",
      "376:\ttest: 0.8525162\tbest: 0.8525162 (376)\ttotal: 17.9s\tremaining: 29.5s\n",
      "377:\ttest: 0.8525103\tbest: 0.8525162 (376)\ttotal: 17.9s\tremaining: 29.5s\n",
      "378:\ttest: 0.8525132\tbest: 0.8525162 (376)\ttotal: 17.9s\tremaining: 29.4s\n",
      "379:\ttest: 0.8525850\tbest: 0.8525850 (379)\ttotal: 18s\tremaining: 29.3s\n",
      "380:\ttest: 0.8526268\tbest: 0.8526268 (380)\ttotal: 18s\tremaining: 29.3s\n",
      "381:\ttest: 0.8526209\tbest: 0.8526268 (380)\ttotal: 18.1s\tremaining: 29.3s\n",
      "382:\ttest: 0.8526657\tbest: 0.8526657 (382)\ttotal: 18.1s\tremaining: 29.2s\n",
      "383:\ttest: 0.8526807\tbest: 0.8526807 (383)\ttotal: 18.2s\tremaining: 29.2s\n",
      "384:\ttest: 0.8526657\tbest: 0.8526807 (383)\ttotal: 18.3s\tremaining: 29.2s\n",
      "385:\ttest: 0.8526627\tbest: 0.8526807 (383)\ttotal: 18.3s\tremaining: 29.1s\n",
      "386:\ttest: 0.8526328\tbest: 0.8526807 (383)\ttotal: 18.4s\tremaining: 29.1s\n",
      "387:\ttest: 0.8526179\tbest: 0.8526807 (383)\ttotal: 18.4s\tremaining: 29s\n",
      "388:\ttest: 0.8525850\tbest: 0.8526807 (383)\ttotal: 18.5s\tremaining: 29s\n",
      "389:\ttest: 0.8525132\tbest: 0.8526807 (383)\ttotal: 18.5s\tremaining: 29s\n",
      "390:\ttest: 0.8525162\tbest: 0.8526807 (383)\ttotal: 18.6s\tremaining: 28.9s\n",
      "391:\ttest: 0.8525461\tbest: 0.8526807 (383)\ttotal: 18.6s\tremaining: 28.9s\n",
      "392:\ttest: 0.8525431\tbest: 0.8526807 (383)\ttotal: 18.7s\tremaining: 28.8s\n",
      "393:\ttest: 0.8525282\tbest: 0.8526807 (383)\ttotal: 18.7s\tremaining: 28.8s\n",
      "394:\ttest: 0.8525581\tbest: 0.8526807 (383)\ttotal: 18.8s\tremaining: 28.8s\n",
      "395:\ttest: 0.8525880\tbest: 0.8526807 (383)\ttotal: 18.8s\tremaining: 28.7s\n",
      "396:\ttest: 0.8525910\tbest: 0.8526807 (383)\ttotal: 18.9s\tremaining: 28.7s\n",
      "397:\ttest: 0.8526029\tbest: 0.8526807 (383)\ttotal: 18.9s\tremaining: 28.6s\n",
      "398:\ttest: 0.8526029\tbest: 0.8526807 (383)\ttotal: 19s\tremaining: 28.6s\n",
      "399:\ttest: 0.8525910\tbest: 0.8526807 (383)\ttotal: 19s\tremaining: 28.5s\n",
      "400:\ttest: 0.8525820\tbest: 0.8526807 (383)\ttotal: 19.1s\tremaining: 28.5s\n",
      "401:\ttest: 0.8525940\tbest: 0.8526807 (383)\ttotal: 19.1s\tremaining: 28.4s\n",
      "402:\ttest: 0.8526179\tbest: 0.8526807 (383)\ttotal: 19.2s\tremaining: 28.4s\n",
      "403:\ttest: 0.8526298\tbest: 0.8526807 (383)\ttotal: 19.2s\tremaining: 28.3s\n",
      "404:\ttest: 0.8526149\tbest: 0.8526807 (383)\ttotal: 19.3s\tremaining: 28.3s\n",
      "405:\ttest: 0.8526268\tbest: 0.8526807 (383)\ttotal: 19.3s\tremaining: 28.2s\n",
      "406:\ttest: 0.8526537\tbest: 0.8526807 (383)\ttotal: 19.3s\tremaining: 28.2s\n",
      "407:\ttest: 0.8526896\tbest: 0.8526896 (407)\ttotal: 19.4s\tremaining: 28.2s\n",
      "408:\ttest: 0.8527404\tbest: 0.8527404 (408)\ttotal: 19.5s\tremaining: 28.1s\n",
      "409:\ttest: 0.8527315\tbest: 0.8527404 (408)\ttotal: 19.5s\tremaining: 28.1s\n",
      "410:\ttest: 0.8527853\tbest: 0.8527853 (410)\ttotal: 19.6s\tremaining: 28s\n",
      "411:\ttest: 0.8528152\tbest: 0.8528152 (411)\ttotal: 19.6s\tremaining: 28s\n",
      "412:\ttest: 0.8528212\tbest: 0.8528212 (412)\ttotal: 19.7s\tremaining: 27.9s\n",
      "413:\ttest: 0.8528660\tbest: 0.8528660 (413)\ttotal: 19.7s\tremaining: 27.9s\n",
      "414:\ttest: 0.8528361\tbest: 0.8528660 (413)\ttotal: 19.8s\tremaining: 27.9s\n",
      "415:\ttest: 0.8528361\tbest: 0.8528660 (413)\ttotal: 19.8s\tremaining: 27.8s\n",
      "416:\ttest: 0.8528540\tbest: 0.8528660 (413)\ttotal: 19.9s\tremaining: 27.8s\n",
      "417:\ttest: 0.8528600\tbest: 0.8528660 (413)\ttotal: 19.9s\tremaining: 27.7s\n",
      "418:\ttest: 0.8528451\tbest: 0.8528660 (413)\ttotal: 20s\tremaining: 27.7s\n",
      "419:\ttest: 0.8527943\tbest: 0.8528660 (413)\ttotal: 20s\tremaining: 27.7s\n",
      "420:\ttest: 0.8527554\tbest: 0.8528660 (413)\ttotal: 20.1s\tremaining: 27.6s\n",
      "421:\ttest: 0.8528361\tbest: 0.8528660 (413)\ttotal: 20.1s\tremaining: 27.6s\n",
      "422:\ttest: 0.8528331\tbest: 0.8528660 (413)\ttotal: 20.2s\tremaining: 27.5s\n",
      "423:\ttest: 0.8528152\tbest: 0.8528660 (413)\ttotal: 20.2s\tremaining: 27.5s\n",
      "424:\ttest: 0.8528122\tbest: 0.8528660 (413)\ttotal: 20.3s\tremaining: 27.4s\n",
      "425:\ttest: 0.8528421\tbest: 0.8528660 (413)\ttotal: 20.3s\tremaining: 27.4s\n",
      "426:\ttest: 0.8528062\tbest: 0.8528660 (413)\ttotal: 20.3s\tremaining: 27.3s\n",
      "427:\ttest: 0.8528062\tbest: 0.8528660 (413)\ttotal: 20.4s\tremaining: 27.3s\n",
      "428:\ttest: 0.8527793\tbest: 0.8528660 (413)\ttotal: 20.5s\tremaining: 27.2s\n",
      "429:\ttest: 0.8527793\tbest: 0.8528660 (413)\ttotal: 20.5s\tremaining: 27.2s\n",
      "430:\ttest: 0.8527703\tbest: 0.8528660 (413)\ttotal: 20.6s\tremaining: 27.1s\n",
      "431:\ttest: 0.8528182\tbest: 0.8528660 (413)\ttotal: 20.6s\tremaining: 27.1s\n",
      "432:\ttest: 0.8528301\tbest: 0.8528660 (413)\ttotal: 20.7s\tremaining: 27s\n",
      "433:\ttest: 0.8528511\tbest: 0.8528660 (413)\ttotal: 20.7s\tremaining: 27s\n",
      "434:\ttest: 0.8528032\tbest: 0.8528660 (413)\ttotal: 20.8s\tremaining: 27s\n",
      "435:\ttest: 0.8528062\tbest: 0.8528660 (413)\ttotal: 20.8s\tremaining: 26.9s\n",
      "436:\ttest: 0.8528212\tbest: 0.8528660 (413)\ttotal: 20.8s\tremaining: 26.8s\n",
      "437:\ttest: 0.8528212\tbest: 0.8528660 (413)\ttotal: 20.9s\tremaining: 26.8s\n",
      "438:\ttest: 0.8528152\tbest: 0.8528660 (413)\ttotal: 20.9s\tremaining: 26.8s\n",
      "439:\ttest: 0.8528301\tbest: 0.8528660 (413)\ttotal: 21s\tremaining: 26.7s\n",
      "440:\ttest: 0.8528301\tbest: 0.8528660 (413)\ttotal: 21s\tremaining: 26.7s\n",
      "441:\ttest: 0.8528630\tbest: 0.8528660 (413)\ttotal: 21.1s\tremaining: 26.6s\n",
      "442:\ttest: 0.8528391\tbest: 0.8528660 (413)\ttotal: 21.1s\tremaining: 26.6s\n",
      "443:\ttest: 0.8529108\tbest: 0.8529108 (443)\ttotal: 21.2s\tremaining: 26.5s\n",
      "444:\ttest: 0.8529527\tbest: 0.8529527 (444)\ttotal: 21.3s\tremaining: 26.5s\n",
      "445:\ttest: 0.8529437\tbest: 0.8529527 (444)\ttotal: 21.3s\tremaining: 26.5s\n",
      "446:\ttest: 0.8529497\tbest: 0.8529527 (444)\ttotal: 21.4s\tremaining: 26.4s\n",
      "447:\ttest: 0.8529079\tbest: 0.8529527 (444)\ttotal: 21.4s\tremaining: 26.4s\n",
      "448:\ttest: 0.8529198\tbest: 0.8529527 (444)\ttotal: 21.5s\tremaining: 26.3s\n",
      "449:\ttest: 0.8529108\tbest: 0.8529527 (444)\ttotal: 21.5s\tremaining: 26.3s\n",
      "450:\ttest: 0.8529288\tbest: 0.8529527 (444)\ttotal: 21.6s\tremaining: 26.3s\n",
      "451:\ttest: 0.8529198\tbest: 0.8529527 (444)\ttotal: 21.6s\tremaining: 26.2s\n",
      "452:\ttest: 0.8529108\tbest: 0.8529527 (444)\ttotal: 21.7s\tremaining: 26.2s\n",
      "453:\ttest: 0.8528899\tbest: 0.8529527 (444)\ttotal: 21.7s\tremaining: 26.1s\n",
      "454:\ttest: 0.8528809\tbest: 0.8529527 (444)\ttotal: 21.8s\tremaining: 26.1s\n",
      "455:\ttest: 0.8528481\tbest: 0.8529527 (444)\ttotal: 21.8s\tremaining: 26s\n",
      "456:\ttest: 0.8528032\tbest: 0.8529527 (444)\ttotal: 21.9s\tremaining: 26s\n",
      "457:\ttest: 0.8528212\tbest: 0.8529527 (444)\ttotal: 21.9s\tremaining: 25.9s\n",
      "458:\ttest: 0.8528122\tbest: 0.8529527 (444)\ttotal: 22s\tremaining: 25.9s\n",
      "459:\ttest: 0.8528720\tbest: 0.8529527 (444)\ttotal: 22s\tremaining: 25.9s\n",
      "460:\ttest: 0.8528451\tbest: 0.8529527 (444)\ttotal: 22.1s\tremaining: 25.8s\n",
      "461:\ttest: 0.8528540\tbest: 0.8529527 (444)\ttotal: 22.2s\tremaining: 25.8s\n",
      "462:\ttest: 0.8528839\tbest: 0.8529527 (444)\ttotal: 22.2s\tremaining: 25.8s\n",
      "463:\ttest: 0.8528780\tbest: 0.8529527 (444)\ttotal: 22.3s\tremaining: 25.7s\n",
      "464:\ttest: 0.8529019\tbest: 0.8529527 (444)\ttotal: 22.3s\tremaining: 25.7s\n",
      "465:\ttest: 0.8528989\tbest: 0.8529527 (444)\ttotal: 22.4s\tremaining: 25.6s\n",
      "466:\ttest: 0.8528780\tbest: 0.8529527 (444)\ttotal: 22.4s\tremaining: 25.6s\n",
      "467:\ttest: 0.8528750\tbest: 0.8529527 (444)\ttotal: 22.5s\tremaining: 25.6s\n",
      "468:\ttest: 0.8528481\tbest: 0.8529527 (444)\ttotal: 22.5s\tremaining: 25.5s\n",
      "469:\ttest: 0.8528331\tbest: 0.8529527 (444)\ttotal: 22.6s\tremaining: 25.4s\n",
      "470:\ttest: 0.8528241\tbest: 0.8529527 (444)\ttotal: 22.6s\tremaining: 25.4s\n",
      "471:\ttest: 0.8529676\tbest: 0.8529676 (471)\ttotal: 22.7s\tremaining: 25.4s\n",
      "472:\ttest: 0.8529258\tbest: 0.8529676 (471)\ttotal: 22.7s\tremaining: 25.3s\n",
      "473:\ttest: 0.8529258\tbest: 0.8529676 (471)\ttotal: 22.7s\tremaining: 25.2s\n",
      "474:\ttest: 0.8529497\tbest: 0.8529676 (471)\ttotal: 22.8s\tremaining: 25.2s\n",
      "475:\ttest: 0.8529108\tbest: 0.8529676 (471)\ttotal: 22.8s\tremaining: 25.1s\n",
      "476:\ttest: 0.8529318\tbest: 0.8529676 (471)\ttotal: 22.9s\tremaining: 25.1s\n",
      "477:\ttest: 0.8529198\tbest: 0.8529676 (471)\ttotal: 22.9s\tremaining: 25s\n",
      "478:\ttest: 0.8529377\tbest: 0.8529676 (471)\ttotal: 23s\tremaining: 25s\n",
      "479:\ttest: 0.8529348\tbest: 0.8529676 (471)\ttotal: 23.1s\tremaining: 25s\n",
      "480:\ttest: 0.8529079\tbest: 0.8529676 (471)\ttotal: 23.1s\tremaining: 24.9s\n",
      "481:\ttest: 0.8529138\tbest: 0.8529676 (471)\ttotal: 23.2s\tremaining: 24.9s\n",
      "482:\ttest: 0.8529856\tbest: 0.8529856 (482)\ttotal: 23.2s\tremaining: 24.9s\n",
      "483:\ttest: 0.8529856\tbest: 0.8529856 (482)\ttotal: 23.3s\tremaining: 24.8s\n",
      "484:\ttest: 0.8529736\tbest: 0.8529856 (482)\ttotal: 23.3s\tremaining: 24.8s\n",
      "485:\ttest: 0.8529856\tbest: 0.8529856 (482)\ttotal: 23.4s\tremaining: 24.7s\n",
      "486:\ttest: 0.8529916\tbest: 0.8529916 (486)\ttotal: 23.4s\tremaining: 24.7s\n",
      "487:\ttest: 0.8529886\tbest: 0.8529916 (486)\ttotal: 23.5s\tremaining: 24.6s\n",
      "488:\ttest: 0.8529975\tbest: 0.8529975 (488)\ttotal: 23.5s\tremaining: 24.6s\n",
      "489:\ttest: 0.8530244\tbest: 0.8530244 (489)\ttotal: 23.6s\tremaining: 24.5s\n",
      "490:\ttest: 0.8530304\tbest: 0.8530304 (490)\ttotal: 23.6s\tremaining: 24.5s\n",
      "491:\ttest: 0.8529975\tbest: 0.8530304 (490)\ttotal: 23.7s\tremaining: 24.5s\n",
      "492:\ttest: 0.8530005\tbest: 0.8530304 (490)\ttotal: 23.8s\tremaining: 24.4s\n",
      "493:\ttest: 0.8530185\tbest: 0.8530304 (490)\ttotal: 23.8s\tremaining: 24.4s\n",
      "494:\ttest: 0.8530484\tbest: 0.8530484 (494)\ttotal: 23.9s\tremaining: 24.3s\n",
      "495:\ttest: 0.8530663\tbest: 0.8530663 (495)\ttotal: 23.9s\tremaining: 24.3s\n",
      "496:\ttest: 0.8531201\tbest: 0.8531201 (496)\ttotal: 24s\tremaining: 24.3s\n",
      "497:\ttest: 0.8531052\tbest: 0.8531201 (496)\ttotal: 24s\tremaining: 24.2s\n",
      "498:\ttest: 0.8531052\tbest: 0.8531201 (496)\ttotal: 24.1s\tremaining: 24.2s\n",
      "499:\ttest: 0.8530842\tbest: 0.8531201 (496)\ttotal: 24.1s\tremaining: 24.1s\n",
      "500:\ttest: 0.8530962\tbest: 0.8531201 (496)\ttotal: 24.2s\tremaining: 24.1s\n",
      "501:\ttest: 0.8531351\tbest: 0.8531351 (501)\ttotal: 24.3s\tremaining: 24.1s\n",
      "502:\ttest: 0.8531261\tbest: 0.8531351 (501)\ttotal: 24.3s\tremaining: 24s\n",
      "503:\ttest: 0.8531231\tbest: 0.8531351 (501)\ttotal: 24.4s\tremaining: 24s\n",
      "504:\ttest: 0.8530783\tbest: 0.8531351 (501)\ttotal: 24.4s\tremaining: 23.9s\n",
      "505:\ttest: 0.8530902\tbest: 0.8531351 (501)\ttotal: 24.5s\tremaining: 23.9s\n",
      "506:\ttest: 0.8530723\tbest: 0.8531351 (501)\ttotal: 24.5s\tremaining: 23.8s\n",
      "507:\ttest: 0.8531560\tbest: 0.8531560 (507)\ttotal: 24.6s\tremaining: 23.8s\n",
      "508:\ttest: 0.8531141\tbest: 0.8531560 (507)\ttotal: 24.6s\tremaining: 23.7s\n",
      "509:\ttest: 0.8531231\tbest: 0.8531560 (507)\ttotal: 24.7s\tremaining: 23.7s\n",
      "510:\ttest: 0.8531022\tbest: 0.8531560 (507)\ttotal: 24.7s\tremaining: 23.6s\n",
      "511:\ttest: 0.8531141\tbest: 0.8531560 (507)\ttotal: 24.8s\tremaining: 23.6s\n",
      "512:\ttest: 0.8531231\tbest: 0.8531560 (507)\ttotal: 24.8s\tremaining: 23.5s\n",
      "513:\ttest: 0.8531500\tbest: 0.8531560 (507)\ttotal: 24.9s\tremaining: 23.5s\n",
      "514:\ttest: 0.8531679\tbest: 0.8531679 (514)\ttotal: 24.9s\tremaining: 23.4s\n",
      "515:\ttest: 0.8531978\tbest: 0.8531978 (515)\ttotal: 25s\tremaining: 23.4s\n",
      "516:\ttest: 0.8532008\tbest: 0.8532008 (516)\ttotal: 25s\tremaining: 23.4s\n",
      "517:\ttest: 0.8532038\tbest: 0.8532038 (517)\ttotal: 25.1s\tremaining: 23.3s\n",
      "518:\ttest: 0.8532128\tbest: 0.8532128 (518)\ttotal: 25.1s\tremaining: 23.3s\n",
      "519:\ttest: 0.8532098\tbest: 0.8532128 (518)\ttotal: 25.1s\tremaining: 23.2s\n",
      "520:\ttest: 0.8532158\tbest: 0.8532158 (520)\ttotal: 25.2s\tremaining: 23.2s\n",
      "521:\ttest: 0.8532307\tbest: 0.8532307 (521)\ttotal: 25.2s\tremaining: 23.1s\n",
      "522:\ttest: 0.8531978\tbest: 0.8532307 (521)\ttotal: 25.3s\tremaining: 23.1s\n",
      "523:\ttest: 0.8531978\tbest: 0.8532307 (521)\ttotal: 25.3s\tremaining: 23s\n",
      "524:\ttest: 0.8531649\tbest: 0.8532307 (521)\ttotal: 25.4s\tremaining: 22.9s\n",
      "525:\ttest: 0.8531530\tbest: 0.8532307 (521)\ttotal: 25.4s\tremaining: 22.9s\n",
      "526:\ttest: 0.8531171\tbest: 0.8532307 (521)\ttotal: 25.5s\tremaining: 22.9s\n",
      "527:\ttest: 0.8531141\tbest: 0.8532307 (521)\ttotal: 25.5s\tremaining: 22.8s\n",
      "528:\ttest: 0.8531201\tbest: 0.8532307 (521)\ttotal: 25.6s\tremaining: 22.8s\n",
      "529:\ttest: 0.8532038\tbest: 0.8532307 (521)\ttotal: 25.6s\tremaining: 22.7s\n",
      "530:\ttest: 0.8531859\tbest: 0.8532307 (521)\ttotal: 25.7s\tremaining: 22.7s\n",
      "531:\ttest: 0.8531769\tbest: 0.8532307 (521)\ttotal: 25.7s\tremaining: 22.6s\n",
      "532:\ttest: 0.8531829\tbest: 0.8532307 (521)\ttotal: 25.8s\tremaining: 22.6s\n",
      "533:\ttest: 0.8531500\tbest: 0.8532307 (521)\ttotal: 25.8s\tremaining: 22.6s\n",
      "534:\ttest: 0.8531739\tbest: 0.8532307 (521)\ttotal: 25.9s\tremaining: 22.5s\n",
      "535:\ttest: 0.8531829\tbest: 0.8532307 (521)\ttotal: 26s\tremaining: 22.5s\n",
      "536:\ttest: 0.8532008\tbest: 0.8532307 (521)\ttotal: 26s\tremaining: 22.4s\n",
      "537:\ttest: 0.8531500\tbest: 0.8532307 (521)\ttotal: 26.2s\tremaining: 22.5s\n",
      "538:\ttest: 0.8531919\tbest: 0.8532307 (521)\ttotal: 26.2s\tremaining: 22.4s\n",
      "539:\ttest: 0.8531231\tbest: 0.8532307 (521)\ttotal: 26.3s\tremaining: 22.4s\n",
      "540:\ttest: 0.8531978\tbest: 0.8532307 (521)\ttotal: 26.4s\tremaining: 22.4s\n",
      "541:\ttest: 0.8531171\tbest: 0.8532307 (521)\ttotal: 26.4s\tremaining: 22.3s\n",
      "542:\ttest: 0.8531321\tbest: 0.8532307 (521)\ttotal: 26.5s\tremaining: 22.3s\n",
      "543:\ttest: 0.8530842\tbest: 0.8532307 (521)\ttotal: 26.6s\tremaining: 22.3s\n",
      "544:\ttest: 0.8531111\tbest: 0.8532307 (521)\ttotal: 26.6s\tremaining: 22.2s\n",
      "545:\ttest: 0.8531649\tbest: 0.8532307 (521)\ttotal: 26.7s\tremaining: 22.2s\n",
      "546:\ttest: 0.8531859\tbest: 0.8532307 (521)\ttotal: 26.7s\tremaining: 22.1s\n",
      "547:\ttest: 0.8532068\tbest: 0.8532307 (521)\ttotal: 26.8s\tremaining: 22.1s\n",
      "548:\ttest: 0.8532098\tbest: 0.8532307 (521)\ttotal: 26.8s\tremaining: 22.1s\n",
      "549:\ttest: 0.8532068\tbest: 0.8532307 (521)\ttotal: 26.9s\tremaining: 22s\n",
      "550:\ttest: 0.8532636\tbest: 0.8532636 (550)\ttotal: 27s\tremaining: 22s\n",
      "551:\ttest: 0.8532606\tbest: 0.8532636 (550)\ttotal: 27s\tremaining: 21.9s\n",
      "552:\ttest: 0.8532696\tbest: 0.8532696 (552)\ttotal: 27.1s\tremaining: 21.9s\n",
      "553:\ttest: 0.8532636\tbest: 0.8532696 (552)\ttotal: 27.1s\tremaining: 21.9s\n",
      "554:\ttest: 0.8532935\tbest: 0.8532935 (554)\ttotal: 27.2s\tremaining: 21.8s\n",
      "555:\ttest: 0.8532576\tbest: 0.8532935 (554)\ttotal: 27.3s\tremaining: 21.8s\n",
      "556:\ttest: 0.8533204\tbest: 0.8533204 (556)\ttotal: 27.3s\tremaining: 21.7s\n",
      "557:\ttest: 0.8533025\tbest: 0.8533204 (556)\ttotal: 27.4s\tremaining: 21.7s\n",
      "558:\ttest: 0.8532935\tbest: 0.8533204 (556)\ttotal: 27.5s\tremaining: 21.7s\n",
      "559:\ttest: 0.8533204\tbest: 0.8533204 (556)\ttotal: 27.5s\tremaining: 21.6s\n",
      "560:\ttest: 0.8533114\tbest: 0.8533204 (556)\ttotal: 27.6s\tremaining: 21.6s\n",
      "561:\ttest: 0.8532965\tbest: 0.8533204 (556)\ttotal: 27.6s\tremaining: 21.5s\n",
      "562:\ttest: 0.8532815\tbest: 0.8533204 (556)\ttotal: 27.7s\tremaining: 21.5s\n",
      "563:\ttest: 0.8532666\tbest: 0.8533204 (556)\ttotal: 27.8s\tremaining: 21.5s\n",
      "564:\ttest: 0.8532516\tbest: 0.8533204 (556)\ttotal: 27.8s\tremaining: 21.4s\n",
      "565:\ttest: 0.8532008\tbest: 0.8533204 (556)\ttotal: 27.9s\tremaining: 21.4s\n",
      "566:\ttest: 0.8532068\tbest: 0.8533204 (556)\ttotal: 27.9s\tremaining: 21.3s\n",
      "567:\ttest: 0.8532068\tbest: 0.8533204 (556)\ttotal: 28s\tremaining: 21.3s\n",
      "568:\ttest: 0.8532068\tbest: 0.8533204 (556)\ttotal: 28s\tremaining: 21.2s\n",
      "569:\ttest: 0.8532098\tbest: 0.8533204 (556)\ttotal: 28.1s\tremaining: 21.2s\n",
      "570:\ttest: 0.8531889\tbest: 0.8533204 (556)\ttotal: 28.2s\tremaining: 21.2s\n",
      "571:\ttest: 0.8531829\tbest: 0.8533204 (556)\ttotal: 28.2s\tremaining: 21.1s\n",
      "572:\ttest: 0.8531799\tbest: 0.8533204 (556)\ttotal: 28.3s\tremaining: 21.1s\n",
      "573:\ttest: 0.8531859\tbest: 0.8533204 (556)\ttotal: 28.3s\tremaining: 21s\n",
      "574:\ttest: 0.8531799\tbest: 0.8533204 (556)\ttotal: 28.4s\tremaining: 21s\n",
      "575:\ttest: 0.8531919\tbest: 0.8533204 (556)\ttotal: 28.4s\tremaining: 20.9s\n",
      "576:\ttest: 0.8531859\tbest: 0.8533204 (556)\ttotal: 28.5s\tremaining: 20.9s\n",
      "577:\ttest: 0.8532158\tbest: 0.8533204 (556)\ttotal: 28.5s\tremaining: 20.8s\n",
      "578:\ttest: 0.8532696\tbest: 0.8533204 (556)\ttotal: 28.6s\tremaining: 20.8s\n",
      "579:\ttest: 0.8532905\tbest: 0.8533204 (556)\ttotal: 28.6s\tremaining: 20.7s\n",
      "580:\ttest: 0.8532546\tbest: 0.8533204 (556)\ttotal: 28.7s\tremaining: 20.7s\n",
      "581:\ttest: 0.8532636\tbest: 0.8533204 (556)\ttotal: 28.8s\tremaining: 20.7s\n",
      "582:\ttest: 0.8532487\tbest: 0.8533204 (556)\ttotal: 28.8s\tremaining: 20.6s\n",
      "583:\ttest: 0.8532188\tbest: 0.8533204 (556)\ttotal: 28.9s\tremaining: 20.6s\n",
      "584:\ttest: 0.8532427\tbest: 0.8533204 (556)\ttotal: 28.9s\tremaining: 20.5s\n",
      "585:\ttest: 0.8532995\tbest: 0.8533204 (556)\ttotal: 29s\tremaining: 20.5s\n",
      "586:\ttest: 0.8532995\tbest: 0.8533204 (556)\ttotal: 29.1s\tremaining: 20.4s\n",
      "587:\ttest: 0.8533234\tbest: 0.8533234 (587)\ttotal: 29.1s\tremaining: 20.4s\n",
      "588:\ttest: 0.8532546\tbest: 0.8533234 (587)\ttotal: 29.2s\tremaining: 20.4s\n",
      "589:\ttest: 0.8532247\tbest: 0.8533234 (587)\ttotal: 29.2s\tremaining: 20.3s\n",
      "590:\ttest: 0.8532965\tbest: 0.8533234 (587)\ttotal: 29.3s\tremaining: 20.3s\n",
      "591:\ttest: 0.8533832\tbest: 0.8533832 (591)\ttotal: 29.3s\tremaining: 20.2s\n",
      "592:\ttest: 0.8533802\tbest: 0.8533832 (591)\ttotal: 29.4s\tremaining: 20.1s\n",
      "593:\ttest: 0.8533623\tbest: 0.8533832 (591)\ttotal: 29.4s\tremaining: 20.1s\n",
      "594:\ttest: 0.8533682\tbest: 0.8533832 (591)\ttotal: 29.5s\tremaining: 20.1s\n",
      "595:\ttest: 0.8533981\tbest: 0.8533981 (595)\ttotal: 29.5s\tremaining: 20s\n",
      "596:\ttest: 0.8533921\tbest: 0.8533981 (595)\ttotal: 29.6s\tremaining: 20s\n",
      "597:\ttest: 0.8533682\tbest: 0.8533981 (595)\ttotal: 29.6s\tremaining: 19.9s\n",
      "598:\ttest: 0.8533892\tbest: 0.8533981 (595)\ttotal: 29.7s\tremaining: 19.9s\n",
      "599:\ttest: 0.8533892\tbest: 0.8533981 (595)\ttotal: 29.7s\tremaining: 19.8s\n",
      "600:\ttest: 0.8534071\tbest: 0.8534071 (600)\ttotal: 29.8s\tremaining: 19.8s\n",
      "601:\ttest: 0.8533832\tbest: 0.8534071 (600)\ttotal: 29.8s\tremaining: 19.7s\n",
      "602:\ttest: 0.8533832\tbest: 0.8534071 (600)\ttotal: 29.9s\tremaining: 19.7s\n",
      "603:\ttest: 0.8534101\tbest: 0.8534101 (603)\ttotal: 29.9s\tremaining: 19.6s\n",
      "604:\ttest: 0.8534011\tbest: 0.8534101 (603)\ttotal: 30s\tremaining: 19.6s\n",
      "605:\ttest: 0.8534071\tbest: 0.8534101 (603)\ttotal: 30s\tremaining: 19.5s\n",
      "606:\ttest: 0.8534161\tbest: 0.8534161 (606)\ttotal: 30.1s\tremaining: 19.5s\n",
      "607:\ttest: 0.8534071\tbest: 0.8534161 (606)\ttotal: 30.1s\tremaining: 19.4s\n",
      "608:\ttest: 0.8533802\tbest: 0.8534161 (606)\ttotal: 30.2s\tremaining: 19.4s\n",
      "609:\ttest: 0.8534101\tbest: 0.8534161 (606)\ttotal: 30.2s\tremaining: 19.3s\n",
      "610:\ttest: 0.8534220\tbest: 0.8534220 (610)\ttotal: 30.3s\tremaining: 19.3s\n",
      "611:\ttest: 0.8534011\tbest: 0.8534220 (610)\ttotal: 30.3s\tremaining: 19.2s\n",
      "612:\ttest: 0.8533921\tbest: 0.8534220 (610)\ttotal: 30.4s\tremaining: 19.2s\n",
      "613:\ttest: 0.8533802\tbest: 0.8534220 (610)\ttotal: 30.4s\tremaining: 19.1s\n",
      "614:\ttest: 0.8533533\tbest: 0.8534220 (610)\ttotal: 30.5s\tremaining: 19.1s\n",
      "615:\ttest: 0.8533443\tbest: 0.8534220 (610)\ttotal: 30.5s\tremaining: 19s\n",
      "616:\ttest: 0.8533593\tbest: 0.8534220 (610)\ttotal: 30.6s\tremaining: 19s\n",
      "617:\ttest: 0.8533712\tbest: 0.8534220 (610)\ttotal: 30.6s\tremaining: 18.9s\n",
      "618:\ttest: 0.8533742\tbest: 0.8534220 (610)\ttotal: 30.7s\tremaining: 18.9s\n",
      "619:\ttest: 0.8533862\tbest: 0.8534220 (610)\ttotal: 30.7s\tremaining: 18.8s\n",
      "620:\ttest: 0.8533892\tbest: 0.8534220 (610)\ttotal: 30.7s\tremaining: 18.8s\n",
      "621:\ttest: 0.8533682\tbest: 0.8534220 (610)\ttotal: 30.8s\tremaining: 18.7s\n",
      "622:\ttest: 0.8533742\tbest: 0.8534220 (610)\ttotal: 30.9s\tremaining: 18.7s\n",
      "623:\ttest: 0.8533025\tbest: 0.8534220 (610)\ttotal: 30.9s\tremaining: 18.6s\n",
      "624:\ttest: 0.8533383\tbest: 0.8534220 (610)\ttotal: 31s\tremaining: 18.6s\n",
      "625:\ttest: 0.8533623\tbest: 0.8534220 (610)\ttotal: 31s\tremaining: 18.5s\n",
      "626:\ttest: 0.8533652\tbest: 0.8534220 (610)\ttotal: 31.1s\tremaining: 18.5s\n",
      "627:\ttest: 0.8533652\tbest: 0.8534220 (610)\ttotal: 31.1s\tremaining: 18.4s\n",
      "628:\ttest: 0.8533892\tbest: 0.8534220 (610)\ttotal: 31.2s\tremaining: 18.4s\n",
      "629:\ttest: 0.8532965\tbest: 0.8534220 (610)\ttotal: 31.2s\tremaining: 18.3s\n",
      "630:\ttest: 0.8533114\tbest: 0.8534220 (610)\ttotal: 31.3s\tremaining: 18.3s\n",
      "631:\ttest: 0.8533114\tbest: 0.8534220 (610)\ttotal: 31.3s\tremaining: 18.2s\n",
      "632:\ttest: 0.8533324\tbest: 0.8534220 (610)\ttotal: 31.4s\tremaining: 18.2s\n",
      "633:\ttest: 0.8533174\tbest: 0.8534220 (610)\ttotal: 31.4s\tremaining: 18.1s\n",
      "634:\ttest: 0.8533264\tbest: 0.8534220 (610)\ttotal: 31.5s\tremaining: 18.1s\n",
      "635:\ttest: 0.8533174\tbest: 0.8534220 (610)\ttotal: 31.5s\tremaining: 18s\n",
      "636:\ttest: 0.8533234\tbest: 0.8534220 (610)\ttotal: 31.6s\tremaining: 18s\n",
      "637:\ttest: 0.8533144\tbest: 0.8534220 (610)\ttotal: 31.6s\tremaining: 17.9s\n",
      "638:\ttest: 0.8533443\tbest: 0.8534220 (610)\ttotal: 31.7s\tremaining: 17.9s\n",
      "639:\ttest: 0.8533383\tbest: 0.8534220 (610)\ttotal: 31.7s\tremaining: 17.8s\n",
      "640:\ttest: 0.8533533\tbest: 0.8534220 (610)\ttotal: 31.8s\tremaining: 17.8s\n",
      "641:\ttest: 0.8533264\tbest: 0.8534220 (610)\ttotal: 31.8s\tremaining: 17.7s\n",
      "642:\ttest: 0.8533084\tbest: 0.8534220 (610)\ttotal: 31.9s\tremaining: 17.7s\n",
      "643:\ttest: 0.8533324\tbest: 0.8534220 (610)\ttotal: 31.9s\tremaining: 17.6s\n",
      "644:\ttest: 0.8533503\tbest: 0.8534220 (610)\ttotal: 32s\tremaining: 17.6s\n",
      "645:\ttest: 0.8532905\tbest: 0.8534220 (610)\ttotal: 32s\tremaining: 17.6s\n",
      "646:\ttest: 0.8532726\tbest: 0.8534220 (610)\ttotal: 32.1s\tremaining: 17.5s\n",
      "647:\ttest: 0.8532935\tbest: 0.8534220 (610)\ttotal: 32.1s\tremaining: 17.5s\n",
      "648:\ttest: 0.8533025\tbest: 0.8534220 (610)\ttotal: 32.2s\tremaining: 17.4s\n",
      "649:\ttest: 0.8532845\tbest: 0.8534220 (610)\ttotal: 32.2s\tremaining: 17.4s\n",
      "650:\ttest: 0.8532905\tbest: 0.8534220 (610)\ttotal: 32.3s\tremaining: 17.3s\n",
      "Stopped by overfitting detector  (40 iterations wait)\n",
      "\n",
      "bestTest = 0.8534220407\n",
      "bestIteration = 610\n",
      "\n",
      "Shrink model to first 611 iterations.\n"
     ]
    },
    {
     "data": {
      "text/plain": [
       "<catboost.core.CatBoostClassifier at 0x1c048f00790>"
      ]
     },
     "execution_count": 140,
     "metadata": {},
     "output_type": "execute_result"
    }
   ],
   "source": [
    "model.fit(X = train_data_ou, \n",
    "        \n",
    "        eval_set=valid_ou, \n",
    "        verbose=True, early_stopping_rounds=40)"
   ]
  },
  {
   "cell_type": "code",
   "execution_count": 141,
   "id": "9d63a80b",
   "metadata": {},
   "outputs": [],
   "source": [
    "#Хоть наибольший AUC здесь имеет логистическая регрессия\n",
    "#Наилучший результат на kaggle показал CatBoost с тюнингом на выборке с выбросами - 0.85194\n",
    "my_submission = pd.DataFrame({\"id\": [i for i in range(0, len(test))],'Churn': model.predict_proba(test)[:,1]})\n",
    "\n",
    "my_submission.to_csv('mfti_cat.csv', index=False)"
   ]
  },
  {
   "cell_type": "code",
   "execution_count": null,
   "id": "2dd946ca",
   "metadata": {},
   "outputs": [],
   "source": []
  }
 ],
 "metadata": {
  "kernelspec": {
   "display_name": "Python 3 (ipykernel)",
   "language": "python",
   "name": "python3"
  },
  "language_info": {
   "codemirror_mode": {
    "name": "ipython",
    "version": 3
   },
   "file_extension": ".py",
   "mimetype": "text/x-python",
   "name": "python",
   "nbconvert_exporter": "python",
   "pygments_lexer": "ipython3",
   "version": "3.9.12"
  }
 },
 "nbformat": 4,
 "nbformat_minor": 5
}
